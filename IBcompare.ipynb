{
 "cells": [
  {
   "cell_type": "markdown",
   "metadata": {},
   "source": [
    "## Simulations for bottleneck grant"
   ]
  },
  {
   "cell_type": "markdown",
   "metadata": {},
   "source": [
    "### Functions for generating task sequences"
   ]
  },
  {
   "cell_type": "code",
   "execution_count": 41,
   "metadata": {},
   "outputs": [],
   "source": [
    "import pandas as pd\n",
    "import numpy as np \n",
    "\n",
    "def generate_urn_sequence(N=1000, p0=0.1, p1=0.9, h=0.1, start_urn=None):\n",
    "\n",
    "    # Urn sequence\n",
    "    urn_sequence = np.zeros(N, dtype=bool)\n",
    "    if start_urn is None:\n",
    "        urn_sequence[0] = np.random.binomial(1, 0.5)==1\n",
    "    for i, f in enumerate(np.random.binomial(1, h, size=N-1)):\n",
    "        urn_sequence[i+1] = ~urn_sequence[i] if f==1 else urn_sequence[i]\n",
    "\n",
    "    # Bead sequence\n",
    "    bead_sequence = np.zeros(N, dtype=bool)\n",
    "    bead_sequence[~urn_sequence] = np.random.binomial(1, p0, size=np.count_nonzero(~urn_sequence))==1\n",
    "    bead_sequence[urn_sequence] = np.random.binomial(1, p1, size=np.count_nonzero(urn_sequence))==1\n",
    "\n",
    "    # Return the sequences as dataframe\n",
    "    return pd.DataFrame({'urn' : urn_sequence, 'bead' : bead_sequence})\n"
   ]
  },
  {
   "cell_type": "markdown",
   "metadata": {},
   "source": [
    "### Functions for simulating decision-making agents"
   ]
  },
  {
   "cell_type": "code",
   "execution_count": 42,
   "metadata": {},
   "outputs": [],
   "source": [
    "# Normative agent (Glaze et al 215)\n",
    "def normative_choice_agent(beads, p0, p1, h, noise=0.1):\n",
    "\n",
    "    LLRs = np.log(p1/p0)*np.ones(len(beads))\n",
    "    LLRs[~beads] = np.log((1-p1)/(1-p0)) #*np.ones(np.count_nonzero(~beads))\n",
    "    beliefs = np.zeros(len(beads))\n",
    "    beliefs[0] = LLRs[0]\n",
    "    hv = (1-h)/h\n",
    "\n",
    "    # Compute belief (L) as log-prior-odds\n",
    "    for i, LLR in enumerate(LLRs[1:]):\n",
    "        beliefs[i+1] = LLR + beliefs[i] + np.log(hv + np.exp(-beliefs[i])) - np.log(hv + np.exp(beliefs[i]))\n",
    "    \n",
    "    # generate choices\n",
    "    choices = np.random.binomial(1, 1/(1 + np.exp(-beliefs/noise)))==1\n",
    "\n",
    "    # Return the beliefs and choices as dataframe\n",
    "    return pd.DataFrame({'na_belief' : beliefs, 'na_choice' : choices})\n"
   ]
  },
  {
   "cell_type": "markdown",
   "metadata": {},
   "source": [
    "### Utility functions from Alex for computing MI for different window sizes"
   ]
  },
  {
   "cell_type": "code",
   "execution_count": 43,
   "metadata": {},
   "outputs": [],
   "source": [
    "import ndd\n",
    "\n",
    "# Get windowed sequence\n",
    "def get_windowed_xs(x,z,w=1):\n",
    "    xc = np.array(x.copy())\n",
    "    zw = z[w:].copy()\n",
    "    aux_base = 2**np.arange(w)\n",
    "    xw_binned = np.array([np.inner(xc[i:i+w], aux_base) for i in np.arange(len(zw))]).astype(int)\n",
    "    return(xw_binned, zw)\n",
    "\n",
    "# Calculate mutual information using NSB method    \n",
    "def mutual_inf_nsb(x, y, ks):\n",
    "    ar = np.column_stack((x, y))\n",
    "    mi = ndd.mutual_information(ar, ks)\n",
    "    return np.log2(np.e)*mi # ndd returns nats - multiply by log2(e) to convert to bits\n",
    "\n",
    "# Compute i_past vs i_future from empirical data\n",
    "#   x is observations\n",
    "#   y is ground truth\n",
    "#   z is responses (choices)\n",
    "#   w is window size of i_past\n",
    "def get_i_past_future(x, y, z, w):\n",
    "    x_w, z_w = get_windowed_xs(x, z, w)\n",
    "    i_past = mutual_inf_nsb(x_w, z_w, [2**w,2])\n",
    "    i_future = mutual_inf_nsb(z, y, [2,2])\n",
    "    return(i_past, i_future)"
   ]
  },
  {
   "cell_type": "markdown",
   "metadata": {},
   "source": [
    "### Compute IB\n",
    "\n",
    "Use simulated normative agent and compute IB using embo and ndd. They return different values for i_past"
   ]
  },
  {
   "cell_type": "code",
   "execution_count": 44,
   "metadata": {},
   "outputs": [],
   "source": [
    "N = 10000\n",
    "p0 = 0.2\n",
    "p1 = 1-p0\n",
    "h  = 0.05\n",
    "max_win_size = 10\n",
    "noise = 0.01\n",
    "a = generate_urn_sequence(N, p0, p1, h)\n"
   ]
  },
  {
   "cell_type": "raw",
   "metadata": {},
   "source": [
    "from embo import InformationBottleneck as IB\n",
    "\n",
    "# Simulate normative agent\n",
    "N = 10000\n",
    "p0 = 0.2\n",
    "p1 = 1-p0\n",
    "h  = 0.05\n",
    "max_win_size = 10\n",
    "noise = 0.01\n",
    "us = generate_urn_sequence(N, p0, p1, h)\n",
    "cs = normative_choice_agent(us['bead'], p0, p1, h, noise)\n",
    "df = pd.concat([us, cs], axis=1)\n",
    "\n",
    "beads = us['bead'].astype(int)\n",
    "urns = us['urn'].astype(int)\n",
    "choices = cs['na_choice'].astype(int)\n",
    "w=8\n",
    "\n",
    "choice1 = choices[1:].reset_index(drop = True)\n",
    "choice1[9999] = 0\n",
    "\n",
    "(ip1, if1) = get_i_past_future(beads, urns, choices, w)\n",
    "ip2 = IB(beads, choice1, window_size_x=w, window_size_y=1).get_saturation_point()\n",
    "if2 = IB(choices, urns, window_size_x=1, window_size_y=1).get_saturation_point()\n",
    "\n",
    "print(f'ipast:   1={ip1:.3f}, 2={ip2:.3f}')\n",
    "print(f'ifuture: 1={if1:.3f}, 2={if2:.3f}')\n"
   ]
  },
  {
   "cell_type": "code",
   "execution_count": 46,
   "metadata": {},
   "outputs": [
    {
     "name": "stdout",
     "output_type": "stream",
     "text": [
      "ipast:   1=0.692, 2=0.706\n",
      "ifuture: 1=0.460, 2=0.461\n"
     ]
    }
   ],
   "source": [
    "## choice1 contains the choices shifted one\n",
    "\n",
    "(ip1, if1) = get_i_past_future(beads, urns, choices, w)\n",
    "ip2 = IB(beads, choice1, window_size_x=w, window_size_y=1).get_saturation_point()\n",
    "if2 = IB(choices, urns, window_size_x=1, window_size_y=1).get_saturation_point()\n",
    "\n",
    "print(f'ipast:   1={ip1:.3f}, 2={ip2:.3f}')\n",
    "print(f'ifuture: 1={if1:.3f}, 2={if2:.3f}')"
   ]
  },
  {
   "cell_type": "code",
   "execution_count": 16,
   "metadata": {},
   "outputs": [
    {
     "data": {
      "text/plain": [
       "8"
      ]
     },
     "execution_count": 16,
     "metadata": {},
     "output_type": "execute_result"
    }
   ],
   "source": [
    "w"
   ]
  },
  {
   "cell_type": "code",
   "execution_count": 17,
   "metadata": {},
   "outputs": [
    {
     "data": {
      "text/plain": [
       "0       0\n",
       "1       1\n",
       "2       0\n",
       "3       0\n",
       "4       0\n",
       "       ..\n",
       "9995    1\n",
       "9996    1\n",
       "9997    1\n",
       "9998    1\n",
       "9999    1\n",
       "Name: bead, Length: 10000, dtype: int64"
      ]
     },
     "execution_count": 17,
     "metadata": {},
     "output_type": "execute_result"
    }
   ],
   "source": [
    "beads"
   ]
  },
  {
   "cell_type": "code",
   "execution_count": 18,
   "metadata": {},
   "outputs": [],
   "source": [
    "adat_trials = pd.read_csv(\"./Urn-Confidence/Pilot/adat_trials_test.csv\")"
   ]
  },
  {
   "cell_type": "code",
   "execution_count": 19,
   "metadata": {},
   "outputs": [
    {
     "data": {
      "text/html": [
       "<div>\n",
       "<style scoped>\n",
       "    .dataframe tbody tr th:only-of-type {\n",
       "        vertical-align: middle;\n",
       "    }\n",
       "\n",
       "    .dataframe tbody tr th {\n",
       "        vertical-align: top;\n",
       "    }\n",
       "\n",
       "    .dataframe thead th {\n",
       "        text-align: right;\n",
       "    }\n",
       "</style>\n",
       "<table border=\"1\" class=\"dataframe\">\n",
       "  <thead>\n",
       "    <tr style=\"text-align: right;\">\n",
       "      <th></th>\n",
       "      <th>Unnamed: 0</th>\n",
       "      <th>Subject</th>\n",
       "      <th>Trial</th>\n",
       "      <th>Jar</th>\n",
       "      <th>Bead</th>\n",
       "      <th>Response</th>\n",
       "      <th>Confidence</th>\n",
       "      <th>Correct</th>\n",
       "      <th>History</th>\n",
       "    </tr>\n",
       "  </thead>\n",
       "  <tbody>\n",
       "    <tr>\n",
       "      <th>0</th>\n",
       "      <td>1000</td>\n",
       "      <td>5d6f</td>\n",
       "      <td>10</td>\n",
       "      <td>0</td>\n",
       "      <td>0</td>\n",
       "      <td>0</td>\n",
       "      <td>0</td>\n",
       "      <td>1</td>\n",
       "      <td>0</td>\n",
       "    </tr>\n",
       "    <tr>\n",
       "      <th>1</th>\n",
       "      <td>1001</td>\n",
       "      <td>5d6f</td>\n",
       "      <td>11</td>\n",
       "      <td>0</td>\n",
       "      <td>0</td>\n",
       "      <td>0</td>\n",
       "      <td>1</td>\n",
       "      <td>1</td>\n",
       "      <td>0</td>\n",
       "    </tr>\n",
       "    <tr>\n",
       "      <th>2</th>\n",
       "      <td>1002</td>\n",
       "      <td>5d6f</td>\n",
       "      <td>12</td>\n",
       "      <td>0</td>\n",
       "      <td>0</td>\n",
       "      <td>0</td>\n",
       "      <td>1</td>\n",
       "      <td>1</td>\n",
       "      <td>0</td>\n",
       "    </tr>\n",
       "    <tr>\n",
       "      <th>3</th>\n",
       "      <td>1003</td>\n",
       "      <td>5d6f</td>\n",
       "      <td>13</td>\n",
       "      <td>0</td>\n",
       "      <td>0</td>\n",
       "      <td>0</td>\n",
       "      <td>1</td>\n",
       "      <td>1</td>\n",
       "      <td>0</td>\n",
       "    </tr>\n",
       "    <tr>\n",
       "      <th>4</th>\n",
       "      <td>1004</td>\n",
       "      <td>5d6f</td>\n",
       "      <td>14</td>\n",
       "      <td>0</td>\n",
       "      <td>1</td>\n",
       "      <td>0</td>\n",
       "      <td>1</td>\n",
       "      <td>0</td>\n",
       "      <td>0</td>\n",
       "    </tr>\n",
       "    <tr>\n",
       "      <th>...</th>\n",
       "      <td>...</td>\n",
       "      <td>...</td>\n",
       "      <td>...</td>\n",
       "      <td>...</td>\n",
       "      <td>...</td>\n",
       "      <td>...</td>\n",
       "      <td>...</td>\n",
       "      <td>...</td>\n",
       "      <td>...</td>\n",
       "    </tr>\n",
       "    <tr>\n",
       "      <th>995</th>\n",
       "      <td>1995</td>\n",
       "      <td>5d6f</td>\n",
       "      <td>1005</td>\n",
       "      <td>1</td>\n",
       "      <td>1</td>\n",
       "      <td>1</td>\n",
       "      <td>0</td>\n",
       "      <td>1</td>\n",
       "      <td>101111111</td>\n",
       "    </tr>\n",
       "    <tr>\n",
       "      <th>996</th>\n",
       "      <td>1996</td>\n",
       "      <td>5d6f</td>\n",
       "      <td>1006</td>\n",
       "      <td>1</td>\n",
       "      <td>0</td>\n",
       "      <td>1</td>\n",
       "      <td>0</td>\n",
       "      <td>0</td>\n",
       "      <td>1011111111</td>\n",
       "    </tr>\n",
       "    <tr>\n",
       "      <th>997</th>\n",
       "      <td>1997</td>\n",
       "      <td>5d6f</td>\n",
       "      <td>1007</td>\n",
       "      <td>1</td>\n",
       "      <td>0</td>\n",
       "      <td>1</td>\n",
       "      <td>1</td>\n",
       "      <td>0</td>\n",
       "      <td>111111110</td>\n",
       "    </tr>\n",
       "    <tr>\n",
       "      <th>998</th>\n",
       "      <td>1998</td>\n",
       "      <td>5d6f</td>\n",
       "      <td>1008</td>\n",
       "      <td>1</td>\n",
       "      <td>0</td>\n",
       "      <td>1</td>\n",
       "      <td>0</td>\n",
       "      <td>0</td>\n",
       "      <td>1111111100</td>\n",
       "    </tr>\n",
       "    <tr>\n",
       "      <th>999</th>\n",
       "      <td>1999</td>\n",
       "      <td>5d6f</td>\n",
       "      <td>1009</td>\n",
       "      <td>1</td>\n",
       "      <td>1</td>\n",
       "      <td>0</td>\n",
       "      <td>0</td>\n",
       "      <td>0</td>\n",
       "      <td>1111111000</td>\n",
       "    </tr>\n",
       "  </tbody>\n",
       "</table>\n",
       "<p>1000 rows × 9 columns</p>\n",
       "</div>"
      ],
      "text/plain": [
       "     Unnamed: 0 Subject  Trial  Jar  Bead  Response  Confidence  Correct  \\\n",
       "0          1000    5d6f     10    0     0         0           0        1   \n",
       "1          1001    5d6f     11    0     0         0           1        1   \n",
       "2          1002    5d6f     12    0     0         0           1        1   \n",
       "3          1003    5d6f     13    0     0         0           1        1   \n",
       "4          1004    5d6f     14    0     1         0           1        0   \n",
       "..          ...     ...    ...  ...   ...       ...         ...      ...   \n",
       "995        1995    5d6f   1005    1     1         1           0        1   \n",
       "996        1996    5d6f   1006    1     0         1           0        0   \n",
       "997        1997    5d6f   1007    1     0         1           1        0   \n",
       "998        1998    5d6f   1008    1     0         1           0        0   \n",
       "999        1999    5d6f   1009    1     1         0           0        0   \n",
       "\n",
       "        History  \n",
       "0             0  \n",
       "1             0  \n",
       "2             0  \n",
       "3             0  \n",
       "4             0  \n",
       "..          ...  \n",
       "995   101111111  \n",
       "996  1011111111  \n",
       "997   111111110  \n",
       "998  1111111100  \n",
       "999  1111111000  \n",
       "\n",
       "[1000 rows x 9 columns]"
      ]
     },
     "execution_count": 19,
     "metadata": {},
     "output_type": "execute_result"
    }
   ],
   "source": [
    "adat_trials"
   ]
  },
  {
   "cell_type": "code",
   "execution_count": 29,
   "metadata": {},
   "outputs": [],
   "source": [
    "beads = adat_trials['Bead']\n",
    "choices = adat_trials['Response']\n",
    "urns = adat_trials['Jar']\n",
    "\n",
    "choice1 = choices[1:].reset_index(drop = True)\n",
    "choice1[1000] = 0"
   ]
  },
  {
   "cell_type": "code",
   "execution_count": 21,
   "metadata": {},
   "outputs": [
    {
     "data": {
      "text/plain": [
       "0.333827175038625"
      ]
     },
     "execution_count": 21,
     "metadata": {},
     "output_type": "execute_result"
    }
   ],
   "source": [
    "IB(choices,urns,window_size_x=1,window_size_y=1).get_saturation_point()"
   ]
  },
  {
   "cell_type": "code",
   "execution_count": 22,
   "metadata": {},
   "outputs": [
    {
     "data": {
      "text/plain": [
       "0.5565324083053209"
      ]
     },
     "execution_count": 22,
     "metadata": {},
     "output_type": "execute_result"
    }
   ],
   "source": [
    "IB(beads,choices,window_size_x=6,window_size_y=1).get_saturation_point()"
   ]
  },
  {
   "cell_type": "code",
   "execution_count": 23,
   "metadata": {},
   "outputs": [
    {
     "data": {
      "text/plain": [
       "0.3312475214245512"
      ]
     },
     "execution_count": 23,
     "metadata": {},
     "output_type": "execute_result"
    }
   ],
   "source": [
    "(ip1, if1) = get_i_past_future(beads, urns, choices, 10)\n",
    "if1"
   ]
  },
  {
   "cell_type": "code",
   "execution_count": 24,
   "metadata": {},
   "outputs": [
    {
     "name": "stdout",
     "output_type": "stream",
     "text": [
      "ipast:   1=0.600, 2=nan\n",
      "ifuture: 1=0.331, 2=0.334\n"
     ]
    }
   ],
   "source": [
    "(ip1, if1) = get_i_past_future(beads, urns, choices, w)\n",
    "ip2 = IB(beads, choices, window_size_x=w, window_size_y=1).get_saturation_point()\n",
    "if2 = IB(choices, urns, window_size_x=1, window_size_y=1).get_saturation_point()\n",
    "\n",
    "print(f'ipast:   1={ip1:.3f}, 2={ip2:.3f}')\n",
    "print(f'ifuture: 1={if1:.3f}, 2={if2:.3f}')"
   ]
  },
  {
   "cell_type": "code",
   "execution_count": 39,
   "metadata": {},
   "outputs": [
    {
     "name": "stdout",
     "output_type": "stream",
     "text": [
      "ipast:   1=0.383, 2=0.392\n",
      "ifuture: 1=0.331, 2=0.334\n"
     ]
    }
   ],
   "source": [
    "w = 3\n",
    "(ip1, if1) = get_i_past_future(beads, urns, choices, w)\n",
    "ip2 = IB(beads, choice1, window_size_x=w, window_size_y=1).get_saturation_point()\n",
    "if2 = IB(choices, urns, window_size_x=1, window_size_y=1).get_saturation_point()\n",
    "\n",
    "print(f'ipast:   1={ip1:.3f}, 2={ip2:.3f}')\n",
    "print(f'ifuture: 1={if1:.3f}, 2={if2:.3f}')"
   ]
  },
  {
   "cell_type": "code",
   "execution_count": 58,
   "metadata": {},
   "outputs": [
    {
     "data": {
      "text/plain": [
       "(array([0, 0, 0, 0, 1, 0, 0, 0, 1, 1, 1, 0, 0, 1, 0, 1, 0, 0, 0, 1, 0, 0,\n",
       "        0, 0, 0, 0, 1, 0, 1, 0, 0, 1, 0, 0, 1, 0, 0, 0, 1, 0, 0, 0, 1, 1,\n",
       "        1, 0, 1, 0, 1, 1, 1, 1, 1, 1, 0, 1, 0, 0, 1, 1, 0, 0, 0, 1, 0, 1,\n",
       "        1, 0, 0, 0, 0, 0, 0, 0, 0, 0, 0, 0, 0, 1, 0, 0, 0, 1, 0, 1, 1, 0,\n",
       "        0, 0, 0, 0, 0, 1, 0, 0, 0, 1, 0, 0, 0, 0, 0, 0, 0, 1, 0, 0, 1, 0,\n",
       "        0, 0, 0, 0, 1, 1, 1, 1, 1, 0, 1, 1, 1, 1, 0, 1, 1, 1, 1, 1, 1, 1,\n",
       "        1, 1, 0, 1, 1, 0, 0, 1, 0, 1, 1, 1, 1, 0, 1, 0, 1, 1, 1, 1, 0, 1,\n",
       "        1, 1, 0, 0, 0, 1, 1, 1, 1, 0, 1, 1, 1, 1, 1, 1, 0, 1, 1, 0, 1, 0,\n",
       "        1, 1, 0, 1, 0, 0, 0, 0, 0, 1, 0, 1, 0, 0, 0, 0, 0, 0, 1, 1, 0, 0,\n",
       "        0, 0, 0, 0, 0, 0, 1, 0, 0, 0, 1, 0, 0, 0, 0, 0, 1, 1, 0, 0, 0, 0,\n",
       "        1, 1, 0, 1, 0, 0, 1, 0, 1, 1, 0, 0, 0, 1, 0, 1, 0, 1, 1, 0, 1, 1,\n",
       "        1, 0, 0, 0, 0, 0, 0, 0, 0, 0, 0, 0, 1, 0, 0, 0, 1, 0, 0, 0, 0, 1,\n",
       "        0, 0, 1, 0, 0, 0, 0, 0, 0, 0, 0, 0, 0, 1, 0, 0, 0, 0, 1, 0, 1, 0,\n",
       "        0, 0, 0, 0, 0, 0, 1, 0, 0, 0, 0, 0, 0, 0, 0, 0, 0, 0, 0, 0, 0, 0,\n",
       "        0, 0, 0, 0, 0, 0, 0, 0, 1, 0, 0, 0, 0, 0, 0, 1, 1, 0, 0, 0, 1, 0,\n",
       "        0, 0, 0, 0, 0, 0, 0, 0, 1, 0, 0, 0, 1, 1, 0, 0, 0, 0, 1, 1, 1, 0,\n",
       "        0, 1, 0, 0, 1, 0, 0, 0, 1, 0, 0, 0, 1, 1, 0, 0, 0, 0, 0, 0, 1, 0,\n",
       "        0, 0, 0, 0, 1, 0, 0, 0, 0, 1, 0, 0, 1, 0, 0, 0, 0, 0, 0, 1, 0, 0,\n",
       "        0, 0, 1, 0, 1, 0, 1, 1, 1, 1, 0, 1, 1, 1, 1, 1, 1, 0, 1, 1, 1, 1,\n",
       "        0, 1, 1, 1, 1, 0, 1, 1, 1, 1, 1, 0, 1, 0, 0, 1, 1, 1, 1, 0, 1, 1,\n",
       "        1, 1, 0, 1, 0, 0, 0, 0, 0, 0, 0, 0, 0, 1, 1, 1, 1, 1, 1, 1, 1, 1,\n",
       "        1, 0, 1, 1, 0, 1, 0, 1, 1, 1, 0, 0, 0, 0, 0, 0, 0, 1, 0, 0, 0, 0,\n",
       "        0, 1, 0, 0, 1, 0, 0, 0, 1, 0, 0, 0, 0, 0, 0, 0, 0, 0, 0, 1, 0, 0,\n",
       "        0, 0, 0, 0, 1, 0, 1, 0, 0, 1, 0, 1, 1, 0, 1, 1, 0, 1, 0, 1, 1, 1,\n",
       "        0, 1, 1, 1, 1, 1, 1, 1, 1, 1, 1, 1, 1, 1, 0, 1, 1, 1, 1, 0, 0, 0,\n",
       "        0, 0, 1, 0, 1, 1, 0, 0, 0, 0, 0, 0, 0, 0, 1, 1, 1, 1, 1, 1, 0, 1,\n",
       "        1, 1, 1, 0, 1, 1, 1, 1, 1, 1, 1, 1, 1, 1, 1, 1, 1, 1, 1, 1, 1, 1,\n",
       "        1, 1, 1, 1, 0, 0, 0, 1, 0, 1, 0, 1, 0, 0, 0, 1, 1, 0, 0, 0, 0, 0,\n",
       "        0, 1, 0, 0, 0, 0, 0, 0, 0, 0, 1, 0, 0, 0, 0, 0, 0, 0, 0, 0, 0, 0,\n",
       "        0, 0, 1, 1, 0, 0, 0, 1, 0, 0, 0, 0, 1, 1, 1, 0, 1, 1, 1, 1, 1, 1,\n",
       "        0, 1, 1, 1, 1, 1, 0, 1, 1, 1, 1, 0, 0, 1, 1, 1, 1, 1, 1, 1, 1, 1,\n",
       "        1, 1, 0, 1, 1, 1, 0, 1, 0, 1, 0, 0, 1, 1, 1, 0, 0, 1, 1, 1, 1, 0,\n",
       "        0, 1, 1, 0, 0, 1, 0, 0, 0, 0, 1, 1, 0, 0, 0, 1, 1, 0, 0, 1, 0, 0,\n",
       "        0, 0, 0, 0, 0, 0, 0, 0, 0, 0, 0, 0, 1, 0, 0, 0, 0, 0, 1, 1, 1, 0,\n",
       "        1, 1, 1, 0, 1, 1, 1, 0, 1, 1, 1, 1, 1, 1, 1, 1, 1, 1, 0, 0, 0, 0,\n",
       "        0, 0, 1, 0, 0, 0, 1, 0, 0, 0, 0, 1, 0, 0, 1, 1, 1, 1, 0, 0, 0, 1,\n",
       "        1, 0, 1, 1, 0, 1, 1, 1, 0, 0, 1, 0, 0, 1, 0, 1, 1, 1, 1, 1, 1, 1,\n",
       "        1, 1, 1, 1, 1, 1, 1, 0, 1, 1, 1, 0, 1, 1, 1, 0, 1, 1, 0, 1, 1, 1,\n",
       "        0, 1, 1, 1, 1, 1, 0, 0, 0, 0, 0, 0, 0, 0, 0, 0, 0, 1, 0, 0, 0, 1,\n",
       "        1, 1, 1, 0, 0, 1, 1, 0, 1, 1, 1, 1, 1, 1, 1, 1, 1, 1, 1, 1, 1, 1,\n",
       "        1, 1, 1, 0, 0, 0, 0, 0, 0, 1, 0, 0, 0, 0, 1, 0, 0, 0, 1, 0, 1, 0,\n",
       "        0, 0, 0, 1, 1, 0, 1, 0, 0, 0, 1, 1, 0, 1, 1, 1, 1, 0, 0, 1, 1, 1,\n",
       "        0, 0, 0, 1, 1, 1, 1, 1, 1, 1, 1, 1, 1, 0, 0, 1, 0, 1, 1, 1, 1, 0,\n",
       "        1, 1, 1, 1, 0, 1, 1, 1, 1, 1, 0, 1, 1, 1, 1, 1, 1, 1, 1, 0, 1, 0,\n",
       "        1, 1, 0, 1, 1, 1, 1, 1, 1, 1, 1, 1, 1, 1, 1, 1, 1, 0, 1, 0, 1, 1,\n",
       "        1, 1, 1, 1, 1, 1, 0, 0, 0, 1]),\n",
       " 0      0\n",
       " 1      0\n",
       " 2      0\n",
       " 3      0\n",
       " 4      0\n",
       "       ..\n",
       " 995    1\n",
       " 996    1\n",
       " 997    1\n",
       " 998    1\n",
       " 999    0\n",
       " Name: Response, Length: 1000, dtype: int64)"
      ]
     },
     "execution_count": 58,
     "metadata": {},
     "output_type": "execute_result"
    }
   ],
   "source": [
    "get_windowed_xs(beads,choices,w=1)"
   ]
  },
  {
   "cell_type": "markdown",
   "metadata": {},
   "source": [
    "### Bounds computed using embo and using the windowing utility\n",
    "\n",
    "I also was surprised that this gave different answers. I thought I convinced myself that the windowing was the same in embo and in the utility, but maybe not?"
   ]
  },
  {
   "cell_type": "code",
   "execution_count": 47,
   "metadata": {},
   "outputs": [
    {
     "data": {
      "image/png": "[encoded data removed]",
      "text/plain": [
       "<Figure size 432x288 with 1 Axes>"
      ]
     },
     "metadata": {
      "needs_background": "light"
     },
     "output_type": "display_data"
    }
   ],
   "source": [
    "from matplotlib import pyplot as plt\n",
    "\n",
    "# Compute using built-in windowing\n",
    "I_x, I_y, _, _ = IB(beads, urns, window_size_x=w, window_size_y=1).get_bottleneck()\n",
    "\n",
    "# Compute after windowing\n",
    "(beads_w, urns_w) = get_windowed_xs(beads, urns, w)\n",
    "I_x_w, I_y_w, _, _ = IB(beads_w, urns_w, window_size_x=1, window_size_y=1).get_bottleneck()\n",
    "\n",
    "plt.plot(I_x,  I_y,  'r-')\n",
    "plt.plot(I_x_w, I_y_w, 'b-')\n",
    "plt.show()\n",
    "\n"
   ]
  },
  {
   "cell_type": "code",
   "execution_count": 50,
   "metadata": {},
   "outputs": [
    {
     "data": {
      "text/plain": [
       "8"
      ]
     },
     "execution_count": 50,
     "metadata": {},
     "output_type": "execute_result"
    }
   ],
   "source": [
    "w"
   ]
  },
  {
   "cell_type": "code",
   "execution_count": 51,
   "metadata": {},
   "outputs": [
    {
     "data": {
      "image/png": "[encoded data removed]",
      "text/plain": [
       "<Figure size 432x288 with 1 Axes>"
      ]
     },
     "metadata": {
      "needs_background": "light"
     },
     "output_type": "display_data"
    }
   ],
   "source": [
    "I_x, I_y, _, _ = IB(beads, beads, window_size_x=w, window_size_y=1).get_bottleneck()\n",
    "\n",
    "(beads_w, urns_w) = get_windowed_xs(beads, beads, w)\n",
    "I_x_w, I_y_w, _, _ = IB(beads_w, urns_w, window_size_x=1, window_size_y=1).get_bottleneck()\n",
    "\n",
    "plt.plot(I_x,  I_y,  'r-')\n",
    "plt.plot(I_x_w, I_y_w, 'b-')\n",
    "plt.show()"
   ]
  },
  {
   "cell_type": "code",
   "execution_count": 109,
   "metadata": {},
   "outputs": [
    {
     "data": {
      "image/png": "[encoded data removed]",
      "text/plain": [
       "<Figure size 432x288 with 1 Axes>"
      ]
     },
     "metadata": {
      "needs_background": "light"
     },
     "output_type": "display_data"
    }
   ],
   "source": [
    "# Compute using built-in windowing\n",
    "I_x, I_y, _, _ = IB(beads, choice1, window_size_x=w, window_size_y=1).get_bottleneck()\n",
    "\n",
    "# Compute after windowing\n",
    "(beads_w, choices_w) = get_windowed_xs(beads, choices, w)\n",
    "I_x_w, I_y_w, _, _ = IB(beads_w, choices_w, window_size_x=1, window_size_y=1).get_bottleneck()\n",
    "\n",
    "plt.plot(I_x,  I_y,  'r-')\n",
    "plt.plot(I_x_w, I_y_w, 'b-')\n",
    "plt.show()"
   ]
  },
  {
   "cell_type": "code",
   "execution_count": 113,
   "metadata": {},
   "outputs": [
    {
     "data": {
      "text/plain": [
       "0       0\n",
       "1       0\n",
       "2       0\n",
       "3       0\n",
       "4       0\n",
       "       ..\n",
       "9995    1\n",
       "9996    1\n",
       "9997    1\n",
       "9998    1\n",
       "9999    0\n",
       "Name: na_choice, Length: 10000, dtype: int64"
      ]
     },
     "execution_count": 113,
     "metadata": {},
     "output_type": "execute_result"
    }
   ],
   "source": [
    "choice1"
   ]
  },
  {
   "cell_type": "code",
   "execution_count": 86,
   "metadata": {},
   "outputs": [
    {
     "data": {
      "text/plain": [
       "8       1\n",
       "9       1\n",
       "10      1\n",
       "11      1\n",
       "12      1\n",
       "       ..\n",
       "9995    1\n",
       "9996    1\n",
       "9997    1\n",
       "9998    1\n",
       "9999    1\n",
       "Name: urn, Length: 9992, dtype: int64"
      ]
     },
     "execution_count": 86,
     "metadata": {},
     "output_type": "execute_result"
    }
   ],
   "source": [
    "urns_w"
   ]
  },
  {
   "cell_type": "code",
   "execution_count": 118,
   "metadata": {},
   "outputs": [
    {
     "data": {
      "text/plain": [
       "(array([1.69326770e-12, 1.15588419e-07, 1.39389715e-05, 5.00751373e-04,\n",
       "        5.52742031e-03, 1.90914090e-01, 5.08609920e-01, 7.20001176e-01,\n",
       "        8.07445845e-01, 8.57530410e-01, 8.89814676e-01, 9.14487745e-01,\n",
       "        9.40461113e-01, 9.71917176e-01, 1.00798847e+00, 1.04532119e+00,\n",
       "        1.08374928e+00, 1.11338709e+00, 1.14706841e+00, 1.17664999e+00,\n",
       "        1.21219655e+00, 1.24918695e+00, 1.27912293e+00, 1.31199541e+00,\n",
       "        1.33843833e+00, 1.36307587e+00, 1.38646628e+00, 1.40826649e+00,\n",
       "        1.42847648e+00, 1.44786181e+00]),\n",
       " array([1.35947698e-12, 9.28016685e-08, 1.11910728e-05, 4.02009852e-04,\n",
       "        4.43490606e-03, 1.49824747e-01, 3.80933292e-01, 5.17217974e-01,\n",
       "        5.64965772e-01, 5.89073909e-01, 6.02797166e-01, 6.11978405e-01,\n",
       "        6.20350904e-01, 6.29613218e-01, 6.39607445e-01, 6.49366742e-01,\n",
       "        6.58878576e-01, 6.66065967e-01, 6.73776368e-01, 6.80279655e-01,\n",
       "        6.88003174e-01, 6.95628881e-01, 7.01375515e-01, 7.07557419e-01,\n",
       "        7.12174444e-01, 7.16326928e-01, 7.20097715e-01, 7.23476098e-01,\n",
       "        7.26514835e-01, 7.29322848e-01]))"
      ]
     },
     "execution_count": 118,
     "metadata": {},
     "output_type": "execute_result"
    }
   ],
   "source": [
    "I_x_w, I_y_w\n"
   ]
  },
  {
   "cell_type": "code",
   "execution_count": null,
   "metadata": {},
   "outputs": [],
   "source": [
    "#bead1 = beads[1:].reset_index(drop = True)\n",
    "#bead1[9999] = 0\n",
    "\n",
    "#bead1[0] = 0\n",
    "#bead1[1:] = beads[:-1].reset_index(drop = True)\n",
    "#bead1"
   ]
  },
  {
   "cell_type": "code",
   "execution_count": 149,
   "metadata": {},
   "outputs": [],
   "source": [
    "I_x, I_y, h_m, beta = IB(np.arange(999)%2, np.arange(999)%2, window_size_x=1, window_size_y=3).get_bottleneck()"
   ]
  },
  {
   "cell_type": "code",
   "execution_count": 150,
   "metadata": {},
   "outputs": [
    {
     "data": {
      "image/png": "[encoded data removed]",
      "text/plain": [
       "<Figure size 432x288 with 1 Axes>"
      ]
     },
     "metadata": {
      "needs_background": "light"
     },
     "output_type": "display_data"
    }
   ],
   "source": [
    "plt.plot(I_x,  I_y,  'r-')\n",
    "plt.show()"
   ]
  },
  {
   "cell_type": "code",
   "execution_count": 183,
   "metadata": {},
   "outputs": [],
   "source": [
    "I_x, I_y, h_m, beta = IB(np.array(beads), beads, window_size_x=3, window_size_y=1).get_bottleneck()"
   ]
  },
  {
   "cell_type": "code",
   "execution_count": 184,
   "metadata": {},
   "outputs": [
    {
     "data": {
      "text/plain": [
       "(array([3.41933680e-12, 4.95507387e-07, 9.29081321e-05, 2.14898686e-03,\n",
       "        3.54602966e-01, 9.99554183e-01, 9.99611485e-01, 9.99611552e-01,\n",
       "        9.99611552e-01, 9.99611552e-01, 9.99611552e-01]),\n",
       " array([3.41936706e-12, 4.95507387e-07, 9.29081321e-05, 2.14898686e-03,\n",
       "        3.54602966e-01, 9.99554183e-01, 9.99611485e-01, 9.99611552e-01,\n",
       "        9.99611552e-01, 9.99611552e-01, 9.99611552e-01]))"
      ]
     },
     "execution_count": 184,
     "metadata": {},
     "output_type": "execute_result"
    }
   ],
   "source": [
    "I_x, I_y"
   ]
  },
  {
   "cell_type": "code",
   "execution_count": 182,
   "metadata": {},
   "outputs": [
    {
     "data": {
      "text/plain": [
       "array([0, 0, 0, ..., 1, 1, 1])"
      ]
     },
     "execution_count": 182,
     "metadata": {},
     "output_type": "execute_result"
    }
   ],
   "source": [
    "np.array(beads)"
   ]
  },
  {
   "cell_type": "code",
   "execution_count": 174,
   "metadata": {},
   "outputs": [
    {
     "data": {
      "text/plain": [
       "0       0\n",
       "1       1\n",
       "2       0\n",
       "3       1\n",
       "4       0\n",
       "       ..\n",
       "9995    1\n",
       "9996    0\n",
       "9997    1\n",
       "9998    0\n",
       "9999    1\n",
       "Length: 10000, dtype: int64"
      ]
     },
     "execution_count": 174,
     "metadata": {},
     "output_type": "execute_result"
    }
   ],
   "source": [
    "pd.Series(np.arange(len(beads))%2)"
   ]
  },
  {
   "cell_type": "code",
   "execution_count": null,
   "metadata": {},
   "outputs": [],
   "source": []
  }
 ],
 "metadata": {
  "kernelspec": {
   "display_name": "Python 3",
   "language": "python",
   "name": "python3"
  },
  "language_info": {
   "codemirror_mode": {
    "name": "ipython",
    "version": 3
   },
   "file_extension": ".py",
   "mimetype": "text/x-python",
   "name": "python",
   "nbconvert_exporter": "python",
   "pygments_lexer": "ipython3",
   "version": "3.7.9"
  },
  "metadata": {
   "interpreter": {
    "hash": "aee8b7b246df8f9039afb4144a1f6fd8d2ca17a180786b69acc140d282b71a49"
   }
  }
 },
 "nbformat": 4,
 "nbformat_minor": 4
}
