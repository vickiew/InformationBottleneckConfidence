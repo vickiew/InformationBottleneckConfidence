{
 "cells": [
  {
   "cell_type": "markdown",
   "metadata": {},
   "source": [
    "Simulations for bottleneck grant"
   ]
  },
  {
   "cell_type": "markdown",
   "metadata": {},
   "source": [
    "### Functions for generating task sequences"
   ]
  },
  {
   "cell_type": "code",
   "execution_count": 1,
   "metadata": {},
   "outputs": [],
   "source": [
    "import pandas as pd\n",
    "import numpy as np \n",
    "\n",
    "def generate_urn_sequence(N=1000, p0=0.1, p1=0.9, h=0.1, start_urn=None):\n",
    "\n",
    "    # Urn sequence\n",
    "    urn_sequence = np.zeros(N, dtype=bool)\n",
    "    if start_urn is None:\n",
    "        urn_sequence[0] = np.random.binomial(1, 0.5)==1\n",
    "    for i, f in enumerate(np.random.binomial(1, h, size=N-1)):\n",
    "        urn_sequence[i+1] = ~urn_sequence[i] if f==1 else urn_sequence[i]\n",
    "\n",
    "    # Bead sequence\n",
    "    bead_sequence = np.zeros(N, dtype=bool)\n",
    "    bead_sequence[~urn_sequence] = np.random.binomial(1, p0, size=np.count_nonzero(~urn_sequence))==1\n",
    "    bead_sequence[urn_sequence] = np.random.binomial(1, p1, size=np.count_nonzero(urn_sequence))==1\n",
    "\n",
    "    # Return the sequences as dataframe\n",
    "    return pd.DataFrame({'urn' : urn_sequence, 'bead' : bead_sequence})\n"
   ]
  },
  {
   "cell_type": "markdown",
   "metadata": {},
   "source": [
    "### Functions for simulating decision-making agents"
   ]
  },
  {
   "cell_type": "code",
   "execution_count": 2,
   "metadata": {},
   "outputs": [],
   "source": [
    "# Normative agent (Glaze et al 215)\n",
    "def normative_choice_agent(beads, p0, p1, h, noise=0.1):\n",
    "\n",
    "    LLRs = np.log(p1/p0)*np.ones(len(beads))\n",
    "    LLRs[~beads] = np.log((1-p1)/(1-p0)) #*np.ones(np.count_nonzero(~beads))\n",
    "    beliefs = np.zeros(len(beads))\n",
    "    beliefs[0] = LLRs[0]\n",
    "    hv = (1-h)/h\n",
    "\n",
    "    # Compute belief (L) as log-prior-odds\n",
    "    for i, LLR in enumerate(LLRs[1:]):\n",
    "        beliefs[i+1] = LLR + beliefs[i] + np.log(hv + np.exp(-beliefs[i])) - np.log(hv + np.exp(beliefs[i]))\n",
    "    \n",
    "    # generate choices\n",
    "    choices = np.random.binomial(1, 1/(1 + np.exp(-beliefs/noise)))==1\n",
    "\n",
    "    # Return the beliefs and choices as dataframe\n",
    "    return pd.DataFrame({'na_belief' : beliefs, 'na_choice' : choices})\n"
   ]
  },
  {
   "cell_type": "markdown",
   "metadata": {},
   "source": [
    "### Utility functions from Alex for computing MI for different window sizes"
   ]
  },
  {
   "cell_type": "code",
   "execution_count": 9,
   "metadata": {},
   "outputs": [],
   "source": [
    "import ndd\n",
    "\n",
    "# Get windowed sequence\n",
    "def get_windowed_xs(x,z,w=1):\n",
    "    xc = np.array(x.copy())\n",
    "    zw = z[w:].copy()\n",
    "    aux_base = 2**np.arange(w)\n",
    "    xw_binned = np.array([np.inner(xc[i:i+w], aux_base) for i in np.arange(len(zw))]).astype(int)\n",
    "    return(xw_binned, zw)\n",
    "\n",
    "# Calculate mutual information using NSB method    \n",
    "def mutual_inf_nsb(x, y, ks):\n",
    "    ar = np.column_stack((x, y))\n",
    "    mi = ndd.mutual_information(ar, ks)\n",
    "    return np.log2(np.e)*mi # ndd returns nats - multiply by log2(e) to convert to bits\n",
    "\n",
    "# Compute i_past vs i_future from empirical data\n",
    "#   x is observations\n",
    "#   y is ground truth\n",
    "#   z is responses (choices)\n",
    "#   w is window size of i_past\n",
    "def get_i_past_future(x, y, z, w):\n",
    "    x_w, z_w = get_windowed_xs(x, z, w)\n",
    "    i_past = mutual_inf_nsb(x_w, z_w, [2**w,2])\n",
    "    i_future = mutual_inf_nsb(z, y, [2,2])\n",
    "    return(i_past, i_future)"
   ]
  },
  {
   "cell_type": "markdown",
   "metadata": {},
   "source": [
    "### Compute IB\n",
    "\n",
    "Use simulated normative agent and compute IB using embo and ndd. They return different values for i_past"
   ]
  },
  {
   "cell_type": "code",
   "execution_count": 4,
   "metadata": {},
   "outputs": [
    {
     "name": "stdout",
     "output_type": "stream",
     "text": [
      "ipast:   1=0.978, 2=0.975\n",
      "ifuture: 1=0.464, 2=0.464\n"
     ]
    }
   ],
   "source": [
    "from embo import InformationBottleneck as IB\n",
    "\n",
    "# Simulate normative agent\n",
    "N = 10000\n",
    "p0 = 0.2\n",
    "p1 = 1-p0\n",
    "h  = 0.05\n",
    "max_win_size = 10\n",
    "noise = 0.01\n",
    "us = generate_urn_sequence(N, p0, p1, h)\n",
    "cs = normative_choice_agent(us['bead'], p0, p1, h, noise)\n",
    "df = pd.concat([us, cs], axis=1)\n",
    "\n",
    "beads = us['bead'].astype(int)\n",
    "urns = us['urn'].astype(int)\n",
    "choices = cs['na_choice'].astype(int)\n",
    "w=8\n",
    "\n",
    "(ip1, if1) = get_i_past_future(beads, urns, choices, w)\n",
    "ip2 = IB(beads, choices, window_size_x=w, window_size_y=1).get_saturation_point()\n",
    "if2 = IB(choices, urns, window_size_x=1, window_size_y=1).get_saturation_point()\n",
    "\n",
    "print(f'ipast:   1={ip1:.3f}, 2={ip2:.3f}')\n",
    "print(f'ifuture: 1={if1:.3f}, 2={if2:.3f}')\n"
   ]
  },
  {
   "cell_type": "markdown",
   "metadata": {},
   "source": [
    "### Bounds computed using embo and using the windowing utility\n",
    "\n",
    "I also was surprised that this gave different answers. I thought I convinced myself that the windowing was the same in embo and in the utility, but maybe not?"
   ]
  },
  {
   "cell_type": "code",
   "execution_count": 15,
   "metadata": {},
   "outputs": [
    {
     "data": {
      "image/png": "[encoded data removed]",
      "text/plain": [
       "<Figure size 432x288 with 1 Axes>"
      ]
     },
     "metadata": {
      "needs_background": "light"
     },
     "output_type": "display_data"
    }
   ],
   "source": [
    "from matplotlib import pyplot as plt\n",
    "\n",
    "# Compute using built-in windowing\n",
    "urns1 = beads[1:].reset_index(drop = True)\n",
    "urns1[9999] = 0\n",
    "\n",
    "I_x, I_y, _, _ = IB(urns1, beads, window_size_x=w, window_size_y=1).get_bottleneck()\n",
    "\n",
    "# Compute after windowing\n",
    "(beads_w, urns_w) = get_windowed_xs(beads, urns, w)\n",
    "I_x_w, I_y_w, _, _ = IB(beads_w, urns_w, window_size_x=1, window_size_y=1).get_bottleneck()\n",
    "\n",
    "plt.plot(I_x,  I_y,  'r-')\n",
    "plt.plot(I_x_w, I_y_w, 'b-')\n",
    "plt.show()"
   ]
  },
  {
   "cell_type": "code",
   "execution_count": 11,
   "metadata": {},
   "outputs": [
    {
     "data": {
      "image/png": "[encoded data removed]",
      "text/plain": [
       "<Figure size 432x288 with 1 Axes>"
      ]
     },
     "metadata": {
      "needs_background": "light"
     },
     "output_type": "display_data"
    }
   ],
   "source": [
    "plt.plot(I_x,  I_y,  'r-')\n",
    "plt.plot(I_x_w, I_y_w, 'b-')\n",
    "plt.xlim([0,1.5])\n",
    "plt.ylim([0,1])\n",
    "plt.show()"
   ]
  },
  {
   "cell_type": "code",
   "execution_count": 13,
   "metadata": {},
   "outputs": [
    {
     "data": {
      "text/plain": [
       "8"
      ]
     },
     "execution_count": 13,
     "metadata": {},
     "output_type": "execute_result"
    }
   ],
   "source": [
    "w"
   ]
  },
  {
   "cell_type": "code",
   "execution_count": null,
   "metadata": {},
   "outputs": [],
   "source": []
  }
 ],
 "metadata": {
  "kernelspec": {
   "display_name": "Python 3",
   "language": "python",
   "name": "python3"
  },
  "language_info": {
   "codemirror_mode": {
    "name": "ipython",
    "version": 3
   },
   "file_extension": ".py",
   "mimetype": "text/x-python",
   "name": "python",
   "nbconvert_exporter": "python",
   "pygments_lexer": "ipython3",
   "version": "3.7.9"
  },
  "metadata": {
   "interpreter": {
    "hash": "aee8b7b246df8f9039afb4144a1f6fd8d2ca17a180786b69acc140d282b71a49"
   }
  }
 },
 "nbformat": 4,
 "nbformat_minor": 4
}
