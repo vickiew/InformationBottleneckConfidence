{
 "cells": [
  {
   "cell_type": "markdown",
   "id": "cubic-ecuador",
   "metadata": {},
   "source": [
    "# Preregistration: Urn Task with Confidence"
   ]
  },
  {
   "cell_type": "markdown",
   "id": "immediate-admission",
   "metadata": {},
   "source": [
    "## A. Hypotheses"
   ]
  },
  {
   "cell_type": "markdown",
   "id": "descending-parliament",
   "metadata": {},
   "source": [
    "## B. Methods"
   ]
  },
  {
   "cell_type": "markdown",
   "id": "federal-reflection",
   "metadata": {},
   "source": [
    "## C. Analysis Plan"
   ]
  },
  {
   "cell_type": "markdown",
   "id": "bronze-montreal",
   "metadata": {},
   "source": [
    "### Information Bottleneck"
   ]
  },
  {
   "cell_type": "markdown",
   "id": "acceptable-loading",
   "metadata": {},
   "source": [
    "We estimate the information complexity "
   ]
  },
  {
   "cell_type": "markdown",
   "id": "veterinary-credit",
   "metadata": {},
   "source": []
  },
  {
   "cell_type": "markdown",
   "id": "civilian-spirituality",
   "metadata": {},
   "source": [
    "### Linear Regressions\n",
    "We fit linear regressions to examine the relationships between task-related variables and psychiatric symptoms, age, and cognitive motivation. These task-related variables include the accuracy, the mean trial-by-trial confidence, the correlation between trial-by-trial confidence and correctness, and the information bottleneck parameters such as I_past and I_future for both the decision itself and the decision and confidence judgement pair. We include the log-transformed total score for each psychiatric questionnaire, age, cognitive motivation, and gender as fixed effects. Because of the high correlation between different psychiatric symptom questionnaires, we perform separate regressions for each symptom, controlling for age, cognitive motivation, and gender. All regressors are normalized to allow for comparison of regression coefficients. Following the syntax of the lm function from the stats package in R, we fit:\n",
    "\n",
    "<center>Task-related variable ~ Psychiatric symptom + Age + Cognitive motivation + Gender,</center>\n",
    "    \n",
    "for each task-related variable and psychiatric symptom tested in our questionnaire."
   ]
  },
  {
   "cell_type": "markdown",
   "id": "attended-dietary",
   "metadata": {},
   "source": [
    "We also perform linear regressions without the psychiatric symptom variables to assess how task performance is associated with age and cognitive motivation:\n",
    "\n",
    "<center>Task-related variable ~ Age + Cognitive motivation + Gender.</center>\n",
    "\n",
    "We perform multiple hypotheses corrections over the psychiatric symptom questionnaires using the Benjamini-Hochberg method."
   ]
  },
  {
   "cell_type": "markdown",
   "id": "conditional-living",
   "metadata": {},
   "source": [
    "### Factor Analysis"
   ]
  },
  {
   "cell_type": "markdown",
   "id": "romance-junction",
   "metadata": {},
   "source": [
    "Next, we perform maximum likelihood factor analysis to elucidate latent symptom dimensions that can account for a majority of the variance across the item-level psychiatric symptom scores. Similar to analyses performed in 10.7554/eLife.11305 and 10.1016/j.biopsych.2017.12.017, we use the psych package in R (fa() function), with an oblique rotation (oblimin). First, the hetcor function from the polycor R package is used to compute the correlatio matrix between the 180 individual questionnaire items. Then, we select the number of latent factors using Cattell's criterion (Cattell 1966), as implemented in the nFactors R package (nCng function). An example on pilot data from five subjects is shown below:"
   ]
  },
  {
   "cell_type": "markdown",
   "id": "classified-customs",
   "metadata": {},
   "source": [
    "<center><img src=\"./Urn-Confidence/UrnConfidenceQuestionnaire/Figs/CNG.png\" alt=\"CNG\" style=\"width: 400px;\"/></center>"
   ]
  },
  {
   "cell_type": "markdown",
   "id": "binary-soccer",
   "metadata": {},
   "source": [
    "We label the latent factors by examining the loadings across questionnaire items. Continuing with the example from above, we obtain the following loadings:"
   ]
  },
  {
   "cell_type": "markdown",
   "id": "blessed-richardson",
   "metadata": {},
   "source": [
    "<center><img src=\"./Urn-Confidence/UrnConfidenceQuestionnaire/Figs/factorloadings_pilot.png\" alt=\"Factor Loadings\" style=\"width: 800px;\"/></center>"
   ]
  },
  {
   "cell_type": "markdown",
   "id": "freelance-check",
   "metadata": {},
   "source": [
    "Finally, we also examine the association between these latent factors and the task-related variables. We perform similar regression analyses to those outlined in the Linear Regressions section, fitting the following model:\n",
    "<center>Task-related variable ~ Each latent factor + Age + Cognitive motivation + Gender.</center>"
   ]
  },
  {
   "cell_type": "markdown",
   "id": "suffering-denial",
   "metadata": {},
   "source": [
    "## D. References"
   ]
  },
  {
   "cell_type": "markdown",
   "id": "theoretical-death",
   "metadata": {},
   "source": [
    "https://doi.org/10.1101/2019.12.28.879965\n",
    "http://doi.org/10.5334/jors.322\n",
    "\n",
    "\n",
    "https://www.ncbi.nlm.nih.gov/pmc/articles/PMC6117452/\n",
    "https://elifesciences.org/articles/11305#s4\n",
    "Cattell RB (1966): The scree test for the number of factors. Multivariate behavioral research. 1:245–276."
   ]
  }
 ],
 "metadata": {
  "kernelspec": {
   "display_name": "Python 3",
   "language": "python",
   "name": "python3"
  },
  "language_info": {
   "codemirror_mode": {
    "name": "ipython",
    "version": 3
   },
   "file_extension": ".py",
   "mimetype": "text/x-python",
   "name": "python",
   "nbconvert_exporter": "python",
   "pygments_lexer": "ipython3",
   "version": "3.7.9"
  }
 },
 "nbformat": 4,
 "nbformat_minor": 5
}
