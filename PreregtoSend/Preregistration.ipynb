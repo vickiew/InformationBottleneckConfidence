{
 "cells": [
  {
   "cell_type": "markdown",
   "id": "dominican-tractor",
   "metadata": {},
   "source": [
    "# Preregistration: Urn Task with Confidence"
   ]
  },
  {
   "cell_type": "markdown",
   "id": "romantic-captain",
   "metadata": {},
   "source": [
    "### Wang, V. M. and Gold, J. I.\n",
    "### 27 July 2021"
   ]
  },
  {
   "cell_type": "markdown",
   "id": "complicated-empty",
   "metadata": {},
   "source": [
    "## A. Hypotheses"
   ]
  },
  {
   "cell_type": "markdown",
   "id": "rotary-newton",
   "metadata": {},
   "source": [
    "1. There exists subclinical variation in psychiatric traits that are associated with differences in metacognition performance separate from task performance.\n",
    "2. Individuals using strategies with higher information complexity exhibit lower metacognitive performance.\n",
    "3. Individuals using strategies with higher distance to bound exhibit lower metacognitive performance.\n",
    "\n",
    "See Section C for more information."
   ]
  },
  {
   "cell_type": "markdown",
   "id": "inappropriate-completion",
   "metadata": {},
   "source": [
    "## B. Methods"
   ]
  },
  {
   "cell_type": "markdown",
   "id": "norman-screen",
   "metadata": {},
   "source": [
    "### Participants\n",
    "\n",
    "We will recruit 400 participants on Prolific based on a power analysis conducted using the program G\\*Power (Faul et. al. 2009). Performing factor analysis (see Section C) on our pilot data of 6 subjects, we obtain 5 latent factors using Cattell's criterion (Cattell 1966). Using 5 tested predictors (the latent factors) and 8 total predictors (5 factors, age, cognitive motivation, and gender) at an $\\alpha$-level of 0.05, we should be able to detect relatively small effect sizes ($f^2$ = 0.035) with 80% power (Cohen 1988)."
   ]
  },
  {
   "cell_type": "markdown",
   "id": "dependent-cookbook",
   "metadata": {},
   "source": [
    "<center><img src=\"./Figs/Powerfig.png\" alt=\"Power\" style=\"width: 400px;\"/></center>"
   ]
  },
  {
   "cell_type": "markdown",
   "id": "marked-constitutional",
   "metadata": {},
   "source": [
    "In order to be recruited for the task, participants must satisfy the following inclusion criteria: must have completed at least 20 tasks and have an at least 95% task approval rating. Of the participants who begin the task, we apply the following exclusion criteria: exclude participants who do not complete the entire experiment including questionnaire, fail at least one of the attention check questions in the questionnaire where they are instructed which option to select, predict the next bead correctly in fewer than 57% of trials (3 standard deviations below the mean from our pilot data of 6 subjects), or select the same confidence level in more than 80% of trials (participants are instructed to roughly median split their confidence judgements)."
   ]
  },
  {
   "cell_type": "markdown",
   "id": "white-vehicle",
   "metadata": {},
   "source": [
    "### Study design\n",
    "\n",
    "Participants will perform 1000 trials of a bead estimation and confidence judgement task. On each trial, participants are shown a black or white bead that was drawn from one of two jars. Both jars contain only black and white beads, and participants are informed that the left jar contains 80% black beads and 20% white beads, and that the right jar contains 20% black beads and 80% white beads. The jar the next bead comes from has a 90% chance of remaining the same as the current jar, and a 10% chance of switching to the opposite jar. This switching probability, or hazard rate, is disclosed to the participant. Their task is to predict the color of the next bead that is drawn and to give a binary confidence judgement on their prediction. Thus, on any trial, their options are: black bead with high confidence, black bead with low confidence, white bead with high confidence, or white bead with low confidence. \n",
    "\n",
    "<center><img src=\"./Figs/UrnTaskConfidenceScheme.png\" alt=\"TaskScheme\" style=\"width: 1200px;\"/></center>\n",
    "\n",
    "The normative strategy in this task is to use the history of past beads to infer which of the two jars is most likely to generate the next bead. Participants are instructed that it is best to guess the next jar that will be used. They are also asked to try to answer high confidence roughly half the time and low confidence roughly half the time.\n",
    "\n",
    "The sequences of beads (and their underlying jars) observed by each participant is identical. We use the bead sequence, jar sequence, participant bead choices, and participant confidence judgements in the information bottleneck and regression analyses described in Section C."
   ]
  },
  {
   "cell_type": "markdown",
   "id": "fluid-possession",
   "metadata": {},
   "source": [
    "### Questionnaire\n",
    "\n",
    "After performing the behavioral task, subjects completed a questionnaire on Qualtrics assessing a range of psychiatric symptoms. This questionnaire included the following 8 self-report surveys:\n",
    "* Depression Anxiety Stress Scales (DASS) (Osman et. al. 2012)\n",
    "* Short Scales for Measuring Schizotypy (SSMS) (Mason et. al. 2005)\n",
    "* Urgency, Premeditation (lack of), Perseverance (lack of), Sensation Seeking, Positive Urgency, Impulsive Behavior Scale (UPPS) (Lynam 2013 and Cyders et. al. 2014)\n",
    "* Alcohol Use Disorders Identification Test (AUDIT) (Saunders et. al. 1993)\n",
    "* Liebowitz Social Anxiety Scale (LSAS) (Liebowitz 1987)\n",
    "* Obsessive-Compulsive Inventory - Revised (OCI-R) (Foa 2002)\n",
    "* Apathy Evaluation Scale (AES) (Marin 1991)\n",
    "* Eating Attitudes Test (EAT) (Garner 1982)\n",
    "\n",
    "In addition, cognitive motivation was assessed using the 18-item Need for Cognition Scale (NCS) as a proxy for IQ.\n",
    "\n",
    "Two attention check questions were included at approximately the halfway point and close to the end of the questionnaire for a total of 200 questions. Each survey is coded following the recommended scheme to yield a total score for each psychiatric symptom. These aggregated scores, as well as the individual question responses, are normalized with respect to the responses of the rest of the participants to be used in the factor analysis and regression described in Section C.\n",
    "\n",
    "This questionnaire was inspired by a similar one used by Rouault et. al. 2018."
   ]
  },
  {
   "cell_type": "markdown",
   "id": "sunrise-humor",
   "metadata": {},
   "source": [
    "## C. Analysis Plan"
   ]
  },
  {
   "cell_type": "markdown",
   "id": "fabulous-compression",
   "metadata": {},
   "source": [
    "### Information Bottleneck"
   ]
  },
  {
   "cell_type": "markdown",
   "id": "statistical-developer",
   "metadata": {},
   "source": [
    "We estimate the amount of past information subjects use to make decisions and their predictive accuracy using the information-bottleneck method (Tishby et. al. 2000) on behavioral choice data. This method assumes that subjects form an internal model $M$ that uses past observations ($X_{past}$) to predict some future aspect of the task ($X_{future}$). One benefit of this method is that it allows for the quantification of information complexity without requiring specific assumptions or constraints on the model $M$.\n",
    "\n",
    "We compute the mutual information between $X_{past}$ and $M$ as a measure of the amount of information $M$ encodes about $X_{past}$. We call this $I_{past} := I(X_{past}, M)$. We compute the mutual information between $M$ and $X_{future}$ as a measure of the predicive accuracy of $M$. We call this $I_{future} := I(M, X_{future})$. Larger values of $I_{past}$ and $I_{future}$ correspond to models with higher information complexity and higher predictive accuracy, respectively (Filipowicz et. al. 2020).\n",
    "\n",
    "Both $I_{past}$ and $I_{future}$ can be calculated using only the bead response or using the bead response and confidence judgement together. In the first case, we will use bead choices $R$ as proxies for the participant's mental models $M$. In the second, we will use the combined bead choices and confidence judgements $(R, C)$ as proxies for their mental models $M$. This requires the assumptions that responses are veridical representations of subject mental models and that their mental models are stable throughout the period being measured.\n",
    "\n",
    "Next, we use the history of beads observed by the participant as $X_{past}$. Due to the limits of human working memory, we are likely able to capture a substantial portion of strategies with reasonably limited window sizes into the past. In addition, our hazard rate serves as a temporal filter, so that more distant past observations hold less information about the future. Thus, although an infinite window into the past would yield the most precise $I_{past}$, we can approximate it well with a limited window size and improve the computational feasibility. Using pilot data from six subjects, we can see how $I_{past}$ evolves with increasing window sizes into the past:"
   ]
  },
  {
   "cell_type": "markdown",
   "id": "engaging-knock",
   "metadata": {},
   "source": [
    "<center><img src=\"./Figs/Ipast_window.png\" alt=\"window\" style=\"width: 500px;\"/></center>"
   ]
  },
  {
   "cell_type": "markdown",
   "id": "guilty-victor",
   "metadata": {},
   "source": [
    "Moreover, we run into undersampling problems when we compute empirical estimates of the information bottleneck bound using the embo package for window sizes above 6. Thus, for our estimates of subject information complexity and the empirical information bottleneck bound, we limit X_past to the previous 6 beads that were observed.\n",
    "\n",
    "Finally, we define $X_{future}$ to be the sequence of colors of the next bead.\n",
    "\n",
    "Further details, including the definition of the function $I()$ and code for the empirical estimate of the bound can be found at Piasini et. al. 2021.\n",
    "\n",
    "In addition to computing $I_{past}$ and $I_{future}$ for both the bead choice only and the bead choice and confidence judgement pair, we also calculate a \"distance to bound\" ($DTB$) reflecting the optimality of the model. We consider a model to be optimal for a given information complexity if the $I_{future}$ lies on the information bottleneck bound for the given $I_{past}$. Thus, we can measure the vertical distance, or difference in $I_{future}$, between a participant's model and the empirical bound.\n",
    "\n",
    "We use the following three values from the information bottleneck analyses as task-related variables in the regression analysis:\n",
    "1. $I_{past\\,:\\,R}$\n",
    "2. $DTB_R$\n",
    "3. $\\frac{I_{future\\,:\\,(R,C)}}{I_{future\\,:\\,R}}$\n",
    "\n",
    "The third value, $\\frac{I_{future\\,:\\,(R,C)}}{I_{future\\,:\\,R}}$, is a measure of the participant's metacognitive performance. Participants who are more attuned to the correctness of their choice before they see the correct answer, in other words, people who often choose high confidence when their bead prediction is correct and low confidence when their bead prediction is incorrect, will have relatively higher $I_{future\\,:\\,(R,C)}$ after accounting for their bead prediction accuracy $I_{future\\,:\\,R}$. We hypothesize that there are subclinical differences in psychiatric traits that are associated with the variation in individual metacognitive abilities (Section A Hypothesis 1).\n",
    "\n",
    "The value $I_{past\\,:\\,R}$ is a measure of the information complexity of the participant's prediction strategy. We hypothesize that individuals using strategies with higher information complexity will show lower metacognitive performance $\\frac{I_{future\\,:\\,(R,C)}}{I_{future\\,:\\,R}}$ (Section A Hypothesis 2).\n",
    "\n",
    "The value $DTB_R$ is a measure of the optimality of the participant's prediction strategy relative to other strategies with the same level of information complexity. We hypothesize that individuals using more optimal strategies will have higher metacognitive performance $\\frac{I_{future\\,:\\,(R,C)}}{I_{future\\,:\\,R}}$ (Section A Hypothesis 3)."
   ]
  },
  {
   "cell_type": "markdown",
   "id": "collected-difficulty",
   "metadata": {},
   "source": [
    "### Linear Regressions\n",
    "We fit linear regressions to examine the relationships between task-related variables and psychiatric symptoms, age, and cognitive motivation. These task-related variables include the accuracy, the mean trial-by-trial confidence, and the information bottleneck parameters: $I_{past}$ and distance to bound for the bead choices only, and the ratio between $I_{future}$ for the bead choice and confidence judgement pair and $I_{future}$ for the bead choice only. We include the log-transformed total score for each psychiatric questionnaire, age, cognitive motivation, and gender as fixed effects. Because of the high correlation between different psychiatric symptom questionnaires, we perform separate regressions for each symptom, controlling for age, cognitive motivation, and gender. All regressors are normalized to allow for comparison of regression coefficients. Following the syntax of the lm function from the stats package in R, we fit:\n",
    "\n",
    "<center>Task-related variable ~ Psychiatric symptom + Age + Cognitive motivation + Gender,</center>\n",
    "    \n",
    "for each task-related variable and psychiatric symptom tested in our questionnaire."
   ]
  },
  {
   "cell_type": "markdown",
   "id": "ruled-relations",
   "metadata": {},
   "source": [
    "We also perform linear regressions without the psychiatric symptom variables to assess how task performance is associated with age and cognitive motivation:\n",
    "\n",
    "<center>Task-related variable ~ Age + Cognitive motivation + Gender.</center>\n",
    "\n",
    "We perform multiple hypotheses corrections over the psychiatric symptom questionnaires using the Benjamini-Hochberg method."
   ]
  },
  {
   "cell_type": "markdown",
   "id": "motivated-perception",
   "metadata": {},
   "source": [
    "### Factor Analysis"
   ]
  },
  {
   "cell_type": "markdown",
   "id": "loved-scanning",
   "metadata": {},
   "source": [
    "Next, we perform maximum likelihood factor analysis to elucidate latent symptom dimensions that can account for a majority of the variance across the item-level psychiatric symptom scores. Similar to analyses performed in Gillan et. al. (2016) and Rouault et. al. (2018), we use the psych package in R (fa() function), with an oblique rotation (oblimin). First, the hetcor function from the polycor R package is used to compute the correlatio matrix between the 180 individual questionnaire items. Then, we select the number of latent factors using Cattell's criterion (Cattell 1966), as implemented in the nFactors R package (nCng function). An example on pilot data from five subjects is shown below:"
   ]
  },
  {
   "cell_type": "markdown",
   "id": "presidential-purpose",
   "metadata": {},
   "source": [
    "<center><img src=\"./Figs/CNG.png\" alt=\"CNG\" style=\"width: 400px;\"/></center>"
   ]
  },
  {
   "cell_type": "markdown",
   "id": "accurate-census",
   "metadata": {},
   "source": [
    "We label the latent factors by examining the loadings across questionnaire items. Continuing with the example from above, we obtain the following loadings:"
   ]
  },
  {
   "cell_type": "markdown",
   "id": "demonstrated-thriller",
   "metadata": {},
   "source": [
    "<center><img src=\"./Figs/factorloadings_pilot.png\" alt=\"Factor Loadings\" style=\"width: 800px;\"/></center>"
   ]
  },
  {
   "cell_type": "markdown",
   "id": "tracked-virginia",
   "metadata": {},
   "source": [
    "Finally, we also examine the association between these latent factors and the task-related variables. We perform similar regression analyses to those outlined in the Linear Regressions section, fitting the following model:\n",
    "<center>Task-related variable ~ Each latent factor + Age + Cognitive motivation + Gender.</center>"
   ]
  },
  {
   "cell_type": "markdown",
   "id": "structured-library",
   "metadata": {},
   "source": [
    "## D. References"
   ]
  },
  {
   "cell_type": "markdown",
   "id": "voluntary-attachment",
   "metadata": {},
   "source": [
    "Faul, F., Erdfelder, E., Buchner, A., and Lang, A.-G. (2009). Statistical power analyses using G\\*Power 3.1: Tests for correlation and regression analyses. *Behavior Research Methods*, **41**, 1149-1160. DOI: 10.3758/BRM.41.4.1149\n",
    "\n",
    "Cohen, J. (1988). *Statistical power analysis for the behavioral\n",
    "sciences*. Hillsdale, New Jersey: Lawrence Erlbaum Associates.\n",
    "\n",
    "Tishby, N., Pereira, F. C., and Bialek, W. (2000). The information bottleneck method. *ArXiv Preprint Physics*, 1–16. DOI: 10.1108/eb040537\n",
    "\n",
    "Osman, A., Wong, J. L., Bagge, C. L., Freedenthal, S., Gutierrez, P. M., and Lozano, G. (2012). The Depression Anxiety Stress Scales—21 (DASS-21): Further examination of dimensions, scale reliability, and correlates. *Journal of Clinical Psychology*, **68**(12), 1322–1338. DOI: 10.1002/jclp.21908\n",
    "\n",
    "Mason, O., Linney, Y., and Claridge, G. (2005). Short scales for measuring schizotypy. *Schizophrenia research*, **78**(2-3), 293–296. DOI: 10.1016/j.schres.2005.06.020\n",
    "\n",
    "Lynam, D. R. (2013). Development of a short form of the UPPS-P Impulsive Behavior Scale. Unpublished Technical Report\n",
    "\n",
    "Cyders, M. A., Littlefield, A. K., Coffey, S., and Karyadi, K.A. (2014). Examination of a Short Version of the UPPS-P Impulsive Behavior Scale. *Addict Behav*, **39**(9), 1372–1376. DOI: 10.1016/j.addbeh.2014.02.013\n",
    "\n",
    "Saunders, J. B., Aasland, O. G., Babor, T. F., de la Fuente, J. R., and Grant, M. (1993). Development of the Alcohol Use Disorders Identification Test (AUDIT): WHO Collaborative Project on Early Detection of Persons with Harmful Alcohol Consumption--II. *Addiction (Abingdon, England)*, **88**(6), 791–804. DOI: 10.1111/j.1360-0443.1993.tb02093.x\n",
    "\n",
    "Liebowitz, M. R. (1987). Social phobia. *Modern problems of pharmacopsychiatry*, **22**, 141–173. DOI: 10.1159/000414022\n",
    "\n",
    "Foa, E. B., Huppert, J. D., Leiberg, S., Langner, R., Kichic, R., Hajcak, G., and Salkovskis, P. M. (2002). The Obsessive-Compulsive Inventory: Development and validation of a short version. *Psychological Assessment*, **14**(4), 485–496. DOI: 10.1037/1040-3590.14.4.485\n",
    "\n",
    "Marin, R. S., Biedrzycki, R. C., and Firinciogullari, S. (1991). Reliability and validity of the Apathy Evaluation Scale. *Psychiatry research*, **38**(2), 143–162. DOI: 10.1016/0165-1781(91)90040-v\n",
    "\n",
    "Garner, D. M., Olmsted, M. P., Bohr, Y., and Garfinkel, P. E. (1982). The eating attitudes test: psychometric features and clinical correlates. *Psychological medicine*, **12**(4), 871–878. DOI: 10.1017/s0033291700049163\n",
    "\n",
    "Filipowicz, A.L.S., Levine, J., Piasini, E., Tavoni, G., Kable, J.W., and Gold, J.I. (2020). The comparable strategic flexibility of model-free and model-based learning. *bioRxiv*. DOI: 10.1101/2019.12.28.879965\n",
    "\n",
    "Piasini, E., Filipowicz, A.L.S., Levine, J., and Gold, J.I. (2021). Embo: a Python package for empirical data analysis using the Information Bottleneck. *Journal of Open Research Software*, **9**(1), 10. DOI: 10.5334/jors.322\n",
    "\n",
    "Rouault, M., Seow, T., Gillan, C. M., and Fleming, S. M. (2018). Psychiatric Symptom Dimensions Are Associated With Dissociable Shifts in Metacognition but Not Task Performance. *Biological psychiatry*, **84**(6), 443–451. DOI: 10.1016/j.biopsych.2017.12.017\n",
    "\n",
    "Gillan C.M., Kosinski M., Whelan R., Phelps E.A., and Daw N.D. (2016). Characterizing a psychiatric symptom dimension related to deficits in goal-directed control. *eLife*, **5**. DOI: 10.7554/eLife.11305 \n",
    "\n",
    "Cattell, R. B. (1966). The scree test for the number of factors. *Multivariate Behav Res*, **1**, 245–276. DOI: 10.1207/s15327906mbr0102_10"
   ]
  }
 ],
 "metadata": {
  "kernelspec": {
   "display_name": "Python 3",
   "language": "python",
   "name": "python3"
  },
  "language_info": {
   "codemirror_mode": {
    "name": "ipython",
    "version": 3
   },
   "file_extension": ".py",
   "mimetype": "text/x-python",
   "name": "python",
   "nbconvert_exporter": "python",
   "pygments_lexer": "ipython3",
   "version": "3.7.9"
  }
 },
 "nbformat": 4,
 "nbformat_minor": 5
}
