{
 "cells": [
  {
   "cell_type": "markdown",
   "id": "imported-despite",
   "metadata": {},
   "source": [
    "# Pilot Data"
   ]
  },
  {
   "cell_type": "code",
   "execution_count": 1,
   "id": "cooperative-render",
   "metadata": {},
   "outputs": [],
   "source": [
    "import pandas as pd\n",
    "import numpy as np\n",
    "from embo import InformationBottleneck\n",
    "import HMM_beads_utils as ut\n",
    "import matplotlib.pyplot as plt\n",
    "from scipy.stats import spearmanr\n",
    "import seaborn as sns\n",
    "import os,ndd,pickle\n",
    "from adjustText import adjust_text\n",
    "cmap = plt.get_cmap(\"tab10\")\n",
    "\n",
    "from IPython.core.interactiveshell import InteractiveShell\n",
    "InteractiveShell.ast_node_interactivity = \"all\""
   ]
  },
  {
   "cell_type": "code",
   "execution_count": 2,
   "id": "valued-commercial",
   "metadata": {},
   "outputs": [
    {
     "name": "stdout",
     "output_type": "stream",
     "text": [
      "UrnTaskV_PARTICIPANT_SESSION_2021-06-28_19h11.05.627.csv\n",
      "                  trial_type  trial_index  time_elapsed internal_node_id  \\\n",
      "0                   pavlovia            0            17          0.0-0.0   \n",
      "1                    preload            1            18          0.0-1.0   \n",
      "2              external-html            2         21862      0.0-2.0-0.0   \n",
      "3        survey-multi-choice            3         25827      0.0-2.0-1.0   \n",
      "4                survey-text            4         28516      0.0-2.0-2.0   \n",
      "...                      ...          ...           ...              ...   \n",
      "3059   image-button-response         3059       1497775   0.0-18.0-2.498   \n",
      "3060   image-button-response         3060       1498121   0.0-18.0-0.499   \n",
      "3061   image-button-response         3061       1498423   0.0-18.0-1.499   \n",
      "3062   image-button-response         3062       1498927   0.0-18.0-2.499   \n",
      "3063  html-keyboard-response         3063       1527653         0.0-19.0   \n",
      "\n",
      "      Script_Picker     Block_Type success timeout failed_images failed_audio  \\\n",
      "0                27  Low_HMMActual     NaN     NaN           NaN          NaN   \n",
      "1                27  Low_HMMActual    True   False            []           []   \n",
      "2                27  Low_HMMActual     NaN     NaN           NaN          NaN   \n",
      "3                27  Low_HMMActual     NaN     NaN           NaN          NaN   \n",
      "4                27  Low_HMMActual     NaN     NaN           NaN          NaN   \n",
      "...             ...            ...     ...     ...           ...          ...   \n",
      "3059             30  Low_HMMActual     NaN     NaN           NaN          NaN   \n",
      "3060             30  Low_HMMActual     NaN     NaN           NaN          NaN   \n",
      "3061             30  Low_HMMActual     NaN     NaN           NaN          NaN   \n",
      "3062             30  Low_HMMActual     NaN     NaN           NaN          NaN   \n",
      "3063             30  Low_HMMActual     NaN     NaN           NaN          NaN   \n",
      "\n",
      "     failed_video       rt           url                   responses  \\\n",
      "0             NaN      NaN           NaN                         NaN   \n",
      "1              []      NaN           NaN                         NaN   \n",
      "2             NaN  21774.1  consent.html                         NaN   \n",
      "3             NaN   3962.5           NaN  {\"Q0\":\"Male\",\"Q1\":\"White\"}   \n",
      "4             NaN   2683.4           NaN                 {\"Q0\":\"20\"}   \n",
      "...           ...      ...           ...                         ...   \n",
      "3059          NaN      NaN           NaN                         NaN   \n",
      "3060          NaN    344.5           NaN                         NaN   \n",
      "3061          NaN      NaN           NaN                         NaN   \n",
      "3062          NaN      NaN           NaN                         NaN   \n",
      "3063          NaN  28723.6           NaN                         NaN   \n",
      "\n",
      "     question_order                         stimulus key_press  response  \n",
      "0               NaN                              NaN       NaN       NaN  \n",
      "1               NaN                              NaN       NaN       NaN  \n",
      "2               NaN                              NaN       NaN       NaN  \n",
      "3             [0,1]                              NaN       NaN       NaN  \n",
      "4               NaN                              NaN       NaN       NaN  \n",
      "...             ...                              ...       ...       ...  \n",
      "3059            NaN  Images/BlackBeadChoiceWrong.png       NaN       NaN  \n",
      "3060            NaN            Images/NewTrialWC.png       NaN       0.0  \n",
      "3061            NaN       Images/BlackBeadChoice.png       NaN       NaN  \n",
      "3062            NaN  Images/BlackBeadChoiceWrong.png       NaN       NaN  \n",
      "3063            NaN                              NaN                 NaN  \n",
      "\n",
      "[3064 rows x 18 columns]\n"
     ]
    }
   ],
   "source": [
    "data_location = \"./PilotData4/\"\n",
    "stimuli_location = \"./Stimuli4/\"\n",
    "\n",
    "file = os.listdir(data_location)[0]\n",
    "print(file) \n",
    "\n",
    "df = pd.read_csv(data_location + file)\n",
    "print(df)"
   ]
  },
  {
   "cell_type": "code",
   "execution_count": 3,
   "id": "decent-playlist",
   "metadata": {},
   "outputs": [
    {
     "data": {
      "text/plain": [
       "['UrnTaskV_PARTICIPANT_SESSION_2021-06-28_19h11.05.627.csv',\n",
       " 'UrnTaskV_PARTICIPANT_SESSION_2021-06-28_12h59.36.18.csv',\n",
       " 'UrnTaskV_PARTICIPANT_SESSION_2021-06-28_20h24.29.127.csv',\n",
       " 'UrnTaskV_PARTICIPANT_SESSION_2021-06-29_20h23.04.92.csv',\n",
       " 'UrnTaskV_PARTICIPANT_SESSION_2021-06-29_18h47.56.645.csv',\n",
       " 'UrnTaskV_PARTICIPANT_SESSION_2021-06-28_20h54.32.109.csv',\n",
       " 'UrnTaskV_PARTICIPANT_SESSION_2021-06-29_15h39.18.779.csv',\n",
       " 'UrnTaskV_PARTICIPANT_SESSION_2021-06-29_17h21.32.648.csv']"
      ]
     },
     "execution_count": 3,
     "metadata": {},
     "output_type": "execute_result"
    }
   ],
   "source": [
    "os.listdir(data_location)\n",
    "\n",
    "fl = os.listdir(data_location)[5]"
   ]
  },
  {
   "cell_type": "code",
   "execution_count": 4,
   "id": "derived-syria",
   "metadata": {},
   "outputs": [],
   "source": [
    "df = pd.read_csv(data_location + fl)"
   ]
  },
  {
   "cell_type": "code",
   "execution_count": 5,
   "id": "afraid-mercury",
   "metadata": {},
   "outputs": [
    {
     "data": {
      "text/plain": [
       "array([21])"
      ]
     },
     "execution_count": 5,
     "metadata": {},
     "output_type": "execute_result"
    },
    {
     "data": {
      "text/plain": [
       "(21, 17)"
      ]
     },
     "execution_count": 5,
     "metadata": {},
     "output_type": "execute_result"
    }
   ],
   "source": [
    "df['Script_Picker'].unique()\n",
    "df.shape"
   ]
  },
  {
   "cell_type": "code",
   "execution_count": 6,
   "id": "skilled-premium",
   "metadata": {},
   "outputs": [],
   "source": [
    "def get_previous_n_beads(w, x):\n",
    "    '''\n",
    "    Function that gets history of viewed beads\n",
    "    Input:\n",
    "        - w: number of past beads in history\n",
    "        - x: full sequence of beads\n",
    "    Output:\n",
    "        - history: array of strings of previous w beads\n",
    "    '''\n",
    "    numtrials = x.shape[0]\n",
    "    aux_base = 2**np.arange(w)\n",
    "    x_padded = np.empty(numtrials+w)\n",
    "    x_padded[:w] = 0\n",
    "    x_padded[w:] = x\n",
    "    history_bin = np.array([sum(aux_base * np.array(x_padded[i:(i + w)][::-1])) for i in np.arange(numtrials)])\n",
    "    return [np.binary_repr(int(z),w+1) for z in history_bin]"
   ]
  },
  {
   "cell_type": "code",
   "execution_count": 7,
   "id": "creative-cholesterol",
   "metadata": {},
   "outputs": [],
   "source": [
    "def get_windowed_x(x,z,w=1):\n",
    "    zw = z[w:].copy()\n",
    "    aux_base = 2**np.arange(w)\n",
    "    xw_binned = np.array([sum(aux_base*np.array(x[i:(i+w)])) for i in np.arange(len(zw))])\n",
    "    return(xw_binned,zw)"
   ]
  },
  {
   "cell_type": "code",
   "execution_count": 8,
   "id": "prescribed-slovenia",
   "metadata": {},
   "outputs": [],
   "source": [
    "def get_windowed_x_v(xhist,z,w=1):\n",
    "    zw = z[w:].copy()\n",
    "    xw = np.array([int(h[1:][::-1],2) for h in xhist][w:])\n",
    "    return(xw,zw)"
   ]
  },
  {
   "cell_type": "code",
   "execution_count": 9,
   "id": "stuffed-inspector",
   "metadata": {},
   "outputs": [],
   "source": [
    "def find_between(s, first, last):\n",
    "    try:\n",
    "        start = s.index(first) + len(first)\n",
    "        end = s.index(last, start)\n",
    "        return s[start:end]\n",
    "    except ValueError:\n",
    "        return \"\""
   ]
  },
  {
   "cell_type": "code",
   "execution_count": 10,
   "id": "micro-armor",
   "metadata": {},
   "outputs": [],
   "source": [
    "def preprocess_sub_data(data_location, stimuli_location, training_length = 10):\n",
    "    full_data = pd.DataFrame()\n",
    "    subject_list = []\n",
    "    for file in os.listdir(data_location):\n",
    "        if file[0] == \".\": continue\n",
    "        df = pd.read_csv(data_location + file)\n",
    "        if df.shape != (3064, 18): continue\n",
    "        sub_data = preprocess_sub_data_helper(data_location + file, stimuli_location, training_length)\n",
    "        if sub_data['Subject'][0] not in subject_list:\n",
    "            subject_list.append(sub_data['Subject'][0])\n",
    "            full_data = full_data.append(sub_data[10:],ignore_index=True)\n",
    "        #print(subject_list)\n",
    "    return full_data\n",
    "        \n",
    "def preprocess_sub_data_helper(file_location, stimuli_location, training_length = 10, trial_length = 500, numprevious = 10):\n",
    "    ## Read in subject data\n",
    "    df = pd.read_csv(file_location)\n",
    "    \n",
    "    ## Read in subject stimulus data\n",
    "    seqID = df['Script_Picker'].unique()\n",
    "    print(seqID)\n",
    "    pseq_lowtrial = pd.read_csv(stimuli_location + 'low_hazard_HMM'+str(seqID[1])+'.csv')\n",
    "    pseq_low1 = pd.read_csv(stimuli_location + 'low_hazard_HMM'+str(seqID[2])+'.csv')\n",
    "    pseq_low2 = pd.read_csv(stimuli_location + 'low_hazard_HMM'+str(seqID[3])+'.csv')\n",
    "    \n",
    "    ## Subject identifier\n",
    "    sub = find_between(df['responses'][5],\":\\\"\",\"\\\"}\")\n",
    "    \n",
    "    ## Get bead and confidence responses\n",
    "    temp = df.dropna(subset=['stimulus'])\n",
    "    resp_combined = temp.loc[temp['stimulus'].str.contains(\"NewTrial|NoChoice\")].reset_index()\n",
    "    bead_resp = [0 if blah > 1 else 1 for blah in resp_combined['response']]\n",
    "    confid_resp = [1 if blah % 2 == 0 else 0 for blah in resp_combined['response']]\n",
    "    \n",
    "    ## Get true sequence of beads and jars\n",
    "    pseq = pd.concat([pseq_lowtrial[:training_length],pseq_low1[:trial_length], pseq_low2[:trial_length]])\n",
    "    pseq = pseq.reset_index()\n",
    "    \n",
    "    ## Gather outputs\n",
    "    D = pd.DataFrame({\n",
    "        'Subject': sub[:4],\n",
    "        'Trial': [i for i in np.arange(len(pseq))],\n",
    "        'Jar': [int(2-i) for i in pseq['Urn']],\n",
    "        'Bead': [int(2-i) for i in pseq['Bead']],\n",
    "        'Response': bead_resp,\n",
    "        'Confidence': confid_resp#,\n",
    "        #'Combined_response': resp_combined['response']\n",
    "    })\n",
    "    D['Correct'] = [1 if D['Response'][i] == D['Bead'][i] else 0 for i in np.arange(len(D))]\n",
    "    D['History'] = get_previous_n_beads(numprevious, D['Bead'])\n",
    "\n",
    "    ## Check stuff\n",
    "    check_set = ['Images/BlackBeadChoiceWrong.png',\n",
    "                'Images/WhiteBeadChoiceWrong.png',\n",
    "                'Images/BlackBeadChoiceCorrect.png',\n",
    "                'Images/WhiteBeadChoiceCorrect.png']\n",
    "    check_set_string = \"|\".join(check_set)\n",
    "\n",
    "    check_table = pd.DataFrame()\n",
    "    check_table['stim'] = temp['stimulus'].loc[temp['stimulus'].str.contains(check_set_string)]\n",
    "    check_table['check_resp'] = [0 if \"White\" in i else 1 for i in check_table['stim']]\n",
    "    check_table['check_correct'] = [0 if \"Wrong\" in i else 1 for i in check_table['stim']]\n",
    "    check_table = check_table.reset_index()\n",
    "    \n",
    "    check1 = list(D['Correct']) != list(check_table['check_correct'])\n",
    "    check2 = list(D['Response']) != list(check_table['check_resp'])\n",
    "    \n",
    "    if check1 | check2:\n",
    "        print(\"PROBLEM\")\n",
    "    return D"
   ]
  },
  {
   "cell_type": "code",
   "execution_count": 11,
   "id": "dirty-cambodia",
   "metadata": {},
   "outputs": [],
   "source": [
    "def gen_sim_pred(sname,beads,jars,trials, p = 0.8,h = 0.01):\n",
    "    '''\n",
    "    Function to generate responses from the ideal observer with different internal estimates of p and h\n",
    "    INPUT:\n",
    "        - sname: subject identifier in data frame\n",
    "        - beads: 1D array of observed bead sequence\n",
    "        - jars: 1D array of jar sequence that generated beads\n",
    "        - p: internal model estimate of the probability that the bead will match the generating jar\n",
    "        - h_array: internal estimate of the hazard rate\n",
    "    OUTPUT:\n",
    "        -df: data frame with the following columns\n",
    "            - Subject: subject ID + simulation type (from no noise to lots of noise)\n",
    "            - Trial: trial number from start of experiment\n",
    "            - Jar: jar generating the bead\n",
    "            - Bead: bead observed on each trial\n",
    "            - Prior: prior probability that the the jar generating the next bead = 1 (before observing the bead)\n",
    "            - Posterior: posterior probability that the jar generating the last bead = 1 (after observing the bead)\n",
    "            - Prediction: simulated prediction\n",
    "    '''\n",
    "    \n",
    "    # Initialize\n",
    "    p_jars = np.array([.5,.5])              # Initial prior\n",
    "    likes = np.array([[p,(1-p)],[(1-p),p]]) # Likelihood\n",
    "    prior = np.zeros(len(beads))            # Initialize trial-by-trial priors\n",
    "    pred_hardmax = np.zeros(len(beads))     # Initialize hardmax predictions\n",
    "    posterior = np.zeros(len(beads))        # Initialize trial-by-trial posteriors\n",
    "    \n",
    "    # Loop through all trials and get simulated responses\n",
    "    for i in np.arange(len(beads)):\n",
    "        # Apply hazard rate\n",
    "        #h = h_array[i]\n",
    "        z1,z2 = tuple(p_jars.copy())\n",
    "        p_jars = [(1-h)*z1 + h*z2, (1-h)*z2 + h*z1]\n",
    "\n",
    "        #Save Prior\n",
    "        prior[i] = p_jars[1]\n",
    "        \n",
    "        # Incorporate likelihood\n",
    "        p_jars = p_jars*likes[int(beads[i])]\n",
    "        p_jars = p_jars/sum(p_jars)\n",
    "        \n",
    "        # Save posterios\n",
    "        posterior[i] = p_jars[1]\n",
    "        \n",
    "    # Get harmax predictions\n",
    "    pred_hardmax[prior!=.5] = np.array(prior[prior!=.5] > .5).astype(int)\n",
    "    pred_hardmax[prior==.5] = np.random.choice([0,1],size=len(prior[prior==.5]),replace=True)\n",
    "    \n",
    "    # Save data frame\n",
    "    df = pd.DataFrame({\n",
    "        'Subject':np.array([str(sname)+'_Ideal']*len(beads)),\n",
    "        'Trial':trials,\n",
    "        'Jar':jars,\n",
    "        'Bead':beads,\n",
    "        'Prior':prior,\n",
    "        'Posterior':posterior,\n",
    "        'Prediction':pred_hardmax\n",
    "    })\n",
    "    return(df)"
   ]
  },
  {
   "cell_type": "code",
   "execution_count": 12,
   "id": "european-stomach",
   "metadata": {},
   "outputs": [
    {
     "name": "stdout",
     "output_type": "stream",
     "text": [
      "[27 28 29 30]\n",
      "[21 22 23 24]\n",
      "[64 65 66 67]\n",
      "[87 88 89 90]\n",
      "[44 45 46 47]\n",
      "[71 72 73 74]\n"
     ]
    }
   ],
   "source": [
    "D1 = preprocess_sub_data(data_location, stimuli_location)"
   ]
  },
  {
   "cell_type": "code",
   "execution_count": 13,
   "id": "developing-simulation",
   "metadata": {},
   "outputs": [
    {
     "data": {
      "text/html": [
       "<div>\n",
       "<style scoped>\n",
       "    .dataframe tbody tr th:only-of-type {\n",
       "        vertical-align: middle;\n",
       "    }\n",
       "\n",
       "    .dataframe tbody tr th {\n",
       "        vertical-align: top;\n",
       "    }\n",
       "\n",
       "    .dataframe thead th {\n",
       "        text-align: right;\n",
       "    }\n",
       "</style>\n",
       "<table border=\"1\" class=\"dataframe\">\n",
       "  <thead>\n",
       "    <tr style=\"text-align: right;\">\n",
       "      <th></th>\n",
       "      <th>Subject</th>\n",
       "      <th>Trial</th>\n",
       "      <th>Jar</th>\n",
       "      <th>Bead</th>\n",
       "      <th>Response</th>\n",
       "      <th>Confidence</th>\n",
       "      <th>Correct</th>\n",
       "      <th>History</th>\n",
       "    </tr>\n",
       "  </thead>\n",
       "  <tbody>\n",
       "    <tr>\n",
       "      <th>0</th>\n",
       "      <td>5ebd</td>\n",
       "      <td>10</td>\n",
       "      <td>0</td>\n",
       "      <td>1</td>\n",
       "      <td>0</td>\n",
       "      <td>0</td>\n",
       "      <td>0</td>\n",
       "      <td>00011101101</td>\n",
       "    </tr>\n",
       "    <tr>\n",
       "      <th>1</th>\n",
       "      <td>5ebd</td>\n",
       "      <td>11</td>\n",
       "      <td>0</td>\n",
       "      <td>0</td>\n",
       "      <td>1</td>\n",
       "      <td>1</td>\n",
       "      <td>0</td>\n",
       "      <td>00111011011</td>\n",
       "    </tr>\n",
       "    <tr>\n",
       "      <th>2</th>\n",
       "      <td>5ebd</td>\n",
       "      <td>12</td>\n",
       "      <td>0</td>\n",
       "      <td>0</td>\n",
       "      <td>0</td>\n",
       "      <td>1</td>\n",
       "      <td>1</td>\n",
       "      <td>01110110110</td>\n",
       "    </tr>\n",
       "    <tr>\n",
       "      <th>3</th>\n",
       "      <td>5ebd</td>\n",
       "      <td>13</td>\n",
       "      <td>1</td>\n",
       "      <td>0</td>\n",
       "      <td>0</td>\n",
       "      <td>1</td>\n",
       "      <td>1</td>\n",
       "      <td>01101101100</td>\n",
       "    </tr>\n",
       "    <tr>\n",
       "      <th>4</th>\n",
       "      <td>5ebd</td>\n",
       "      <td>14</td>\n",
       "      <td>0</td>\n",
       "      <td>1</td>\n",
       "      <td>0</td>\n",
       "      <td>1</td>\n",
       "      <td>0</td>\n",
       "      <td>01011011000</td>\n",
       "    </tr>\n",
       "    <tr>\n",
       "      <th>...</th>\n",
       "      <td>...</td>\n",
       "      <td>...</td>\n",
       "      <td>...</td>\n",
       "      <td>...</td>\n",
       "      <td>...</td>\n",
       "      <td>...</td>\n",
       "      <td>...</td>\n",
       "      <td>...</td>\n",
       "    </tr>\n",
       "    <tr>\n",
       "      <th>5995</th>\n",
       "      <td>60c8</td>\n",
       "      <td>1005</td>\n",
       "      <td>0</td>\n",
       "      <td>0</td>\n",
       "      <td>1</td>\n",
       "      <td>1</td>\n",
       "      <td>0</td>\n",
       "      <td>01110111011</td>\n",
       "    </tr>\n",
       "    <tr>\n",
       "      <th>5996</th>\n",
       "      <td>60c8</td>\n",
       "      <td>1006</td>\n",
       "      <td>0</td>\n",
       "      <td>0</td>\n",
       "      <td>1</td>\n",
       "      <td>0</td>\n",
       "      <td>0</td>\n",
       "      <td>01101110110</td>\n",
       "    </tr>\n",
       "    <tr>\n",
       "      <th>5997</th>\n",
       "      <td>60c8</td>\n",
       "      <td>1007</td>\n",
       "      <td>0</td>\n",
       "      <td>0</td>\n",
       "      <td>0</td>\n",
       "      <td>0</td>\n",
       "      <td>1</td>\n",
       "      <td>01011101100</td>\n",
       "    </tr>\n",
       "    <tr>\n",
       "      <th>5998</th>\n",
       "      <td>60c8</td>\n",
       "      <td>1008</td>\n",
       "      <td>0</td>\n",
       "      <td>0</td>\n",
       "      <td>0</td>\n",
       "      <td>0</td>\n",
       "      <td>1</td>\n",
       "      <td>00111011000</td>\n",
       "    </tr>\n",
       "    <tr>\n",
       "      <th>5999</th>\n",
       "      <td>60c8</td>\n",
       "      <td>1009</td>\n",
       "      <td>0</td>\n",
       "      <td>0</td>\n",
       "      <td>0</td>\n",
       "      <td>1</td>\n",
       "      <td>1</td>\n",
       "      <td>01110110000</td>\n",
       "    </tr>\n",
       "  </tbody>\n",
       "</table>\n",
       "<p>6000 rows × 8 columns</p>\n",
       "</div>"
      ],
      "text/plain": [
       "     Subject  Trial  Jar  Bead  Response  Confidence  Correct      History\n",
       "0       5ebd     10    0     1         0           0        0  00011101101\n",
       "1       5ebd     11    0     0         1           1        0  00111011011\n",
       "2       5ebd     12    0     0         0           1        1  01110110110\n",
       "3       5ebd     13    1     0         0           1        1  01101101100\n",
       "4       5ebd     14    0     1         0           1        0  01011011000\n",
       "...      ...    ...  ...   ...       ...         ...      ...          ...\n",
       "5995    60c8   1005    0     0         1           1        0  01110111011\n",
       "5996    60c8   1006    0     0         1           0        0  01101110110\n",
       "5997    60c8   1007    0     0         0           0        1  01011101100\n",
       "5998    60c8   1008    0     0         0           0        1  00111011000\n",
       "5999    60c8   1009    0     0         0           1        1  01110110000\n",
       "\n",
       "[6000 rows x 8 columns]"
      ]
     },
     "execution_count": 13,
     "metadata": {},
     "output_type": "execute_result"
    }
   ],
   "source": [
    "D1\n",
    "numprevious = 10\n",
    "#D[D['Subject'] == D['Subject'].unique()[2]]['Response'].mean()"
   ]
  },
  {
   "cell_type": "code",
   "execution_count": 18,
   "id": "lyric-faculty",
   "metadata": {},
   "outputs": [],
   "source": [
    "D = pd.read_csv('adat_sim.csv')\n",
    "D.rename(columns=({'Resp': 'Response'}), inplace = True)\n",
    "\n",
    "halfwidth_ideal = abs(0.5 - D[D['Subject'] == 'Ideal_Hard']['Prior']).mean()\n",
    "halfwidth_three = abs(0.5 - D[D['Subject'] == 'threeback_A']['Prior']).mean()\n",
    "for sub in D['Subject'].unique():\n",
    "    D.loc[D['Subject'] == sub,'History'] = get_previous_n_beads(10, D.loc[D['Subject'] == sub,'Bead'])\n",
    "    l = len(D.loc[D['Subject'] == sub])\n",
    "    D.loc[D['Subject'] == sub,'Confidence_Ideal'] = [int(b) for b in abs(0.5 - D.loc[D['Subject'] == 'Ideal_Hard','Prior']) > halfwidth_ideal][-l:]\n",
    "    temp = [0] * 5 + [int(b) for b in abs(0.5 - D.loc[D['Subject'] == 'threeback_A','Prior']) > halfwidth_three]\n",
    "    D.loc[D['Subject'] == sub,'Confidence_Three'] = temp[-l:]\n",
    "    \n",
    "D.rename(columns=({'Resp': 'Response', 'Confidence_Ideal': 'Confidence'}), inplace = True)\n",
    "D = D[D['Trial'] > 9]\n",
    "\n",
    "numprevious = 10"
   ]
  },
  {
   "cell_type": "code",
   "execution_count": 19,
   "id": "premium-balloon",
   "metadata": {},
   "outputs": [
    {
     "data": {
      "text/html": [
       "<div>\n",
       "<style scoped>\n",
       "    .dataframe tbody tr th:only-of-type {\n",
       "        vertical-align: middle;\n",
       "    }\n",
       "\n",
       "    .dataframe tbody tr th {\n",
       "        vertical-align: top;\n",
       "    }\n",
       "\n",
       "    .dataframe thead th {\n",
       "        text-align: right;\n",
       "    }\n",
       "</style>\n",
       "<table border=\"1\" class=\"dataframe\">\n",
       "  <thead>\n",
       "    <tr style=\"text-align: right;\">\n",
       "      <th></th>\n",
       "      <th>Subject</th>\n",
       "      <th>Trial</th>\n",
       "      <th>Jar</th>\n",
       "      <th>Bead</th>\n",
       "      <th>Prior</th>\n",
       "      <th>Posterior</th>\n",
       "      <th>Resp</th>\n",
       "      <th>Confidence</th>\n",
       "      <th>Correct</th>\n",
       "      <th>History</th>\n",
       "      <th>Response</th>\n",
       "    </tr>\n",
       "  </thead>\n",
       "  <tbody>\n",
       "    <tr>\n",
       "      <th>0</th>\n",
       "      <td>Ideal2_Hard</td>\n",
       "      <td>1</td>\n",
       "      <td>1</td>\n",
       "      <td>1</td>\n",
       "      <td>0.500000</td>\n",
       "      <td>0.800000</td>\n",
       "      <td>1.0</td>\n",
       "      <td>0</td>\n",
       "      <td>1</td>\n",
       "      <td>00000000000</td>\n",
       "      <td>1</td>\n",
       "    </tr>\n",
       "    <tr>\n",
       "      <th>1</th>\n",
       "      <td>Ideal2_Hard</td>\n",
       "      <td>2</td>\n",
       "      <td>1</td>\n",
       "      <td>1</td>\n",
       "      <td>0.794000</td>\n",
       "      <td>0.939089</td>\n",
       "      <td>1.0</td>\n",
       "      <td>0</td>\n",
       "      <td>1</td>\n",
       "      <td>00000000001</td>\n",
       "      <td>1</td>\n",
       "    </tr>\n",
       "    <tr>\n",
       "      <th>2</th>\n",
       "      <td>Ideal2_Hard</td>\n",
       "      <td>3</td>\n",
       "      <td>1</td>\n",
       "      <td>1</td>\n",
       "      <td>0.930308</td>\n",
       "      <td>0.981616</td>\n",
       "      <td>1.0</td>\n",
       "      <td>0</td>\n",
       "      <td>1</td>\n",
       "      <td>00000000011</td>\n",
       "      <td>1</td>\n",
       "    </tr>\n",
       "    <tr>\n",
       "      <th>3</th>\n",
       "      <td>Ideal2_Hard</td>\n",
       "      <td>4</td>\n",
       "      <td>1</td>\n",
       "      <td>1</td>\n",
       "      <td>0.971984</td>\n",
       "      <td>0.992846</td>\n",
       "      <td>1.0</td>\n",
       "      <td>0</td>\n",
       "      <td>1</td>\n",
       "      <td>00000000111</td>\n",
       "      <td>1</td>\n",
       "    </tr>\n",
       "    <tr>\n",
       "      <th>4</th>\n",
       "      <td>Ideal2_Hard</td>\n",
       "      <td>5</td>\n",
       "      <td>1</td>\n",
       "      <td>1</td>\n",
       "      <td>0.982989</td>\n",
       "      <td>0.995692</td>\n",
       "      <td>1.0</td>\n",
       "      <td>1</td>\n",
       "      <td>1</td>\n",
       "      <td>00000001111</td>\n",
       "      <td>1</td>\n",
       "    </tr>\n",
       "    <tr>\n",
       "      <th>...</th>\n",
       "      <td>...</td>\n",
       "      <td>...</td>\n",
       "      <td>...</td>\n",
       "      <td>...</td>\n",
       "      <td>...</td>\n",
       "      <td>...</td>\n",
       "      <td>...</td>\n",
       "      <td>...</td>\n",
       "      <td>...</td>\n",
       "      <td>...</td>\n",
       "      <td>...</td>\n",
       "    </tr>\n",
       "    <tr>\n",
       "      <th>995</th>\n",
       "      <td>Ideal2_Hard</td>\n",
       "      <td>996</td>\n",
       "      <td>1</td>\n",
       "      <td>1</td>\n",
       "      <td>0.986711</td>\n",
       "      <td>0.996644</td>\n",
       "      <td>1.0</td>\n",
       "      <td>1</td>\n",
       "      <td>1</td>\n",
       "      <td>01111111111</td>\n",
       "      <td>1</td>\n",
       "    </tr>\n",
       "    <tr>\n",
       "      <th>996</th>\n",
       "      <td>Ideal2_Hard</td>\n",
       "      <td>997</td>\n",
       "      <td>1</td>\n",
       "      <td>1</td>\n",
       "      <td>0.986712</td>\n",
       "      <td>0.996644</td>\n",
       "      <td>1.0</td>\n",
       "      <td>1</td>\n",
       "      <td>1</td>\n",
       "      <td>01111111111</td>\n",
       "      <td>1</td>\n",
       "    </tr>\n",
       "    <tr>\n",
       "      <th>997</th>\n",
       "      <td>Ideal2_Hard</td>\n",
       "      <td>998</td>\n",
       "      <td>1</td>\n",
       "      <td>1</td>\n",
       "      <td>0.986712</td>\n",
       "      <td>0.996644</td>\n",
       "      <td>1.0</td>\n",
       "      <td>1</td>\n",
       "      <td>1</td>\n",
       "      <td>01111111111</td>\n",
       "      <td>1</td>\n",
       "    </tr>\n",
       "    <tr>\n",
       "      <th>998</th>\n",
       "      <td>Ideal2_Hard</td>\n",
       "      <td>999</td>\n",
       "      <td>1</td>\n",
       "      <td>1</td>\n",
       "      <td>0.986712</td>\n",
       "      <td>0.996644</td>\n",
       "      <td>1.0</td>\n",
       "      <td>1</td>\n",
       "      <td>1</td>\n",
       "      <td>01111111111</td>\n",
       "      <td>1</td>\n",
       "    </tr>\n",
       "    <tr>\n",
       "      <th>999</th>\n",
       "      <td>Ideal2_Hard</td>\n",
       "      <td>1000</td>\n",
       "      <td>1</td>\n",
       "      <td>1</td>\n",
       "      <td>0.986712</td>\n",
       "      <td>0.996644</td>\n",
       "      <td>1.0</td>\n",
       "      <td>1</td>\n",
       "      <td>1</td>\n",
       "      <td>01111111111</td>\n",
       "      <td>1</td>\n",
       "    </tr>\n",
       "  </tbody>\n",
       "</table>\n",
       "<p>1000 rows × 11 columns</p>\n",
       "</div>"
      ],
      "text/plain": [
       "         Subject  Trial  Jar  Bead     Prior  Posterior  Resp  Confidence  \\\n",
       "0    Ideal2_Hard      1    1     1  0.500000   0.800000   1.0           0   \n",
       "1    Ideal2_Hard      2    1     1  0.794000   0.939089   1.0           0   \n",
       "2    Ideal2_Hard      3    1     1  0.930308   0.981616   1.0           0   \n",
       "3    Ideal2_Hard      4    1     1  0.971984   0.992846   1.0           0   \n",
       "4    Ideal2_Hard      5    1     1  0.982989   0.995692   1.0           1   \n",
       "..           ...    ...  ...   ...       ...        ...   ...         ...   \n",
       "995  Ideal2_Hard    996    1     1  0.986711   0.996644   1.0           1   \n",
       "996  Ideal2_Hard    997    1     1  0.986712   0.996644   1.0           1   \n",
       "997  Ideal2_Hard    998    1     1  0.986712   0.996644   1.0           1   \n",
       "998  Ideal2_Hard    999    1     1  0.986712   0.996644   1.0           1   \n",
       "999  Ideal2_Hard   1000    1     1  0.986712   0.996644   1.0           1   \n",
       "\n",
       "     Correct      History  Response  \n",
       "0          1  00000000000         1  \n",
       "1          1  00000000001         1  \n",
       "2          1  00000000011         1  \n",
       "3          1  00000000111         1  \n",
       "4          1  00000001111         1  \n",
       "..       ...          ...       ...  \n",
       "995        1  01111111111         1  \n",
       "996        1  01111111111         1  \n",
       "997        1  01111111111         1  \n",
       "998        1  01111111111         1  \n",
       "999        1  01111111111         1  \n",
       "\n",
       "[1000 rows x 11 columns]"
      ]
     },
     "execution_count": 19,
     "metadata": {},
     "output_type": "execute_result"
    }
   ],
   "source": [
    "D_ideal2 = pd.read_csv('Ideal2.csv')\n",
    "\n",
    "D2 = D_ideal2.drop(columns='Unnamed: 0')\n",
    "halfwidth_ideal2 = abs(0.5 - D2[D2['Subject'] == 'Ideal2_Hard']['Prior']).median()\n",
    "D2['Confidence'] = [int(b) for b in abs(0.5 - D2['Prior']) > halfwidth_ideal2]\n",
    "D2['History'] = get_previous_n_beads(10, D2['Bead'])\n",
    "D2"
   ]
  },
  {
   "cell_type": "code",
   "execution_count": 980,
   "id": "difficult-fifteen",
   "metadata": {},
   "outputs": [],
   "source": [
    "D = pd.concat([D1,D2], join=\"inner\")"
   ]
  },
  {
   "cell_type": "code",
   "execution_count": 14,
   "id": "handmade-battle",
   "metadata": {},
   "outputs": [
    {
     "data": {
      "text/html": [
       "<div>\n",
       "<style scoped>\n",
       "    .dataframe tbody tr th:only-of-type {\n",
       "        vertical-align: middle;\n",
       "    }\n",
       "\n",
       "    .dataframe tbody tr th {\n",
       "        vertical-align: top;\n",
       "    }\n",
       "\n",
       "    .dataframe thead th {\n",
       "        text-align: right;\n",
       "    }\n",
       "</style>\n",
       "<table border=\"1\" class=\"dataframe\">\n",
       "  <thead>\n",
       "    <tr style=\"text-align: right;\">\n",
       "      <th></th>\n",
       "      <th>Subject</th>\n",
       "      <th>Trial</th>\n",
       "      <th>Jar</th>\n",
       "      <th>Bead</th>\n",
       "      <th>Response</th>\n",
       "      <th>Confidence</th>\n",
       "      <th>Correct</th>\n",
       "      <th>History</th>\n",
       "    </tr>\n",
       "  </thead>\n",
       "  <tbody>\n",
       "    <tr>\n",
       "      <th>0</th>\n",
       "      <td>5ebd</td>\n",
       "      <td>10</td>\n",
       "      <td>0</td>\n",
       "      <td>1</td>\n",
       "      <td>0</td>\n",
       "      <td>0</td>\n",
       "      <td>0</td>\n",
       "      <td>00011101101</td>\n",
       "    </tr>\n",
       "    <tr>\n",
       "      <th>1</th>\n",
       "      <td>5ebd</td>\n",
       "      <td>11</td>\n",
       "      <td>0</td>\n",
       "      <td>0</td>\n",
       "      <td>1</td>\n",
       "      <td>1</td>\n",
       "      <td>0</td>\n",
       "      <td>00111011011</td>\n",
       "    </tr>\n",
       "    <tr>\n",
       "      <th>2</th>\n",
       "      <td>5ebd</td>\n",
       "      <td>12</td>\n",
       "      <td>0</td>\n",
       "      <td>0</td>\n",
       "      <td>0</td>\n",
       "      <td>1</td>\n",
       "      <td>1</td>\n",
       "      <td>01110110110</td>\n",
       "    </tr>\n",
       "    <tr>\n",
       "      <th>3</th>\n",
       "      <td>5ebd</td>\n",
       "      <td>13</td>\n",
       "      <td>1</td>\n",
       "      <td>0</td>\n",
       "      <td>0</td>\n",
       "      <td>1</td>\n",
       "      <td>1</td>\n",
       "      <td>01101101100</td>\n",
       "    </tr>\n",
       "    <tr>\n",
       "      <th>4</th>\n",
       "      <td>5ebd</td>\n",
       "      <td>14</td>\n",
       "      <td>0</td>\n",
       "      <td>1</td>\n",
       "      <td>0</td>\n",
       "      <td>1</td>\n",
       "      <td>0</td>\n",
       "      <td>01011011000</td>\n",
       "    </tr>\n",
       "    <tr>\n",
       "      <th>...</th>\n",
       "      <td>...</td>\n",
       "      <td>...</td>\n",
       "      <td>...</td>\n",
       "      <td>...</td>\n",
       "      <td>...</td>\n",
       "      <td>...</td>\n",
       "      <td>...</td>\n",
       "      <td>...</td>\n",
       "    </tr>\n",
       "    <tr>\n",
       "      <th>5995</th>\n",
       "      <td>60c8</td>\n",
       "      <td>1005</td>\n",
       "      <td>0</td>\n",
       "      <td>0</td>\n",
       "      <td>1</td>\n",
       "      <td>1</td>\n",
       "      <td>0</td>\n",
       "      <td>01110111011</td>\n",
       "    </tr>\n",
       "    <tr>\n",
       "      <th>5996</th>\n",
       "      <td>60c8</td>\n",
       "      <td>1006</td>\n",
       "      <td>0</td>\n",
       "      <td>0</td>\n",
       "      <td>1</td>\n",
       "      <td>0</td>\n",
       "      <td>0</td>\n",
       "      <td>01101110110</td>\n",
       "    </tr>\n",
       "    <tr>\n",
       "      <th>5997</th>\n",
       "      <td>60c8</td>\n",
       "      <td>1007</td>\n",
       "      <td>0</td>\n",
       "      <td>0</td>\n",
       "      <td>0</td>\n",
       "      <td>0</td>\n",
       "      <td>1</td>\n",
       "      <td>01011101100</td>\n",
       "    </tr>\n",
       "    <tr>\n",
       "      <th>5998</th>\n",
       "      <td>60c8</td>\n",
       "      <td>1008</td>\n",
       "      <td>0</td>\n",
       "      <td>0</td>\n",
       "      <td>0</td>\n",
       "      <td>0</td>\n",
       "      <td>1</td>\n",
       "      <td>00111011000</td>\n",
       "    </tr>\n",
       "    <tr>\n",
       "      <th>5999</th>\n",
       "      <td>60c8</td>\n",
       "      <td>1009</td>\n",
       "      <td>0</td>\n",
       "      <td>0</td>\n",
       "      <td>0</td>\n",
       "      <td>1</td>\n",
       "      <td>1</td>\n",
       "      <td>01110110000</td>\n",
       "    </tr>\n",
       "  </tbody>\n",
       "</table>\n",
       "<p>6000 rows × 8 columns</p>\n",
       "</div>"
      ],
      "text/plain": [
       "     Subject  Trial  Jar  Bead  Response  Confidence  Correct      History\n",
       "0       5ebd     10    0     1         0           0        0  00011101101\n",
       "1       5ebd     11    0     0         1           1        0  00111011011\n",
       "2       5ebd     12    0     0         0           1        1  01110110110\n",
       "3       5ebd     13    1     0         0           1        1  01101101100\n",
       "4       5ebd     14    0     1         0           1        0  01011011000\n",
       "...      ...    ...  ...   ...       ...         ...      ...          ...\n",
       "5995    60c8   1005    0     0         1           1        0  01110111011\n",
       "5996    60c8   1006    0     0         1           0        0  01101110110\n",
       "5997    60c8   1007    0     0         0           0        1  01011101100\n",
       "5998    60c8   1008    0     0         0           0        1  00111011000\n",
       "5999    60c8   1009    0     0         0           1        1  01110110000\n",
       "\n",
       "[6000 rows x 8 columns]"
      ]
     },
     "execution_count": 14,
     "metadata": {},
     "output_type": "execute_result"
    }
   ],
   "source": [
    "D = D1\n",
    "D"
   ]
  },
  {
   "cell_type": "code",
   "execution_count": 15,
   "id": "prime-sport",
   "metadata": {},
   "outputs": [
    {
     "data": {
      "text/plain": [
       "array(['5ebd', '5e9d', '5da7', '60ce', '5f52', '60c8'], dtype=object)"
      ]
     },
     "execution_count": 15,
     "metadata": {},
     "output_type": "execute_result"
    }
   ],
   "source": [
    "D['Subject'].unique()"
   ]
  },
  {
   "cell_type": "code",
   "execution_count": 22,
   "id": "inappropriate-adams",
   "metadata": {},
   "outputs": [
    {
     "ename": "NameError",
     "evalue": "name 'D_ideal' is not defined",
     "output_type": "error",
     "traceback": [
      "\u001b[0;31m---------------------------------------------------------------------------\u001b[0m",
      "\u001b[0;31mNameError\u001b[0m                                 Traceback (most recent call last)",
      "\u001b[0;32m<ipython-input-22-f296619fb769>\u001b[0m in \u001b[0;36m<module>\u001b[0;34m\u001b[0m\n\u001b[0;32m----> 1\u001b[0;31m \u001b[0mD_ideal\u001b[0m\u001b[0;34m\u001b[0m\u001b[0;34m\u001b[0m\u001b[0m\n\u001b[0m",
      "\u001b[0;31mNameError\u001b[0m: name 'D_ideal' is not defined"
     ]
    }
   ],
   "source": [
    "D_ideal"
   ]
  },
  {
   "cell_type": "code",
   "execution_count": 110,
   "id": "neural-display",
   "metadata": {},
   "outputs": [],
   "source": [
    "for sub in D['Subject'].unique():\n",
    "    if sub.find(\"Ideal\") == -1:\n",
    "        D_sub = D[D['Subject'] == sub].reset_index(drop = True)\n",
    "        #prop_high = D_sub['Confidence'].mean()\n",
    "        num_high = D_sub['Confidence'].sum()\n",
    "        #num_high\n",
    "        D_ideal_full = gen_sim_pred(sub, D_sub['Bead'], D_sub['Jar'], D_sub['Trial'])\n",
    "        #thresh = np.percentile(abs(0.5 - D_ideal_full['Prior']), 100*(1-prop_high)/2)\n",
    "\n",
    "        D_ideal = D_sub.copy()\n",
    "        D_ideal['Subject'] = [sub+'_Ideal']*len(D_sub)\n",
    "        D_ideal_full['Abs_Prior'] = abs(0.5 - D_ideal_full['Prior'])\n",
    "        trials_ideal_high = D_ideal_full.sort_values('Abs_Prior',ascending = False)['Trial'].head(num_high).values\n",
    "        D_ideal['Confidence'] = [int(t in trials_ideal_high) for t in D_ideal['Trial']]\n",
    "        #D_ideal['Confidence'] = [int(b) for b in abs(0.5 - D_ideal_full['Prior']) > thresh]\n",
    "        #D_ideal = D_ideal.merge(D_sub[D_sub.columns.difference(D_ideal.columns)], how = \"outer\", left_index = True, right_index = True)\n",
    "\n",
    "        D_random = D_sub.copy()\n",
    "        D_random['Subject'] = [sub+'_Random']*len(D_sub)\n",
    "        trials_random_high = D_random.sample(n=num_high)['Trial'].values\n",
    "        D_random['Confidence'] = [int(t in trials_random_high) for t in D_ideal['Trial']]\n",
    "\n",
    "        D = D.append(D_ideal)\n",
    "        D = D.append(D_random)\n"
   ]
  },
  {
   "cell_type": "code",
   "execution_count": 111,
   "id": "connected-complex",
   "metadata": {},
   "outputs": [
    {
     "data": {
      "text/html": [
       "<div>\n",
       "<style scoped>\n",
       "    .dataframe tbody tr th:only-of-type {\n",
       "        vertical-align: middle;\n",
       "    }\n",
       "\n",
       "    .dataframe tbody tr th {\n",
       "        vertical-align: top;\n",
       "    }\n",
       "\n",
       "    .dataframe thead th {\n",
       "        text-align: right;\n",
       "    }\n",
       "</style>\n",
       "<table border=\"1\" class=\"dataframe\">\n",
       "  <thead>\n",
       "    <tr style=\"text-align: right;\">\n",
       "      <th></th>\n",
       "      <th>Subject</th>\n",
       "      <th>Trial</th>\n",
       "      <th>Jar</th>\n",
       "      <th>Bead</th>\n",
       "      <th>Response</th>\n",
       "      <th>Confidence</th>\n",
       "      <th>Correct</th>\n",
       "      <th>History</th>\n",
       "    </tr>\n",
       "  </thead>\n",
       "  <tbody>\n",
       "    <tr>\n",
       "      <th>0</th>\n",
       "      <td>5ebd</td>\n",
       "      <td>10</td>\n",
       "      <td>0</td>\n",
       "      <td>1</td>\n",
       "      <td>0</td>\n",
       "      <td>0</td>\n",
       "      <td>0</td>\n",
       "      <td>00011101101</td>\n",
       "    </tr>\n",
       "    <tr>\n",
       "      <th>1</th>\n",
       "      <td>5ebd</td>\n",
       "      <td>11</td>\n",
       "      <td>0</td>\n",
       "      <td>0</td>\n",
       "      <td>1</td>\n",
       "      <td>1</td>\n",
       "      <td>0</td>\n",
       "      <td>00111011011</td>\n",
       "    </tr>\n",
       "    <tr>\n",
       "      <th>2</th>\n",
       "      <td>5ebd</td>\n",
       "      <td>12</td>\n",
       "      <td>0</td>\n",
       "      <td>0</td>\n",
       "      <td>0</td>\n",
       "      <td>1</td>\n",
       "      <td>1</td>\n",
       "      <td>01110110110</td>\n",
       "    </tr>\n",
       "    <tr>\n",
       "      <th>3</th>\n",
       "      <td>5ebd</td>\n",
       "      <td>13</td>\n",
       "      <td>1</td>\n",
       "      <td>0</td>\n",
       "      <td>0</td>\n",
       "      <td>1</td>\n",
       "      <td>1</td>\n",
       "      <td>01101101100</td>\n",
       "    </tr>\n",
       "    <tr>\n",
       "      <th>4</th>\n",
       "      <td>5ebd</td>\n",
       "      <td>14</td>\n",
       "      <td>0</td>\n",
       "      <td>1</td>\n",
       "      <td>0</td>\n",
       "      <td>1</td>\n",
       "      <td>0</td>\n",
       "      <td>01011011000</td>\n",
       "    </tr>\n",
       "    <tr>\n",
       "      <th>...</th>\n",
       "      <td>...</td>\n",
       "      <td>...</td>\n",
       "      <td>...</td>\n",
       "      <td>...</td>\n",
       "      <td>...</td>\n",
       "      <td>...</td>\n",
       "      <td>...</td>\n",
       "      <td>...</td>\n",
       "    </tr>\n",
       "    <tr>\n",
       "      <th>995</th>\n",
       "      <td>60c8_Random</td>\n",
       "      <td>1005</td>\n",
       "      <td>0</td>\n",
       "      <td>0</td>\n",
       "      <td>1</td>\n",
       "      <td>0</td>\n",
       "      <td>0</td>\n",
       "      <td>01110111011</td>\n",
       "    </tr>\n",
       "    <tr>\n",
       "      <th>996</th>\n",
       "      <td>60c8_Random</td>\n",
       "      <td>1006</td>\n",
       "      <td>0</td>\n",
       "      <td>0</td>\n",
       "      <td>1</td>\n",
       "      <td>1</td>\n",
       "      <td>0</td>\n",
       "      <td>01101110110</td>\n",
       "    </tr>\n",
       "    <tr>\n",
       "      <th>997</th>\n",
       "      <td>60c8_Random</td>\n",
       "      <td>1007</td>\n",
       "      <td>0</td>\n",
       "      <td>0</td>\n",
       "      <td>0</td>\n",
       "      <td>0</td>\n",
       "      <td>1</td>\n",
       "      <td>01011101100</td>\n",
       "    </tr>\n",
       "    <tr>\n",
       "      <th>998</th>\n",
       "      <td>60c8_Random</td>\n",
       "      <td>1008</td>\n",
       "      <td>0</td>\n",
       "      <td>0</td>\n",
       "      <td>0</td>\n",
       "      <td>0</td>\n",
       "      <td>1</td>\n",
       "      <td>00111011000</td>\n",
       "    </tr>\n",
       "    <tr>\n",
       "      <th>999</th>\n",
       "      <td>60c8_Random</td>\n",
       "      <td>1009</td>\n",
       "      <td>0</td>\n",
       "      <td>0</td>\n",
       "      <td>0</td>\n",
       "      <td>0</td>\n",
       "      <td>1</td>\n",
       "      <td>01110110000</td>\n",
       "    </tr>\n",
       "  </tbody>\n",
       "</table>\n",
       "<p>18000 rows × 8 columns</p>\n",
       "</div>"
      ],
      "text/plain": [
       "         Subject  Trial  Jar  Bead  Response  Confidence  Correct      History\n",
       "0           5ebd     10    0     1         0           0        0  00011101101\n",
       "1           5ebd     11    0     0         1           1        0  00111011011\n",
       "2           5ebd     12    0     0         0           1        1  01110110110\n",
       "3           5ebd     13    1     0         0           1        1  01101101100\n",
       "4           5ebd     14    0     1         0           1        0  01011011000\n",
       "..           ...    ...  ...   ...       ...         ...      ...          ...\n",
       "995  60c8_Random   1005    0     0         1           0        0  01110111011\n",
       "996  60c8_Random   1006    0     0         1           1        0  01101110110\n",
       "997  60c8_Random   1007    0     0         0           0        1  01011101100\n",
       "998  60c8_Random   1008    0     0         0           0        1  00111011000\n",
       "999  60c8_Random   1009    0     0         0           0        1  01110110000\n",
       "\n",
       "[18000 rows x 8 columns]"
      ]
     },
     "execution_count": 111,
     "metadata": {},
     "output_type": "execute_result"
    }
   ],
   "source": [
    "D"
   ]
  },
  {
   "cell_type": "code",
   "execution_count": 16,
   "id": "convertible-colorado",
   "metadata": {},
   "outputs": [
    {
     "data": {
      "text/html": [
       "<div>\n",
       "<style scoped>\n",
       "    .dataframe tbody tr th:only-of-type {\n",
       "        vertical-align: middle;\n",
       "    }\n",
       "\n",
       "    .dataframe tbody tr th {\n",
       "        vertical-align: top;\n",
       "    }\n",
       "\n",
       "    .dataframe thead th {\n",
       "        text-align: right;\n",
       "    }\n",
       "</style>\n",
       "<table border=\"1\" class=\"dataframe\">\n",
       "  <thead>\n",
       "    <tr style=\"text-align: right;\">\n",
       "      <th></th>\n",
       "      <th>Subject</th>\n",
       "      <th>Trial</th>\n",
       "      <th>Jar</th>\n",
       "      <th>Bead</th>\n",
       "      <th>Response</th>\n",
       "      <th>Confidence</th>\n",
       "      <th>Correct</th>\n",
       "      <th>History</th>\n",
       "    </tr>\n",
       "  </thead>\n",
       "  <tbody>\n",
       "    <tr>\n",
       "      <th>0</th>\n",
       "      <td>5ebd</td>\n",
       "      <td>10</td>\n",
       "      <td>0</td>\n",
       "      <td>1</td>\n",
       "      <td>0</td>\n",
       "      <td>0</td>\n",
       "      <td>0</td>\n",
       "      <td>00011101101</td>\n",
       "    </tr>\n",
       "    <tr>\n",
       "      <th>1</th>\n",
       "      <td>5ebd</td>\n",
       "      <td>11</td>\n",
       "      <td>0</td>\n",
       "      <td>0</td>\n",
       "      <td>1</td>\n",
       "      <td>1</td>\n",
       "      <td>0</td>\n",
       "      <td>00111011011</td>\n",
       "    </tr>\n",
       "    <tr>\n",
       "      <th>2</th>\n",
       "      <td>5ebd</td>\n",
       "      <td>12</td>\n",
       "      <td>0</td>\n",
       "      <td>0</td>\n",
       "      <td>0</td>\n",
       "      <td>1</td>\n",
       "      <td>1</td>\n",
       "      <td>01110110110</td>\n",
       "    </tr>\n",
       "    <tr>\n",
       "      <th>3</th>\n",
       "      <td>5ebd</td>\n",
       "      <td>13</td>\n",
       "      <td>1</td>\n",
       "      <td>0</td>\n",
       "      <td>0</td>\n",
       "      <td>1</td>\n",
       "      <td>1</td>\n",
       "      <td>01101101100</td>\n",
       "    </tr>\n",
       "    <tr>\n",
       "      <th>4</th>\n",
       "      <td>5ebd</td>\n",
       "      <td>14</td>\n",
       "      <td>0</td>\n",
       "      <td>1</td>\n",
       "      <td>0</td>\n",
       "      <td>1</td>\n",
       "      <td>0</td>\n",
       "      <td>01011011000</td>\n",
       "    </tr>\n",
       "    <tr>\n",
       "      <th>...</th>\n",
       "      <td>...</td>\n",
       "      <td>...</td>\n",
       "      <td>...</td>\n",
       "      <td>...</td>\n",
       "      <td>...</td>\n",
       "      <td>...</td>\n",
       "      <td>...</td>\n",
       "      <td>...</td>\n",
       "    </tr>\n",
       "    <tr>\n",
       "      <th>5995</th>\n",
       "      <td>60c8</td>\n",
       "      <td>1005</td>\n",
       "      <td>0</td>\n",
       "      <td>0</td>\n",
       "      <td>1</td>\n",
       "      <td>1</td>\n",
       "      <td>0</td>\n",
       "      <td>01110111011</td>\n",
       "    </tr>\n",
       "    <tr>\n",
       "      <th>5996</th>\n",
       "      <td>60c8</td>\n",
       "      <td>1006</td>\n",
       "      <td>0</td>\n",
       "      <td>0</td>\n",
       "      <td>1</td>\n",
       "      <td>0</td>\n",
       "      <td>0</td>\n",
       "      <td>01101110110</td>\n",
       "    </tr>\n",
       "    <tr>\n",
       "      <th>5997</th>\n",
       "      <td>60c8</td>\n",
       "      <td>1007</td>\n",
       "      <td>0</td>\n",
       "      <td>0</td>\n",
       "      <td>0</td>\n",
       "      <td>0</td>\n",
       "      <td>1</td>\n",
       "      <td>01011101100</td>\n",
       "    </tr>\n",
       "    <tr>\n",
       "      <th>5998</th>\n",
       "      <td>60c8</td>\n",
       "      <td>1008</td>\n",
       "      <td>0</td>\n",
       "      <td>0</td>\n",
       "      <td>0</td>\n",
       "      <td>0</td>\n",
       "      <td>1</td>\n",
       "      <td>00111011000</td>\n",
       "    </tr>\n",
       "    <tr>\n",
       "      <th>5999</th>\n",
       "      <td>60c8</td>\n",
       "      <td>1009</td>\n",
       "      <td>0</td>\n",
       "      <td>0</td>\n",
       "      <td>0</td>\n",
       "      <td>1</td>\n",
       "      <td>1</td>\n",
       "      <td>01110110000</td>\n",
       "    </tr>\n",
       "  </tbody>\n",
       "</table>\n",
       "<p>6000 rows × 8 columns</p>\n",
       "</div>"
      ],
      "text/plain": [
       "     Subject  Trial  Jar  Bead  Response  Confidence  Correct      History\n",
       "0       5ebd     10    0     1         0           0        0  00011101101\n",
       "1       5ebd     11    0     0         1           1        0  00111011011\n",
       "2       5ebd     12    0     0         0           1        1  01110110110\n",
       "3       5ebd     13    1     0         0           1        1  01101101100\n",
       "4       5ebd     14    0     1         0           1        0  01011011000\n",
       "...      ...    ...  ...   ...       ...         ...      ...          ...\n",
       "5995    60c8   1005    0     0         1           1        0  01110111011\n",
       "5996    60c8   1006    0     0         1           0        0  01101110110\n",
       "5997    60c8   1007    0     0         0           0        1  01011101100\n",
       "5998    60c8   1008    0     0         0           0        1  00111011000\n",
       "5999    60c8   1009    0     0         0           1        1  01110110000\n",
       "\n",
       "[6000 rows x 8 columns]"
      ]
     },
     "execution_count": 16,
     "metadata": {},
     "output_type": "execute_result"
    },
    {
     "data": {
      "text/html": [
       "<div>\n",
       "<style scoped>\n",
       "    .dataframe tbody tr th:only-of-type {\n",
       "        vertical-align: middle;\n",
       "    }\n",
       "\n",
       "    .dataframe tbody tr th {\n",
       "        vertical-align: top;\n",
       "    }\n",
       "\n",
       "    .dataframe thead th {\n",
       "        text-align: right;\n",
       "    }\n",
       "</style>\n",
       "<table border=\"1\" class=\"dataframe\">\n",
       "  <thead>\n",
       "    <tr style=\"text-align: right;\">\n",
       "      <th></th>\n",
       "      <th>Subject</th>\n",
       "      <th>Trial</th>\n",
       "      <th>Jar</th>\n",
       "      <th>Bead</th>\n",
       "      <th>Response</th>\n",
       "      <th>Confidence</th>\n",
       "      <th>Correct</th>\n",
       "      <th>History</th>\n",
       "    </tr>\n",
       "  </thead>\n",
       "  <tbody>\n",
       "    <tr>\n",
       "      <th>0</th>\n",
       "      <td>5ebd</td>\n",
       "      <td>10</td>\n",
       "      <td>0</td>\n",
       "      <td>1</td>\n",
       "      <td>0</td>\n",
       "      <td>0</td>\n",
       "      <td>0</td>\n",
       "      <td>00011101101</td>\n",
       "    </tr>\n",
       "    <tr>\n",
       "      <th>1</th>\n",
       "      <td>5ebd</td>\n",
       "      <td>11</td>\n",
       "      <td>0</td>\n",
       "      <td>0</td>\n",
       "      <td>1</td>\n",
       "      <td>1</td>\n",
       "      <td>0</td>\n",
       "      <td>00111011011</td>\n",
       "    </tr>\n",
       "    <tr>\n",
       "      <th>2</th>\n",
       "      <td>5ebd</td>\n",
       "      <td>12</td>\n",
       "      <td>0</td>\n",
       "      <td>0</td>\n",
       "      <td>0</td>\n",
       "      <td>1</td>\n",
       "      <td>1</td>\n",
       "      <td>01110110110</td>\n",
       "    </tr>\n",
       "    <tr>\n",
       "      <th>3</th>\n",
       "      <td>5ebd</td>\n",
       "      <td>13</td>\n",
       "      <td>1</td>\n",
       "      <td>0</td>\n",
       "      <td>0</td>\n",
       "      <td>1</td>\n",
       "      <td>1</td>\n",
       "      <td>01101101100</td>\n",
       "    </tr>\n",
       "    <tr>\n",
       "      <th>4</th>\n",
       "      <td>5ebd</td>\n",
       "      <td>14</td>\n",
       "      <td>0</td>\n",
       "      <td>1</td>\n",
       "      <td>0</td>\n",
       "      <td>1</td>\n",
       "      <td>0</td>\n",
       "      <td>01011011000</td>\n",
       "    </tr>\n",
       "    <tr>\n",
       "      <th>1000</th>\n",
       "      <td>5e9d</td>\n",
       "      <td>10</td>\n",
       "      <td>0</td>\n",
       "      <td>0</td>\n",
       "      <td>1</td>\n",
       "      <td>1</td>\n",
       "      <td>0</td>\n",
       "      <td>01101111100</td>\n",
       "    </tr>\n",
       "    <tr>\n",
       "      <th>1001</th>\n",
       "      <td>5e9d</td>\n",
       "      <td>11</td>\n",
       "      <td>0</td>\n",
       "      <td>0</td>\n",
       "      <td>1</td>\n",
       "      <td>1</td>\n",
       "      <td>0</td>\n",
       "      <td>01011111000</td>\n",
       "    </tr>\n",
       "    <tr>\n",
       "      <th>1002</th>\n",
       "      <td>5e9d</td>\n",
       "      <td>12</td>\n",
       "      <td>0</td>\n",
       "      <td>0</td>\n",
       "      <td>0</td>\n",
       "      <td>1</td>\n",
       "      <td>1</td>\n",
       "      <td>00111110000</td>\n",
       "    </tr>\n",
       "    <tr>\n",
       "      <th>1003</th>\n",
       "      <td>5e9d</td>\n",
       "      <td>13</td>\n",
       "      <td>0</td>\n",
       "      <td>0</td>\n",
       "      <td>0</td>\n",
       "      <td>1</td>\n",
       "      <td>1</td>\n",
       "      <td>01111100000</td>\n",
       "    </tr>\n",
       "    <tr>\n",
       "      <th>1004</th>\n",
       "      <td>5e9d</td>\n",
       "      <td>14</td>\n",
       "      <td>0</td>\n",
       "      <td>0</td>\n",
       "      <td>0</td>\n",
       "      <td>1</td>\n",
       "      <td>1</td>\n",
       "      <td>01111000000</td>\n",
       "    </tr>\n",
       "    <tr>\n",
       "      <th>2000</th>\n",
       "      <td>5da7</td>\n",
       "      <td>10</td>\n",
       "      <td>0</td>\n",
       "      <td>0</td>\n",
       "      <td>1</td>\n",
       "      <td>0</td>\n",
       "      <td>0</td>\n",
       "      <td>00000011001</td>\n",
       "    </tr>\n",
       "    <tr>\n",
       "      <th>2001</th>\n",
       "      <td>5da7</td>\n",
       "      <td>11</td>\n",
       "      <td>0</td>\n",
       "      <td>0</td>\n",
       "      <td>0</td>\n",
       "      <td>0</td>\n",
       "      <td>1</td>\n",
       "      <td>00000110010</td>\n",
       "    </tr>\n",
       "    <tr>\n",
       "      <th>2002</th>\n",
       "      <td>5da7</td>\n",
       "      <td>12</td>\n",
       "      <td>0</td>\n",
       "      <td>0</td>\n",
       "      <td>0</td>\n",
       "      <td>1</td>\n",
       "      <td>1</td>\n",
       "      <td>00001100100</td>\n",
       "    </tr>\n",
       "    <tr>\n",
       "      <th>2003</th>\n",
       "      <td>5da7</td>\n",
       "      <td>13</td>\n",
       "      <td>0</td>\n",
       "      <td>0</td>\n",
       "      <td>0</td>\n",
       "      <td>1</td>\n",
       "      <td>1</td>\n",
       "      <td>00011001000</td>\n",
       "    </tr>\n",
       "    <tr>\n",
       "      <th>2004</th>\n",
       "      <td>5da7</td>\n",
       "      <td>14</td>\n",
       "      <td>0</td>\n",
       "      <td>0</td>\n",
       "      <td>1</td>\n",
       "      <td>0</td>\n",
       "      <td>0</td>\n",
       "      <td>00110010000</td>\n",
       "    </tr>\n",
       "    <tr>\n",
       "      <th>3000</th>\n",
       "      <td>60ce</td>\n",
       "      <td>10</td>\n",
       "      <td>1</td>\n",
       "      <td>1</td>\n",
       "      <td>0</td>\n",
       "      <td>0</td>\n",
       "      <td>0</td>\n",
       "      <td>01111111110</td>\n",
       "    </tr>\n",
       "    <tr>\n",
       "      <th>3001</th>\n",
       "      <td>60ce</td>\n",
       "      <td>11</td>\n",
       "      <td>0</td>\n",
       "      <td>0</td>\n",
       "      <td>1</td>\n",
       "      <td>0</td>\n",
       "      <td>0</td>\n",
       "      <td>01111111101</td>\n",
       "    </tr>\n",
       "    <tr>\n",
       "      <th>3002</th>\n",
       "      <td>60ce</td>\n",
       "      <td>12</td>\n",
       "      <td>0</td>\n",
       "      <td>0</td>\n",
       "      <td>0</td>\n",
       "      <td>0</td>\n",
       "      <td>1</td>\n",
       "      <td>01111111010</td>\n",
       "    </tr>\n",
       "    <tr>\n",
       "      <th>3003</th>\n",
       "      <td>60ce</td>\n",
       "      <td>13</td>\n",
       "      <td>0</td>\n",
       "      <td>0</td>\n",
       "      <td>0</td>\n",
       "      <td>1</td>\n",
       "      <td>1</td>\n",
       "      <td>01111110100</td>\n",
       "    </tr>\n",
       "    <tr>\n",
       "      <th>3004</th>\n",
       "      <td>60ce</td>\n",
       "      <td>14</td>\n",
       "      <td>0</td>\n",
       "      <td>0</td>\n",
       "      <td>0</td>\n",
       "      <td>0</td>\n",
       "      <td>1</td>\n",
       "      <td>01111101000</td>\n",
       "    </tr>\n",
       "    <tr>\n",
       "      <th>4000</th>\n",
       "      <td>5f52</td>\n",
       "      <td>10</td>\n",
       "      <td>1</td>\n",
       "      <td>1</td>\n",
       "      <td>1</td>\n",
       "      <td>1</td>\n",
       "      <td>1</td>\n",
       "      <td>00001000000</td>\n",
       "    </tr>\n",
       "    <tr>\n",
       "      <th>4001</th>\n",
       "      <td>5f52</td>\n",
       "      <td>11</td>\n",
       "      <td>1</td>\n",
       "      <td>1</td>\n",
       "      <td>1</td>\n",
       "      <td>1</td>\n",
       "      <td>1</td>\n",
       "      <td>00010000001</td>\n",
       "    </tr>\n",
       "    <tr>\n",
       "      <th>4002</th>\n",
       "      <td>5f52</td>\n",
       "      <td>12</td>\n",
       "      <td>1</td>\n",
       "      <td>0</td>\n",
       "      <td>1</td>\n",
       "      <td>1</td>\n",
       "      <td>0</td>\n",
       "      <td>00100000011</td>\n",
       "    </tr>\n",
       "    <tr>\n",
       "      <th>4003</th>\n",
       "      <td>5f52</td>\n",
       "      <td>13</td>\n",
       "      <td>1</td>\n",
       "      <td>1</td>\n",
       "      <td>0</td>\n",
       "      <td>1</td>\n",
       "      <td>0</td>\n",
       "      <td>01000000110</td>\n",
       "    </tr>\n",
       "    <tr>\n",
       "      <th>4004</th>\n",
       "      <td>5f52</td>\n",
       "      <td>14</td>\n",
       "      <td>1</td>\n",
       "      <td>0</td>\n",
       "      <td>1</td>\n",
       "      <td>1</td>\n",
       "      <td>0</td>\n",
       "      <td>00000001101</td>\n",
       "    </tr>\n",
       "    <tr>\n",
       "      <th>5000</th>\n",
       "      <td>60c8</td>\n",
       "      <td>10</td>\n",
       "      <td>0</td>\n",
       "      <td>1</td>\n",
       "      <td>1</td>\n",
       "      <td>1</td>\n",
       "      <td>1</td>\n",
       "      <td>01110000000</td>\n",
       "    </tr>\n",
       "    <tr>\n",
       "      <th>5001</th>\n",
       "      <td>60c8</td>\n",
       "      <td>11</td>\n",
       "      <td>0</td>\n",
       "      <td>0</td>\n",
       "      <td>1</td>\n",
       "      <td>1</td>\n",
       "      <td>0</td>\n",
       "      <td>01100000001</td>\n",
       "    </tr>\n",
       "    <tr>\n",
       "      <th>5002</th>\n",
       "      <td>60c8</td>\n",
       "      <td>12</td>\n",
       "      <td>0</td>\n",
       "      <td>0</td>\n",
       "      <td>0</td>\n",
       "      <td>0</td>\n",
       "      <td>1</td>\n",
       "      <td>01000000010</td>\n",
       "    </tr>\n",
       "    <tr>\n",
       "      <th>5003</th>\n",
       "      <td>60c8</td>\n",
       "      <td>13</td>\n",
       "      <td>0</td>\n",
       "      <td>0</td>\n",
       "      <td>0</td>\n",
       "      <td>1</td>\n",
       "      <td>1</td>\n",
       "      <td>00000000100</td>\n",
       "    </tr>\n",
       "    <tr>\n",
       "      <th>5004</th>\n",
       "      <td>60c8</td>\n",
       "      <td>14</td>\n",
       "      <td>1</td>\n",
       "      <td>1</td>\n",
       "      <td>0</td>\n",
       "      <td>1</td>\n",
       "      <td>0</td>\n",
       "      <td>00000001000</td>\n",
       "    </tr>\n",
       "  </tbody>\n",
       "</table>\n",
       "</div>"
      ],
      "text/plain": [
       "     Subject  Trial  Jar  Bead  Response  Confidence  Correct      History\n",
       "0       5ebd     10    0     1         0           0        0  00011101101\n",
       "1       5ebd     11    0     0         1           1        0  00111011011\n",
       "2       5ebd     12    0     0         0           1        1  01110110110\n",
       "3       5ebd     13    1     0         0           1        1  01101101100\n",
       "4       5ebd     14    0     1         0           1        0  01011011000\n",
       "1000    5e9d     10    0     0         1           1        0  01101111100\n",
       "1001    5e9d     11    0     0         1           1        0  01011111000\n",
       "1002    5e9d     12    0     0         0           1        1  00111110000\n",
       "1003    5e9d     13    0     0         0           1        1  01111100000\n",
       "1004    5e9d     14    0     0         0           1        1  01111000000\n",
       "2000    5da7     10    0     0         1           0        0  00000011001\n",
       "2001    5da7     11    0     0         0           0        1  00000110010\n",
       "2002    5da7     12    0     0         0           1        1  00001100100\n",
       "2003    5da7     13    0     0         0           1        1  00011001000\n",
       "2004    5da7     14    0     0         1           0        0  00110010000\n",
       "3000    60ce     10    1     1         0           0        0  01111111110\n",
       "3001    60ce     11    0     0         1           0        0  01111111101\n",
       "3002    60ce     12    0     0         0           0        1  01111111010\n",
       "3003    60ce     13    0     0         0           1        1  01111110100\n",
       "3004    60ce     14    0     0         0           0        1  01111101000\n",
       "4000    5f52     10    1     1         1           1        1  00001000000\n",
       "4001    5f52     11    1     1         1           1        1  00010000001\n",
       "4002    5f52     12    1     0         1           1        0  00100000011\n",
       "4003    5f52     13    1     1         0           1        0  01000000110\n",
       "4004    5f52     14    1     0         1           1        0  00000001101\n",
       "5000    60c8     10    0     1         1           1        1  01110000000\n",
       "5001    60c8     11    0     0         1           1        0  01100000001\n",
       "5002    60c8     12    0     0         0           0        1  01000000010\n",
       "5003    60c8     13    0     0         0           1        1  00000000100\n",
       "5004    60c8     14    1     1         0           1        0  00000001000"
      ]
     },
     "execution_count": 16,
     "metadata": {},
     "output_type": "execute_result"
    }
   ],
   "source": [
    "D\n",
    "D.groupby(['Subject']).head()"
   ]
  },
  {
   "cell_type": "code",
   "execution_count": 17,
   "id": "recreational-cambridge",
   "metadata": {},
   "outputs": [
    {
     "data": {
      "text/plain": [
       "<Figure size 1080x432 with 0 Axes>"
      ]
     },
     "execution_count": 17,
     "metadata": {},
     "output_type": "execute_result"
    },
    {
     "data": {
      "text/plain": [
       "<AxesSubplot:>"
      ]
     },
     "execution_count": 17,
     "metadata": {},
     "output_type": "execute_result"
    },
    {
     "data": {
      "text/plain": [
       "Text(20, 0, '0.664')"
      ]
     },
     "execution_count": 17,
     "metadata": {},
     "output_type": "execute_result"
    },
    {
     "data": {
      "text/plain": [
       "Text(20, 0, '0.604')"
      ]
     },
     "execution_count": 17,
     "metadata": {},
     "output_type": "execute_result"
    },
    {
     "data": {
      "text/plain": [
       "Text(20, 0, '0.626')"
      ]
     },
     "execution_count": 17,
     "metadata": {},
     "output_type": "execute_result"
    },
    {
     "data": {
      "text/plain": [
       "Text(20, 0, '0.653')"
      ]
     },
     "execution_count": 17,
     "metadata": {},
     "output_type": "execute_result"
    },
    {
     "data": {
      "text/plain": [
       "Text(20, 0, '0.644')"
      ]
     },
     "execution_count": 17,
     "metadata": {},
     "output_type": "execute_result"
    },
    {
     "data": {
      "text/plain": [
       "Text(20, 0, '0.658')"
      ]
     },
     "execution_count": 17,
     "metadata": {},
     "output_type": "execute_result"
    },
    {
     "data": {
      "text/plain": [
       "Text(0.5, 0, 'Accuracy')"
      ]
     },
     "execution_count": 17,
     "metadata": {},
     "output_type": "execute_result"
    },
    {
     "data": {
      "text/plain": [
       "Text(0, 0.5, 'Subject')"
      ]
     },
     "execution_count": 17,
     "metadata": {},
     "output_type": "execute_result"
    },
    {
     "data": {
      "text/plain": [
       "(-0.05, 1.05)"
      ]
     },
     "execution_count": 17,
     "metadata": {},
     "output_type": "execute_result"
    },
    {
     "data": {
      "text/plain": [
       "<AxesSubplot:>"
      ]
     },
     "execution_count": 17,
     "metadata": {},
     "output_type": "execute_result"
    },
    {
     "data": {
      "text/plain": [
       "Text(20, 0, '0.709')"
      ]
     },
     "execution_count": 17,
     "metadata": {},
     "output_type": "execute_result"
    },
    {
     "data": {
      "text/plain": [
       "Text(20, 0, '0.557')"
      ]
     },
     "execution_count": 17,
     "metadata": {},
     "output_type": "execute_result"
    },
    {
     "data": {
      "text/plain": [
       "Text(20, 0, '0.998')"
      ]
     },
     "execution_count": 17,
     "metadata": {},
     "output_type": "execute_result"
    },
    {
     "data": {
      "text/plain": [
       "Text(20, 0, '0.728')"
      ]
     },
     "execution_count": 17,
     "metadata": {},
     "output_type": "execute_result"
    },
    {
     "data": {
      "text/plain": [
       "Text(20, 0, '0.465')"
      ]
     },
     "execution_count": 17,
     "metadata": {},
     "output_type": "execute_result"
    },
    {
     "data": {
      "text/plain": [
       "Text(20, 0, '0.473')"
      ]
     },
     "execution_count": 17,
     "metadata": {},
     "output_type": "execute_result"
    },
    {
     "data": {
      "text/plain": [
       "Text(0.5, 0, 'Proportion High Confidence')"
      ]
     },
     "execution_count": 17,
     "metadata": {},
     "output_type": "execute_result"
    },
    {
     "data": {
      "text/plain": [
       "Text(0, 0.5, 'Subject')"
      ]
     },
     "execution_count": 17,
     "metadata": {},
     "output_type": "execute_result"
    },
    {
     "data": {
      "text/plain": [
       "(-0.05, 1.05)"
      ]
     },
     "execution_count": 17,
     "metadata": {},
     "output_type": "execute_result"
    },
    {
     "data": {
      "image/png": "[encoded data removed]",
      "text/plain": [
       "<Figure size 1080x432 with 2 Axes>"
      ]
     },
     "metadata": {
      "needs_background": "light"
     },
     "output_type": "display_data"
    }
   ],
   "source": [
    "plt.figure(1,(15,6))\n",
    "\n",
    "## Plot accuracy bar overall\n",
    "plt.subplot(1,2,1)\n",
    "splot = sns.barplot(y=\"Subject\", x=\"Correct\", \n",
    "            data=D[['Subject','Correct']].groupby(['Subject'],as_index=False).mean())\n",
    "#plt.ylim([0,1])\n",
    "for p in splot.patches:\n",
    "    splot.annotate(format(p.get_width(), '.3f'), \n",
    "                   (p.get_width(), p.get_y() + p.get_height() / 2.), \n",
    "                   ha = 'center', va = 'center', \n",
    "                   xytext = (20, 0), \n",
    "                   textcoords = 'offset points')\n",
    "plt.xlabel('Accuracy',size=15)\n",
    "plt.ylabel('Subject',size=15)\n",
    "plt.xlim([-.05,1.05])\n",
    "plt.tight_layout()\n",
    "\n",
    "## Plot confidence bar overall\n",
    "plt.subplot(1,2,2)\n",
    "splot = sns.barplot(y=\"Subject\", x=\"Confidence\", \n",
    "            data=D[['Subject','Confidence']].groupby(['Subject'],as_index=False).mean())\n",
    "#plt.axvline(x=1, ls = '--')\n",
    "#plt.ylim([0,1])\n",
    "for p in splot.patches:\n",
    "    splot.annotate(format(p.get_width(), '.3f'), \n",
    "                   (p.get_width(), p.get_y() + p.get_height() / 2.), \n",
    "                   ha = 'center', va = 'center', \n",
    "                   xytext = (20, 0), \n",
    "                   textcoords = 'offset points')\n",
    "plt.xlabel('Proportion High Confidence',size=15)\n",
    "plt.ylabel('Subject',size=15)\n",
    "plt.xlim([-.05,1.05])\n",
    "plt.tight_layout()\n",
    "\n",
    "#plt.savefig('AccuracyConfidenceBar.png')"
   ]
  },
  {
   "cell_type": "code",
   "execution_count": 18,
   "id": "muslim-communist",
   "metadata": {},
   "outputs": [
    {
     "data": {
      "text/plain": [
       "10"
      ]
     },
     "execution_count": 18,
     "metadata": {},
     "output_type": "execute_result"
    },
    {
     "data": {
      "text/plain": [
       "array(['5ebd', '5e9d', '5da7', '60ce', '5f52', '60c8'], dtype=object)"
      ]
     },
     "execution_count": 18,
     "metadata": {},
     "output_type": "execute_result"
    }
   ],
   "source": [
    "numprevious\n",
    "D['Subject'].unique()\n",
    "#D['H'].unique()"
   ]
  },
  {
   "cell_type": "code",
   "execution_count": 19,
   "id": "reliable-rouge",
   "metadata": {},
   "outputs": [
    {
     "data": {
      "text/plain": [
       "<Figure size 576x432 with 0 Axes>"
      ]
     },
     "execution_count": 19,
     "metadata": {},
     "output_type": "execute_result"
    },
    {
     "data": {
      "text/plain": [
       "[<matplotlib.lines.Line2D at 0x7fad05e97550>]"
      ]
     },
     "execution_count": 19,
     "metadata": {},
     "output_type": "execute_result"
    },
    {
     "data": {
      "image/png": "[encoded data removed]",
      "text/plain": [
       "<Figure size 576x432 with 1 Axes>"
      ]
     },
     "metadata": {
      "needs_background": "light"
     },
     "output_type": "display_data"
    }
   ],
   "source": [
    "plt.figure(1,(8,6))\n",
    "plt.plot(\"Trial\", \"Confidence\",'.',data = D[D['Subject'] == D['Subject'].unique()[0]])"
   ]
  },
  {
   "cell_type": "code",
   "execution_count": 20,
   "id": "presidential-function",
   "metadata": {},
   "outputs": [
    {
     "data": {
      "text/plain": [
       "<Figure size 1080x432 with 0 Axes>"
      ]
     },
     "execution_count": 20,
     "metadata": {},
     "output_type": "execute_result"
    },
    {
     "data": {
      "text/plain": [
       "<AxesSubplot:>"
      ]
     },
     "execution_count": 20,
     "metadata": {},
     "output_type": "execute_result"
    },
    {
     "data": {
      "text/plain": [
       "(0.0, 1.0)"
      ]
     },
     "execution_count": 20,
     "metadata": {},
     "output_type": "execute_result"
    },
    {
     "data": {
      "text/plain": [
       "Text(20, 0, '0.550')"
      ]
     },
     "execution_count": 20,
     "metadata": {},
     "output_type": "execute_result"
    },
    {
     "data": {
      "text/plain": [
       "Text(20, 0, '0.560')"
      ]
     },
     "execution_count": 20,
     "metadata": {},
     "output_type": "execute_result"
    },
    {
     "data": {
      "text/plain": [
       "Text(20, 0, '0.000')"
      ]
     },
     "execution_count": 20,
     "metadata": {},
     "output_type": "execute_result"
    },
    {
     "data": {
      "text/plain": [
       "Text(20, 0, '0.585')"
      ]
     },
     "execution_count": 20,
     "metadata": {},
     "output_type": "execute_result"
    },
    {
     "data": {
      "text/plain": [
       "Text(20, 0, '0.585')"
      ]
     },
     "execution_count": 20,
     "metadata": {},
     "output_type": "execute_result"
    },
    {
     "data": {
      "text/plain": [
       "Text(20, 0, '0.626')"
      ]
     },
     "execution_count": 20,
     "metadata": {},
     "output_type": "execute_result"
    },
    {
     "data": {
      "text/plain": [
       "Text(20, 0, '0.711')"
      ]
     },
     "execution_count": 20,
     "metadata": {},
     "output_type": "execute_result"
    },
    {
     "data": {
      "text/plain": [
       "Text(20, 0, '0.639')"
      ]
     },
     "execution_count": 20,
     "metadata": {},
     "output_type": "execute_result"
    },
    {
     "data": {
      "text/plain": [
       "Text(20, 0, '0.627')"
      ]
     },
     "execution_count": 20,
     "metadata": {},
     "output_type": "execute_result"
    },
    {
     "data": {
      "text/plain": [
       "Text(20, 0, '0.679')"
      ]
     },
     "execution_count": 20,
     "metadata": {},
     "output_type": "execute_result"
    },
    {
     "data": {
      "text/plain": [
       "Text(20, 0, '0.712')"
      ]
     },
     "execution_count": 20,
     "metadata": {},
     "output_type": "execute_result"
    },
    {
     "data": {
      "text/plain": [
       "Text(20, 0, '0.693')"
      ]
     },
     "execution_count": 20,
     "metadata": {},
     "output_type": "execute_result"
    },
    {
     "data": {
      "text/plain": [
       "Text(0.5, 0, 'Accuracy')"
      ]
     },
     "execution_count": 20,
     "metadata": {},
     "output_type": "execute_result"
    },
    {
     "data": {
      "text/plain": [
       "Text(0, 0.5, 'Subject')"
      ]
     },
     "execution_count": 20,
     "metadata": {},
     "output_type": "execute_result"
    },
    {
     "data": {
      "text/plain": [
       "<AxesSubplot:>"
      ]
     },
     "execution_count": 20,
     "metadata": {},
     "output_type": "execute_result"
    },
    {
     "data": {
      "text/plain": [
       "(0.0, 1.0)"
      ]
     },
     "execution_count": 20,
     "metadata": {},
     "output_type": "execute_result"
    },
    {
     "data": {
      "text/plain": [
       "Text(20, 0, '0.610')"
      ]
     },
     "execution_count": 20,
     "metadata": {},
     "output_type": "execute_result"
    },
    {
     "data": {
      "text/plain": [
       "Text(20, 0, '0.508')"
      ]
     },
     "execution_count": 20,
     "metadata": {},
     "output_type": "execute_result"
    },
    {
     "data": {
      "text/plain": [
       "Text(20, 0, '0.995')"
      ]
     },
     "execution_count": 20,
     "metadata": {},
     "output_type": "execute_result"
    },
    {
     "data": {
      "text/plain": [
       "Text(20, 0, '0.674')"
      ]
     },
     "execution_count": 20,
     "metadata": {},
     "output_type": "execute_result"
    },
    {
     "data": {
      "text/plain": [
       "Text(20, 0, '0.376')"
      ]
     },
     "execution_count": 20,
     "metadata": {},
     "output_type": "execute_result"
    },
    {
     "data": {
      "text/plain": [
       "Text(20, 0, '0.424')"
      ]
     },
     "execution_count": 20,
     "metadata": {},
     "output_type": "execute_result"
    },
    {
     "data": {
      "text/plain": [
       "Text(20, 0, '0.759')"
      ]
     },
     "execution_count": 20,
     "metadata": {},
     "output_type": "execute_result"
    },
    {
     "data": {
      "text/plain": [
       "Text(20, 0, '0.589')"
      ]
     },
     "execution_count": 20,
     "metadata": {},
     "output_type": "execute_result"
    },
    {
     "data": {
      "text/plain": [
       "Text(20, 0, '1.000')"
      ]
     },
     "execution_count": 20,
     "metadata": {},
     "output_type": "execute_result"
    },
    {
     "data": {
      "text/plain": [
       "Text(20, 0, '0.757')"
      ]
     },
     "execution_count": 20,
     "metadata": {},
     "output_type": "execute_result"
    },
    {
     "data": {
      "text/plain": [
       "Text(20, 0, '0.514')"
      ]
     },
     "execution_count": 20,
     "metadata": {},
     "output_type": "execute_result"
    },
    {
     "data": {
      "text/plain": [
       "Text(20, 0, '0.498')"
      ]
     },
     "execution_count": 20,
     "metadata": {},
     "output_type": "execute_result"
    },
    {
     "data": {
      "text/plain": [
       "Text(0.5, 0, 'Proportion High Confidence')"
      ]
     },
     "execution_count": 20,
     "metadata": {},
     "output_type": "execute_result"
    },
    {
     "data": {
      "text/plain": [
       "Text(0, 0.5, 'Subject')"
      ]
     },
     "execution_count": 20,
     "metadata": {},
     "output_type": "execute_result"
    },
    {
     "data": {
      "image/png": "[encoded data removed]",
      "text/plain": [
       "<Figure size 1080x432 with 2 Axes>"
      ]
     },
     "metadata": {
      "needs_background": "light"
     },
     "output_type": "display_data"
    }
   ],
   "source": [
    "## Relationships between accuracy and confidence\n",
    "plt.figure(1,(15,6))\n",
    "# Accuracy split by confidence\n",
    "plt.subplot(1,2,1)\n",
    "splot = sns.barplot(y=\"Subject\", x=\"Correct\", hue=\"Confidence\", \n",
    "            data=D[['Subject','Correct','Confidence']].groupby(['Subject','Confidence'],as_index=False).mean())\n",
    "plt.xlim([0,1])\n",
    "for p in splot.patches:\n",
    "    splot.annotate(format(p.get_width(), '.3f'), \n",
    "                   (p.get_width(), p.get_y() + p.get_height() / 2.), \n",
    "                   ha = 'center', va = 'center', \n",
    "                   xytext = (20, 0), \n",
    "                   textcoords = 'offset points')\n",
    "plt.xlabel('Accuracy',size=15)\n",
    "plt.ylabel('Subject',size=15)\n",
    "plt.tight_layout()\n",
    "\n",
    "# Confidence split by correctness\n",
    "plt.subplot(1,2,2)\n",
    "splot = sns.barplot(y=\"Subject\", x=\"Confidence\", hue=\"Correct\", \n",
    "            data=D[['Subject','Correct','Confidence']].groupby(['Subject','Correct'],as_index=False).mean())\n",
    "plt.xlim([0,1])\n",
    "for p in splot.patches:\n",
    "    splot.annotate(format(p.get_width(), '.3f'), \n",
    "                   (p.get_width(), p.get_y() + p.get_height() / 2.), \n",
    "                   ha = 'center', va = 'center', \n",
    "                   xytext = (20, 0), \n",
    "                   textcoords = 'offset points')\n",
    "plt.xlabel('Proportion High Confidence',size=15)\n",
    "plt.ylabel('Subject',size=15)\n",
    "plt.tight_layout()\n",
    "\n",
    "#plt.savefig('AccuracyConfidenceSplitBar.png')"
   ]
  },
  {
   "cell_type": "code",
   "execution_count": 21,
   "id": "accessible-shape",
   "metadata": {},
   "outputs": [],
   "source": [
    "nw = numprevious\n",
    "adat_trials = D[D['Subject'] == D['Subject'].unique()[0]].copy()\n",
    "adat_trials['History'] = get_previous_n_beads(nw, adat_trials['Bead'])\n"
   ]
  },
  {
   "cell_type": "code",
   "execution_count": 22,
   "id": "stopped-lafayette",
   "metadata": {},
   "outputs": [
    {
     "data": {
      "text/html": [
       "<div>\n",
       "<style scoped>\n",
       "    .dataframe tbody tr th:only-of-type {\n",
       "        vertical-align: middle;\n",
       "    }\n",
       "\n",
       "    .dataframe tbody tr th {\n",
       "        vertical-align: top;\n",
       "    }\n",
       "\n",
       "    .dataframe thead th {\n",
       "        text-align: right;\n",
       "    }\n",
       "</style>\n",
       "<table border=\"1\" class=\"dataframe\">\n",
       "  <thead>\n",
       "    <tr style=\"text-align: right;\">\n",
       "      <th></th>\n",
       "      <th>Subject</th>\n",
       "      <th>Trial</th>\n",
       "      <th>Jar</th>\n",
       "      <th>Bead</th>\n",
       "      <th>Response</th>\n",
       "      <th>Confidence</th>\n",
       "      <th>Correct</th>\n",
       "      <th>History</th>\n",
       "    </tr>\n",
       "  </thead>\n",
       "  <tbody>\n",
       "    <tr>\n",
       "      <th>0</th>\n",
       "      <td>5ebd</td>\n",
       "      <td>10</td>\n",
       "      <td>0</td>\n",
       "      <td>1</td>\n",
       "      <td>0</td>\n",
       "      <td>0</td>\n",
       "      <td>0</td>\n",
       "      <td>00000000000</td>\n",
       "    </tr>\n",
       "    <tr>\n",
       "      <th>1</th>\n",
       "      <td>5ebd</td>\n",
       "      <td>11</td>\n",
       "      <td>0</td>\n",
       "      <td>0</td>\n",
       "      <td>1</td>\n",
       "      <td>1</td>\n",
       "      <td>0</td>\n",
       "      <td>00000000001</td>\n",
       "    </tr>\n",
       "    <tr>\n",
       "      <th>2</th>\n",
       "      <td>5ebd</td>\n",
       "      <td>12</td>\n",
       "      <td>0</td>\n",
       "      <td>0</td>\n",
       "      <td>0</td>\n",
       "      <td>1</td>\n",
       "      <td>1</td>\n",
       "      <td>00000000010</td>\n",
       "    </tr>\n",
       "    <tr>\n",
       "      <th>3</th>\n",
       "      <td>5ebd</td>\n",
       "      <td>13</td>\n",
       "      <td>1</td>\n",
       "      <td>0</td>\n",
       "      <td>0</td>\n",
       "      <td>1</td>\n",
       "      <td>1</td>\n",
       "      <td>00000000100</td>\n",
       "    </tr>\n",
       "    <tr>\n",
       "      <th>4</th>\n",
       "      <td>5ebd</td>\n",
       "      <td>14</td>\n",
       "      <td>0</td>\n",
       "      <td>1</td>\n",
       "      <td>0</td>\n",
       "      <td>1</td>\n",
       "      <td>0</td>\n",
       "      <td>00000001000</td>\n",
       "    </tr>\n",
       "    <tr>\n",
       "      <th>...</th>\n",
       "      <td>...</td>\n",
       "      <td>...</td>\n",
       "      <td>...</td>\n",
       "      <td>...</td>\n",
       "      <td>...</td>\n",
       "      <td>...</td>\n",
       "      <td>...</td>\n",
       "      <td>...</td>\n",
       "    </tr>\n",
       "    <tr>\n",
       "      <th>995</th>\n",
       "      <td>5ebd</td>\n",
       "      <td>1005</td>\n",
       "      <td>1</td>\n",
       "      <td>0</td>\n",
       "      <td>1</td>\n",
       "      <td>1</td>\n",
       "      <td>0</td>\n",
       "      <td>00001011110</td>\n",
       "    </tr>\n",
       "    <tr>\n",
       "      <th>996</th>\n",
       "      <td>5ebd</td>\n",
       "      <td>1006</td>\n",
       "      <td>1</td>\n",
       "      <td>1</td>\n",
       "      <td>0</td>\n",
       "      <td>1</td>\n",
       "      <td>0</td>\n",
       "      <td>00010111100</td>\n",
       "    </tr>\n",
       "    <tr>\n",
       "      <th>997</th>\n",
       "      <td>5ebd</td>\n",
       "      <td>1007</td>\n",
       "      <td>1</td>\n",
       "      <td>1</td>\n",
       "      <td>0</td>\n",
       "      <td>1</td>\n",
       "      <td>0</td>\n",
       "      <td>00101111001</td>\n",
       "    </tr>\n",
       "    <tr>\n",
       "      <th>998</th>\n",
       "      <td>5ebd</td>\n",
       "      <td>1008</td>\n",
       "      <td>0</td>\n",
       "      <td>0</td>\n",
       "      <td>1</td>\n",
       "      <td>1</td>\n",
       "      <td>0</td>\n",
       "      <td>01011110011</td>\n",
       "    </tr>\n",
       "    <tr>\n",
       "      <th>999</th>\n",
       "      <td>5ebd</td>\n",
       "      <td>1009</td>\n",
       "      <td>1</td>\n",
       "      <td>0</td>\n",
       "      <td>1</td>\n",
       "      <td>1</td>\n",
       "      <td>0</td>\n",
       "      <td>00111100110</td>\n",
       "    </tr>\n",
       "  </tbody>\n",
       "</table>\n",
       "<p>1000 rows × 8 columns</p>\n",
       "</div>"
      ],
      "text/plain": [
       "    Subject  Trial  Jar  Bead  Response  Confidence  Correct      History\n",
       "0      5ebd     10    0     1         0           0        0  00000000000\n",
       "1      5ebd     11    0     0         1           1        0  00000000001\n",
       "2      5ebd     12    0     0         0           1        1  00000000010\n",
       "3      5ebd     13    1     0         0           1        1  00000000100\n",
       "4      5ebd     14    0     1         0           1        0  00000001000\n",
       "..      ...    ...  ...   ...       ...         ...      ...          ...\n",
       "995    5ebd   1005    1     0         1           1        0  00001011110\n",
       "996    5ebd   1006    1     1         0           1        0  00010111100\n",
       "997    5ebd   1007    1     1         0           1        0  00101111001\n",
       "998    5ebd   1008    0     0         1           1        0  01011110011\n",
       "999    5ebd   1009    1     0         1           1        0  00111100110\n",
       "\n",
       "[1000 rows x 8 columns]"
      ]
     },
     "execution_count": 22,
     "metadata": {},
     "output_type": "execute_result"
    }
   ],
   "source": [
    "adat_trials\n",
    "#adat_mis_h1 \n"
   ]
  },
  {
   "cell_type": "code",
   "execution_count": 23,
   "id": "appointed-champagne",
   "metadata": {},
   "outputs": [
    {
     "data": {
      "text/plain": [
       "<Figure size 576x432 with 0 Axes>"
      ]
     },
     "execution_count": 23,
     "metadata": {},
     "output_type": "execute_result"
    },
    {
     "data": {
      "text/plain": [
       "[<matplotlib.lines.Line2D at 0x7fad06ace110>]"
      ]
     },
     "execution_count": 23,
     "metadata": {},
     "output_type": "execute_result"
    },
    {
     "data": {
      "text/plain": [
       "Text(0, 0.5, 'Mutual Information between\\n$X_{past}$ and $X_{future}$')"
      ]
     },
     "execution_count": 23,
     "metadata": {},
     "output_type": "execute_result"
    },
    {
     "data": {
      "text/plain": [
       "Text(0.5, 0, 'Window size of $X$ into the past')"
      ]
     },
     "execution_count": 23,
     "metadata": {},
     "output_type": "execute_result"
    },
    {
     "data": {
      "text/plain": [
       "<matplotlib.legend.Legend at 0x7fad0649a850>"
      ]
     },
     "execution_count": 23,
     "metadata": {},
     "output_type": "execute_result"
    },
    {
     "data": {
      "image/png": "[encoded data removed]",
      "text/plain": [
       "<Figure size 576x432 with 1 Axes>"
      ]
     },
     "metadata": {
      "needs_background": "light"
     },
     "output_type": "display_data"
    }
   ],
   "source": [
    "# Test bounds in each session\n",
    "def get_windowed_mi(x_array,z,nw,confid = 0):\n",
    "    '''\n",
    "    Function that windows of observations from a sequence x offset from y and computes the MI\n",
    "    Input:\n",
    "        - x: sequence of \"past\" observations to be windowed\n",
    "        - z: sequence that serves as the \"future\" events\n",
    "        - nw: maximum window size\n",
    "    Output:\n",
    "        - mis: NSB estimated mutual informtion values for each window size\n",
    "    '''\n",
    "    mis = np.zeros(nw+1) #vector of mutual informations for different window sizes\n",
    "    for w in np.arange(1,nw+1):\n",
    "        xw,zw = get_windowed_x_v(['0' + h[-w:] for h in x_array],z,w=w)         # use convenience function from utilities to window x\n",
    "        mis[w] = ut.mutual_inf_nsb(xw,zw,[2**w,2+confid*2]) # use convenience function from utilities to compute NSB mutual info\n",
    "    return(mis)\n",
    "\n",
    "# Get all trials in all three sessions that match low and high hazard rates\n",
    "nw = numprevious #number of windows into the past we want to compute\n",
    "\n",
    "#Since everyone saw the same sequence, we can speed this up by subselecting one example of all the trials the first subject saw\n",
    "adat_trials = D[D['Subject'] == D['Subject'].unique()[0]].copy()\n",
    "adat_trials['History'] = get_previous_n_beads(nw, adat_trials['Bead'])\n",
    "\n",
    "# Computed windowed predictive information in the low hazard rate\n",
    "adat_mis_h1 = get_windowed_mi(adat_trials['History'],\n",
    "                              adat_trials['Jar'],nw)\n",
    "\n",
    "# Plot predictive information as a function of window size\n",
    "plt.figure(1,(8,6))\n",
    "plt.plot(np.arange(nw+1),adat_mis_h1,'-o',label='H = 0.1')\n",
    "#plt.plot(np.arange(nw+1),adat_mis_h9,'-o', label = \"H = 0.99\")\n",
    "plt.ylabel('Mutual Information between\\n$X_{past}$ and $X_{future}$',size=15)\n",
    "plt.xlabel('Window size of $X$ into the past',size=15)\n",
    "plt.legend()\n",
    "\n",
    "#adat_trials.to_csv(\"adat_trials_test.csv\")"
   ]
  },
  {
   "cell_type": "code",
   "execution_count": 26,
   "id": "convertible-aberdeen",
   "metadata": {},
   "outputs": [
    {
     "name": "stdout",
     "output_type": "stream",
     "text": [
      "CPU times: user 52.6 ms, sys: 25.1 ms, total: 77.8 ms\n",
      "Wall time: 784 ms\n"
     ]
    },
    {
     "data": {
      "text/plain": [
       "<matplotlib.legend.Legend at 0x7fad06b831d0>"
      ]
     },
     "execution_count": 26,
     "metadata": {},
     "output_type": "execute_result"
    },
    {
     "data": {
      "image/png": "[encoded data removed]",
      "text/plain": [
       "<Figure size 576x432 with 1 Axes>"
      ]
     },
     "metadata": {
      "needs_background": "light"
     },
     "output_type": "display_data"
    }
   ],
   "source": [
    "%%time\n",
    "def get_windowed_bound(x_array,z,w,mb=50,nb=2000,p=8):\n",
    "    '''\n",
    "    Function that computes the information bottleneck bound between two discrete variables\n",
    "    Input:\n",
    "        - x: sequence of past events\n",
    "        - z: sequence of future events\n",
    "        - w: size of the window to be applied to x\n",
    "        - mb: maximum value of the lagrange multiplier beta\n",
    "        - nb: number of values of beta between 0 and mb to be run through the Blahaut-Arimoto algorithm\n",
    "        - p: number of cores to use in the computation (to help with speed)\n",
    "    Output:\n",
    "        - 4 element tuple with a sequence of ipast and ifuture values corresponding to the information bottleneck for full and one back bounds\n",
    "    '''\n",
    "    # Get desired windowed x and corresponding z\n",
    "    xw,zw = get_windowed_x_v(['0' + h[-w:] for h in x_array],z,w=w)\n",
    "\n",
    "    # Compute the information bottleneck using EMBO for the window size w specified above\n",
    "    ipw, ifw, _, _= InformationBottleneck(xw, zw, window_size_x=1, window_size_y=1).get_bottleneck()\n",
    "\n",
    "    # Compute the information bottleneck using EMBO for the window size w specified above\n",
    "    x1b,z1b = get_windowed_x_v(['0' + h[-1:] for h in x_array],z,w=1)\n",
    "    ip1b, if1b, _, _ = InformationBottleneck(x1b, z1b, window_size_x=1, window_size_y=1).get_bottleneck()   \n",
    "    \n",
    "    # Return informtion bottleneck\n",
    "    return((ipw,ifw,ip1b,if1b))\n",
    "\n",
    "# For speed, see if bottleneck has already been computed\n",
    "#try:\n",
    "    # Low hazard full and 1-back bounds\n",
    "#    ipw_h1,ifw_h1,ipw_h1_1back,ifw_h1_1back = pickle.load(open('ipw_h1_bounds.pkl','rb'))\n",
    "    \n",
    "    # High hazard full and 1-back bounds\n",
    "#    ipw_h9,ifw_h9, ipw_h9_1back,ifw_h9_1back = pickle.load(open('ipw_h9_bounds.pkl','rb'))\n",
    "    \n",
    "#except:\n",
    "    # If no objects exist, compute full and one-back bounds for each confidence rate\n",
    "    #Low confidence full and 1-back bounds\n",
    "ipw_h1,ifw_h1,ipw_h1_1back,ifw_h1_1back = get_windowed_bound(adat_trials['History'],\n",
    "                                                             adat_trials['Jar'],6)\n",
    "#pickle.dump((ipw_h1,ifw_h1,ipw_h1_1back,ifw_h1_1back),open('ipw_h1_bounds.pkl','wb')) \n",
    "\n",
    "    \n",
    "# Plot bounds\n",
    "plt.figure(1,(8,6))\n",
    "\n",
    "# Low confidence rate\n",
    "#plt.subplot(1,2,1)\n",
    "plt.plot(ipw_h1,ifw_h1,'-',color=cmap(0),label='full bound')\n",
    "plt.plot(ipw_h1_1back,ifw_h1_1back,'--',color=cmap(0), label='one-back bound')\n",
    "#plt.ylim([0,.8])\n",
    "plt.xlabel('$I_{past}$',size=15)\n",
    "plt.ylabel('$I_{future}$',size=15)\n",
    "plt.title('Low confidence',size=20)\n",
    "plt.legend()"
   ]
  },
  {
   "cell_type": "code",
   "execution_count": 29,
   "id": "honey-birmingham",
   "metadata": {},
   "outputs": [],
   "source": [
    "z1 = adat_trials['Jar'][1:].reset_index(drop = True)\n",
    "z1[999] = 0\n",
    "\n",
    "I_x, I_y, h_m, beta = InformationBottleneck(np.arange(999)%2, np.arange(999)%2, window_size_x=1, window_size_y=1).get_bottleneck()"
   ]
  },
  {
   "cell_type": "code",
   "execution_count": 30,
   "id": "female-centre",
   "metadata": {},
   "outputs": [
    {
     "data": {
      "text/plain": [
       "array([3.15454279e-13, 2.52352022e-06, 7.18553803e-05, 2.10699270e-03,\n",
       "       6.96697107e-02, 9.99979569e-01, 9.99999276e-01, 9.99999277e-01,\n",
       "       9.99999277e-01])"
      ]
     },
     "execution_count": 30,
     "metadata": {},
     "output_type": "execute_result"
    },
    {
     "data": {
      "text/plain": [
       "array([3.15493456e-13, 2.52352022e-06, 7.18553803e-05, 2.10699270e-03,\n",
       "       6.96697107e-02, 9.99979569e-01, 9.99999276e-01, 9.99999277e-01,\n",
       "       9.99999277e-01])"
      ]
     },
     "execution_count": 30,
     "metadata": {},
     "output_type": "execute_result"
    },
    {
     "data": {
      "text/plain": [
       "array([0.99963093, 0.98909025, 0.98633977, 0.99999738, 0.9988786 ,\n",
       "       0.99999928, 0.99999928, 0.99999928, 0.99999928])"
      ]
     },
     "execution_count": 30,
     "metadata": {},
     "output_type": "execute_result"
    },
    {
     "data": {
      "text/plain": [
       "array([0.01      , 0.18206897, 0.35413793, 0.5262069 , 0.69827586,\n",
       "       0.87034483, 1.04241379, 1.21448276, 1.38655172])"
      ]
     },
     "execution_count": 30,
     "metadata": {},
     "output_type": "execute_result"
    }
   ],
   "source": [
    "I_x\n",
    "I_y\n",
    "h_m\n",
    "beta"
   ]
  },
  {
   "cell_type": "code",
   "execution_count": 31,
   "id": "metric-living",
   "metadata": {},
   "outputs": [
    {
     "data": {
      "text/plain": [
       "[<matplotlib.lines.Line2D at 0x7fad07487f90>]"
      ]
     },
     "execution_count": 31,
     "metadata": {},
     "output_type": "execute_result"
    },
    {
     "data": {
      "text/plain": [
       "(0.0, 1.0)"
      ]
     },
     "execution_count": 31,
     "metadata": {},
     "output_type": "execute_result"
    },
    {
     "data": {
      "text/plain": [
       "(0.0, 1.0)"
      ]
     },
     "execution_count": 31,
     "metadata": {},
     "output_type": "execute_result"
    },
    {
     "data": {
      "image/png": "[encoded data removed]",
      "text/plain": [
       "<Figure size 432x288 with 1 Axes>"
      ]
     },
     "metadata": {
      "needs_background": "light"
     },
     "output_type": "display_data"
    }
   ],
   "source": [
    "plt.plot(I_x,  I_y,  'r-')\n",
    "#plt.plot(ipw_h1,ifw_h1, 'b-')\n",
    "plt.xlim([0,1])\n",
    "plt.ylim([0,1])\n",
    "plt.show()"
   ]
  },
  {
   "cell_type": "code",
   "execution_count": 32,
   "id": "varied-garlic",
   "metadata": {},
   "outputs": [
    {
     "data": {
      "text/plain": [
       "array([3.15454279e-13, 2.52352022e-06, 7.18553803e-05, 2.10699270e-03,\n",
       "       6.96697107e-02, 9.99979569e-01, 9.99999276e-01, 9.99999277e-01,\n",
       "       9.99999277e-01])"
      ]
     },
     "execution_count": 32,
     "metadata": {},
     "output_type": "execute_result"
    }
   ],
   "source": [
    "I_x"
   ]
  },
  {
   "cell_type": "code",
   "execution_count": 33,
   "id": "seeing-warning",
   "metadata": {},
   "outputs": [
    {
     "data": {
      "text/plain": [
       "0      1\n",
       "1      0\n",
       "2      0\n",
       "3      0\n",
       "4      1\n",
       "      ..\n",
       "995    0\n",
       "996    1\n",
       "997    1\n",
       "998    0\n",
       "999    0\n",
       "Name: Bead, Length: 1000, dtype: int64"
      ]
     },
     "execution_count": 33,
     "metadata": {},
     "output_type": "execute_result"
    }
   ],
   "source": [
    "adat_trials['Bead']"
   ]
  },
  {
   "cell_type": "code",
   "execution_count": 189,
   "id": "successful-interpretation",
   "metadata": {},
   "outputs": [
    {
     "name": "stdout",
     "output_type": "stream",
     "text": [
      "CPU times: user 520 ms, sys: 8.86 ms, total: 529 ms\n",
      "Wall time: 542 ms\n"
     ]
    },
    {
     "data": {
      "image/png": "[encoded data removed]",
      "text/plain": [
       "<Figure size 1080x360 with 2 Axes>"
      ]
     },
     "metadata": {
      "needs_background": "light"
     },
     "output_type": "display_data"
    }
   ],
   "source": [
    "%%time\n",
    "def get_windowed_mi_subs(sdat_all,nw):\n",
    "    '''\n",
    "    Function to compute windowed mutual information values for all subjects\n",
    "    Input:\n",
    "        - sdat_all: data frame with all of the subject tones, responses, and sources\n",
    "        - nw: maximum window size to be considered\n",
    "    Output:\n",
    "        - Ipast for each window size and Ifuture\n",
    "    '''\n",
    "    # Create dictionaries to keep track of variables with subject IDs as the keys\n",
    "    subs = pd.unique(sdat_all['Subject'])\n",
    "    ip_sub = {}\n",
    "    if_sub = {}\n",
    "    # Loop through each subject and get their Ipast for windows up to nw and their ifuture\n",
    "    for subi,sub in enumerate(subs):\n",
    "        sdat = sdat_all[sdat_all['Subject'] == sub]                   # Get data from specific subject \n",
    "        ip_sub[sub] = get_windowed_mi(sdat['History'],sdat['Response'],nw)    # compute Ipast using function defined above \n",
    "        if_sub[sub] = ut.mutual_inf_nsb(sdat['Response'],sdat['Jar'],[2,2]) # compute Ifuture\n",
    "    # Return dictionaries of ipast and ifuture values\n",
    "    return(ip_sub,if_sub)\n",
    "\n",
    "#try:\n",
    "    # Check if subject mutual information values have already been computed\n",
    "#    ips_sub_h1,if_sub_h1 = pickle.load(open('vickie_sim_mar9_ipf_sub_h1.pkl','rb')) #load windowed mutual information values for H=.01\n",
    "#    ips_sub_h9,if_sub_h9 = pickle.load(open('vickie_sim_mar9_ipf_sub_h9.pkl','rb')) #load windowed mutual information values for H=.99\n",
    "#except:\n",
    "    # If not, compute them below\n",
    "    # Low confidence\n",
    "ips_sub_h1,if_sub_h1 = get_windowed_mi_subs(D,6)\n",
    "    #pickle.dump((ips_sub_h1,if_sub_h1),open('vickie_sim_mar9_ipf_sub_h1.pkl','wb'))\n",
    "\n",
    "    # High confidence\n",
    "ips_sub_h9,if_sub_h9 = get_windowed_mi_subs(D,6)\n",
    "    \n",
    "# Plot ipast as a function of window size for each subject (different colors)\n",
    "plt.figure(1,(15,5))\n",
    "# Low confidence\n",
    "plt.subplot(1,2,1)\n",
    "for sub in pd.unique([key for key in ips_sub_h1.keys()]):\n",
    "    plt.plot(np.arange(len(ips_sub_h1[sub])),ips_sub_h1[sub],'-o',label = sub)\n",
    "    plt.ylabel('Subject $I_{past}$',size=15)\n",
    "    plt.xlabel('Window size of $X$ into the past',size=15)\n",
    "    plt.title('Low confidence',size=20)\n",
    "    plt.ylim([0,1])\n",
    "    plt.legend(loc = 'lower right')\n",
    "    \n",
    "# High confidence\n",
    "plt.subplot(1,2,2)\n",
    "for sub in pd.unique([key for key in ips_sub_h9.keys()]):\n",
    "    plt.plot(np.arange(len(ips_sub_h9[sub])),ips_sub_h9[sub],'-o',label = sub)\n",
    "    plt.ylabel('Subject $I_{past}$',size=15)\n",
    "    plt.xlabel('Window size of $X$ into the past',size=15)\n",
    "    plt.title('High confidence',size=20)\n",
    "    plt.ylim([0,1])\n",
    "    plt.legend(loc = 'lower right')"
   ]
  },
  {
   "cell_type": "code",
   "execution_count": null,
   "id": "valid-argentina",
   "metadata": {},
   "outputs": [],
   "source": [
    "ips_sub_t,if_sub_t = get_windowed_mi_subs(adat_trials,10)"
   ]
  },
  {
   "cell_type": "code",
   "execution_count": 35,
   "id": "sitting-stock",
   "metadata": {},
   "outputs": [
    {
     "data": {
      "text/plain": [
       "({'5d6f': array([0.        , 0.14762922, 0.28271622, 0.38280383, 0.45837033,\n",
       "         0.50195059, 0.55686799, 0.59843827, 0.59990945, 0.53794895,\n",
       "         0.36758776])},\n",
       " {'5d6f': 0.3312475214245512})"
      ]
     },
     "execution_count": 35,
     "metadata": {},
     "output_type": "execute_result"
    }
   ],
   "source": [
    "ips_sub_t,if_sub_t"
   ]
  },
  {
   "cell_type": "code",
   "execution_count": 191,
   "id": "further-organization",
   "metadata": {},
   "outputs": [
    {
     "name": "stdout",
     "output_type": "stream",
     "text": [
      "CPU times: user 1min 43s, sys: 752 ms, total: 1min 44s\n",
      "Wall time: 1min 46s\n"
     ]
    }
   ],
   "source": [
    "%%time\n",
    "def get_bootstrapped_samples(dat,wips,nboot):\n",
    "    '''\n",
    "    Function to compute and return bootstrapped distributions of Ipast and Ifuture values for each subject\n",
    "    Input:\n",
    "        - dat: all subject data\n",
    "        - wips: matrix of mutual information by widow size values for each subject\n",
    "        - nboot: number of requested bootstrap iterations\n",
    "    Output:\n",
    "        - dictionaries of bootstrapped distributions of Ipast and Ifuture values\n",
    "    '''\n",
    "    # Get subject IDs and initialize dictionaries\n",
    "    subs = pd.unique(dat['Subject'])\n",
    "    ip_boot_mi = {}\n",
    "    if_boot_mi = {}\n",
    "    \n",
    "    # Loop through each subject and get bootstrapped estimates\n",
    "    for subi,sub in enumerate(subs):\n",
    "        sdat = dat[dat['Subject'] == sub]   # Get subject data\n",
    "        w = wips[sub].argmax()              # Get subject's maximum window size\n",
    "        x = np.array(sdat['History'])           # Get tones, responses, and sources for the subject\n",
    "        r = np.array(sdat['Response'])\n",
    "        z = np.array(sdat['Jar'])\n",
    "        xw,rw = get_windowed_x_v(['0' + h[-(w+1):] for h in x],r,w=(w+1)) # Window the tones and responses appropriately\n",
    "        ip_boot_mi[sub] = np.zeros(nboot)      # Initialize arrays of mutual information values\n",
    "        if_boot_mi[sub] = np.zeros(nboot)\n",
    "        \n",
    "        # Run bootstrap procedure\n",
    "        for boot in np.arange(nboot):\n",
    "            idx = np.random.choice(np.arange(len(xw)),size=len(xw),replace=True)    # Select random indicies with replacement\n",
    "            ip_boot_mi[sub][boot] = ut.mutual_inf_nsb(xw[idx],rw[idx],[2**(w+1),2]) # Use indexed data to compute Ipast\n",
    "            if_boot_mi[sub][boot] = ut.mutual_inf_nsb(r[idx],z[idx],[2,2])          # Use indexed data to compute Ifuture\n",
    "    # Return dictionaries of Ipast and Ifuture distributions\n",
    "    return(ip_boot_mi,if_boot_mi)\n",
    "\n",
    "#try:\n",
    "    # Check to see if bootstrapped samples have already been computed\n",
    "#    ip_h1_boot, if_h1_boot = pickle.load(open('vickie_sim_mar9_ip_if_h1_boot.pkl','rb')) # Low confidence\n",
    "#    ip_h9_boot, if_h9_boot = pickle.load(open('vickie_sim_mar9_ip_if_h9_boot.pkl','rb')) # High confidence\n",
    "#except:\n",
    "    # If not, compute and save below\n",
    "nboot = 1000 #number of bootstrapped samples\n",
    "    #Low confidence\n",
    "ip_h1_boot, if_h1_boot = get_bootstrapped_samples(D,ips_sub_h1,nboot)\n",
    "    #pickle.dump((ip_h1_boot, if_h1_boot),open('vickie_sim_mar9_ip_if_h1_boot.pkl','wb'))\n",
    "    #High confidence\n",
    "ip_h9_boot, if_h9_boot = get_bootstrapped_samples(D,ips_sub_h9,nboot)"
   ]
  },
  {
   "cell_type": "code",
   "execution_count": 192,
   "id": "refined-agenda",
   "metadata": {},
   "outputs": [
    {
     "data": {
      "text/plain": [
       "<Figure size 1080x360 with 0 Axes>"
      ]
     },
     "execution_count": 192,
     "metadata": {},
     "output_type": "execute_result"
    },
    {
     "data": {
      "text/plain": [
       "<AxesSubplot:>"
      ]
     },
     "execution_count": 192,
     "metadata": {},
     "output_type": "execute_result"
    },
    {
     "data": {
      "text/plain": [
       "[<matplotlib.lines.Line2D at 0x7fc47be0b310>]"
      ]
     },
     "execution_count": 192,
     "metadata": {},
     "output_type": "execute_result"
    },
    {
     "data": {
      "text/plain": [
       "[<matplotlib.lines.Line2D at 0x7fc47be30cd0>]"
      ]
     },
     "execution_count": 192,
     "metadata": {},
     "output_type": "execute_result"
    },
    {
     "data": {
      "text/plain": [
       "<ErrorbarContainer object of 3 artists>"
      ]
     },
     "execution_count": 192,
     "metadata": {},
     "output_type": "execute_result"
    },
    {
     "data": {
      "text/plain": [
       "<ErrorbarContainer object of 3 artists>"
      ]
     },
     "execution_count": 192,
     "metadata": {},
     "output_type": "execute_result"
    },
    {
     "data": {
      "text/plain": [
       "<ErrorbarContainer object of 3 artists>"
      ]
     },
     "execution_count": 192,
     "metadata": {},
     "output_type": "execute_result"
    },
    {
     "data": {
      "text/plain": [
       "<ErrorbarContainer object of 3 artists>"
      ]
     },
     "execution_count": 192,
     "metadata": {},
     "output_type": "execute_result"
    },
    {
     "data": {
      "text/plain": [
       "<ErrorbarContainer object of 3 artists>"
      ]
     },
     "execution_count": 192,
     "metadata": {},
     "output_type": "execute_result"
    },
    {
     "data": {
      "text/plain": [
       "<ErrorbarContainer object of 3 artists>"
      ]
     },
     "execution_count": 192,
     "metadata": {},
     "output_type": "execute_result"
    },
    {
     "data": {
      "text/plain": [
       "6"
      ]
     },
     "execution_count": 192,
     "metadata": {},
     "output_type": "execute_result"
    },
    {
     "data": {
      "text/plain": [
       "Text(101.625, 0.5, 'Subject Predictive Accuracy\\n$I_{future}$')"
      ]
     },
     "execution_count": 192,
     "metadata": {},
     "output_type": "execute_result"
    },
    {
     "data": {
      "text/plain": [
       "Text(0.5, 24.0, 'Subject Information Complexity\\n$I_{past}$')"
      ]
     },
     "execution_count": 192,
     "metadata": {},
     "output_type": "execute_result"
    },
    {
     "data": {
      "text/plain": [
       "Text(0.5, 1.0, 'Low confidence')"
      ]
     },
     "execution_count": 192,
     "metadata": {},
     "output_type": "execute_result"
    },
    {
     "data": {
      "text/plain": [
       "<AxesSubplot:>"
      ]
     },
     "execution_count": 192,
     "metadata": {},
     "output_type": "execute_result"
    },
    {
     "data": {
      "text/plain": [
       "[<matplotlib.lines.Line2D at 0x7fc47ef18bd0>]"
      ]
     },
     "execution_count": 192,
     "metadata": {},
     "output_type": "execute_result"
    },
    {
     "data": {
      "text/plain": [
       "[<matplotlib.lines.Line2D at 0x7fc47ef27090>]"
      ]
     },
     "execution_count": 192,
     "metadata": {},
     "output_type": "execute_result"
    },
    {
     "data": {
      "text/plain": [
       "<ErrorbarContainer object of 3 artists>"
      ]
     },
     "execution_count": 192,
     "metadata": {},
     "output_type": "execute_result"
    },
    {
     "data": {
      "text/plain": [
       "<ErrorbarContainer object of 3 artists>"
      ]
     },
     "execution_count": 192,
     "metadata": {},
     "output_type": "execute_result"
    },
    {
     "data": {
      "text/plain": [
       "<ErrorbarContainer object of 3 artists>"
      ]
     },
     "execution_count": 192,
     "metadata": {},
     "output_type": "execute_result"
    },
    {
     "data": {
      "text/plain": [
       "<ErrorbarContainer object of 3 artists>"
      ]
     },
     "execution_count": 192,
     "metadata": {},
     "output_type": "execute_result"
    },
    {
     "data": {
      "text/plain": [
       "<ErrorbarContainer object of 3 artists>"
      ]
     },
     "execution_count": 192,
     "metadata": {},
     "output_type": "execute_result"
    },
    {
     "data": {
      "text/plain": [
       "<ErrorbarContainer object of 3 artists>"
      ]
     },
     "execution_count": 192,
     "metadata": {},
     "output_type": "execute_result"
    },
    {
     "data": {
      "text/plain": [
       "6"
      ]
     },
     "execution_count": 192,
     "metadata": {},
     "output_type": "execute_result"
    },
    {
     "data": {
      "text/plain": [
       "Text(0.5, 24.0, 'Subject Information Complexity\\n$I_{past}$')"
      ]
     },
     "execution_count": 192,
     "metadata": {},
     "output_type": "execute_result"
    },
    {
     "data": {
      "text/plain": [
       "Text(0.5, 1.0, 'High confidence')"
      ]
     },
     "execution_count": 192,
     "metadata": {},
     "output_type": "execute_result"
    },
    {
     "data": {
      "image/png": "[encoded data removed]",
      "text/plain": [
       "<Figure size 1080x360 with 2 Axes>"
      ]
     },
     "metadata": {
      "needs_background": "light"
     },
     "output_type": "display_data"
    }
   ],
   "source": [
    "colors = dict(zip(set([key.split(\"_\")[0] for key in ip_h1_boot.keys()]), [cmap(i) for i in np.arange(len(set([key.split(\"_\")[0] for key in ip_h1_boot.keys()])))]))\n",
    "\n",
    "# Get mean Ipast/Ifuture values per subject\n",
    "# Low confidence Ipast values and 95% confidence intervals\n",
    "ip_mean_h1 = np.array([np.mean(ip_h1_boot[key]) for key in ip_h1_boot.keys()])\n",
    "ip_95CI_h1 = np.array([np.std(ip_h1_boot[key])*1.96 for key in ip_h1_boot.keys()])\n",
    "\n",
    "# Low confidence Ifuture values and 95% confidence intervals\n",
    "if_mean_h1 = np.array([np.mean(if_h1_boot[key]) for key in if_h1_boot.keys()])\n",
    "if_95CI_h1 = np.array([np.std(if_h1_boot[key])*1.96 for key in if_h1_boot.keys()])\n",
    "\n",
    "h1_subs = np.array([key.split(\"_\")[0] for key in ip_h1_boot.keys()])\n",
    "h1_colors = np.array([colors[i] for i in h1_subs])\n",
    "\n",
    "# High confidence Ipast values and 95% confidence intervals\n",
    "ip_mean_h9 = np.array([np.mean(ip_h9_boot[key]) for key in ip_h9_boot.keys()])\n",
    "ip_95CI_h9 = np.array([np.std(ip_h9_boot[key])*1.96 for key in ip_h9_boot.keys()])\n",
    "\n",
    "# High confidence Ifuture values and 95% confidence intervals\n",
    "if_mean_h9 = np.array([np.mean(if_h9_boot[key]) for key in if_h9_boot.keys()])\n",
    "if_95CI_h9 = np.array([np.std(if_h9_boot[key])*1.96 for key in if_h9_boot.keys()])\n",
    "\n",
    "h9_subs = np.array([key.split(\"_\")[0] for key in ip_h9_boot.keys()])\n",
    "h9_colors = np.array([colors[i] for i in h9_subs])\n",
    "\n",
    "\n",
    "plt.figure(1,(15,5))\n",
    "# Low confidence\n",
    "plt.subplot(1,2,1)\n",
    "r,p=spearmanr(ip_mean_h1,if_mean_h1)\n",
    "plt.plot(ipw_h1,ifw_h1,'-k',label='full bound')\n",
    "plt.plot(ipw_h1_1back,ifw_h1_1back,'--k',label='one-back bound')\n",
    "for i_p,i_f,col,xe,ye in zip(ip_mean_h1,if_mean_h1,h1_colors, ip_95CI_h1,if_95CI_h1 ):\n",
    "    plt.errorbar(i_p,i_f,xerr=xe,yerr = ye,\n",
    "             marker='o',markersize=9,mec='white',color=col,ls='none')\n",
    "texts = []\n",
    "for i,sub in enumerate(ip_h1_boot.keys()): \n",
    "    texts.append(plt.text(ip_mean_h1[i],if_mean_h1[i],sub))\n",
    "adjust_text(texts, arrowprops=dict(arrowstyle=\"-\",color='grey'))\n",
    "plt.ylabel('Subject Predictive Accuracy\\n$I_{future}$',size=15)\n",
    "plt.xlabel('Subject Information Complexity\\n$I_{past}$',size=15)\n",
    "plt.title('Low confidence',size=20)\n",
    "#plt.ylim([0,1])\n",
    "    \n",
    "# High confidence\n",
    "plt.subplot(1,2,2)\n",
    "r,p=spearmanr(ip_mean_h9,if_mean_h9)\n",
    "plt.plot(ipw_h9,ifw_h9,'-k',label='full bound')\n",
    "plt.plot(ipw_h9_1back,ifw_h9_1back,'--k',label='one-back bound')\n",
    "for i_p,i_f,col,xe,ye in zip(ip_mean_h9,if_mean_h9,h9_colors, ip_95CI_h9,if_95CI_h9):\n",
    "    plt.errorbar(i_p,i_f,xerr=xe,yerr = ye,\n",
    "             marker='o',markersize=9,mec='white',color=col,ls='none')\n",
    "texts = []\n",
    "for i,sub in enumerate(ip_h9_boot.keys()): \n",
    "    texts.append(plt.text(ip_mean_h9[i],if_mean_h9[i],sub))\n",
    "adjust_text(texts, arrowprops=dict(arrowstyle=\"-\",color='grey'))\n",
    "plt.xlabel('Subject Information Complexity\\n$I_{past}$',size=15)\n",
    "plt.title('High confidence',size=20)\n",
    "#plt.legend()\n",
    "#plt.ylim([0,1])"
   ]
  },
  {
   "cell_type": "code",
   "execution_count": 1151,
   "id": "opposite-jersey",
   "metadata": {},
   "outputs": [
    {
     "name": "stdout",
     "output_type": "stream",
     "text": [
      "CPU times: user 1min 39s, sys: 933 ms, total: 1min 40s\n",
      "Wall time: 1min 43s\n"
     ]
    }
   ],
   "source": [
    "%%time\n",
    "def get_windowed_mi_subs_confid(sdat_all,nw):\n",
    "    '''\n",
    "    Function to compute windowed mutual information values for all subjects\n",
    "    Input:\n",
    "        - sdat_all: data frame with all of the subject tones, responses, and sources\n",
    "        - nw: maximum window size to be considered\n",
    "    Output:\n",
    "        - Ipast for each window size and Ifuture\n",
    "    '''\n",
    "    # Create dictionaries to keep track of variables with subject IDs as the keys\n",
    "    subs = pd.unique(sdat_all['Subject'])\n",
    "    ip_sub = {}\n",
    "    # Loop through each subject and get their Ipast for windows up to nw and their ifuture\n",
    "    for subi,sub in enumerate(subs):\n",
    "        sdat = sdat_all[sdat_all['Subject'] == sub]                   # Get data from specific subject \n",
    "        ip_sub[sub] = get_windowed_mi(sdat['History'],sdat['Response'],nw, confid = 1)    # compute Ipast using function defined above \n",
    "    # Return dictionaries of ipast and ifuture values\n",
    "    return(ip_sub)\n",
    "\n",
    "\n",
    "def get_bootstrapped_samples_confid(dat,wips,nboot):\n",
    "    '''\n",
    "    Function to compute and return bootstrapped distributions of Ipast and Ifuture values for each subject\n",
    "    Input:\n",
    "        - dat: all subject data\n",
    "        - wips: matrix of mutual information by widow size values for each subject\n",
    "        - nboot: number of requested bootstrap iterations\n",
    "    Output:\n",
    "        - dictionaries of bootstrapped distributions of Ipast and Ifuture values\n",
    "    '''\n",
    "    # Get subject IDs and initialize dictionaries\n",
    "    subs = pd.unique(dat['Subject'])\n",
    "    ip_boot_mi = {}\n",
    "    \n",
    "    # Loop through each subject and get bootstrapped estimates\n",
    "    for subi,sub in enumerate(subs):\n",
    "        sdat = dat[dat['Subject'] == sub]   # Get subject data\n",
    "        w = wips[sub].argmax()              # Get subject's maximum window size\n",
    "        x = np.array(sdat['History'])           # Get tones, responses, and sources for the subject\n",
    "        r = np.array(2*sdat['Response'] + sdat['Confidence'])\n",
    "        z = np.array(sdat['Jar'])\n",
    "        xw,rw = get_windowed_x_v(['0' + h[-(w+1):] for h in x],r,w=(w+1)) # Window the tones and responses appropriately\n",
    "        ip_boot_mi[sub] = np.zeros(nboot)      # Initialize arrays of mutual information values\n",
    "        \n",
    "        # Run bootstrap procedure\n",
    "        for boot in np.arange(nboot):\n",
    "            idx = np.random.choice(np.arange(len(xw)),size=len(xw),replace=True)    # Select random indicies with replacement\n",
    "            ip_boot_mi[sub][boot] = ut.mutual_inf_nsb(xw[idx],rw[idx],[2**(w+1),4]) # Use indexed data to compute Ipast\n",
    "    # Return dictionaries of Ipast and Ifuture distributions\n",
    "    return(ip_boot_mi)"
   ]
  },
  {
   "cell_type": "code",
   "execution_count": null,
   "id": "multiple-darkness",
   "metadata": {},
   "outputs": [],
   "source": [
    "#try:\n",
    "    # Check if subject mutual information values have already been computed\n",
    "#    ips_sub_h1,if_sub_h1 = pickle.load(open('vickie_sim_mar9_ipf_sub_h1.pkl','rb')) #load windowed mutual information values for H=.01\n",
    "#    ips_sub_h9,if_sub_h9 = pickle.load(open('vickie_sim_mar9_ipf_sub_h9.pkl','rb')) #load windowed mutual information values for H=.99\n",
    "#except:\n",
    "    # If not, compute them below\n",
    "    # Low confidence\n",
    "ips_sub_confid = get_windowed_mi_subs_confid(D,10)\n",
    "    #pickle.dump((ips_sub_h1,if_sub_h1),open('vickie_sim_mar9_ipf_sub_h1.pkl','wb'))\n",
    "\n",
    "#try:\n",
    "    # Check to see if bootstrapped samples have already been computed\n",
    "#    ip_h1_boot, if_h1_boot = pickle.load(open('vickie_sim_mar9_ip_if_h1_boot.pkl','rb')) # Low confidence\n",
    "#    ip_h9_boot, if_h9_boot = pickle.load(open('vickie_sim_mar9_ip_if_h9_boot.pkl','rb')) # High confidence\n",
    "#except:\n",
    "    # If not, compute and save below\n",
    "nboot = 1000 #number of bootstrapped samples\n",
    "    #Low confidence\n",
    "ip_confid_boot = get_bootstrapped_samples_confid(D,ips_sub_confid,nboot)\n",
    "    #pickle.dump((ip_h1_boot, if_h1_boot),open('vickie_sim_mar9_ip_if_h1_boot.pkl','wb'))"
   ]
  },
  {
   "cell_type": "code",
   "execution_count": 1240,
   "id": "rocky-mirror",
   "metadata": {},
   "outputs": [
    {
     "name": "stdout",
     "output_type": "stream",
     "text": [
      "CPU times: user 25 µs, sys: 226 µs, total: 251 µs\n",
      "Wall time: 1.43 ms\n"
     ]
    }
   ],
   "source": [
    "%%time\n",
    "def get_windowed_mi_subs_confid_only(sdat_all,nw):\n",
    "    '''\n",
    "    Function to compute windowed mutual information values for all subjects\n",
    "    Input:\n",
    "        - sdat_all: data frame with all of the subject tones, responses, and sources\n",
    "        - nw: maximum window size to be considered\n",
    "    Output:\n",
    "        - Ipast for each window size and Ifuture\n",
    "    '''\n",
    "    # Create dictionaries to keep track of variables with subject IDs as the keys\n",
    "    subs = pd.unique(sdat_all['Subject'])\n",
    "    ip_sub = {}\n",
    "    # Loop through each subject and get their Ipast for windows up to nw and their ifuture\n",
    "    for subi,sub in enumerate(subs):\n",
    "        sdat = sdat_all[sdat_all['Subject'] == sub]                   # Get data from specific subject \n",
    "        ip_sub[sub] = get_windowed_mi(sdat['History'],sdat['Confidence'],nw)    # compute Ipast using function defined above \n",
    "    # Return dictionaries of ipast and ifuture values\n",
    "    return(ip_sub)\n",
    "\n",
    "\n",
    "def get_bootstrapped_samples_confid_only(dat,wips,nboot):\n",
    "    '''\n",
    "    Function to compute and return bootstrapped distributions of Ipast and Ifuture values for each subject\n",
    "    Input:\n",
    "        - dat: all subject data\n",
    "        - wips: matrix of mutual information by widow size values for each subject\n",
    "        - nboot: number of requested bootstrap iterations\n",
    "    Output:\n",
    "        - dictionaries of bootstrapped distributions of Ipast and Ifuture values\n",
    "    '''\n",
    "    # Get subject IDs and initialize dictionaries\n",
    "    subs = pd.unique(dat['Subject'])\n",
    "    ip_boot_mi = {}\n",
    "    \n",
    "    # Loop through each subject and get bootstrapped estimates\n",
    "    for subi,sub in enumerate(subs):\n",
    "        sdat = dat[dat['Subject'] == sub]   # Get subject data\n",
    "        w = wips[sub].argmax()              # Get subject's maximum window size\n",
    "        x = np.array(sdat['History'])           # Get tones, responses, and sources for the subject\n",
    "        r = np.array(sdat['Confidence'])\n",
    "        z = np.array(sdat['Jar'])\n",
    "        xw,rw = get_windowed_x_v(['0' + h[-(w+1):] for h in x],r,w=(w+1)) # Window the tones and responses appropriately\n",
    "        ip_boot_mi[sub] = np.zeros(nboot)      # Initialize arrays of mutual information values\n",
    "        \n",
    "        # Run bootstrap procedure\n",
    "        for boot in np.arange(nboot):\n",
    "            idx = np.random.choice(np.arange(len(xw)),size=len(xw),replace=True)    # Select random indicies with replacement\n",
    "            ip_boot_mi[sub][boot] = ut.mutual_inf_nsb(xw[idx],rw[idx],[2**(w+1),2]) # Use indexed data to compute Ipast\n",
    "    # Return dictionaries of Ipast and Ifuture distributions\n",
    "    return(ip_boot_mi)"
   ]
  },
  {
   "cell_type": "code",
   "execution_count": 1247,
   "id": "restricted-disclaimer",
   "metadata": {},
   "outputs": [],
   "source": [
    "ips_sub_confid_only = get_windowed_mi_subs_confid_only(D[D['Subject'].str.find(\"_\") == -1],10)\n",
    "ip_confid_only_boot = get_bootstrapped_samples_confid_only(D[D['Subject'].str.find(\"_\") == -1],ips_sub_confid_only,nboot)"
   ]
  },
  {
   "cell_type": "code",
   "execution_count": 1152,
   "id": "spare-moscow",
   "metadata": {},
   "outputs": [],
   "source": [
    "ip_mean_confid = np.array([np.mean(ip_confid_boot[key]) for key in ip_confid_boot.keys()])\n",
    "ip_95CI_confid = np.array([np.std(ip_confid_boot[key])*1.96 for key in ip_confid_boot.keys()])"
   ]
  },
  {
   "cell_type": "code",
   "execution_count": null,
   "id": "false-reminder",
   "metadata": {},
   "outputs": [],
   "source": [
    "ip_noconfid, if_noconfid = get_bootstrapped_samples(D[D['Subject'].str.find(\"_\") == -1],ips_sub_h1,nboot)\n",
    "ip_mean_noconfid = np.array([np.mean(ip_noconfid[key]) for key in ip_noconfid.keys()])"
   ]
  },
  {
   "cell_type": "code",
   "execution_count": 1248,
   "id": "million-authority",
   "metadata": {},
   "outputs": [],
   "source": [
    "ip_mean_confid_only = np.array([np.mean(ip_confid_only_boot[key]) for key in ip_confid_only_boot.keys()])"
   ]
  },
  {
   "cell_type": "code",
   "execution_count": 1154,
   "id": "minimal-legislature",
   "metadata": {},
   "outputs": [
    {
     "data": {
      "text/plain": [
       "array([0.45329015, 1.12133796, 0.58585388, 1.01932459, 0.60863374,\n",
       "       0.686839  , 0.40259199, 1.53888557, 0.91101466, 0.71532023,\n",
       "       0.50919126, 1.35946231, 0.76742958, 0.63015836, 0.4217495 ])"
      ]
     },
     "execution_count": 1154,
     "metadata": {},
     "output_type": "execute_result"
    }
   ],
   "source": [
    "ip_mean_confid"
   ]
  },
  {
   "cell_type": "code",
   "execution_count": 1249,
   "id": "clear-evening",
   "metadata": {},
   "outputs": [
    {
     "data": {
      "text/plain": [
       "array([0.15311323, 0.33136504, 0.02612676, 0.29493106, 0.07373036])"
      ]
     },
     "execution_count": 1249,
     "metadata": {},
     "output_type": "execute_result"
    }
   ],
   "source": [
    "ip_mean_confid_only "
   ]
  },
  {
   "cell_type": "code",
   "execution_count": 1250,
   "id": "subject-danish",
   "metadata": {},
   "outputs": [
    {
     "data": {
      "text/plain": [
       "array(['5fac', '5d6f', '598b', '5eb1', '6041', '5fac_Ideal',\n",
       "       '5fac_Random', '5d6f_Ideal', '5d6f_Random', '598b_Ideal',\n",
       "       '598b_Random', '5eb1_Ideal', '5eb1_Random', '6041_Ideal',\n",
       "       '6041_Random'], dtype=object)"
      ]
     },
     "execution_count": 1250,
     "metadata": {},
     "output_type": "execute_result"
    }
   ],
   "source": [
    "D['Subject'].unique()"
   ]
  },
  {
   "cell_type": "code",
   "execution_count": 1246,
   "id": "immediate-routine",
   "metadata": {},
   "outputs": [
    {
     "data": {
      "text/plain": [
       "array([ 1.53201152e-01,  3.32205700e-01,  2.65794211e-02,  2.94775838e-01,\n",
       "        7.22308354e-02,  4.66396968e-01,  1.08118143e-01,  7.74725873e-01,\n",
       "        1.27843386e-01,  4.74655201e-01,  1.28961599e-01, -1.87103595e+03,\n",
       "        1.24828445e-01,  3.55617308e-01,  8.51309375e-02])"
      ]
     },
     "execution_count": 1246,
     "metadata": {},
     "output_type": "execute_result"
    }
   ],
   "source": [
    "ip_mean_confid_only"
   ]
  },
  {
   "cell_type": "code",
   "execution_count": 1165,
   "id": "sticky-occasion",
   "metadata": {},
   "outputs": [
    {
     "data": {
      "text/plain": [
       "['5fac',\n",
       " '5d6f',\n",
       " '598b',\n",
       " '5eb1',\n",
       " '6041',\n",
       " '5fac_Ideal',\n",
       " '5fac_Random',\n",
       " '5d6f_Ideal',\n",
       " '5d6f_Random',\n",
       " '598b_Ideal',\n",
       " '598b_Random',\n",
       " '5eb1_Ideal',\n",
       " '5eb1_Random',\n",
       " '6041_Ideal',\n",
       " '6041_Random']"
      ]
     },
     "execution_count": 1165,
     "metadata": {},
     "output_type": "execute_result"
    }
   ],
   "source": [
    "[k for k in ip_confid_boot.keys()]"
   ]
  },
  {
   "cell_type": "code",
   "execution_count": 1158,
   "id": "spectacular-humanitarian",
   "metadata": {},
   "outputs": [
    {
     "data": {
      "text/plain": [
       "array([[0.12156863, 0.46666667, 0.70588235, 1.        ],\n",
       "       [0.83921569, 0.15294118, 0.15686275, 1.        ],\n",
       "       [0.58039216, 0.40392157, 0.74117647, 1.        ],\n",
       "       [0.17254902, 0.62745098, 0.17254902, 1.        ],\n",
       "       [1.        , 0.49803922, 0.05490196, 1.        ],\n",
       "       [0.12156863, 0.46666667, 0.70588235, 1.        ],\n",
       "       [0.12156863, 0.46666667, 0.70588235, 1.        ],\n",
       "       [0.83921569, 0.15294118, 0.15686275, 1.        ],\n",
       "       [0.83921569, 0.15294118, 0.15686275, 1.        ],\n",
       "       [0.58039216, 0.40392157, 0.74117647, 1.        ],\n",
       "       [0.58039216, 0.40392157, 0.74117647, 1.        ],\n",
       "       [0.17254902, 0.62745098, 0.17254902, 1.        ],\n",
       "       [0.17254902, 0.62745098, 0.17254902, 1.        ],\n",
       "       [1.        , 0.49803922, 0.05490196, 1.        ],\n",
       "       [1.        , 0.49803922, 0.05490196, 1.        ]])"
      ]
     },
     "execution_count": 1158,
     "metadata": {},
     "output_type": "execute_result"
    }
   ],
   "source": [
    "h1_colors"
   ]
  },
  {
   "cell_type": "code",
   "execution_count": 1252,
   "id": "minute-disease",
   "metadata": {},
   "outputs": [
    {
     "data": {
      "text/plain": [
       "<Figure size 576x432 with 0 Axes>"
      ]
     },
     "execution_count": 1252,
     "metadata": {},
     "output_type": "execute_result"
    },
    {
     "data": {
      "text/plain": [
       "<ErrorbarContainer object of 3 artists>"
      ]
     },
     "execution_count": 1252,
     "metadata": {},
     "output_type": "execute_result"
    },
    {
     "data": {
      "text/plain": [
       "<ErrorbarContainer object of 3 artists>"
      ]
     },
     "execution_count": 1252,
     "metadata": {},
     "output_type": "execute_result"
    },
    {
     "data": {
      "text/plain": [
       "<ErrorbarContainer object of 3 artists>"
      ]
     },
     "execution_count": 1252,
     "metadata": {},
     "output_type": "execute_result"
    },
    {
     "data": {
      "text/plain": [
       "<ErrorbarContainer object of 3 artists>"
      ]
     },
     "execution_count": 1252,
     "metadata": {},
     "output_type": "execute_result"
    },
    {
     "data": {
      "text/plain": [
       "<ErrorbarContainer object of 3 artists>"
      ]
     },
     "execution_count": 1252,
     "metadata": {},
     "output_type": "execute_result"
    },
    {
     "data": {
      "text/plain": [
       "<ErrorbarContainer object of 3 artists>"
      ]
     },
     "execution_count": 1252,
     "metadata": {},
     "output_type": "execute_result"
    },
    {
     "data": {
      "text/plain": [
       "<ErrorbarContainer object of 3 artists>"
      ]
     },
     "execution_count": 1252,
     "metadata": {},
     "output_type": "execute_result"
    },
    {
     "data": {
      "text/plain": [
       "<ErrorbarContainer object of 3 artists>"
      ]
     },
     "execution_count": 1252,
     "metadata": {},
     "output_type": "execute_result"
    },
    {
     "data": {
      "text/plain": [
       "<ErrorbarContainer object of 3 artists>"
      ]
     },
     "execution_count": 1252,
     "metadata": {},
     "output_type": "execute_result"
    },
    {
     "data": {
      "text/plain": [
       "<ErrorbarContainer object of 3 artists>"
      ]
     },
     "execution_count": 1252,
     "metadata": {},
     "output_type": "execute_result"
    },
    {
     "data": {
      "text/plain": [
       "<ErrorbarContainer object of 3 artists>"
      ]
     },
     "execution_count": 1252,
     "metadata": {},
     "output_type": "execute_result"
    },
    {
     "data": {
      "text/plain": [
       "<ErrorbarContainer object of 3 artists>"
      ]
     },
     "execution_count": 1252,
     "metadata": {},
     "output_type": "execute_result"
    },
    {
     "data": {
      "text/plain": [
       "<ErrorbarContainer object of 3 artists>"
      ]
     },
     "execution_count": 1252,
     "metadata": {},
     "output_type": "execute_result"
    },
    {
     "data": {
      "text/plain": [
       "<ErrorbarContainer object of 3 artists>"
      ]
     },
     "execution_count": 1252,
     "metadata": {},
     "output_type": "execute_result"
    },
    {
     "data": {
      "text/plain": [
       "<ErrorbarContainer object of 3 artists>"
      ]
     },
     "execution_count": 1252,
     "metadata": {},
     "output_type": "execute_result"
    },
    {
     "data": {
      "text/plain": [
       "8"
      ]
     },
     "execution_count": 1252,
     "metadata": {},
     "output_type": "execute_result"
    },
    {
     "data": {
      "text/plain": [
       "Text(35.5, 0.5, 'Subject$')"
      ]
     },
     "execution_count": 1252,
     "metadata": {},
     "output_type": "execute_result"
    },
    {
     "data": {
      "text/plain": [
       "Text(0.5, 33.0, 'Information Complexity\\n$I_{past}$')"
      ]
     },
     "execution_count": 1252,
     "metadata": {},
     "output_type": "execute_result"
    },
    {
     "data": {
      "text/plain": [
       "Text(0.5, 1.0, 'Low confidence')"
      ]
     },
     "execution_count": 1252,
     "metadata": {},
     "output_type": "execute_result"
    },
    {
     "data": {
      "image/png": "[encoded data removed]",
      "text/plain": [
       "<Figure size 576x432 with 1 Axes>"
      ]
     },
     "metadata": {
      "needs_background": "light"
     },
     "output_type": "display_data"
    }
   ],
   "source": [
    "colors = dict(zip(set([key.split(\"_\")[-1] for key in ip_confid_boot.keys()]), [cmap(i) for i in np.arange(len(set([key.split(\"_\")[-1] for key in ip_confid_boot.keys()])))]))\n",
    "\n",
    "confid_subs = np.array([key.split(\"_\")[-1] for key in ip_confid_boot.keys()])\n",
    "confid_colors = np.array([colors[i] for i in confid_subs])\n",
    "\n",
    "plt.figure(1,(8,6))\n",
    "#plt.errorbar(ip_mean_noconfid + ip_mean_confid_only, [key for key in ip_noconfid.keys()], marker = 's',ls='none')\n",
    "for i_p,sub,col,ye in zip(ip_mean_confid, [key.split(\"_\")[0] for key in ip_confid_boot.keys()],confid_colors,ip_95CI_confid):\n",
    "    plt.errorbar([i_p],[sub],\n",
    "             marker='o',markersize=9,mec='white',color = col,ls='none')\n",
    "texts = []\n",
    "for i,sub in enumerate(ip_confid_boot.keys()): \n",
    "    texts.append(plt.text(ip_mean_confid[i],[sub.split(\"_\")[0]],sub))\n",
    "adjust_text(texts, arrowprops=dict(arrowstyle=\"-\",color='grey'))\n",
    "plt.ylabel('Subject$',size=15)\n",
    "plt.xlabel('Information Complexity\\n$I_{past}$',size=15)\n",
    "plt.title('Low confidence',size=20)\n"
   ]
  },
  {
   "cell_type": "code",
   "execution_count": 1205,
   "id": "generic-yacht",
   "metadata": {},
   "outputs": [
    {
     "data": {
      "text/plain": [
       "{'5fac': (0.12156862745098039, 0.4666666666666667, 0.7058823529411765, 1.0),\n",
       " '6041': (1.0, 0.4980392156862745, 0.054901960784313725, 1.0),\n",
       " 'Random': (0.17254901960784313, 0.6274509803921569, 0.17254901960784313, 1.0),\n",
       " '5eb1': (0.8392156862745098, 0.15294117647058825, 0.1568627450980392, 1.0),\n",
       " '5d6f': (0.5803921568627451, 0.403921568627451, 0.7411764705882353, 1.0),\n",
       " 'Ideal': (0.5490196078431373, 0.33725490196078434, 0.29411764705882354, 1.0),\n",
       " '598b': (0.8901960784313725, 0.4666666666666667, 0.7607843137254902, 1.0)}"
      ]
     },
     "execution_count": 1205,
     "metadata": {},
     "output_type": "execute_result"
    }
   ],
   "source": [
    "colors"
   ]
  },
  {
   "cell_type": "code",
   "execution_count": 1214,
   "id": "bronze-width",
   "metadata": {},
   "outputs": [
    {
     "data": {
      "text/plain": [
       "<matplotlib.image.AxesImage at 0x7fe155637850>"
      ]
     },
     "execution_count": 1214,
     "metadata": {},
     "output_type": "execute_result"
    },
    {
     "data": {
      "image/png": "[encoded data removed]",
      "text/plain": [
       "<Figure size 432x288 with 1 Axes>"
      ]
     },
     "metadata": {
      "needs_background": "light"
     },
     "output_type": "display_data"
    }
   ],
   "source": [
    "plt.imshow([[[0.17254901960784313, 0.6274509803921569, 0.17254901960784313, 1.0]]])"
   ]
  },
  {
   "cell_type": "code",
   "execution_count": 1185,
   "id": "superior-funds",
   "metadata": {},
   "outputs": [
    {
     "name": "stdout",
     "output_type": "stream",
     "text": [
      "[0.4532901502166177, '5fac', array([0.12156863, 0.46666667, 0.70588235, 1.        ]), 0.05966175425415952]\n",
      "[1.1213379609428513, '5d6f', array([0.58039216, 0.40392157, 0.74117647, 1.        ]), 0.06943378218109339]\n",
      "[0.5858538812612019, '598b', array([0.89019608, 0.46666667, 0.76078431, 1.        ]), 0.060003477402614296]\n",
      "[1.0193245880304214, '5eb1', array([0.83921569, 0.15294118, 0.15686275, 1.        ]), 0.05631598048242656]\n",
      "[0.6086337380596565, '6041', array([1.        , 0.49803922, 0.05490196, 1.        ]), 0.058871388859801255]\n",
      "[0.6868389956138014, '5fac', array([0.54901961, 0.3372549 , 0.29411765, 1.        ]), 0.06956389646430673]\n",
      "[0.4025919923277545, '5fac', array([0.17254902, 0.62745098, 0.17254902, 1.        ]), 0.05554714977057614]\n",
      "[1.5388855730916293, '5d6f', array([0.54901961, 0.3372549 , 0.29411765, 1.        ]), 0.05818982735859251]\n",
      "[0.91101466068325, '5d6f', array([0.17254902, 0.62745098, 0.17254902, 1.        ]), 0.06244843204369425]\n",
      "[0.7153202320180446, '598b', array([0.54901961, 0.3372549 , 0.29411765, 1.        ]), 0.06780842596150355]\n",
      "[0.5091912592196681, '598b', array([0.17254902, 0.62745098, 0.17254902, 1.        ]), 0.0549436686742876]\n",
      "[1.3594623100006142, '5eb1', array([0.54901961, 0.3372549 , 0.29411765, 1.        ]), 0.059924691585008356]\n",
      "[0.7674295772656872, '5eb1', array([0.17254902, 0.62745098, 0.17254902, 1.        ]), 0.06334499657296194]\n",
      "[0.6301583609812658, '6041', array([0.54901961, 0.3372549 , 0.29411765, 1.        ]), 0.07185543708673958]\n",
      "[0.42174950021169333, '6041', array([0.17254902, 0.62745098, 0.17254902, 1.        ]), 0.05554449112321066]\n"
     ]
    }
   ],
   "source": [
    "for i_p,sub,col,ye in zip(ip_mean_confid, [key.split(\"_\")[0] for key in ip_confid_boot.keys()],confid_colors,ip_95CI_confid):\n",
    "    print([i_p,sub,col,ye])"
   ]
  },
  {
   "cell_type": "code",
   "execution_count": 1169,
   "id": "burning-collins",
   "metadata": {},
   "outputs": [
    {
     "data": {
      "text/plain": [
       "15"
      ]
     },
     "execution_count": 1169,
     "metadata": {},
     "output_type": "execute_result"
    }
   ],
   "source": [
    "len([k for k in ip_confid_boot.keys()])"
   ]
  },
  {
   "cell_type": "code",
   "execution_count": 1171,
   "id": "parental-recording",
   "metadata": {},
   "outputs": [
    {
     "name": "stdout",
     "output_type": "stream",
     "text": [
      "(0.4532901502166177, '5fac', array([0.12156863, 0.46666667, 0.70588235, 1.        ]), 0.05966175425415952)\n",
      "(1.1213379609428513, '5d6f', array([0.83921569, 0.15294118, 0.15686275, 1.        ]), 0.06943378218109339)\n",
      "(0.5858538812612019, '598b', array([0.58039216, 0.40392157, 0.74117647, 1.        ]), 0.060003477402614296)\n",
      "(1.0193245880304214, '5eb1', array([0.17254902, 0.62745098, 0.17254902, 1.        ]), 0.05631598048242656)\n",
      "(0.6086337380596565, '6041', array([1.        , 0.49803922, 0.05490196, 1.        ]), 0.058871388859801255)\n",
      "(0.6868389956138014, '5fac_Ideal', array([0.12156863, 0.46666667, 0.70588235, 1.        ]), 0.06956389646430673)\n",
      "(0.4025919923277545, '5fac_Random', array([0.12156863, 0.46666667, 0.70588235, 1.        ]), 0.05554714977057614)\n",
      "(1.5388855730916293, '5d6f_Ideal', array([0.83921569, 0.15294118, 0.15686275, 1.        ]), 0.05818982735859251)\n",
      "(0.91101466068325, '5d6f_Random', array([0.83921569, 0.15294118, 0.15686275, 1.        ]), 0.06244843204369425)\n",
      "(0.7153202320180446, '598b_Ideal', array([0.58039216, 0.40392157, 0.74117647, 1.        ]), 0.06780842596150355)\n",
      "(0.5091912592196681, '598b_Random', array([0.58039216, 0.40392157, 0.74117647, 1.        ]), 0.0549436686742876)\n",
      "(1.3594623100006142, '5eb1_Ideal', array([0.17254902, 0.62745098, 0.17254902, 1.        ]), 0.059924691585008356)\n",
      "(0.7674295772656872, '5eb1_Random', array([0.17254902, 0.62745098, 0.17254902, 1.        ]), 0.06334499657296194)\n",
      "(0.6301583609812658, '6041_Ideal', array([1.        , 0.49803922, 0.05490196, 1.        ]), 0.07185543708673958)\n",
      "(0.42174950021169333, '6041_Random', array([1.        , 0.49803922, 0.05490196, 1.        ]), 0.05554449112321066)\n"
     ]
    }
   ],
   "source": [
    "for t in zip(ip_mean_confid,[k for k in ip_confid_boot.keys()],h1_colors, ip_95CI_confid):\n",
    "    print(t)"
   ]
  },
  {
   "cell_type": "code",
   "execution_count": 1234,
   "id": "automotive-kuwait",
   "metadata": {},
   "outputs": [],
   "source": []
  },
  {
   "cell_type": "code",
   "execution_count": null,
   "id": "radical-miracle",
   "metadata": {},
   "outputs": [],
   "source": []
  },
  {
   "cell_type": "code",
   "execution_count": null,
   "id": "located-reservoir",
   "metadata": {},
   "outputs": [],
   "source": []
  },
  {
   "cell_type": "code",
   "execution_count": null,
   "id": "recognized-methodology",
   "metadata": {},
   "outputs": [],
   "source": []
  },
  {
   "cell_type": "code",
   "execution_count": 1232,
   "id": "magnetic-bankruptcy",
   "metadata": {},
   "outputs": [
    {
     "data": {
      "text/html": [
       "<div>\n",
       "<style scoped>\n",
       "    .dataframe tbody tr th:only-of-type {\n",
       "        vertical-align: middle;\n",
       "    }\n",
       "\n",
       "    .dataframe tbody tr th {\n",
       "        vertical-align: top;\n",
       "    }\n",
       "\n",
       "    .dataframe thead th {\n",
       "        text-align: right;\n",
       "    }\n",
       "</style>\n",
       "<table border=\"1\" class=\"dataframe\">\n",
       "  <thead>\n",
       "    <tr style=\"text-align: right;\">\n",
       "      <th></th>\n",
       "      <th>Subject</th>\n",
       "      <th>Trial</th>\n",
       "      <th>Jar</th>\n",
       "      <th>Bead</th>\n",
       "      <th>Response</th>\n",
       "      <th>Confidence</th>\n",
       "      <th>Correct</th>\n",
       "      <th>History</th>\n",
       "    </tr>\n",
       "  </thead>\n",
       "  <tbody>\n",
       "    <tr>\n",
       "      <th>0</th>\n",
       "      <td>5fac</td>\n",
       "      <td>10</td>\n",
       "      <td>0</td>\n",
       "      <td>0</td>\n",
       "      <td>1</td>\n",
       "      <td>1</td>\n",
       "      <td>0</td>\n",
       "      <td>00001001010</td>\n",
       "    </tr>\n",
       "    <tr>\n",
       "      <th>1</th>\n",
       "      <td>5fac</td>\n",
       "      <td>11</td>\n",
       "      <td>0</td>\n",
       "      <td>0</td>\n",
       "      <td>0</td>\n",
       "      <td>1</td>\n",
       "      <td>1</td>\n",
       "      <td>00010010100</td>\n",
       "    </tr>\n",
       "    <tr>\n",
       "      <th>2</th>\n",
       "      <td>5fac</td>\n",
       "      <td>12</td>\n",
       "      <td>0</td>\n",
       "      <td>0</td>\n",
       "      <td>0</td>\n",
       "      <td>1</td>\n",
       "      <td>1</td>\n",
       "      <td>00100101000</td>\n",
       "    </tr>\n",
       "    <tr>\n",
       "      <th>3</th>\n",
       "      <td>5fac</td>\n",
       "      <td>13</td>\n",
       "      <td>0</td>\n",
       "      <td>0</td>\n",
       "      <td>0</td>\n",
       "      <td>1</td>\n",
       "      <td>1</td>\n",
       "      <td>01001010000</td>\n",
       "    </tr>\n",
       "    <tr>\n",
       "      <th>4</th>\n",
       "      <td>5fac</td>\n",
       "      <td>14</td>\n",
       "      <td>0</td>\n",
       "      <td>1</td>\n",
       "      <td>0</td>\n",
       "      <td>1</td>\n",
       "      <td>0</td>\n",
       "      <td>00010100000</td>\n",
       "    </tr>\n",
       "    <tr>\n",
       "      <th>...</th>\n",
       "      <td>...</td>\n",
       "      <td>...</td>\n",
       "      <td>...</td>\n",
       "      <td>...</td>\n",
       "      <td>...</td>\n",
       "      <td>...</td>\n",
       "      <td>...</td>\n",
       "      <td>...</td>\n",
       "    </tr>\n",
       "    <tr>\n",
       "      <th>4995</th>\n",
       "      <td>6041</td>\n",
       "      <td>1005</td>\n",
       "      <td>1</td>\n",
       "      <td>1</td>\n",
       "      <td>1</td>\n",
       "      <td>1</td>\n",
       "      <td>1</td>\n",
       "      <td>00101111111</td>\n",
       "    </tr>\n",
       "    <tr>\n",
       "      <th>4996</th>\n",
       "      <td>6041</td>\n",
       "      <td>1006</td>\n",
       "      <td>1</td>\n",
       "      <td>0</td>\n",
       "      <td>1</td>\n",
       "      <td>1</td>\n",
       "      <td>0</td>\n",
       "      <td>01011111111</td>\n",
       "    </tr>\n",
       "    <tr>\n",
       "      <th>4997</th>\n",
       "      <td>6041</td>\n",
       "      <td>1007</td>\n",
       "      <td>1</td>\n",
       "      <td>0</td>\n",
       "      <td>1</td>\n",
       "      <td>1</td>\n",
       "      <td>0</td>\n",
       "      <td>00111111110</td>\n",
       "    </tr>\n",
       "    <tr>\n",
       "      <th>4998</th>\n",
       "      <td>6041</td>\n",
       "      <td>1008</td>\n",
       "      <td>1</td>\n",
       "      <td>0</td>\n",
       "      <td>0</td>\n",
       "      <td>0</td>\n",
       "      <td>1</td>\n",
       "      <td>01111111100</td>\n",
       "    </tr>\n",
       "    <tr>\n",
       "      <th>4999</th>\n",
       "      <td>6041</td>\n",
       "      <td>1009</td>\n",
       "      <td>1</td>\n",
       "      <td>1</td>\n",
       "      <td>0</td>\n",
       "      <td>0</td>\n",
       "      <td>0</td>\n",
       "      <td>01111111000</td>\n",
       "    </tr>\n",
       "  </tbody>\n",
       "</table>\n",
       "<p>5000 rows × 8 columns</p>\n",
       "</div>"
      ],
      "text/plain": [
       "     Subject  Trial  Jar  Bead  Response  Confidence  Correct      History\n",
       "0       5fac     10    0     0         1           1        0  00001001010\n",
       "1       5fac     11    0     0         0           1        1  00010010100\n",
       "2       5fac     12    0     0         0           1        1  00100101000\n",
       "3       5fac     13    0     0         0           1        1  01001010000\n",
       "4       5fac     14    0     1         0           1        0  00010100000\n",
       "...      ...    ...  ...   ...       ...         ...      ...          ...\n",
       "4995    6041   1005    1     1         1           1        1  00101111111\n",
       "4996    6041   1006    1     0         1           1        0  01011111111\n",
       "4997    6041   1007    1     0         1           1        0  00111111110\n",
       "4998    6041   1008    1     0         0           0        1  01111111100\n",
       "4999    6041   1009    1     1         0           0        0  01111111000\n",
       "\n",
       "[5000 rows x 8 columns]"
      ]
     },
     "execution_count": 1232,
     "metadata": {},
     "output_type": "execute_result"
    }
   ],
   "source": []
  },
  {
   "cell_type": "code",
   "execution_count": null,
   "id": "strange-somalia",
   "metadata": {},
   "outputs": [],
   "source": []
  },
  {
   "cell_type": "code",
   "execution_count": null,
   "id": "textile-firmware",
   "metadata": {},
   "outputs": [],
   "source": []
  },
  {
   "cell_type": "code",
   "execution_count": null,
   "id": "pharmaceutical-fifth",
   "metadata": {},
   "outputs": [],
   "source": []
  },
  {
   "cell_type": "code",
   "execution_count": null,
   "id": "comfortable-documentary",
   "metadata": {},
   "outputs": [],
   "source": []
  },
  {
   "cell_type": "code",
   "execution_count": null,
   "id": "worse-beads",
   "metadata": {},
   "outputs": [],
   "source": []
  },
  {
   "cell_type": "code",
   "execution_count": 1041,
   "id": "surrounded-jewel",
   "metadata": {},
   "outputs": [
    {
     "data": {
      "text/plain": [
       "array(['605e', '5ce7', '5de0', 'Ideal2', '605e', '605e', '5ce7', '5ce7',\n",
       "       '5de0', '5de0'], dtype='<U6')"
      ]
     },
     "execution_count": 1041,
     "metadata": {},
     "output_type": "execute_result"
    }
   ],
   "source": [
    "h1_subs = np.array([key.split(\"_\")[0] for key in ip_h1_boot.keys()])\n",
    "h1_subs"
   ]
  },
  {
   "cell_type": "code",
   "execution_count": 1066,
   "id": "available-exception",
   "metadata": {},
   "outputs": [
    {
     "data": {
      "text/plain": [
       "array([[1.        , 0.49803922, 0.05490196, 1.        ],\n",
       "       [0.83921569, 0.15294118, 0.15686275, 1.        ],\n",
       "       [0.12156863, 0.46666667, 0.70588235, 1.        ],\n",
       "       [0.17254902, 0.62745098, 0.17254902, 1.        ],\n",
       "       [1.        , 0.49803922, 0.05490196, 1.        ],\n",
       "       [1.        , 0.49803922, 0.05490196, 1.        ],\n",
       "       [0.83921569, 0.15294118, 0.15686275, 1.        ],\n",
       "       [0.83921569, 0.15294118, 0.15686275, 1.        ],\n",
       "       [0.12156863, 0.46666667, 0.70588235, 1.        ],\n",
       "       [0.12156863, 0.46666667, 0.70588235, 1.        ]])"
      ]
     },
     "execution_count": 1066,
     "metadata": {},
     "output_type": "execute_result"
    }
   ],
   "source": [
    "h1_colors"
   ]
  },
  {
   "cell_type": "code",
   "execution_count": 1067,
   "id": "focal-berlin",
   "metadata": {},
   "outputs": [
    {
     "data": {
      "text/plain": [
       "array([3.15947268e-12, 1.27307054e-11, 2.85997892e-11, ...,\n",
       "       9.98263879e-01, 9.98263879e-01, 9.98263879e-01])"
      ]
     },
     "execution_count": 1067,
     "metadata": {},
     "output_type": "execute_result"
    }
   ],
   "source": [
    "ipw_h1_1back"
   ]
  },
  {
   "cell_type": "code",
   "execution_count": 1034,
   "id": "affiliated-hammer",
   "metadata": {},
   "outputs": [
    {
     "data": {
      "text/plain": [
       "[(0.12156862745098039, 0.4666666666666667, 0.7058823529411765, 1.0),\n",
       " (1.0, 0.4980392156862745, 0.054901960784313725, 1.0),\n",
       " (0.17254901960784313, 0.6274509803921569, 0.17254901960784313, 1.0),\n",
       " (0.8392156862745098, 0.15294117647058825, 0.1568627450980392, 1.0)]"
      ]
     },
     "execution_count": 1034,
     "metadata": {},
     "output_type": "execute_result"
    }
   ],
   "source": [
    "[cmap(i) for i in np.arange(len(set([key.split(\"_\")[0] for key in ip_h1_boot.keys()])))]"
   ]
  },
  {
   "cell_type": "code",
   "execution_count": 1053,
   "id": "subtle-retreat",
   "metadata": {},
   "outputs": [
    {
     "data": {
      "text/plain": [
       "(0.8392156862745098, 0.15294117647058825, 0.1568627450980392, 1.0)"
      ]
     },
     "execution_count": 1053,
     "metadata": {},
     "output_type": "execute_result"
    }
   ],
   "source": [
    "colors[h1_subs[1]]"
   ]
  },
  {
   "cell_type": "code",
   "execution_count": 1008,
   "id": "brutal-copper",
   "metadata": {},
   "outputs": [
    {
     "data": {
      "text/plain": [
       "[(0.12156862745098039, 0.4666666666666667, 0.7058823529411765, 1.0),\n",
       " (1.0, 0.4980392156862745, 0.054901960784313725, 1.0),\n",
       " (0.17254901960784313, 0.6274509803921569, 0.17254901960784313, 1.0),\n",
       " (0.8392156862745098, 0.15294117647058825, 0.1568627450980392, 1.0)]"
      ]
     },
     "execution_count": 1008,
     "metadata": {},
     "output_type": "execute_result"
    }
   ],
   "source": [
    "[cmap(i) for i in np.arange(4)]"
   ]
  },
  {
   "cell_type": "code",
   "execution_count": 1025,
   "id": "acting-wilderness",
   "metadata": {},
   "outputs": [
    {
     "data": {
      "text/plain": [
       "{'5ce7', '5de0', '605e', 'Ideal2'}"
      ]
     },
     "execution_count": 1025,
     "metadata": {},
     "output_type": "execute_result"
    }
   ],
   "source": [
    "a = [key.split(\"_\")[0] for key in ip_h1_boot.keys()]\n",
    "set(a)"
   ]
  },
  {
   "cell_type": "code",
   "execution_count": 575,
   "id": "starting-still",
   "metadata": {},
   "outputs": [
    {
     "data": {
      "text/plain": [
       "array([0.03131441, 0.28551992, 0.0006113 ])"
      ]
     },
     "execution_count": 575,
     "metadata": {},
     "output_type": "execute_result"
    }
   ],
   "source": [
    "if_mean_h1"
   ]
  },
  {
   "cell_type": "code",
   "execution_count": 576,
   "id": "shared-regression",
   "metadata": {},
   "outputs": [
    {
     "data": {
      "text/plain": [
       "array([0.03115361, 0.75399935, 0.7101457 ])"
      ]
     },
     "execution_count": 576,
     "metadata": {},
     "output_type": "execute_result"
    }
   ],
   "source": [
    "if_mean_h9"
   ]
  },
  {
   "cell_type": "code",
   "execution_count": 651,
   "id": "noble-drink",
   "metadata": {},
   "outputs": [
    {
     "data": {
      "text/html": [
       "<div>\n",
       "<style scoped>\n",
       "    .dataframe tbody tr th:only-of-type {\n",
       "        vertical-align: middle;\n",
       "    }\n",
       "\n",
       "    .dataframe tbody tr th {\n",
       "        vertical-align: top;\n",
       "    }\n",
       "\n",
       "    .dataframe thead th {\n",
       "        text-align: right;\n",
       "    }\n",
       "</style>\n",
       "<table border=\"1\" class=\"dataframe\">\n",
       "  <thead>\n",
       "    <tr style=\"text-align: right;\">\n",
       "      <th></th>\n",
       "      <th>Subject</th>\n",
       "      <th>Trial</th>\n",
       "      <th>Jar</th>\n",
       "      <th>Bead</th>\n",
       "      <th>Response</th>\n",
       "      <th>Confidence</th>\n",
       "      <th>Correct</th>\n",
       "      <th>History</th>\n",
       "    </tr>\n",
       "  </thead>\n",
       "  <tbody>\n",
       "    <tr>\n",
       "      <th>1000</th>\n",
       "      <td>5ce7c46d79642d0017767d94</td>\n",
       "      <td>10</td>\n",
       "      <td>1</td>\n",
       "      <td>1</td>\n",
       "      <td>1</td>\n",
       "      <td>0</td>\n",
       "      <td>1</td>\n",
       "      <td>00000000000</td>\n",
       "    </tr>\n",
       "    <tr>\n",
       "      <th>1001</th>\n",
       "      <td>5ce7c46d79642d0017767d94</td>\n",
       "      <td>11</td>\n",
       "      <td>1</td>\n",
       "      <td>1</td>\n",
       "      <td>1</td>\n",
       "      <td>0</td>\n",
       "      <td>1</td>\n",
       "      <td>00000000001</td>\n",
       "    </tr>\n",
       "    <tr>\n",
       "      <th>1002</th>\n",
       "      <td>5ce7c46d79642d0017767d94</td>\n",
       "      <td>12</td>\n",
       "      <td>1</td>\n",
       "      <td>1</td>\n",
       "      <td>1</td>\n",
       "      <td>1</td>\n",
       "      <td>1</td>\n",
       "      <td>00000000011</td>\n",
       "    </tr>\n",
       "    <tr>\n",
       "      <th>1003</th>\n",
       "      <td>5ce7c46d79642d0017767d94</td>\n",
       "      <td>13</td>\n",
       "      <td>1</td>\n",
       "      <td>1</td>\n",
       "      <td>1</td>\n",
       "      <td>1</td>\n",
       "      <td>1</td>\n",
       "      <td>00000000111</td>\n",
       "    </tr>\n",
       "    <tr>\n",
       "      <th>1004</th>\n",
       "      <td>5ce7c46d79642d0017767d94</td>\n",
       "      <td>14</td>\n",
       "      <td>1</td>\n",
       "      <td>1</td>\n",
       "      <td>1</td>\n",
       "      <td>1</td>\n",
       "      <td>1</td>\n",
       "      <td>00000001111</td>\n",
       "    </tr>\n",
       "    <tr>\n",
       "      <th>...</th>\n",
       "      <td>...</td>\n",
       "      <td>...</td>\n",
       "      <td>...</td>\n",
       "      <td>...</td>\n",
       "      <td>...</td>\n",
       "      <td>...</td>\n",
       "      <td>...</td>\n",
       "      <td>...</td>\n",
       "    </tr>\n",
       "    <tr>\n",
       "      <th>1995</th>\n",
       "      <td>5ce7c46d79642d0017767d94</td>\n",
       "      <td>1005</td>\n",
       "      <td>1</td>\n",
       "      <td>1</td>\n",
       "      <td>1</td>\n",
       "      <td>1</td>\n",
       "      <td>1</td>\n",
       "      <td>01111111111</td>\n",
       "    </tr>\n",
       "    <tr>\n",
       "      <th>1996</th>\n",
       "      <td>5ce7c46d79642d0017767d94</td>\n",
       "      <td>1006</td>\n",
       "      <td>1</td>\n",
       "      <td>1</td>\n",
       "      <td>1</td>\n",
       "      <td>1</td>\n",
       "      <td>1</td>\n",
       "      <td>01111111111</td>\n",
       "    </tr>\n",
       "    <tr>\n",
       "      <th>1997</th>\n",
       "      <td>5ce7c46d79642d0017767d94</td>\n",
       "      <td>1007</td>\n",
       "      <td>1</td>\n",
       "      <td>1</td>\n",
       "      <td>1</td>\n",
       "      <td>1</td>\n",
       "      <td>1</td>\n",
       "      <td>01111111111</td>\n",
       "    </tr>\n",
       "    <tr>\n",
       "      <th>1998</th>\n",
       "      <td>5ce7c46d79642d0017767d94</td>\n",
       "      <td>1008</td>\n",
       "      <td>1</td>\n",
       "      <td>1</td>\n",
       "      <td>1</td>\n",
       "      <td>1</td>\n",
       "      <td>1</td>\n",
       "      <td>01111111111</td>\n",
       "    </tr>\n",
       "    <tr>\n",
       "      <th>1999</th>\n",
       "      <td>5ce7c46d79642d0017767d94</td>\n",
       "      <td>1009</td>\n",
       "      <td>1</td>\n",
       "      <td>1</td>\n",
       "      <td>1</td>\n",
       "      <td>1</td>\n",
       "      <td>1</td>\n",
       "      <td>01111111111</td>\n",
       "    </tr>\n",
       "  </tbody>\n",
       "</table>\n",
       "<p>1000 rows × 8 columns</p>\n",
       "</div>"
      ],
      "text/plain": [
       "                       Subject  Trial  Jar  Bead  Response  Confidence  \\\n",
       "1000  5ce7c46d79642d0017767d94     10    1     1         1           0   \n",
       "1001  5ce7c46d79642d0017767d94     11    1     1         1           0   \n",
       "1002  5ce7c46d79642d0017767d94     12    1     1         1           1   \n",
       "1003  5ce7c46d79642d0017767d94     13    1     1         1           1   \n",
       "1004  5ce7c46d79642d0017767d94     14    1     1         1           1   \n",
       "...                        ...    ...  ...   ...       ...         ...   \n",
       "1995  5ce7c46d79642d0017767d94   1005    1     1         1           1   \n",
       "1996  5ce7c46d79642d0017767d94   1006    1     1         1           1   \n",
       "1997  5ce7c46d79642d0017767d94   1007    1     1         1           1   \n",
       "1998  5ce7c46d79642d0017767d94   1008    1     1         1           1   \n",
       "1999  5ce7c46d79642d0017767d94   1009    1     1         1           1   \n",
       "\n",
       "      Correct      History  \n",
       "1000        1  00000000000  \n",
       "1001        1  00000000001  \n",
       "1002        1  00000000011  \n",
       "1003        1  00000000111  \n",
       "1004        1  00000001111  \n",
       "...       ...          ...  \n",
       "1995        1  01111111111  \n",
       "1996        1  01111111111  \n",
       "1997        1  01111111111  \n",
       "1998        1  01111111111  \n",
       "1999        1  01111111111  \n",
       "\n",
       "[1000 rows x 8 columns]"
      ]
     },
     "execution_count": 651,
     "metadata": {},
     "output_type": "execute_result"
    }
   ],
   "source": [
    "adat_trials"
   ]
  },
  {
   "cell_type": "code",
   "execution_count": null,
   "id": "typical-damage",
   "metadata": {},
   "outputs": [],
   "source": []
  },
  {
   "cell_type": "code",
   "execution_count": null,
   "id": "prospective-aerospace",
   "metadata": {},
   "outputs": [],
   "source": []
  },
  {
   "cell_type": "code",
   "execution_count": null,
   "id": "surface-plasma",
   "metadata": {},
   "outputs": [],
   "source": []
  },
  {
   "cell_type": "code",
   "execution_count": null,
   "id": "neutral-indonesia",
   "metadata": {},
   "outputs": [],
   "source": []
  },
  {
   "cell_type": "code",
   "execution_count": null,
   "id": "directed-consensus",
   "metadata": {},
   "outputs": [],
   "source": []
  },
  {
   "cell_type": "code",
   "execution_count": null,
   "id": "judicial-navigation",
   "metadata": {},
   "outputs": [],
   "source": []
  },
  {
   "cell_type": "code",
   "execution_count": null,
   "id": "editorial-gossip",
   "metadata": {},
   "outputs": [],
   "source": [
    "## Plot accuracy bar overall\n",
    "\n",
    "## Plot accuracy bar split over confidence\n",
    "\n",
    "## Plot accuracy bar split over hazard\n",
    "\n",
    "## Plot accuracy bar split over both\n",
    "\n",
    "## Plot confidence bar overall\n",
    "\n",
    "## Plot confidence bar split over hazard\n",
    "\n",
    "## Plot confidence bar split over correct\n",
    "\n",
    "## Plot confidence bar split over both"
   ]
  },
  {
   "cell_type": "code",
   "execution_count": null,
   "id": "patent-routine",
   "metadata": {},
   "outputs": [],
   "source": [
    "plt.figure(1,(15,6))\n",
    "\n",
    "## Plot accuracy bar overall\n",
    "plt.subplot(1,2,1)\n",
    "sns.barplot(y=\"Subject\", x=\"Correct\", \n",
    "            data=D[['Subject','Correct']].groupby(['Subject'],as_index=False).mean())\n",
    "#plt.ylim([0,1])\n",
    "plt.xlabel('Accuracy',size=15)\n",
    "plt.ylabel('Subject',size=15)\n",
    "plt.xlim([-.05,1.05])\n",
    "plt.tight_layout()\n",
    "\n",
    "## Plot confidence bar overall\n",
    "plt.subplot(1,2,2)\n",
    "sns.barplot(y=\"Subject\", x=\"Confidence\", \n",
    "            data=D[['Subject','Confidence']].groupby(['Subject'],as_index=False).mean())\n",
    "plt.axvline(x=1, ls = '--')\n",
    "#plt.ylim([0,1])\n",
    "plt.xlabel('Proportion High Confidence',size=15)\n",
    "plt.ylabel('Subject',size=15)\n",
    "plt.xlim([-.05,1.05])\n",
    "plt.tight_layout()"
   ]
  },
  {
   "cell_type": "code",
   "execution_count": 66,
   "id": "young-wilderness",
   "metadata": {},
   "outputs": [
    {
     "data": {
      "text/plain": [
       "<Figure size 1080x432 with 0 Axes>"
      ]
     },
     "execution_count": 66,
     "metadata": {},
     "output_type": "execute_result"
    },
    {
     "data": {
      "text/plain": [
       "<AxesSubplot:>"
      ]
     },
     "execution_count": 66,
     "metadata": {},
     "output_type": "execute_result"
    },
    {
     "data": {
      "text/plain": [
       "<AxesSubplot:xlabel='Correct', ylabel='Subject'>"
      ]
     },
     "execution_count": 66,
     "metadata": {},
     "output_type": "execute_result"
    },
    {
     "data": {
      "text/plain": [
       "Text(0.5, 0, 'Accuracy')"
      ]
     },
     "execution_count": 66,
     "metadata": {},
     "output_type": "execute_result"
    },
    {
     "data": {
      "text/plain": [
       "Text(0, 0.5, 'Subject')"
      ]
     },
     "execution_count": 66,
     "metadata": {},
     "output_type": "execute_result"
    },
    {
     "data": {
      "text/plain": [
       "<AxesSubplot:>"
      ]
     },
     "execution_count": 66,
     "metadata": {},
     "output_type": "execute_result"
    },
    {
     "ename": "KeyError",
     "evalue": "\"['H'] not in index\"",
     "output_type": "error",
     "traceback": [
      "\u001b[0;31m---------------------------------------------------------------------------\u001b[0m",
      "\u001b[0;31mKeyError\u001b[0m                                  Traceback (most recent call last)",
      "\u001b[0;32m<ipython-input-66-31c38087efd1>\u001b[0m in \u001b[0;36m<module>\u001b[0;34m\u001b[0m\n\u001b[1;32m     13\u001b[0m \u001b[0mplt\u001b[0m\u001b[0;34m.\u001b[0m\u001b[0msubplot\u001b[0m\u001b[0;34m(\u001b[0m\u001b[0;36m1\u001b[0m\u001b[0;34m,\u001b[0m\u001b[0;36m2\u001b[0m\u001b[0;34m,\u001b[0m\u001b[0;36m2\u001b[0m\u001b[0;34m)\u001b[0m\u001b[0;34m\u001b[0m\u001b[0;34m\u001b[0m\u001b[0m\n\u001b[1;32m     14\u001b[0m sns.barplot(y=\"Subject\", x=\"Correct\", hue=\"H\", \n\u001b[0;32m---> 15\u001b[0;31m             data=D[['Subject','Correct','H']].groupby(['Subject','H'],as_index=False).mean())\n\u001b[0m\u001b[1;32m     16\u001b[0m \u001b[0;31m#plt.ylim([0,1])\u001b[0m\u001b[0;34m\u001b[0m\u001b[0;34m\u001b[0m\u001b[0;34m\u001b[0m\u001b[0m\n\u001b[1;32m     17\u001b[0m \u001b[0mplt\u001b[0m\u001b[0;34m.\u001b[0m\u001b[0mxlabel\u001b[0m\u001b[0;34m(\u001b[0m\u001b[0;34m'Accuracy'\u001b[0m\u001b[0;34m,\u001b[0m\u001b[0msize\u001b[0m\u001b[0;34m=\u001b[0m\u001b[0;36m15\u001b[0m\u001b[0;34m)\u001b[0m\u001b[0;34m\u001b[0m\u001b[0;34m\u001b[0m\u001b[0m\n",
      "\u001b[0;32m~/anaconda3/envs/ndd/lib/python3.7/site-packages/pandas/core/frame.py\u001b[0m in \u001b[0;36m__getitem__\u001b[0;34m(self, key)\u001b[0m\n\u001b[1;32m   3028\u001b[0m             \u001b[0;32mif\u001b[0m \u001b[0mis_iterator\u001b[0m\u001b[0;34m(\u001b[0m\u001b[0mkey\u001b[0m\u001b[0;34m)\u001b[0m\u001b[0;34m:\u001b[0m\u001b[0;34m\u001b[0m\u001b[0;34m\u001b[0m\u001b[0m\n\u001b[1;32m   3029\u001b[0m                 \u001b[0mkey\u001b[0m \u001b[0;34m=\u001b[0m \u001b[0mlist\u001b[0m\u001b[0;34m(\u001b[0m\u001b[0mkey\u001b[0m\u001b[0;34m)\u001b[0m\u001b[0;34m\u001b[0m\u001b[0;34m\u001b[0m\u001b[0m\n\u001b[0;32m-> 3030\u001b[0;31m             \u001b[0mindexer\u001b[0m \u001b[0;34m=\u001b[0m \u001b[0mself\u001b[0m\u001b[0;34m.\u001b[0m\u001b[0mloc\u001b[0m\u001b[0;34m.\u001b[0m\u001b[0m_get_listlike_indexer\u001b[0m\u001b[0;34m(\u001b[0m\u001b[0mkey\u001b[0m\u001b[0;34m,\u001b[0m \u001b[0maxis\u001b[0m\u001b[0;34m=\u001b[0m\u001b[0;36m1\u001b[0m\u001b[0;34m,\u001b[0m \u001b[0mraise_missing\u001b[0m\u001b[0;34m=\u001b[0m\u001b[0;32mTrue\u001b[0m\u001b[0;34m)\u001b[0m\u001b[0;34m[\u001b[0m\u001b[0;36m1\u001b[0m\u001b[0;34m]\u001b[0m\u001b[0;34m\u001b[0m\u001b[0;34m\u001b[0m\u001b[0m\n\u001b[0m\u001b[1;32m   3031\u001b[0m \u001b[0;34m\u001b[0m\u001b[0m\n\u001b[1;32m   3032\u001b[0m         \u001b[0;31m# take() does not accept boolean indexers\u001b[0m\u001b[0;34m\u001b[0m\u001b[0;34m\u001b[0m\u001b[0;34m\u001b[0m\u001b[0m\n",
      "\u001b[0;32m~/anaconda3/envs/ndd/lib/python3.7/site-packages/pandas/core/indexing.py\u001b[0m in \u001b[0;36m_get_listlike_indexer\u001b[0;34m(self, key, axis, raise_missing)\u001b[0m\n\u001b[1;32m   1264\u001b[0m             \u001b[0mkeyarr\u001b[0m\u001b[0;34m,\u001b[0m \u001b[0mindexer\u001b[0m\u001b[0;34m,\u001b[0m \u001b[0mnew_indexer\u001b[0m \u001b[0;34m=\u001b[0m \u001b[0max\u001b[0m\u001b[0;34m.\u001b[0m\u001b[0m_reindex_non_unique\u001b[0m\u001b[0;34m(\u001b[0m\u001b[0mkeyarr\u001b[0m\u001b[0;34m)\u001b[0m\u001b[0;34m\u001b[0m\u001b[0;34m\u001b[0m\u001b[0m\n\u001b[1;32m   1265\u001b[0m \u001b[0;34m\u001b[0m\u001b[0m\n\u001b[0;32m-> 1266\u001b[0;31m         \u001b[0mself\u001b[0m\u001b[0;34m.\u001b[0m\u001b[0m_validate_read_indexer\u001b[0m\u001b[0;34m(\u001b[0m\u001b[0mkeyarr\u001b[0m\u001b[0;34m,\u001b[0m \u001b[0mindexer\u001b[0m\u001b[0;34m,\u001b[0m \u001b[0maxis\u001b[0m\u001b[0;34m,\u001b[0m \u001b[0mraise_missing\u001b[0m\u001b[0;34m=\u001b[0m\u001b[0mraise_missing\u001b[0m\u001b[0;34m)\u001b[0m\u001b[0;34m\u001b[0m\u001b[0;34m\u001b[0m\u001b[0m\n\u001b[0m\u001b[1;32m   1267\u001b[0m         \u001b[0;32mreturn\u001b[0m \u001b[0mkeyarr\u001b[0m\u001b[0;34m,\u001b[0m \u001b[0mindexer\u001b[0m\u001b[0;34m\u001b[0m\u001b[0;34m\u001b[0m\u001b[0m\n\u001b[1;32m   1268\u001b[0m \u001b[0;34m\u001b[0m\u001b[0m\n",
      "\u001b[0;32m~/anaconda3/envs/ndd/lib/python3.7/site-packages/pandas/core/indexing.py\u001b[0m in \u001b[0;36m_validate_read_indexer\u001b[0;34m(self, key, indexer, axis, raise_missing)\u001b[0m\n\u001b[1;32m   1314\u001b[0m             \u001b[0;32mif\u001b[0m \u001b[0mraise_missing\u001b[0m\u001b[0;34m:\u001b[0m\u001b[0;34m\u001b[0m\u001b[0;34m\u001b[0m\u001b[0m\n\u001b[1;32m   1315\u001b[0m                 \u001b[0mnot_found\u001b[0m \u001b[0;34m=\u001b[0m \u001b[0mlist\u001b[0m\u001b[0;34m(\u001b[0m\u001b[0mset\u001b[0m\u001b[0;34m(\u001b[0m\u001b[0mkey\u001b[0m\u001b[0;34m)\u001b[0m \u001b[0;34m-\u001b[0m \u001b[0mset\u001b[0m\u001b[0;34m(\u001b[0m\u001b[0max\u001b[0m\u001b[0;34m)\u001b[0m\u001b[0;34m)\u001b[0m\u001b[0;34m\u001b[0m\u001b[0;34m\u001b[0m\u001b[0m\n\u001b[0;32m-> 1316\u001b[0;31m                 \u001b[0;32mraise\u001b[0m \u001b[0mKeyError\u001b[0m\u001b[0;34m(\u001b[0m\u001b[0;34mf\"{not_found} not in index\"\u001b[0m\u001b[0;34m)\u001b[0m\u001b[0;34m\u001b[0m\u001b[0;34m\u001b[0m\u001b[0m\n\u001b[0m\u001b[1;32m   1317\u001b[0m \u001b[0;34m\u001b[0m\u001b[0m\n\u001b[1;32m   1318\u001b[0m             \u001b[0mnot_found\u001b[0m \u001b[0;34m=\u001b[0m \u001b[0mkey\u001b[0m\u001b[0;34m[\u001b[0m\u001b[0mmissing_mask\u001b[0m\u001b[0;34m]\u001b[0m\u001b[0;34m\u001b[0m\u001b[0;34m\u001b[0m\u001b[0m\n",
      "\u001b[0;31mKeyError\u001b[0m: \"['H'] not in index\""
     ]
    },
    {
     "data": {
      "image/png": "[encoded data removed]",
      "text/plain": [
       "<Figure size 1080x432 with 2 Axes>"
      ]
     },
     "metadata": {
      "needs_background": "light"
     },
     "output_type": "display_data"
    }
   ],
   "source": [
    "## Plot accuracy bar split over confidence and accuracy bar split over hazard\n",
    "plt.figure(1,(15,6))\n",
    "# Accuracy split by confidence\n",
    "plt.subplot(1,2,1)\n",
    "sns.barplot(y=\"Subject\", x=\"Correct\", hue=\"Confidence\", \n",
    "            data=D[['Subject','Correct','Confidence']].groupby(['Subject','Confidence'],as_index=False).mean())\n",
    "#plt.ylim([0,1])\n",
    "plt.xlabel('Accuracy',size=15)\n",
    "plt.ylabel('Subject',size=15)\n",
    "plt.tight_layout()\n",
    "\n",
    "# Accuracy split by hazard\n",
    "plt.subplot(1,2,2)\n",
    "sns.barplot(y=\"Subject\", x=\"Correct\", hue=\"H\", \n",
    "            data=D[['Subject','Correct','H']].groupby(['Subject','H'],as_index=False).mean())\n",
    "#plt.ylim([0,1])\n",
    "plt.xlabel('Accuracy',size=15)\n",
    "plt.ylabel('Subject',size=15)\n",
    "plt.tight_layout()"
   ]
  },
  {
   "cell_type": "code",
   "execution_count": 348,
   "id": "constitutional-cincinnati",
   "metadata": {},
   "outputs": [
    {
     "data": {
      "text/plain": [
       "<Figure size 1080x432 with 0 Axes>"
      ]
     },
     "execution_count": 348,
     "metadata": {},
     "output_type": "execute_result"
    },
    {
     "data": {
      "text/plain": [
       "<AxesSubplot:>"
      ]
     },
     "execution_count": 348,
     "metadata": {},
     "output_type": "execute_result"
    },
    {
     "data": {
      "text/plain": [
       "<AxesSubplot:xlabel='Confidence', ylabel='Subject'>"
      ]
     },
     "execution_count": 348,
     "metadata": {},
     "output_type": "execute_result"
    },
    {
     "data": {
      "text/plain": [
       "Text(0.5, 0, 'Proportion High Confidence')"
      ]
     },
     "execution_count": 348,
     "metadata": {},
     "output_type": "execute_result"
    },
    {
     "data": {
      "text/plain": [
       "Text(0, 0.5, 'Subject')"
      ]
     },
     "execution_count": 348,
     "metadata": {},
     "output_type": "execute_result"
    },
    {
     "data": {
      "text/plain": [
       "<AxesSubplot:>"
      ]
     },
     "execution_count": 348,
     "metadata": {},
     "output_type": "execute_result"
    },
    {
     "data": {
      "text/plain": [
       "<AxesSubplot:xlabel='Confidence', ylabel='Subject'>"
      ]
     },
     "execution_count": 348,
     "metadata": {},
     "output_type": "execute_result"
    },
    {
     "data": {
      "text/plain": [
       "Text(0.5, 0, 'Proportion High Confidence')"
      ]
     },
     "execution_count": 348,
     "metadata": {},
     "output_type": "execute_result"
    },
    {
     "data": {
      "text/plain": [
       "Text(0, 0.5, 'Subject')"
      ]
     },
     "execution_count": 348,
     "metadata": {},
     "output_type": "execute_result"
    },
    {
     "data": {
      "image/png": "[encoded data removed]",
      "text/plain": [
       "<Figure size 1080x432 with 2 Axes>"
      ]
     },
     "metadata": {
      "needs_background": "light"
     },
     "output_type": "display_data"
    }
   ],
   "source": [
    "## Plot confidence bar split over hazard and confidence bar split over correctness\n",
    "plt.figure(1,(15,6))\n",
    "# Confidence split by hazard\n",
    "plt.subplot(1,2,1)\n",
    "sns.barplot(y=\"Subject\", x=\"Confidence\", hue=\"H\", \n",
    "            data=D[['Subject','H','Confidence']].groupby(['Subject','H'],as_index=False).mean())\n",
    "#plt.ylim([0,1])\n",
    "plt.xlabel('Proportion High Confidence',size=15)\n",
    "plt.ylabel('Subject',size=15)\n",
    "plt.tight_layout()\n",
    "\n",
    "# Confidence split by correctness\n",
    "plt.subplot(1,2,2)\n",
    "sns.barplot(y=\"Subject\", x=\"Confidence\", hue=\"Correct\", \n",
    "            data=D[['Subject','Correct','Confidence']].groupby(['Subject','Correct'],as_index=False).mean())\n",
    "#plt.ylim([0,1])\n",
    "plt.xlabel('Proportion High Confidence',size=15)\n",
    "plt.ylabel('Subject',size=15)\n",
    "plt.tight_layout()"
   ]
  },
  {
   "cell_type": "code",
   "execution_count": 344,
   "id": "biological-steps",
   "metadata": {},
   "outputs": [
    {
     "data": {
      "text/plain": [
       "<Figure size 576x432 with 0 Axes>"
      ]
     },
     "execution_count": 344,
     "metadata": {},
     "output_type": "execute_result"
    },
    {
     "data": {
      "text/plain": [
       "<seaborn.axisgrid.FacetGrid at 0x7ff5921c4890>"
      ]
     },
     "execution_count": 344,
     "metadata": {},
     "output_type": "execute_result"
    },
    {
     "data": {
      "text/plain": [
       "<seaborn.axisgrid.FacetGrid at 0x7ff5921c4890>"
      ]
     },
     "execution_count": 344,
     "metadata": {},
     "output_type": "execute_result"
    },
    {
     "data": {
      "text/plain": [
       "<seaborn.axisgrid.FacetGrid at 0x7ff5921c4890>"
      ]
     },
     "execution_count": 344,
     "metadata": {},
     "output_type": "execute_result"
    },
    {
     "data": {
      "text/plain": [
       "[None, None]"
      ]
     },
     "execution_count": 344,
     "metadata": {},
     "output_type": "execute_result"
    },
    {
     "data": {
      "text/plain": [
       "<Figure size 576x432 with 0 Axes>"
      ]
     },
     "metadata": {},
     "output_type": "display_data"
    },
    {
     "data": {
      "image/png": "[encoded data removed]",
      "text/plain": [
       "<Figure size 784.25x360 with 2 Axes>"
      ]
     },
     "metadata": {
      "needs_background": "light"
     },
     "output_type": "display_data"
    }
   ],
   "source": [
    "## Plot accuracy bar split over both\n",
    "plt.figure(1,(8,6))\n",
    "accuracy_H_confid = sns.catplot(y=\"Subject\", x=\"Correct\", hue=\"Confidence\", col=\"H\", kind=\"bar\",\n",
    "            data=D[['Subject','Correct','Confidence','H']].groupby(['Subject','Confidence','H'],as_index=False).mean())\n",
    "#plt.ylim([0,1])\n",
    "accuracy_H_confid.set_xlabels('Accuracy',size=15)\n",
    "accuracy_H_confid.set_ylabels('Subject',size=15)\n",
    "accuracy_H_confid.set_titles(size=15)\n",
    "plt.setp(accuracy_H_confid._legend.get_title(), fontsize=15)\n",
    "plt.show()"
   ]
  },
  {
   "cell_type": "code",
   "execution_count": 349,
   "id": "popular-collapse",
   "metadata": {},
   "outputs": [
    {
     "data": {
      "text/plain": [
       "<Figure size 576x432 with 0 Axes>"
      ]
     },
     "execution_count": 349,
     "metadata": {},
     "output_type": "execute_result"
    },
    {
     "data": {
      "text/plain": [
       "<seaborn.axisgrid.FacetGrid at 0x7ff57361b3d0>"
      ]
     },
     "execution_count": 349,
     "metadata": {},
     "output_type": "execute_result"
    },
    {
     "data": {
      "text/plain": [
       "<seaborn.axisgrid.FacetGrid at 0x7ff57361b3d0>"
      ]
     },
     "execution_count": 349,
     "metadata": {},
     "output_type": "execute_result"
    },
    {
     "data": {
      "text/plain": [
       "<seaborn.axisgrid.FacetGrid at 0x7ff57361b3d0>"
      ]
     },
     "execution_count": 349,
     "metadata": {},
     "output_type": "execute_result"
    },
    {
     "data": {
      "text/plain": [
       "[None, None]"
      ]
     },
     "execution_count": 349,
     "metadata": {},
     "output_type": "execute_result"
    },
    {
     "data": {
      "text/plain": [
       "<Figure size 576x432 with 0 Axes>"
      ]
     },
     "metadata": {},
     "output_type": "display_data"
    },
    {
     "data": {
      "image/png": "[encoded data removed]",
      "text/plain": [
       "<Figure size 764.25x360 with 2 Axes>"
      ]
     },
     "metadata": {
      "needs_background": "light"
     },
     "output_type": "display_data"
    }
   ],
   "source": [
    "## Plot confidence bar split over both\n",
    "plt.figure(1,(8,6))\n",
    "accuracy_H_confid = sns.catplot(y=\"Subject\", x=\"Confidence\", hue=\"Correct\", col=\"H\", kind=\"bar\",\n",
    "            data=D[['Subject','Correct','Confidence','H']].groupby(['Subject','Correct','H'],as_index=False).mean())\n",
    "#plt.ylim([0,1])\n",
    "accuracy_H_confid.set_xlabels('Proportion High Confidence',size=15)\n",
    "accuracy_H_confid.set_ylabels('Subject',size=15)\n",
    "accuracy_H_confid.set_titles(size=15)\n",
    "plt.setp(accuracy_H_confid._legend.get_title(), fontsize=15)\n",
    "plt.show()"
   ]
  },
  {
   "cell_type": "code",
   "execution_count": null,
   "id": "finnish-salem",
   "metadata": {},
   "outputs": [],
   "source": []
  },
  {
   "cell_type": "code",
   "execution_count": 350,
   "id": "optimum-macedonia",
   "metadata": {},
   "outputs": [
    {
     "data": {
      "text/html": [
       "<div>\n",
       "<style scoped>\n",
       "    .dataframe tbody tr th:only-of-type {\n",
       "        vertical-align: middle;\n",
       "    }\n",
       "\n",
       "    .dataframe tbody tr th {\n",
       "        vertical-align: top;\n",
       "    }\n",
       "\n",
       "    .dataframe thead th {\n",
       "        text-align: right;\n",
       "    }\n",
       "</style>\n",
       "<table border=\"1\" class=\"dataframe\">\n",
       "  <thead>\n",
       "    <tr style=\"text-align: right;\">\n",
       "      <th></th>\n",
       "      <th>Subject</th>\n",
       "      <th>Correct</th>\n",
       "    </tr>\n",
       "  </thead>\n",
       "  <tbody>\n",
       "    <tr>\n",
       "      <th>0</th>\n",
       "      <td>5e864bd263e1792768911573</td>\n",
       "      <td>0.703922</td>\n",
       "    </tr>\n",
       "    <tr>\n",
       "      <th>1</th>\n",
       "      <td>5ea5a933ad0666598f6d3071</td>\n",
       "      <td>0.669608</td>\n",
       "    </tr>\n",
       "    <tr>\n",
       "      <th>2</th>\n",
       "      <td>5eed14f9c71a701260df7784</td>\n",
       "      <td>0.634314</td>\n",
       "    </tr>\n",
       "    <tr>\n",
       "      <th>3</th>\n",
       "      <td>5f97e6601f6d0e016087fc91</td>\n",
       "      <td>0.629412</td>\n",
       "    </tr>\n",
       "    <tr>\n",
       "      <th>4</th>\n",
       "      <td>60204c263941fb63d9d794bc</td>\n",
       "      <td>0.670588</td>\n",
       "    </tr>\n",
       "    <tr>\n",
       "      <th>5</th>\n",
       "      <td>6027fd6deb80d22d739bab75</td>\n",
       "      <td>0.702941</td>\n",
       "    </tr>\n",
       "  </tbody>\n",
       "</table>\n",
       "</div>"
      ],
      "text/plain": [
       "                    Subject   Correct\n",
       "0  5e864bd263e1792768911573  0.703922\n",
       "1  5ea5a933ad0666598f6d3071  0.669608\n",
       "2  5eed14f9c71a701260df7784  0.634314\n",
       "3  5f97e6601f6d0e016087fc91  0.629412\n",
       "4  60204c263941fb63d9d794bc  0.670588\n",
       "5  6027fd6deb80d22d739bab75  0.702941"
      ]
     },
     "execution_count": 350,
     "metadata": {},
     "output_type": "execute_result"
    },
    {
     "data": {
      "text/html": [
       "<div>\n",
       "<style scoped>\n",
       "    .dataframe tbody tr th:only-of-type {\n",
       "        vertical-align: middle;\n",
       "    }\n",
       "\n",
       "    .dataframe tbody tr th {\n",
       "        vertical-align: top;\n",
       "    }\n",
       "\n",
       "    .dataframe thead th {\n",
       "        text-align: right;\n",
       "    }\n",
       "</style>\n",
       "<table border=\"1\" class=\"dataframe\">\n",
       "  <thead>\n",
       "    <tr style=\"text-align: right;\">\n",
       "      <th></th>\n",
       "      <th>Subject</th>\n",
       "      <th>H</th>\n",
       "      <th>Correct</th>\n",
       "    </tr>\n",
       "  </thead>\n",
       "  <tbody>\n",
       "    <tr>\n",
       "      <th>0</th>\n",
       "      <td>5e864bd263e1792768911573</td>\n",
       "      <td>0.01</td>\n",
       "      <td>0.727451</td>\n",
       "    </tr>\n",
       "    <tr>\n",
       "      <th>1</th>\n",
       "      <td>5e864bd263e1792768911573</td>\n",
       "      <td>0.99</td>\n",
       "      <td>0.680392</td>\n",
       "    </tr>\n",
       "    <tr>\n",
       "      <th>2</th>\n",
       "      <td>5ea5a933ad0666598f6d3071</td>\n",
       "      <td>0.01</td>\n",
       "      <td>0.686275</td>\n",
       "    </tr>\n",
       "    <tr>\n",
       "      <th>3</th>\n",
       "      <td>5ea5a933ad0666598f6d3071</td>\n",
       "      <td>0.99</td>\n",
       "      <td>0.652941</td>\n",
       "    </tr>\n",
       "    <tr>\n",
       "      <th>4</th>\n",
       "      <td>5eed14f9c71a701260df7784</td>\n",
       "      <td>0.01</td>\n",
       "      <td>0.713725</td>\n",
       "    </tr>\n",
       "    <tr>\n",
       "      <th>5</th>\n",
       "      <td>5eed14f9c71a701260df7784</td>\n",
       "      <td>0.99</td>\n",
       "      <td>0.554902</td>\n",
       "    </tr>\n",
       "    <tr>\n",
       "      <th>6</th>\n",
       "      <td>5f97e6601f6d0e016087fc91</td>\n",
       "      <td>0.01</td>\n",
       "      <td>0.594118</td>\n",
       "    </tr>\n",
       "    <tr>\n",
       "      <th>7</th>\n",
       "      <td>5f97e6601f6d0e016087fc91</td>\n",
       "      <td>0.99</td>\n",
       "      <td>0.664706</td>\n",
       "    </tr>\n",
       "    <tr>\n",
       "      <th>8</th>\n",
       "      <td>60204c263941fb63d9d794bc</td>\n",
       "      <td>0.01</td>\n",
       "      <td>0.711765</td>\n",
       "    </tr>\n",
       "    <tr>\n",
       "      <th>9</th>\n",
       "      <td>60204c263941fb63d9d794bc</td>\n",
       "      <td>0.99</td>\n",
       "      <td>0.629412</td>\n",
       "    </tr>\n",
       "    <tr>\n",
       "      <th>10</th>\n",
       "      <td>6027fd6deb80d22d739bab75</td>\n",
       "      <td>0.01</td>\n",
       "      <td>0.741176</td>\n",
       "    </tr>\n",
       "    <tr>\n",
       "      <th>11</th>\n",
       "      <td>6027fd6deb80d22d739bab75</td>\n",
       "      <td>0.99</td>\n",
       "      <td>0.664706</td>\n",
       "    </tr>\n",
       "  </tbody>\n",
       "</table>\n",
       "</div>"
      ],
      "text/plain": [
       "                     Subject     H   Correct\n",
       "0   5e864bd263e1792768911573  0.01  0.727451\n",
       "1   5e864bd263e1792768911573  0.99  0.680392\n",
       "2   5ea5a933ad0666598f6d3071  0.01  0.686275\n",
       "3   5ea5a933ad0666598f6d3071  0.99  0.652941\n",
       "4   5eed14f9c71a701260df7784  0.01  0.713725\n",
       "5   5eed14f9c71a701260df7784  0.99  0.554902\n",
       "6   5f97e6601f6d0e016087fc91  0.01  0.594118\n",
       "7   5f97e6601f6d0e016087fc91  0.99  0.664706\n",
       "8   60204c263941fb63d9d794bc  0.01  0.711765\n",
       "9   60204c263941fb63d9d794bc  0.99  0.629412\n",
       "10  6027fd6deb80d22d739bab75  0.01  0.741176\n",
       "11  6027fd6deb80d22d739bab75  0.99  0.664706"
      ]
     },
     "execution_count": 350,
     "metadata": {},
     "output_type": "execute_result"
    },
    {
     "data": {
      "text/html": [
       "<div>\n",
       "<style scoped>\n",
       "    .dataframe tbody tr th:only-of-type {\n",
       "        vertical-align: middle;\n",
       "    }\n",
       "\n",
       "    .dataframe tbody tr th {\n",
       "        vertical-align: top;\n",
       "    }\n",
       "\n",
       "    .dataframe thead th {\n",
       "        text-align: right;\n",
       "    }\n",
       "</style>\n",
       "<table border=\"1\" class=\"dataframe\">\n",
       "  <thead>\n",
       "    <tr style=\"text-align: right;\">\n",
       "      <th></th>\n",
       "      <th>Subject</th>\n",
       "      <th>Confidence</th>\n",
       "    </tr>\n",
       "  </thead>\n",
       "  <tbody>\n",
       "    <tr>\n",
       "      <th>0</th>\n",
       "      <td>5e864bd263e1792768911573</td>\n",
       "      <td>0.976471</td>\n",
       "    </tr>\n",
       "    <tr>\n",
       "      <th>1</th>\n",
       "      <td>5ea5a933ad0666598f6d3071</td>\n",
       "      <td>0.879412</td>\n",
       "    </tr>\n",
       "    <tr>\n",
       "      <th>2</th>\n",
       "      <td>5eed14f9c71a701260df7784</td>\n",
       "      <td>0.837255</td>\n",
       "    </tr>\n",
       "    <tr>\n",
       "      <th>3</th>\n",
       "      <td>5f97e6601f6d0e016087fc91</td>\n",
       "      <td>0.896078</td>\n",
       "    </tr>\n",
       "    <tr>\n",
       "      <th>4</th>\n",
       "      <td>60204c263941fb63d9d794bc</td>\n",
       "      <td>0.912745</td>\n",
       "    </tr>\n",
       "    <tr>\n",
       "      <th>5</th>\n",
       "      <td>6027fd6deb80d22d739bab75</td>\n",
       "      <td>0.995098</td>\n",
       "    </tr>\n",
       "  </tbody>\n",
       "</table>\n",
       "</div>"
      ],
      "text/plain": [
       "                    Subject  Confidence\n",
       "0  5e864bd263e1792768911573    0.976471\n",
       "1  5ea5a933ad0666598f6d3071    0.879412\n",
       "2  5eed14f9c71a701260df7784    0.837255\n",
       "3  5f97e6601f6d0e016087fc91    0.896078\n",
       "4  60204c263941fb63d9d794bc    0.912745\n",
       "5  6027fd6deb80d22d739bab75    0.995098"
      ]
     },
     "execution_count": 350,
     "metadata": {},
     "output_type": "execute_result"
    }
   ],
   "source": [
    "D[['Subject','Correct']].groupby(['Subject'],as_index=False).mean()\n",
    "D[['Subject','Correct','H']].groupby(['Subject','H'],as_index=False).mean()\n",
    "\n",
    "D[['Subject','Confidence']].groupby(['Subject'],as_index=False).mean()"
   ]
  },
  {
   "cell_type": "code",
   "execution_count": 316,
   "id": "front-motor",
   "metadata": {},
   "outputs": [
    {
     "data": {
      "text/plain": [
       "<Figure size 1080x432 with 0 Axes>"
      ]
     },
     "execution_count": 316,
     "metadata": {},
     "output_type": "execute_result"
    },
    {
     "data": {
      "text/plain": [
       "<AxesSubplot:>"
      ]
     },
     "execution_count": 316,
     "metadata": {},
     "output_type": "execute_result"
    },
    {
     "data": {
      "text/plain": [
       "[<matplotlib.lines.Line2D at 0x7ff58cae6850>]"
      ]
     },
     "execution_count": 316,
     "metadata": {},
     "output_type": "execute_result"
    },
    {
     "data": {
      "text/plain": [
       "<AxesSubplot:xlabel='Confidence', ylabel='Correct'>"
      ]
     },
     "execution_count": 316,
     "metadata": {},
     "output_type": "execute_result"
    },
    {
     "data": {
      "text/plain": [
       "<AxesSubplot:xlabel='Confidence', ylabel='Correct'>"
      ]
     },
     "execution_count": 316,
     "metadata": {},
     "output_type": "execute_result"
    },
    {
     "data": {
      "text/plain": [
       "<AxesSubplot:xlabel='Confidence', ylabel='Correct'>"
      ]
     },
     "execution_count": 316,
     "metadata": {},
     "output_type": "execute_result"
    },
    {
     "data": {
      "text/plain": [
       "(-0.05, 1.05)"
      ]
     },
     "execution_count": 316,
     "metadata": {},
     "output_type": "execute_result"
    },
    {
     "data": {
      "text/plain": [
       "(-0.5, 1.5)"
      ]
     },
     "execution_count": 316,
     "metadata": {},
     "output_type": "execute_result"
    },
    {
     "data": {
      "text/plain": [
       "Text(0, 0.5, 'Mean Correct Predictions')"
      ]
     },
     "execution_count": 316,
     "metadata": {},
     "output_type": "execute_result"
    },
    {
     "data": {
      "text/plain": [
       "Text(0.5, 0, 'Confidence')"
      ]
     },
     "execution_count": 316,
     "metadata": {},
     "output_type": "execute_result"
    },
    {
     "data": {
      "text/plain": [
       "<AxesSubplot:>"
      ]
     },
     "execution_count": 316,
     "metadata": {},
     "output_type": "execute_result"
    },
    {
     "data": {
      "text/plain": [
       "<AxesSubplot:xlabel='Correct', ylabel='Subject'>"
      ]
     },
     "execution_count": 316,
     "metadata": {},
     "output_type": "execute_result"
    },
    {
     "data": {
      "text/plain": [
       "Text(0.5, 0, 'Accuracy')"
      ]
     },
     "execution_count": 316,
     "metadata": {},
     "output_type": "execute_result"
    },
    {
     "data": {
      "text/plain": [
       "Text(0, 0.5, 'Subject')"
      ]
     },
     "execution_count": 316,
     "metadata": {},
     "output_type": "execute_result"
    },
    {
     "data": {
      "image/png": "[encoded data removed]",
      "text/plain": [
       "<Figure size 1080x432 with 2 Axes>"
      ]
     },
     "metadata": {
      "needs_background": "light"
     },
     "output_type": "display_data"
    }
   ],
   "source": [
    "# Plot behavior\n",
    "plt.figure(1,(15,6))\n",
    "# Plot boxplots of proportion correct\n",
    "plt.subplot(1,2,1)\n",
    "plt.plot([-1,3],[.5,.5],'--k')\n",
    "sns.boxplot(x = 'Confidence',y='Correct',data=D,dodge=True,fliersize=0,width=.5,color='white')\n",
    "sns.boxplot(x = 'Confidence',y='Correct',data=D,dodge=True,fliersize=0,width=.5,boxprops=dict(alpha=.3))\n",
    "sns.stripplot(x = 'Confidence',y='Correct',data=D,linewidth=1)\n",
    "plt.ylim([-.05,1.05])\n",
    "plt.xlim([-.5,1.5])\n",
    "plt.ylabel('Mean Correct Predictions',size=15)\n",
    "plt.xlabel('Confidence',size=15)\n",
    "\n",
    "# Plot proportion correct since last source switch\n",
    "plt.subplot(1,2,2)\n",
    "sns.barplot(y=\"Subject\", x=\"Correct\", hue=\"Confidence\", data=D)\n",
    "#plt.ylim([0,1])\n",
    "plt.xlabel('Accuracy',size=15)\n",
    "plt.ylabel('Subject',size=15)\n",
    "plt.tight_layout()"
   ]
  },
  {
   "cell_type": "code",
   "execution_count": 286,
   "id": "mature-hopkins",
   "metadata": {},
   "outputs": [
    {
     "data": {
      "text/plain": [
       "['UrnTaskV_PARTICIPANT_SESSION_2021-04-06_18h39.32.393.csv',\n",
       " 'UrnTaskV_PARTICIPANT_SESSION_2021-04-06_16h53.28.590.csv',\n",
       " 'UrnTaskV_PARTICIPANT_SESSION_2021-04-09_15h54.33.124.csv',\n",
       " 'UrnTaskV_PARTICIPANT_SESSION_2021-04-09_15h57.23.880.csv',\n",
       " 'UrnTaskV_PARTICIPANT_SESSION_2021-04-06_18h39.29.152.csv',\n",
       " 'UrnTaskV_PARTICIPANT_SESSION_2021-04-06_18h50.11.304.csv',\n",
       " 'UrnTaskV_PARTICIPANT_SESSION_2021-04-09_17h04.46.615.csv']"
      ]
     },
     "execution_count": 286,
     "metadata": {},
     "output_type": "execute_result"
    }
   ],
   "source": [
    "os.listdir(data_location)"
   ]
  },
  {
   "cell_type": "code",
   "execution_count": 294,
   "id": "polished-greene",
   "metadata": {},
   "outputs": [
    {
     "data": {
      "text/plain": [
       "True"
      ]
     },
     "execution_count": 294,
     "metadata": {},
     "output_type": "execute_result"
    }
   ],
   "source": [
    "file1 = os.listdir(data_location)[0]\n",
    "df1 = pd.read_csv(data_location + file1)\n",
    "\n",
    "file2 = os.listdir(data_location)[4]\n",
    "df2 = pd.read_csv(data_location + file2)\n",
    "\n",
    "df1[:-1].equals(df2)"
   ]
  },
  {
   "cell_type": "code",
   "execution_count": 302,
   "id": "otherwise-native",
   "metadata": {},
   "outputs": [
    {
     "data": {
      "text/plain": [
       "True"
      ]
     },
     "execution_count": 302,
     "metadata": {},
     "output_type": "execute_result"
    }
   ],
   "source": [
    "D1 = preprocess_sub_data_helper(data_location + file1, stimuli_location)\n",
    "D2 = preprocess_sub_data_helper(data_location + file2, stimuli_location)\n",
    "\n",
    "D1.equals(D2)"
   ]
  },
  {
   "cell_type": "code",
   "execution_count": 298,
   "id": "legitimate-joyce",
   "metadata": {},
   "outputs": [
    {
     "name": "stdout",
     "output_type": "stream",
     "text": [
      "UrnTaskV_PARTICIPANT_SESSION_2021-04-06_18h39.32.393.csv\n",
      "                  trial_type  trial_index  time_elapsed internal_node_id  \\\n",
      "0                   pavlovia            0            10          0.0-0.0   \n",
      "1                    preload            1            15          0.0-1.0   \n",
      "2              external-html            2         31526      0.0-2.0-0.0   \n",
      "3        survey-multi-choice            3         72802      0.0-2.0-1.0   \n",
      "4                survey-text            4         84663      0.0-2.0-2.0   \n",
      "...                      ...          ...           ...              ...   \n",
      "3095   image-button-response         3095       2164745   0.0-24.0-0.499   \n",
      "3096   image-button-response         3096       2165054   0.0-24.0-1.499   \n",
      "3097   image-button-response         3097       2165572   0.0-24.0-2.499   \n",
      "3098  html-keyboard-response         3098       2175324         0.0-25.0   \n",
      "3099                pavlovia         3099       2175408         0.0-26.0   \n",
      "\n",
      "      Script_Picker     Block_Type success timeout failed_images failed_audio  \\\n",
      "0               157  Low_HMMActual     NaN     NaN           NaN          NaN   \n",
      "1               157  Low_HMMActual    True   False            []           []   \n",
      "2               157  Low_HMMActual     NaN     NaN           NaN          NaN   \n",
      "3               157  Low_HMMActual     NaN     NaN           NaN          NaN   \n",
      "4               157  Low_HMMActual     NaN     NaN           NaN          NaN   \n",
      "...             ...            ...     ...     ...           ...          ...   \n",
      "3095            157  Low_HMMActual     NaN     NaN           NaN          NaN   \n",
      "3096            157  Low_HMMActual     NaN     NaN           NaN          NaN   \n",
      "3097            157  Low_HMMActual     NaN     NaN           NaN          NaN   \n",
      "3098            157  Low_HMMActual     NaN     NaN           NaN          NaN   \n",
      "3099            157  Low_HMMActual     NaN     NaN           NaN          NaN   \n",
      "\n",
      "     failed_video       rt           url                   responses  \\\n",
      "0             NaN      NaN           NaN                         NaN   \n",
      "1              []      NaN           NaN                         NaN   \n",
      "2             NaN  31369.0  consent.html                         NaN   \n",
      "3             NaN  41269.0           NaN  {\"Q0\":\"Male\",\"Q1\":\"White\"}   \n",
      "4             NaN  11855.0           NaN                 {\"Q0\":\"25\"}   \n",
      "...           ...      ...           ...                         ...   \n",
      "3095          NaN    799.0           NaN                         NaN   \n",
      "3096          NaN      NaN           NaN                         NaN   \n",
      "3097          NaN      NaN           NaN                         NaN   \n",
      "3098          NaN   9748.0           NaN                         NaN   \n",
      "3099          NaN      NaN           NaN                         NaN   \n",
      "\n",
      "     question_order                           stimulus key_press  response  \n",
      "0               NaN                                NaN       NaN       NaN  \n",
      "1               NaN                                NaN       NaN       NaN  \n",
      "2               NaN                                NaN       NaN       NaN  \n",
      "3             [0,1]                                NaN       NaN       NaN  \n",
      "4               NaN                                NaN       NaN       NaN  \n",
      "...             ...                                ...       ...       ...  \n",
      "3095            NaN              Images/NewTrialWC.png       NaN       2.0  \n",
      "3096            NaN         Images/WhiteBeadChoice.png       NaN       NaN  \n",
      "3097            NaN  Images/WhiteBeadChoiceCorrect.png       NaN       NaN  \n",
      "3098            NaN                                NaN                 NaN  \n",
      "3099            NaN                                NaN       NaN       NaN  \n",
      "\n",
      "[3100 rows x 18 columns]\n"
     ]
    }
   ],
   "source": [
    "data_location = \"./Urn-Confidence/Pilot/UrnTaskV/\"\n",
    "stimuli_location = \"./Urn-Confidence/Pilot/StimuliV/\"\n",
    "\n",
    "file = os.listdir(data_location)[0]\n",
    "print(file) \n",
    "\n",
    "df = pd.read_csv(data_location + file)\n",
    "print(df)"
   ]
  },
  {
   "cell_type": "code",
   "execution_count": 198,
   "id": "soviet-gossip",
   "metadata": {},
   "outputs": [
    {
     "data": {
      "text/plain": [
       "'{\"Q0\":\"5e864bd263e1792768911573\"}'"
      ]
     },
     "execution_count": 198,
     "metadata": {},
     "output_type": "execute_result"
    },
    {
     "data": {
      "text/plain": [
       "'5e864bd263e1792768911573'"
      ]
     },
     "execution_count": 198,
     "metadata": {},
     "output_type": "execute_result"
    }
   ],
   "source": [
    "df['responses'][5]\n",
    "find_between(df['responses'][5],\":\\\"\",\"\\\"}\")"
   ]
  },
  {
   "cell_type": "code",
   "execution_count": 142,
   "id": "decent-asian",
   "metadata": {},
   "outputs": [
    {
     "data": {
      "text/html": [
       "<div>\n",
       "<style scoped>\n",
       "    .dataframe tbody tr th:only-of-type {\n",
       "        vertical-align: middle;\n",
       "    }\n",
       "\n",
       "    .dataframe tbody tr th {\n",
       "        vertical-align: top;\n",
       "    }\n",
       "\n",
       "    .dataframe thead th {\n",
       "        text-align: right;\n",
       "    }\n",
       "</style>\n",
       "<table border=\"1\" class=\"dataframe\">\n",
       "  <thead>\n",
       "    <tr style=\"text-align: right;\">\n",
       "      <th></th>\n",
       "      <th>index</th>\n",
       "      <th>Confidence</th>\n",
       "      <th>Response</th>\n",
       "      <th>Combined_response</th>\n",
       "    </tr>\n",
       "  </thead>\n",
       "  <tbody>\n",
       "    <tr>\n",
       "      <th>0</th>\n",
       "      <td>0</td>\n",
       "      <td>0</td>\n",
       "      <td>1</td>\n",
       "      <td>1.0</td>\n",
       "    </tr>\n",
       "    <tr>\n",
       "      <th>1</th>\n",
       "      <td>1</td>\n",
       "      <td>1</td>\n",
       "      <td>0</td>\n",
       "      <td>2.0</td>\n",
       "    </tr>\n",
       "    <tr>\n",
       "      <th>2</th>\n",
       "      <td>2</td>\n",
       "      <td>0</td>\n",
       "      <td>0</td>\n",
       "      <td>3.0</td>\n",
       "    </tr>\n",
       "    <tr>\n",
       "      <th>3</th>\n",
       "      <td>3</td>\n",
       "      <td>1</td>\n",
       "      <td>0</td>\n",
       "      <td>2.0</td>\n",
       "    </tr>\n",
       "    <tr>\n",
       "      <th>4</th>\n",
       "      <td>4</td>\n",
       "      <td>0</td>\n",
       "      <td>0</td>\n",
       "      <td>3.0</td>\n",
       "    </tr>\n",
       "    <tr>\n",
       "      <th>...</th>\n",
       "      <td>...</td>\n",
       "      <td>...</td>\n",
       "      <td>...</td>\n",
       "      <td>...</td>\n",
       "    </tr>\n",
       "    <tr>\n",
       "      <th>1015</th>\n",
       "      <td>1015</td>\n",
       "      <td>1</td>\n",
       "      <td>0</td>\n",
       "      <td>2.0</td>\n",
       "    </tr>\n",
       "    <tr>\n",
       "      <th>1016</th>\n",
       "      <td>1016</td>\n",
       "      <td>1</td>\n",
       "      <td>1</td>\n",
       "      <td>0.0</td>\n",
       "    </tr>\n",
       "    <tr>\n",
       "      <th>1017</th>\n",
       "      <td>1017</td>\n",
       "      <td>1</td>\n",
       "      <td>0</td>\n",
       "      <td>2.0</td>\n",
       "    </tr>\n",
       "    <tr>\n",
       "      <th>1018</th>\n",
       "      <td>1018</td>\n",
       "      <td>1</td>\n",
       "      <td>1</td>\n",
       "      <td>0.0</td>\n",
       "    </tr>\n",
       "    <tr>\n",
       "      <th>1019</th>\n",
       "      <td>1019</td>\n",
       "      <td>1</td>\n",
       "      <td>0</td>\n",
       "      <td>2.0</td>\n",
       "    </tr>\n",
       "  </tbody>\n",
       "</table>\n",
       "<p>1020 rows × 4 columns</p>\n",
       "</div>"
      ],
      "text/plain": [
       "      index  Confidence  Response  Combined_response\n",
       "0         0           0         1                1.0\n",
       "1         1           1         0                2.0\n",
       "2         2           0         0                3.0\n",
       "3         3           1         0                2.0\n",
       "4         4           0         0                3.0\n",
       "...     ...         ...       ...                ...\n",
       "1015   1015           1         0                2.0\n",
       "1016   1016           1         1                0.0\n",
       "1017   1017           1         0                2.0\n",
       "1018   1018           1         1                0.0\n",
       "1019   1019           1         0                2.0\n",
       "\n",
       "[1020 rows x 4 columns]"
      ]
     },
     "execution_count": 142,
     "metadata": {},
     "output_type": "execute_result"
    }
   ],
   "source": [
    "## Get bead and confidence response\n",
    "temp = df.dropna(subset=['stimulus'])\n",
    "resp_combined = temp.loc[temp['stimulus'].str.contains(\"NewTrial|NoChoice\")].reset_index()\n",
    "bead_resp = [0 if blah > 1 else 1 for blah in resp_combined['response']]\n",
    "confid_resp = [1 if blah % 2 == 0 else 0 for blah in resp_combined['response']]\n",
    "\n",
    "D = pd.DataFrame({\n",
    "    'Confidence': confid_resp,\n",
    "    'Response': bead_resp,\n",
    "    'Combined_response': resp_combined['response']\n",
    "})\n",
    "D.reset_index()"
   ]
  },
  {
   "cell_type": "code",
   "execution_count": 145,
   "id": "sublime-glance",
   "metadata": {},
   "outputs": [
    {
     "data": {
      "text/plain": [
       "510"
      ]
     },
     "execution_count": 145,
     "metadata": {},
     "output_type": "execute_result"
    }
   ],
   "source": [
    "## Get Hazard\n",
    "\n",
    "switchindex = resp_combined[resp_combined['stimulus'].str.contains(\"NoChoice\")].index[2]\n",
    "switchindex\n",
    "if df['Block_Type'][0] == 'Low_HMMActual':\n",
    "    hazard_list = [0.01, 0.99]\n",
    "else: hazard_list = [0.99, 0.01]\n",
    "    \n",
    "hazard_rate = [hazard_list[0] if i < switchindex else hazard_list[1] for i in np.arange(len(resp_combined))]\n",
    "#hazard_rate"
   ]
  },
  {
   "cell_type": "code",
   "execution_count": 153,
   "id": "express-coordinator",
   "metadata": {},
   "outputs": [
    {
     "data": {
      "text/html": [
       "<div>\n",
       "<style scoped>\n",
       "    .dataframe tbody tr th:only-of-type {\n",
       "        vertical-align: middle;\n",
       "    }\n",
       "\n",
       "    .dataframe tbody tr th {\n",
       "        vertical-align: top;\n",
       "    }\n",
       "\n",
       "    .dataframe thead th {\n",
       "        text-align: right;\n",
       "    }\n",
       "</style>\n",
       "<table border=\"1\" class=\"dataframe\">\n",
       "  <thead>\n",
       "    <tr style=\"text-align: right;\">\n",
       "      <th></th>\n",
       "      <th>index</th>\n",
       "      <th>Urn</th>\n",
       "      <th>Bead</th>\n",
       "    </tr>\n",
       "  </thead>\n",
       "  <tbody>\n",
       "    <tr>\n",
       "      <th>0</th>\n",
       "      <td>0</td>\n",
       "      <td>1.0</td>\n",
       "      <td>2.0</td>\n",
       "    </tr>\n",
       "    <tr>\n",
       "      <th>1</th>\n",
       "      <td>1</td>\n",
       "      <td>1.0</td>\n",
       "      <td>1.0</td>\n",
       "    </tr>\n",
       "    <tr>\n",
       "      <th>2</th>\n",
       "      <td>2</td>\n",
       "      <td>1.0</td>\n",
       "      <td>2.0</td>\n",
       "    </tr>\n",
       "    <tr>\n",
       "      <th>3</th>\n",
       "      <td>3</td>\n",
       "      <td>1.0</td>\n",
       "      <td>1.0</td>\n",
       "    </tr>\n",
       "    <tr>\n",
       "      <th>4</th>\n",
       "      <td>4</td>\n",
       "      <td>1.0</td>\n",
       "      <td>1.0</td>\n",
       "    </tr>\n",
       "    <tr>\n",
       "      <th>...</th>\n",
       "      <td>...</td>\n",
       "      <td>...</td>\n",
       "      <td>...</td>\n",
       "    </tr>\n",
       "    <tr>\n",
       "      <th>1015</th>\n",
       "      <td>495</td>\n",
       "      <td>2.0</td>\n",
       "      <td>2.0</td>\n",
       "    </tr>\n",
       "    <tr>\n",
       "      <th>1016</th>\n",
       "      <td>496</td>\n",
       "      <td>1.0</td>\n",
       "      <td>1.0</td>\n",
       "    </tr>\n",
       "    <tr>\n",
       "      <th>1017</th>\n",
       "      <td>497</td>\n",
       "      <td>2.0</td>\n",
       "      <td>1.0</td>\n",
       "    </tr>\n",
       "    <tr>\n",
       "      <th>1018</th>\n",
       "      <td>498</td>\n",
       "      <td>1.0</td>\n",
       "      <td>2.0</td>\n",
       "    </tr>\n",
       "    <tr>\n",
       "      <th>1019</th>\n",
       "      <td>499</td>\n",
       "      <td>2.0</td>\n",
       "      <td>2.0</td>\n",
       "    </tr>\n",
       "  </tbody>\n",
       "</table>\n",
       "<p>1020 rows × 3 columns</p>\n",
       "</div>"
      ],
      "text/plain": [
       "      index  Urn  Bead\n",
       "0         0  1.0   2.0\n",
       "1         1  1.0   1.0\n",
       "2         2  1.0   2.0\n",
       "3         3  1.0   1.0\n",
       "4         4  1.0   1.0\n",
       "...     ...  ...   ...\n",
       "1015    495  2.0   2.0\n",
       "1016    496  1.0   1.0\n",
       "1017    497  2.0   1.0\n",
       "1018    498  1.0   2.0\n",
       "1019    499  2.0   2.0\n",
       "\n",
       "[1020 rows x 3 columns]"
      ]
     },
     "execution_count": 153,
     "metadata": {},
     "output_type": "execute_result"
    }
   ],
   "source": [
    "## Get sequence of beads and jars\n",
    "seqID = df['Script_Picker'][0]\n",
    "pseq_low = pd.read_csv(stimuli_location + 'low_hazard_HMM/low_hazard_HMM'+str(seqID)+'.csv')\n",
    "pseq_high = pd.read_csv(stimuli_location + 'high_hazard_HMM/high_hazard_HMM'+str(seqID)+'.csv')\n",
    "\n",
    "training_length = 10\n",
    "if df['Block_Type'][0] == 'Low_HMMActual':\n",
    "    pseq = pd.concat([pseq_low[:training_length],pseq_low, pseq_high[:training_length], pseq_high])\n",
    "else:\n",
    "    pseq = pd.concat([pseq_high[:training_length],pseq_high, pseq_low[:training_length], pseq_low])\n",
    "    \n",
    "pseq = pseq.reset_index()\n",
    "pseq"
   ]
  },
  {
   "cell_type": "code",
   "execution_count": 221,
   "id": "binding-judge",
   "metadata": {},
   "outputs": [
    {
     "data": {
      "text/html": [
       "<div>\n",
       "<style scoped>\n",
       "    .dataframe tbody tr th:only-of-type {\n",
       "        vertical-align: middle;\n",
       "    }\n",
       "\n",
       "    .dataframe tbody tr th {\n",
       "        vertical-align: top;\n",
       "    }\n",
       "\n",
       "    .dataframe thead th {\n",
       "        text-align: right;\n",
       "    }\n",
       "</style>\n",
       "<table border=\"1\" class=\"dataframe\">\n",
       "  <thead>\n",
       "    <tr style=\"text-align: right;\">\n",
       "      <th></th>\n",
       "      <th>Confidence</th>\n",
       "      <th>Response</th>\n",
       "      <th>Combined_response</th>\n",
       "      <th>Hazard</th>\n",
       "      <th>Jar</th>\n",
       "      <th>Bead</th>\n",
       "    </tr>\n",
       "  </thead>\n",
       "  <tbody>\n",
       "    <tr>\n",
       "      <th>0</th>\n",
       "      <td>0</td>\n",
       "      <td>1</td>\n",
       "      <td>1.0</td>\n",
       "      <td>0.01</td>\n",
       "      <td>1</td>\n",
       "      <td>0</td>\n",
       "    </tr>\n",
       "    <tr>\n",
       "      <th>1</th>\n",
       "      <td>1</td>\n",
       "      <td>0</td>\n",
       "      <td>2.0</td>\n",
       "      <td>0.01</td>\n",
       "      <td>1</td>\n",
       "      <td>1</td>\n",
       "    </tr>\n",
       "    <tr>\n",
       "      <th>2</th>\n",
       "      <td>0</td>\n",
       "      <td>0</td>\n",
       "      <td>3.0</td>\n",
       "      <td>0.01</td>\n",
       "      <td>1</td>\n",
       "      <td>0</td>\n",
       "    </tr>\n",
       "    <tr>\n",
       "      <th>3</th>\n",
       "      <td>1</td>\n",
       "      <td>0</td>\n",
       "      <td>2.0</td>\n",
       "      <td>0.01</td>\n",
       "      <td>1</td>\n",
       "      <td>1</td>\n",
       "    </tr>\n",
       "    <tr>\n",
       "      <th>4</th>\n",
       "      <td>0</td>\n",
       "      <td>0</td>\n",
       "      <td>3.0</td>\n",
       "      <td>0.01</td>\n",
       "      <td>1</td>\n",
       "      <td>1</td>\n",
       "    </tr>\n",
       "    <tr>\n",
       "      <th>...</th>\n",
       "      <td>...</td>\n",
       "      <td>...</td>\n",
       "      <td>...</td>\n",
       "      <td>...</td>\n",
       "      <td>...</td>\n",
       "      <td>...</td>\n",
       "    </tr>\n",
       "    <tr>\n",
       "      <th>1015</th>\n",
       "      <td>1</td>\n",
       "      <td>0</td>\n",
       "      <td>2.0</td>\n",
       "      <td>0.99</td>\n",
       "      <td>0</td>\n",
       "      <td>0</td>\n",
       "    </tr>\n",
       "    <tr>\n",
       "      <th>1016</th>\n",
       "      <td>1</td>\n",
       "      <td>1</td>\n",
       "      <td>0.0</td>\n",
       "      <td>0.99</td>\n",
       "      <td>1</td>\n",
       "      <td>1</td>\n",
       "    </tr>\n",
       "    <tr>\n",
       "      <th>1017</th>\n",
       "      <td>1</td>\n",
       "      <td>0</td>\n",
       "      <td>2.0</td>\n",
       "      <td>0.99</td>\n",
       "      <td>0</td>\n",
       "      <td>1</td>\n",
       "    </tr>\n",
       "    <tr>\n",
       "      <th>1018</th>\n",
       "      <td>1</td>\n",
       "      <td>1</td>\n",
       "      <td>0.0</td>\n",
       "      <td>0.99</td>\n",
       "      <td>1</td>\n",
       "      <td>0</td>\n",
       "    </tr>\n",
       "    <tr>\n",
       "      <th>1019</th>\n",
       "      <td>1</td>\n",
       "      <td>0</td>\n",
       "      <td>2.0</td>\n",
       "      <td>0.99</td>\n",
       "      <td>0</td>\n",
       "      <td>0</td>\n",
       "    </tr>\n",
       "  </tbody>\n",
       "</table>\n",
       "<p>1020 rows × 6 columns</p>\n",
       "</div>"
      ],
      "text/plain": [
       "      Confidence  Response  Combined_response  Hazard  Jar  Bead\n",
       "0              0         1                1.0    0.01    1     0\n",
       "1              1         0                2.0    0.01    1     1\n",
       "2              0         0                3.0    0.01    1     0\n",
       "3              1         0                2.0    0.01    1     1\n",
       "4              0         0                3.0    0.01    1     1\n",
       "...          ...       ...                ...     ...  ...   ...\n",
       "1015           1         0                2.0    0.99    0     0\n",
       "1016           1         1                0.0    0.99    1     1\n",
       "1017           1         0                2.0    0.99    0     1\n",
       "1018           1         1                0.0    0.99    1     0\n",
       "1019           1         0                2.0    0.99    0     0\n",
       "\n",
       "[1020 rows x 6 columns]"
      ]
     },
     "execution_count": 221,
     "metadata": {},
     "output_type": "execute_result"
    }
   ],
   "source": [
    "D = pd.DataFrame({\n",
    "    'Confidence': confid_resp,\n",
    "    'Response': bead_resp,\n",
    "    'Combined_response': resp_combined['response'],\n",
    "    'Hazard': hazard_rate,\n",
    "    'Jar': [int(2-i) for i in pseq['Urn']],\n",
    "    'Bead': [int(2-i) for i in pseq['Bead']]\n",
    "})\n",
    "D"
   ]
  },
  {
   "cell_type": "code",
   "execution_count": 190,
   "id": "statewide-compilation",
   "metadata": {},
   "outputs": [],
   "source": [
    "## Check stuff\n",
    "check_set = ['Images/BlackBeadChoiceWrong.png',\n",
    "            'Images/WhiteBeadChoiceWrong.png',\n",
    "            'Images/BlackBeadChoiceCorrect.png',\n",
    "            'Images/WhiteBeadChoiceCorrect.png']\n",
    "check_set_string = \"|\".join(check_set)\n",
    "\n",
    "check_table = pd.DataFrame()\n",
    "check_table['stim'] = temp['stimulus'].loc[temp['stimulus'].str.contains(check_set_string)]\n",
    "check_table['check_resp'] = [0 if \"White\" in i else 1 for i in check_table['stim']]\n",
    "check_table['check_correct'] = [0 if \"Wrong\" in i else 1 for i in check_table['stim']]\n",
    "check_table = check_table.reset_index()\n",
    "\n",
    "D['check_resp'] = check_table['check_resp']\n",
    "D['check_correct'] = check_table['check_correct']"
   ]
  },
  {
   "cell_type": "code",
   "execution_count": 222,
   "id": "interracial-milan",
   "metadata": {},
   "outputs": [
    {
     "data": {
      "text/html": [
       "<div>\n",
       "<style scoped>\n",
       "    .dataframe tbody tr th:only-of-type {\n",
       "        vertical-align: middle;\n",
       "    }\n",
       "\n",
       "    .dataframe tbody tr th {\n",
       "        vertical-align: top;\n",
       "    }\n",
       "\n",
       "    .dataframe thead th {\n",
       "        text-align: right;\n",
       "    }\n",
       "</style>\n",
       "<table border=\"1\" class=\"dataframe\">\n",
       "  <thead>\n",
       "    <tr style=\"text-align: right;\">\n",
       "      <th></th>\n",
       "      <th>Confidence</th>\n",
       "      <th>Response</th>\n",
       "      <th>Combined_response</th>\n",
       "      <th>Hazard</th>\n",
       "      <th>Jar</th>\n",
       "      <th>Bead</th>\n",
       "      <th>Correct</th>\n",
       "    </tr>\n",
       "  </thead>\n",
       "  <tbody>\n",
       "    <tr>\n",
       "      <th>0</th>\n",
       "      <td>0</td>\n",
       "      <td>1</td>\n",
       "      <td>1.0</td>\n",
       "      <td>0.01</td>\n",
       "      <td>1</td>\n",
       "      <td>0</td>\n",
       "      <td>0</td>\n",
       "    </tr>\n",
       "    <tr>\n",
       "      <th>1</th>\n",
       "      <td>1</td>\n",
       "      <td>0</td>\n",
       "      <td>2.0</td>\n",
       "      <td>0.01</td>\n",
       "      <td>1</td>\n",
       "      <td>1</td>\n",
       "      <td>0</td>\n",
       "    </tr>\n",
       "    <tr>\n",
       "      <th>2</th>\n",
       "      <td>0</td>\n",
       "      <td>0</td>\n",
       "      <td>3.0</td>\n",
       "      <td>0.01</td>\n",
       "      <td>1</td>\n",
       "      <td>0</td>\n",
       "      <td>1</td>\n",
       "    </tr>\n",
       "    <tr>\n",
       "      <th>3</th>\n",
       "      <td>1</td>\n",
       "      <td>0</td>\n",
       "      <td>2.0</td>\n",
       "      <td>0.01</td>\n",
       "      <td>1</td>\n",
       "      <td>1</td>\n",
       "      <td>0</td>\n",
       "    </tr>\n",
       "    <tr>\n",
       "      <th>4</th>\n",
       "      <td>0</td>\n",
       "      <td>0</td>\n",
       "      <td>3.0</td>\n",
       "      <td>0.01</td>\n",
       "      <td>1</td>\n",
       "      <td>1</td>\n",
       "      <td>0</td>\n",
       "    </tr>\n",
       "    <tr>\n",
       "      <th>...</th>\n",
       "      <td>...</td>\n",
       "      <td>...</td>\n",
       "      <td>...</td>\n",
       "      <td>...</td>\n",
       "      <td>...</td>\n",
       "      <td>...</td>\n",
       "      <td>...</td>\n",
       "    </tr>\n",
       "    <tr>\n",
       "      <th>1015</th>\n",
       "      <td>1</td>\n",
       "      <td>0</td>\n",
       "      <td>2.0</td>\n",
       "      <td>0.99</td>\n",
       "      <td>0</td>\n",
       "      <td>0</td>\n",
       "      <td>1</td>\n",
       "    </tr>\n",
       "    <tr>\n",
       "      <th>1016</th>\n",
       "      <td>1</td>\n",
       "      <td>1</td>\n",
       "      <td>0.0</td>\n",
       "      <td>0.99</td>\n",
       "      <td>1</td>\n",
       "      <td>1</td>\n",
       "      <td>1</td>\n",
       "    </tr>\n",
       "    <tr>\n",
       "      <th>1017</th>\n",
       "      <td>1</td>\n",
       "      <td>0</td>\n",
       "      <td>2.0</td>\n",
       "      <td>0.99</td>\n",
       "      <td>0</td>\n",
       "      <td>1</td>\n",
       "      <td>0</td>\n",
       "    </tr>\n",
       "    <tr>\n",
       "      <th>1018</th>\n",
       "      <td>1</td>\n",
       "      <td>1</td>\n",
       "      <td>0.0</td>\n",
       "      <td>0.99</td>\n",
       "      <td>1</td>\n",
       "      <td>0</td>\n",
       "      <td>0</td>\n",
       "    </tr>\n",
       "    <tr>\n",
       "      <th>1019</th>\n",
       "      <td>1</td>\n",
       "      <td>0</td>\n",
       "      <td>2.0</td>\n",
       "      <td>0.99</td>\n",
       "      <td>0</td>\n",
       "      <td>0</td>\n",
       "      <td>1</td>\n",
       "    </tr>\n",
       "  </tbody>\n",
       "</table>\n",
       "<p>1020 rows × 7 columns</p>\n",
       "</div>"
      ],
      "text/plain": [
       "      Confidence  Response  Combined_response  Hazard  Jar  Bead  Correct\n",
       "0              0         1                1.0    0.01    1     0        0\n",
       "1              1         0                2.0    0.01    1     1        0\n",
       "2              0         0                3.0    0.01    1     0        1\n",
       "3              1         0                2.0    0.01    1     1        0\n",
       "4              0         0                3.0    0.01    1     1        0\n",
       "...          ...       ...                ...     ...  ...   ...      ...\n",
       "1015           1         0                2.0    0.99    0     0        1\n",
       "1016           1         1                0.0    0.99    1     1        1\n",
       "1017           1         0                2.0    0.99    0     1        0\n",
       "1018           1         1                0.0    0.99    1     0        0\n",
       "1019           1         0                2.0    0.99    0     0        1\n",
       "\n",
       "[1020 rows x 7 columns]"
      ]
     },
     "execution_count": 222,
     "metadata": {},
     "output_type": "execute_result"
    }
   ],
   "source": [
    "D['Correct'] = [1 if D['Response'][i] == D['Bead'][i] else 0 for i in np.arange(len(D))]\n",
    "D\n",
    "\n",
    "#list(D['Correct']) == list(D['check_correct'])\n",
    "#list(D['Response']) == list(D['check_resp'])"
   ]
  },
  {
   "cell_type": "code",
   "execution_count": 39,
   "id": "satisfactory-smell",
   "metadata": {},
   "outputs": [],
   "source": [
    "# Make into object\n",
    "def get_sub_dat(fname,snum):\n",
    "   # Load raw response data\n",
    "    pdf = pd.read_csv('./Urn-Confidence/Pilot/UrnTaskV/'+fname)\n",
    "\n",
    "    # Load session trial info\n",
    "    seqID = pdf['Script_Picker'][0]\n",
    "    pseq1 = pd.read_csv('./Urn-Confidence/Pilot/StimuliV/low_hazard_HMM/low_hazard_HMM'+str(seqID)+'.csv')\n",
    "    pseq2 = pd.read_csv('./Urn-Confidence/Pilot/StimuliV/high_hazard_HMM/high_hazard_HMM'+str(seqID)+'.csv')\n",
    "    seqDict = {'HMM_low':pseq1, 'HMM_high':pseq2}\n",
    "\n",
    "    # Add response code to match data sequence file\n",
    "    stim_im = [\"Images/NewTrialBC.png\",\"Images/NewTrialWC.png\",\"Images/NoChoice.png\", \n",
    "               \"Images/NoChoiceMM.png\", \"Images/NewTrialWCMM.png\", \"Images/NewTrialBCMM.png\"]\n",
    "    pdf['resp']=np.nan\n",
    "    pdf['resp'].loc[(pdf['key_press'] == 37) & (pdf['stimulus'].isin(stim_im))] = 1\n",
    "    pdf['resp'].loc[(pdf['key_press'] == 39) & (pdf['stimulus'].isin(stim_im))] = 2\n",
    "\n",
    "    # Add bead info\n",
    "    pdf['bead'] = np.nan\n",
    "    offset = np.array(pdf['stimulus'])\n",
    "    beads = np.zeros((len(offset)))-1\n",
    "    beads[np.isin(offset,[\"Images/BlackBeadChoiceCorrect.png\",\"Images/WhiteBeadChoiceWrong.png\",\n",
    "                         \"Images/BlackBeadChoiceCorrectMM.png\",\"Images/WhiteBeadChoiceWrongMM.png\"])] = 1\n",
    "    beads[np.isin(offset,[\"Images/WhiteBeadChoiceCorrect.png\",\"Images/BlackBeadChoiceWrong.png\",\n",
    "                         \"Images/WhiteBeadChoiceCorrectMM.png\",\"Images/BlackBeadChoiceWrongMM.png\"])] = 2\n",
    "    pdf['bead'].iloc[:-2] = beads[2:]\n",
    "\n",
    "    # Add session number and condition\n",
    "    # Get indicies of start and finish of each block\n",
    "    pdf['session_num'] = np.nan\n",
    "    pdf['condition'] = np.nan\n",
    "    sess_order = ['HMM_low','MM_low','HMM_high','MM_high']\n",
    "    bidx = []\n",
    "    # Get all indicies where key_press is equal to 32 - helps demarcate block bounds\n",
    "    p32 = pdf[pdf['key_press'] == 32]\n",
    "    for i in np.arange(4):\n",
    "        if i == 0:\n",
    "            sidx = (p32.index[p32.index < 100].max(), p32.index[(p32.index > 100)].min())\n",
    "        else:\n",
    "            prevIdx = bidx[i-1][1]\n",
    "            start = p32.index[p32.index > prevIdx].min()\n",
    "            end = p32.index[p32.index > start].min()\n",
    "            sidx = (start,end)\n",
    "        bidx.append(sidx)\n",
    "\n",
    "        # Add session info\n",
    "        pdf['session_num'].loc[pdf.index.isin(np.arange(sidx[0]+1,sidx[1]))] = i+1\n",
    "        pdf['condition'].loc[pdf.index.isin(np.arange(sidx[0]+1,sidx[1]))] = sess_order[i]\n",
    "\n",
    "    # Get jar info\n",
    "    jar = np.concatenate((np.array(pseq1['Urn']),\n",
    "                         np.array(pseq2['Urn']),\n",
    "                         np.array(pseq3['Urn']),\n",
    "                         np.array(pseq4['Urn'])))\n",
    "    \n",
    "    # Get clean data and check that bead sequences match per session\n",
    "    # Also add trial since jar changepoint\n",
    "    pdf_clean = pdf[pdf['resp'].notna()].copy()\n",
    "    pdf_clean['TSCP'] = np.nan\n",
    "    pdf_clean['TSCP2'] = np.nan\n",
    "    for i,sess in enumerate(sess_order):\n",
    "        seqBeads = np.array(seqDict[sess]['Bead'])\n",
    "        rawBeads = np.array(pdf_clean['bead'].loc[pdf_clean['condition'] == sess])\n",
    "        if sum(seqBeads!=rawBeads)>0:\n",
    "            print('Data not aligned for subject %str'%str(snum))\n",
    "\n",
    "        # Get trial since changepoint\n",
    "        tscp = 0\n",
    "        currJar = 0\n",
    "        tscp_vc = np.zeros(len(seqBeads))\n",
    "        for i,j in enumerate(seqDict[sess]['Urn']):\n",
    "            if i == 0:\n",
    "                currJar = j\n",
    "            else:\n",
    "                if currJar !=j:\n",
    "                    tscp = 0\n",
    "                    currJar = j\n",
    "                else:\n",
    "                    tscp += 1\n",
    "            tscp_vc[i] = tscp\n",
    "        pdf_clean['TSCP'].loc[pdf_clean['condition'] == sess] = tscp_vc\n",
    "        pdf_clean['TSCP2'].loc[pdf_clean['TSCP'] == 0] = '0'\n",
    "        pdf_clean['TSCP2'].loc[pdf_clean['TSCP'] == 1] = '1'\n",
    "        pdf_clean['TSCP2'].loc[pdf_clean['TSCP'] == 2] = '2'\n",
    "        pdf_clean['TSCP2'].loc[pdf_clean['TSCP'].isin([3,4])] = '3-4'\n",
    "        pdf_clean['TSCP2'].loc[pdf_clean['TSCP'].isin([5,6,7])] = '5-7'\n",
    "        pdf_clean['TSCP2'].loc[pdf_clean['TSCP']>7] = '8+'\n",
    "\n",
    "    # Create new data frame with columns of interest\n",
    "    df = pd.DataFrame({\n",
    "        \"Subject\": np.array([snum]*len(jar)),\n",
    "        \"Sequence\": np.array([seqID]*len(jar)),\n",
    "        \"Session\": pdf_clean['condition'],\n",
    "        \"SessTrial\": np.concatenate((np.arange(1,201),np.arange(1,201),np.arange(1,201),np.arange(1,201))),\n",
    "        \"TSCP\": pdf_clean['TSCP'],\n",
    "        \"TSCP2\": pdf_clean['TSCP2'],\n",
    "        \"Jar\":jar,\n",
    "        \"Bead\": pdf_clean['bead'],\n",
    "        \"Resp\": pdf_clean['resp'],\n",
    "        \"Correct_Bead\": np.array(np.array(pdf_clean['resp']) == np.array(pdf_clean['bead'])).astype(int), \n",
    "        \"Correct_Jar\": np.array(np.array(pdf_clean['resp']) == jar).astype(int),\n",
    "        \"RT\": pdf_clean['rt']\n",
    "    })\n",
    "\n",
    "    return(df) "
   ]
  },
  {
   "cell_type": "code",
   "execution_count": 45,
   "id": "collect-cinema",
   "metadata": {},
   "outputs": [
    {
     "name": "stderr",
     "output_type": "stream",
     "text": [
      "/Users/vwang/anaconda3/envs/ndd/lib/python3.7/site-packages/pandas/core/indexing.py:1637: SettingWithCopyWarning: \n",
      "A value is trying to be set on a copy of a slice from a DataFrame\n",
      "\n",
      "See the caveats in the documentation: https://pandas.pydata.org/pandas-docs/stable/user_guide/indexing.html#returning-a-view-versus-a-copy\n",
      "  self._setitem_single_block(indexer, value, name)\n"
     ]
    },
    {
     "ename": "ValueError",
     "evalue": "arange: cannot compute length",
     "output_type": "error",
     "traceback": [
      "\u001b[0;31m---------------------------------------------------------------------------\u001b[0m",
      "\u001b[0;31mValueError\u001b[0m                                Traceback (most recent call last)",
      "\u001b[0;32m<ipython-input-45-2d7b4dd9825c>\u001b[0m in \u001b[0;36m<module>\u001b[0;34m\u001b[0m\n\u001b[1;32m      1\u001b[0m \u001b[0mfile\u001b[0m \u001b[0;34m=\u001b[0m \u001b[0mos\u001b[0m\u001b[0;34m.\u001b[0m\u001b[0mlistdir\u001b[0m\u001b[0;34m(\u001b[0m\u001b[0mdata_location\u001b[0m\u001b[0;34m)\u001b[0m\u001b[0;34m[\u001b[0m\u001b[0;36m0\u001b[0m\u001b[0;34m]\u001b[0m\u001b[0;34m\u001b[0m\u001b[0;34m\u001b[0m\u001b[0m\n\u001b[0;32m----> 2\u001b[0;31m \u001b[0mget_sub_dat\u001b[0m\u001b[0;34m(\u001b[0m\u001b[0mfile\u001b[0m\u001b[0;34m,\u001b[0m\u001b[0;34m'asdf'\u001b[0m\u001b[0;34m)\u001b[0m\u001b[0;34m\u001b[0m\u001b[0;34m\u001b[0m\u001b[0m\n\u001b[0m",
      "\u001b[0;32m<ipython-input-39-26b458e21c6a>\u001b[0m in \u001b[0;36mget_sub_dat\u001b[0;34m(fname, snum)\u001b[0m\n\u001b[1;32m     46\u001b[0m \u001b[0;34m\u001b[0m\u001b[0m\n\u001b[1;32m     47\u001b[0m         \u001b[0;31m# Add session info\u001b[0m\u001b[0;34m\u001b[0m\u001b[0;34m\u001b[0m\u001b[0;34m\u001b[0m\u001b[0m\n\u001b[0;32m---> 48\u001b[0;31m         \u001b[0mpdf\u001b[0m\u001b[0;34m[\u001b[0m\u001b[0;34m'session_num'\u001b[0m\u001b[0;34m]\u001b[0m\u001b[0;34m.\u001b[0m\u001b[0mloc\u001b[0m\u001b[0;34m[\u001b[0m\u001b[0mpdf\u001b[0m\u001b[0;34m.\u001b[0m\u001b[0mindex\u001b[0m\u001b[0;34m.\u001b[0m\u001b[0misin\u001b[0m\u001b[0;34m(\u001b[0m\u001b[0mnp\u001b[0m\u001b[0;34m.\u001b[0m\u001b[0marange\u001b[0m\u001b[0;34m(\u001b[0m\u001b[0msidx\u001b[0m\u001b[0;34m[\u001b[0m\u001b[0;36m0\u001b[0m\u001b[0;34m]\u001b[0m\u001b[0;34m+\u001b[0m\u001b[0;36m1\u001b[0m\u001b[0;34m,\u001b[0m\u001b[0msidx\u001b[0m\u001b[0;34m[\u001b[0m\u001b[0;36m1\u001b[0m\u001b[0;34m]\u001b[0m\u001b[0;34m)\u001b[0m\u001b[0;34m)\u001b[0m\u001b[0;34m]\u001b[0m \u001b[0;34m=\u001b[0m \u001b[0mi\u001b[0m\u001b[0;34m+\u001b[0m\u001b[0;36m1\u001b[0m\u001b[0;34m\u001b[0m\u001b[0;34m\u001b[0m\u001b[0m\n\u001b[0m\u001b[1;32m     49\u001b[0m         \u001b[0mpdf\u001b[0m\u001b[0;34m[\u001b[0m\u001b[0;34m'condition'\u001b[0m\u001b[0;34m]\u001b[0m\u001b[0;34m.\u001b[0m\u001b[0mloc\u001b[0m\u001b[0;34m[\u001b[0m\u001b[0mpdf\u001b[0m\u001b[0;34m.\u001b[0m\u001b[0mindex\u001b[0m\u001b[0;34m.\u001b[0m\u001b[0misin\u001b[0m\u001b[0;34m(\u001b[0m\u001b[0mnp\u001b[0m\u001b[0;34m.\u001b[0m\u001b[0marange\u001b[0m\u001b[0;34m(\u001b[0m\u001b[0msidx\u001b[0m\u001b[0;34m[\u001b[0m\u001b[0;36m0\u001b[0m\u001b[0;34m]\u001b[0m\u001b[0;34m+\u001b[0m\u001b[0;36m1\u001b[0m\u001b[0;34m,\u001b[0m\u001b[0msidx\u001b[0m\u001b[0;34m[\u001b[0m\u001b[0;36m1\u001b[0m\u001b[0;34m]\u001b[0m\u001b[0;34m)\u001b[0m\u001b[0;34m)\u001b[0m\u001b[0;34m]\u001b[0m \u001b[0;34m=\u001b[0m \u001b[0msess_order\u001b[0m\u001b[0;34m[\u001b[0m\u001b[0mi\u001b[0m\u001b[0;34m]\u001b[0m\u001b[0;34m\u001b[0m\u001b[0;34m\u001b[0m\u001b[0m\n\u001b[1;32m     50\u001b[0m \u001b[0;34m\u001b[0m\u001b[0m\n",
      "\u001b[0;31mValueError\u001b[0m: arange: cannot compute length"
     ]
    }
   ],
   "source": [
    "file = os.listdir(data_location)[0]\n",
    "get_sub_dat(file,'asdf')"
   ]
  },
  {
   "cell_type": "code",
   "execution_count": null,
   "id": "palestinian-graphics",
   "metadata": {},
   "outputs": [],
   "source": [
    " & (('NoChoice' in df['stimulus']) | ('NewTrial' in df['stimulus']))"
   ]
  },
  {
   "cell_type": "code",
   "execution_count": null,
   "id": "eleven-assault",
   "metadata": {},
   "outputs": [],
   "source": [
    "if df['Block_Type'] == 'Low_HMMActual':\n",
    "    pseq1 = pd.read_csv(stimuli_location + 'low_hazard_HMM/low_hazard_HMM'+str(seqID)+'.csv')\n",
    "    pseq2 = pd.read_csv(stimuli_location + 'high_hazard_HMM/high_hazard_HMM'+str(seqID)+'.csv')\n",
    "    seqDict = {'HMM_low':pseq1,'HMM_high':pseq2}\n",
    "else:\n",
    "    pseq1 = pd.read_csv(stimuli_location + 'high_hazard_HMM/high_hazard_HMM'+str(seqID)+'.csv')\n",
    "    pseq2 = pd.read_csv(stimuli_location + 'low_hazard_HMM/low_hazard_HMM'+str(seqID)+'.csv')\n",
    "    seqDict = {'HMM_low':pseq2,'HMM_high':pseq1}"
   ]
  },
  {
   "cell_type": "code",
   "execution_count": null,
   "id": "objective-forestry",
   "metadata": {},
   "outputs": [],
   "source": []
  },
  {
   "cell_type": "code",
   "execution_count": null,
   "id": "united-fence",
   "metadata": {},
   "outputs": [],
   "source": [
    "#### Code for low and high together\n",
    "\n",
    "def preprocess_sub_data(data_location, stimuli_location, training_length = 10):\n",
    "    full_data = pd.DataFrame()\n",
    "    subject_list = []\n",
    "    for file in os.listdir(data_location):\n",
    "        if file[0] == \".\": continue\n",
    "        sub_data = preprocess_sub_data_helper(data_location + file, stimuli_location, training_length)\n",
    "        if sub_data['Subject'][0] not in subject_list:\n",
    "            subject_list.append(sub_data['Subject'][0])\n",
    "            full_data = full_data.append(sub_data,ignore_index=True)\n",
    "        #print(subject_list)\n",
    "    return full_data\n",
    "        \n",
    "def preprocess_sub_data_helper(file_location, stimuli_location, training_length = 10):\n",
    "    ## Read in subject data\n",
    "    df = pd.read_csv(file_location)\n",
    "    \n",
    "    ## Read in subject stimulus data\n",
    "    seqID = df['Script_Picker'][0]\n",
    "    pseq_low = pd.read_csv(stimuli_location + 'low_hazard_HMM/low_hazard_HMM'+str(seqID)+'.csv')\n",
    "    pseq_high = pd.read_csv(stimuli_location + 'high_hazard_HMM/high_hazard_HMM'+str(seqID)+'.csv')\n",
    "    \n",
    "    ## Subject identifier\n",
    "    sub = find_between(df['responses'][5],\":\\\"\",\"\\\"}\")\n",
    "    \n",
    "    ## Get bead and confidence responses\n",
    "    temp = df.dropna(subset=['stimulus'])\n",
    "    resp_combined = temp.loc[temp['stimulus'].str.contains(\"NewTrial|NoChoice\")].reset_index()\n",
    "    bead_resp = [0 if blah > 1 else 1 for blah in resp_combined['response']]\n",
    "    confid_resp = [1 if blah % 2 == 0 else 0 for blah in resp_combined['response']]\n",
    "    \n",
    "    ## Get hazard rates\n",
    "    switchindex = resp_combined[resp_combined['stimulus'].str.contains(\"NoChoice\")].index[2]\n",
    "    switchindex\n",
    "    if df['Block_Type'][0] == 'Low_HMMActual':\n",
    "        hazard_list = [0.01, 0.99]\n",
    "    else: hazard_list = [0.99, 0.01]\n",
    "    hazard_rate = [hazard_list[0] if i < switchindex else hazard_list[1] for i in np.arange(len(resp_combined))]\n",
    "    \n",
    "    ## Get true sequence of beads and jars\n",
    "    if df['Block_Type'][0] == 'Low_HMMActual':\n",
    "        pseq = pd.concat([pseq_low[:training_length],pseq_low, pseq_high[:training_length], pseq_high])\n",
    "    else:\n",
    "        pseq = pd.concat([pseq_high[:training_length],pseq_high, pseq_low[:training_length], pseq_low])\n",
    "    pseq = pseq.reset_index()\n",
    "    \n",
    "    ## Gather outputs\n",
    "    D = pd.DataFrame({\n",
    "        'Subject': sub,\n",
    "        'Trial': [i for i in np.arange(len(pseq))],\n",
    "        'H': hazard_rate,\n",
    "        'Jar': [int(2-i) for i in pseq['Urn']],\n",
    "        'Bead': [int(2-i) for i in pseq['Bead']],\n",
    "        'Response': bead_resp,\n",
    "        'Confidence': confid_resp#,\n",
    "        #'Combined_response': resp_combined['response']\n",
    "    })\n",
    "    D['Correct'] = [1 if D['Response'][i] == D['Bead'][i] else 0 for i in np.arange(len(D))]\n",
    "\n",
    "    ## Check stuff\n",
    "    check_set = ['Images/BlackBeadChoiceWrong.png',\n",
    "                'Images/WhiteBeadChoiceWrong.png',\n",
    "                'Images/BlackBeadChoiceCorrect.png',\n",
    "                'Images/WhiteBeadChoiceCorrect.png']\n",
    "    check_set_string = \"|\".join(check_set)\n",
    "\n",
    "    check_table = pd.DataFrame()\n",
    "    check_table['stim'] = temp['stimulus'].loc[temp['stimulus'].str.contains(check_set_string)]\n",
    "    check_table['check_resp'] = [0 if \"White\" in i else 1 for i in check_table['stim']]\n",
    "    check_table['check_correct'] = [0 if \"Wrong\" in i else 1 for i in check_table['stim']]\n",
    "    check_table = check_table.reset_index()\n",
    "    \n",
    "    check1 = list(D['Correct']) != list(check_table['check_correct'])\n",
    "    check2 = list(D['Response']) != list(check_table['check_resp'])\n",
    "    \n",
    "    if check1 | check2:\n",
    "        print(\"PROBLEM\")\n",
    "    return D"
   ]
  },
  {
   "cell_type": "code",
   "execution_count": null,
   "id": "romantic-sessions",
   "metadata": {},
   "outputs": [],
   "source": [
    "D[(D['Subject'] == \"6027fd6deb80d22d739bab75\") & (D['H'] == 0.01)]\n",
    "\n",
    "plt.figure(1,(8,6))\n",
    "plt.plot(\"Trial\", \"Confidence\",'.',data = D[(D['Subject'] == \"6027fd6deb80d22d739bab75\") & (D['H'] == 0.01)])\n",
    "plt.plot(\"Trial\", \"Confidence\",'.',data = D[(D['Subject'] == \"6027fd6deb80d22d739bab75\") & (D['H'] == 0.99)])"
   ]
  },
  {
   "cell_type": "code",
   "execution_count": 310,
   "id": "lonely-revision",
   "metadata": {},
   "outputs": [
    {
     "data": {
      "text/plain": [
       "array([0, 1, 0, 0, 1, 1, 0, 0, 0, 1, 1, 0, 1])"
      ]
     },
     "execution_count": 310,
     "metadata": {},
     "output_type": "execute_result"
    },
    {
     "data": {
      "text/plain": [
       "['10', '01', '00', '10', '11', '01', '00', '00', '10', '11', '01']"
      ]
     },
     "execution_count": 310,
     "metadata": {},
     "output_type": "execute_result"
    },
    {
     "data": {
      "text/plain": [
       "array([2, 1, 0, 2, 3, 1, 0, 0, 2, 3, 1])"
      ]
     },
     "execution_count": 310,
     "metadata": {},
     "output_type": "execute_result"
    },
    {
     "data": {
      "text/plain": [
       "array([ 2,  3,  4,  5,  6,  7,  8,  9, 10, 11, 12])"
      ]
     },
     "execution_count": 310,
     "metadata": {},
     "output_type": "execute_result"
    },
    {
     "data": {
      "text/plain": [
       "[2, 1, 0, 2, 3, 1, 0, 0, 2, 3, 1]"
      ]
     },
     "execution_count": 310,
     "metadata": {},
     "output_type": "execute_result"
    },
    {
     "data": {
      "text/plain": [
       "'\\nx = np.array([1,1,1,1,1,1,1,1,1,2,2,1,2])\\nx = x-1\\nx\\nz = np.zeros(13)\\nxw,zw = get_windowed_x(x,z,2)\\n\\n[np.binary_repr(int(h),2) for h in xw]\\nxw\\nzw'"
      ]
     },
     "execution_count": 310,
     "metadata": {},
     "output_type": "execute_result"
    }
   ],
   "source": [
    "x = np.array([1,2,1,1,2,2,1,1,1,2,2,1,2])\n",
    "x = x-1\n",
    "x\n",
    "z = np.arange(13)\n",
    "xw,zw = get_windowed_x(x,z,2)\n",
    "\n",
    "xw1,zw1 = get_windowed_x_v(get_previous_n_beads(2,x),z,2)\n",
    "\n",
    "[np.binary_repr(int(h),2) for h in xw]\n",
    "xw\n",
    "zw\n",
    "\n",
    "[int(h[1:][::-1],2) for h in get_previous_n_beads(2,x)][2:]\n",
    "\n",
    "'''\n",
    "x = np.array([1,1,1,1,1,1,1,1,1,2,2,1,2])\n",
    "x = x-1\n",
    "x\n",
    "z = np.zeros(13)\n",
    "xw,zw = get_windowed_x(x,z,2)\n",
    "\n",
    "[np.binary_repr(int(h),2) for h in xw]\n",
    "xw\n",
    "zw'''"
   ]
  },
  {
   "cell_type": "code",
   "execution_count": 956,
   "id": "architectural-norman",
   "metadata": {},
   "outputs": [
    {
     "data": {
      "text/plain": [
       "897"
      ]
     },
     "execution_count": 956,
     "metadata": {},
     "output_type": "execute_result"
    },
    {
     "data": {
      "text/plain": [
       "True"
      ]
     },
     "execution_count": 956,
     "metadata": {},
     "output_type": "execute_result"
    },
    {
     "data": {
      "text/plain": [
       "897"
      ]
     },
     "execution_count": 956,
     "metadata": {},
     "output_type": "execute_result"
    },
    {
     "data": {
      "text/plain": [
       "0        10\n",
       "1        11\n",
       "2        12\n",
       "3        13\n",
       "4        14\n",
       "       ... \n",
       "995    1005\n",
       "996    1006\n",
       "997    1007\n",
       "998    1008\n",
       "999    1009\n",
       "Name: Trial, Length: 1000, dtype: int64"
      ]
     },
     "execution_count": 956,
     "metadata": {},
     "output_type": "execute_result"
    },
    {
     "data": {
      "text/plain": [
       "1009"
      ]
     },
     "execution_count": 956,
     "metadata": {},
     "output_type": "execute_result"
    },
    {
     "data": {
      "text/html": [
       "<div>\n",
       "<style scoped>\n",
       "    .dataframe tbody tr th:only-of-type {\n",
       "        vertical-align: middle;\n",
       "    }\n",
       "\n",
       "    .dataframe tbody tr th {\n",
       "        vertical-align: top;\n",
       "    }\n",
       "\n",
       "    .dataframe thead th {\n",
       "        text-align: right;\n",
       "    }\n",
       "</style>\n",
       "<table border=\"1\" class=\"dataframe\">\n",
       "  <thead>\n",
       "    <tr style=\"text-align: right;\">\n",
       "      <th></th>\n",
       "      <th>Subject</th>\n",
       "      <th>Trial</th>\n",
       "      <th>Jar</th>\n",
       "      <th>Bead</th>\n",
       "      <th>Response</th>\n",
       "      <th>Confidence</th>\n",
       "      <th>Correct</th>\n",
       "      <th>History</th>\n",
       "    </tr>\n",
       "  </thead>\n",
       "  <tbody>\n",
       "    <tr>\n",
       "      <th>2</th>\n",
       "      <td>5de00d05988d7c0877eaa15a_Random_Ideal</td>\n",
       "      <td>12</td>\n",
       "      <td>0</td>\n",
       "      <td>0</td>\n",
       "      <td>0</td>\n",
       "      <td>1</td>\n",
       "      <td>1</td>\n",
       "      <td>01110111100</td>\n",
       "    </tr>\n",
       "    <tr>\n",
       "      <th>3</th>\n",
       "      <td>5de00d05988d7c0877eaa15a_Random_Ideal</td>\n",
       "      <td>13</td>\n",
       "      <td>0</td>\n",
       "      <td>0</td>\n",
       "      <td>0</td>\n",
       "      <td>1</td>\n",
       "      <td>1</td>\n",
       "      <td>01101111000</td>\n",
       "    </tr>\n",
       "    <tr>\n",
       "      <th>4</th>\n",
       "      <td>5de00d05988d7c0877eaa15a_Random_Ideal</td>\n",
       "      <td>14</td>\n",
       "      <td>0</td>\n",
       "      <td>0</td>\n",
       "      <td>0</td>\n",
       "      <td>1</td>\n",
       "      <td>1</td>\n",
       "      <td>01011110000</td>\n",
       "    </tr>\n",
       "    <tr>\n",
       "      <th>5</th>\n",
       "      <td>5de00d05988d7c0877eaa15a_Random_Ideal</td>\n",
       "      <td>15</td>\n",
       "      <td>0</td>\n",
       "      <td>0</td>\n",
       "      <td>0</td>\n",
       "      <td>1</td>\n",
       "      <td>1</td>\n",
       "      <td>00111100000</td>\n",
       "    </tr>\n",
       "    <tr>\n",
       "      <th>6</th>\n",
       "      <td>5de00d05988d7c0877eaa15a_Random_Ideal</td>\n",
       "      <td>16</td>\n",
       "      <td>0</td>\n",
       "      <td>0</td>\n",
       "      <td>0</td>\n",
       "      <td>1</td>\n",
       "      <td>1</td>\n",
       "      <td>01111000000</td>\n",
       "    </tr>\n",
       "    <tr>\n",
       "      <th>...</th>\n",
       "      <td>...</td>\n",
       "      <td>...</td>\n",
       "      <td>...</td>\n",
       "      <td>...</td>\n",
       "      <td>...</td>\n",
       "      <td>...</td>\n",
       "      <td>...</td>\n",
       "      <td>...</td>\n",
       "    </tr>\n",
       "    <tr>\n",
       "      <th>995</th>\n",
       "      <td>5de00d05988d7c0877eaa15a_Random_Ideal</td>\n",
       "      <td>1005</td>\n",
       "      <td>0</td>\n",
       "      <td>0</td>\n",
       "      <td>0</td>\n",
       "      <td>1</td>\n",
       "      <td>1</td>\n",
       "      <td>00000100000</td>\n",
       "    </tr>\n",
       "    <tr>\n",
       "      <th>996</th>\n",
       "      <td>5de00d05988d7c0877eaa15a_Random_Ideal</td>\n",
       "      <td>1006</td>\n",
       "      <td>0</td>\n",
       "      <td>0</td>\n",
       "      <td>0</td>\n",
       "      <td>1</td>\n",
       "      <td>1</td>\n",
       "      <td>00001000000</td>\n",
       "    </tr>\n",
       "    <tr>\n",
       "      <th>997</th>\n",
       "      <td>5de00d05988d7c0877eaa15a_Random_Ideal</td>\n",
       "      <td>1007</td>\n",
       "      <td>0</td>\n",
       "      <td>0</td>\n",
       "      <td>0</td>\n",
       "      <td>1</td>\n",
       "      <td>1</td>\n",
       "      <td>00010000000</td>\n",
       "    </tr>\n",
       "    <tr>\n",
       "      <th>998</th>\n",
       "      <td>5de00d05988d7c0877eaa15a_Random_Ideal</td>\n",
       "      <td>1008</td>\n",
       "      <td>0</td>\n",
       "      <td>0</td>\n",
       "      <td>0</td>\n",
       "      <td>1</td>\n",
       "      <td>1</td>\n",
       "      <td>00100000000</td>\n",
       "    </tr>\n",
       "    <tr>\n",
       "      <th>999</th>\n",
       "      <td>5de00d05988d7c0877eaa15a_Random_Ideal</td>\n",
       "      <td>1009</td>\n",
       "      <td>0</td>\n",
       "      <td>0</td>\n",
       "      <td>0</td>\n",
       "      <td>1</td>\n",
       "      <td>1</td>\n",
       "      <td>01000000000</td>\n",
       "    </tr>\n",
       "  </tbody>\n",
       "</table>\n",
       "<p>897 rows × 8 columns</p>\n",
       "</div>"
      ],
      "text/plain": [
       "                                   Subject  Trial  Jar  Bead  Response  \\\n",
       "2    5de00d05988d7c0877eaa15a_Random_Ideal     12    0     0         0   \n",
       "3    5de00d05988d7c0877eaa15a_Random_Ideal     13    0     0         0   \n",
       "4    5de00d05988d7c0877eaa15a_Random_Ideal     14    0     0         0   \n",
       "5    5de00d05988d7c0877eaa15a_Random_Ideal     15    0     0         0   \n",
       "6    5de00d05988d7c0877eaa15a_Random_Ideal     16    0     0         0   \n",
       "..                                     ...    ...  ...   ...       ...   \n",
       "995  5de00d05988d7c0877eaa15a_Random_Ideal   1005    0     0         0   \n",
       "996  5de00d05988d7c0877eaa15a_Random_Ideal   1006    0     0         0   \n",
       "997  5de00d05988d7c0877eaa15a_Random_Ideal   1007    0     0         0   \n",
       "998  5de00d05988d7c0877eaa15a_Random_Ideal   1008    0     0         0   \n",
       "999  5de00d05988d7c0877eaa15a_Random_Ideal   1009    0     0         0   \n",
       "\n",
       "     Confidence  Correct      History  \n",
       "2             1        1  01110111100  \n",
       "3             1        1  01101111000  \n",
       "4             1        1  01011110000  \n",
       "5             1        1  00111100000  \n",
       "6             1        1  01111000000  \n",
       "..          ...      ...          ...  \n",
       "995           1        1  00000100000  \n",
       "996           1        1  00001000000  \n",
       "997           1        1  00010000000  \n",
       "998           1        1  00100000000  \n",
       "999           1        1  01000000000  \n",
       "\n",
       "[897 rows x 8 columns]"
      ]
     },
     "execution_count": 956,
     "metadata": {},
     "output_type": "execute_result"
    }
   ],
   "source": [
    "D_ideal_full['Abs_Prior'] = abs(0.5 - D_ideal_full['Prior'])\n",
    "#D_ideal_full\n",
    "trials_ideal_high = D_ideal_full.sort_values('Abs_Prior',ascending = False)['Trial'].head(num_high).values\n",
    "#trials_ideal_high\n",
    "#np.array(trials_ideal_high['Trial'])\n",
    "len(trials_ideal_high)\n",
    "\n",
    "1002 in trials_ideal_high\n",
    "b = np.array([int(t in trials_ideal_high) for t in D_ideal['Trial']])\n",
    "b.sum()\n",
    "\n",
    "D_ideal['Trial']\n",
    "D_ideal['Trial'].max()\n",
    "D_ideal.loc[D_ideal['Trial'].isin(trials_ideal_high)]\n",
    "\n",
    "#len(set.intersection(set(trials_ideal_high), set(D_ideal['Trial'])))\n",
    "#set.difference(set(D_ideal['Trial']), set(np.arange(len(D_ideal))))"
   ]
  },
  {
   "cell_type": "code",
   "execution_count": null,
   "id": "higher-christianity",
   "metadata": {},
   "outputs": [],
   "source": []
  }
 ],
 "metadata": {
  "kernelspec": {
   "display_name": "Python 3",
   "language": "python",
   "name": "python3"
  },
  "language_info": {
   "codemirror_mode": {
    "name": "ipython",
    "version": 3
   },
   "file_extension": ".py",
   "mimetype": "text/x-python",
   "name": "python",
   "nbconvert_exporter": "python",
   "pygments_lexer": "ipython3",
   "version": "3.7.9"
  }
 },
 "nbformat": 4,
 "nbformat_minor": 5
}
