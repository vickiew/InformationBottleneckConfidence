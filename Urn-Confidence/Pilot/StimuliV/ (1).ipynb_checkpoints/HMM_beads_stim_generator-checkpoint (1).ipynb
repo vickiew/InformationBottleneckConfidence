{
 "cells": [
  {
   "cell_type": "markdown",
   "metadata": {},
   "source": [
    "# Code to generate stimuli for HMM beads task"
   ]
  },
  {
   "cell_type": "code",
   "execution_count": 4,
   "metadata": {},
   "outputs": [
    {
     "name": "stdout",
     "output_type": "stream",
     "text": [
      "Generating trials\n",
      "1\n",
      "2\n",
      "3\n",
      "4\n",
      "5\n",
      "6\n",
      "7\n",
      "8\n",
      "9\n",
      "10\n",
      "11\n",
      "12\n",
      "13\n",
      "14\n",
      "15\n",
      "16\n",
      "17\n",
      "18\n",
      "19\n",
      "20\n",
      "Done\n"
     ]
    }
   ],
   "source": [
    "import numpy as np\n",
    "import pandas as pd\n",
    "\n",
    "def genHighLowHMMtrials(n,hlow,p):\n",
    "    \"\"\"\n",
    "    Funciton to generate trials for the urn task\n",
    "    The goal of this function is to make it such that the sequence of low probability events matches in both\n",
    "    the low and high hazard conditions\n",
    "    INPUT:\n",
    "    n: number of trials\n",
    "    hlow: low hazard rate (high hazard trials will be generated with 1-hlow) - should be between 0-.5\n",
    "    p: emission probability (between 0-1)\n",
    "    OUTPUT:\n",
    "    Pandas data frames for low hazard (first) and high hazard (secod) trials\n",
    "    \"\"\"\n",
    "    # Check if specified hazaed is below .5 ad adjust if necessary\n",
    "    h = hlow\n",
    "    if h>.5:\n",
    "        h = 1-h\n",
    "    \n",
    "    # Get vector of low hazard changepoints\n",
    "    cp_low = (np.random.uniform(0,1,n)<h).astype(int)\n",
    "    \n",
    "    # Generate high and low hazard trials\n",
    "    se_t_low = np.zeros((n,2))  # trial by trial information (urn then bead) for low hazard\n",
    "    se_t_high = np.zeros((n,2))  # trial by trial information (urn then bead) for low hazard\n",
    "    sources = np.array([1,2])\n",
    "    for i in np.arange(n):\n",
    "        if i == 0:\n",
    "            se_t_low[i,0] = np.random.choice(sources)\n",
    "            se_t_high[i,0] = np.random.choice(sources)\n",
    "        else:\n",
    "            # First check if a changepoint has occured and adjust the source accordingly\n",
    "            # For both low and high hazard\n",
    "            if cp_low[i] == 1:\n",
    "                se_t_low[i,0] = sources[sources != se_t_low[i-1,0]]\n",
    "                se_t_high[i,0] = se_t_high[i-1,0]\n",
    "            else:\n",
    "                se_t_low[i,0] = se_t_low[i-1,0]\n",
    "                se_t_high[i,0] = sources[sources != se_t_high[i-1,0]]\n",
    "                \n",
    "        # Generate beads\n",
    "        if np.random.uniform()<p:\n",
    "            se_t_low[i,1] = se_t_low[i,0]\n",
    "            se_t_high[i,1] = se_t_high[i,0]\n",
    "        else:\n",
    "            se_t_low[i,1] = sources[sources != se_t_low[i,0]]\n",
    "            se_t_high[i,1] = sources[sources != se_t_high[i,0]]\n",
    "    \n",
    "    return(pd.DataFrame(se_t_low,columns=['Urn','Bead']),pd.DataFrame(se_t_high,columns=['Urn','Bead']))\n",
    "\n",
    "# Generate/save low and high hazard HMM trials\n",
    "nsub = 100\n",
    "print('Generating trials')\n",
    "for i in np.arange(1,nsub+1):\n",
    "    print(i)\n",
    "    low_h_HMM, high_h_HMM = genHighLowHMMtrials(500,.01,.80)\n",
    "    # Save sequences\n",
    "    low_h_HMM.to_csv('./low_hazard_HMM/low_hazard_HMM'+str(i)+'.csv',index=False)\n",
    "    high_h_HMM.to_csv('./high_hazard_HMM/high_hazard_HMM'+str(i)+'.csv',index=False)\n",
    "print('Done')"
   ]
  },
  {
   "cell_type": "code",
   "execution_count": 3,
   "metadata": {},
   "outputs": [
    {
     "data": {
      "text/plain": [
       "29.6"
      ]
     },
     "execution_count": 3,
     "metadata": {},
     "output_type": "execute_result"
    }
   ],
   "source": [
    "37*.8"
   ]
  },
  {
   "cell_type": "code",
   "execution_count": null,
   "metadata": {},
   "outputs": [],
   "source": []
  }
 ],
 "metadata": {
  "kernelspec": {
   "display_name": "Python 3",
   "language": "python",
   "name": "python3"
  },
  "language_info": {
   "codemirror_mode": {
    "name": "ipython",
    "version": 3
   },
   "file_extension": ".py",
   "mimetype": "text/x-python",
   "name": "python",
   "nbconvert_exporter": "python",
   "pygments_lexer": "ipython3",
   "version": "3.7.6"
  }
 },
 "nbformat": 4,
 "nbformat_minor": 4
}
