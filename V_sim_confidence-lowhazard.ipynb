{
 "cells": [
  {
   "cell_type": "markdown",
   "id": "distributed-sperm",
   "metadata": {},
   "source": [
    "# Simulating strategies in Hidden Markov Urn Experiment\n",
    "\n",
    "### Vickie Wang\n",
    "\n",
    "### Spring 2021"
   ]
  },
  {
   "cell_type": "markdown",
   "id": "tough-seven",
   "metadata": {},
   "source": [
    "To Do:\n",
    "* Add confidence to simulations\n",
    "* Incorporate confidence into analyses\n",
    "* Make prereg"
   ]
  },
  {
   "cell_type": "markdown",
   "id": "regulation-mediterranean",
   "metadata": {},
   "source": [
    "We simulate a few different strategies for the Hidden Markov Urn experiment and examine the responses under the information bottleneck framework."
   ]
  },
  {
   "cell_type": "code",
   "execution_count": 1,
   "id": "becoming-arrest",
   "metadata": {},
   "outputs": [],
   "source": [
    "import pandas as pd\n",
    "import numpy as np\n",
    "from embo import EmpiricalBottleneck\n",
    "import HMM_beads_utils as ut\n",
    "import matplotlib.pyplot as plt\n",
    "from scipy.stats import spearmanr\n",
    "import seaborn as sns\n",
    "import os,ndd,pickle\n",
    "from adjustText import adjust_text\n",
    "cmap = plt.get_cmap(\"tab10\")\n",
    "\n",
    "from IPython.core.interactiveshell import InteractiveShell\n",
    "InteractiveShell.ast_node_interactivity = \"all\""
   ]
  },
  {
   "cell_type": "markdown",
   "id": "conventional-stuart",
   "metadata": {},
   "source": [
    "Since everyone in the pilot saw the same sequence of 3000 beads, we use that sequence as the input for our simulated strategies as well."
   ]
  },
  {
   "cell_type": "code",
   "execution_count": 2,
   "id": "three-reset",
   "metadata": {},
   "outputs": [
    {
     "data": {
      "text/html": [
       "<div>\n",
       "<style scoped>\n",
       "    .dataframe tbody tr th:only-of-type {\n",
       "        vertical-align: middle;\n",
       "    }\n",
       "\n",
       "    .dataframe tbody tr th {\n",
       "        vertical-align: top;\n",
       "    }\n",
       "\n",
       "    .dataframe thead th {\n",
       "        text-align: right;\n",
       "    }\n",
       "</style>\n",
       "<table border=\"1\" class=\"dataframe\">\n",
       "  <thead>\n",
       "    <tr style=\"text-align: right;\">\n",
       "      <th></th>\n",
       "      <th>Bead</th>\n",
       "      <th>Jar</th>\n",
       "      <th>H</th>\n",
       "      <th>TSCP</th>\n",
       "      <th>TSCP2</th>\n",
       "      <th>Trial</th>\n",
       "    </tr>\n",
       "  </thead>\n",
       "  <tbody>\n",
       "    <tr>\n",
       "      <th>0</th>\n",
       "      <td>0</td>\n",
       "      <td>0</td>\n",
       "      <td>0.01</td>\n",
       "      <td>1</td>\n",
       "      <td>0</td>\n",
       "      <td>1</td>\n",
       "    </tr>\n",
       "    <tr>\n",
       "      <th>1</th>\n",
       "      <td>0</td>\n",
       "      <td>0</td>\n",
       "      <td>0.01</td>\n",
       "      <td>2</td>\n",
       "      <td>1</td>\n",
       "      <td>2</td>\n",
       "    </tr>\n",
       "    <tr>\n",
       "      <th>2</th>\n",
       "      <td>0</td>\n",
       "      <td>0</td>\n",
       "      <td>0.01</td>\n",
       "      <td>3</td>\n",
       "      <td>2</td>\n",
       "      <td>3</td>\n",
       "    </tr>\n",
       "    <tr>\n",
       "      <th>3</th>\n",
       "      <td>0</td>\n",
       "      <td>0</td>\n",
       "      <td>0.01</td>\n",
       "      <td>4</td>\n",
       "      <td>3-4</td>\n",
       "      <td>4</td>\n",
       "    </tr>\n",
       "    <tr>\n",
       "      <th>4</th>\n",
       "      <td>0</td>\n",
       "      <td>0</td>\n",
       "      <td>0.01</td>\n",
       "      <td>5</td>\n",
       "      <td>3-4</td>\n",
       "      <td>5</td>\n",
       "    </tr>\n",
       "    <tr>\n",
       "      <th>...</th>\n",
       "      <td>...</td>\n",
       "      <td>...</td>\n",
       "      <td>...</td>\n",
       "      <td>...</td>\n",
       "      <td>...</td>\n",
       "      <td>...</td>\n",
       "    </tr>\n",
       "    <tr>\n",
       "      <th>2395</th>\n",
       "      <td>1</td>\n",
       "      <td>1</td>\n",
       "      <td>0.01</td>\n",
       "      <td>35</td>\n",
       "      <td>8+</td>\n",
       "      <td>2996</td>\n",
       "    </tr>\n",
       "    <tr>\n",
       "      <th>2396</th>\n",
       "      <td>1</td>\n",
       "      <td>1</td>\n",
       "      <td>0.01</td>\n",
       "      <td>36</td>\n",
       "      <td>8+</td>\n",
       "      <td>2997</td>\n",
       "    </tr>\n",
       "    <tr>\n",
       "      <th>2397</th>\n",
       "      <td>1</td>\n",
       "      <td>1</td>\n",
       "      <td>0.01</td>\n",
       "      <td>37</td>\n",
       "      <td>8+</td>\n",
       "      <td>2998</td>\n",
       "    </tr>\n",
       "    <tr>\n",
       "      <th>2398</th>\n",
       "      <td>0</td>\n",
       "      <td>1</td>\n",
       "      <td>0.01</td>\n",
       "      <td>38</td>\n",
       "      <td>8+</td>\n",
       "      <td>2999</td>\n",
       "    </tr>\n",
       "    <tr>\n",
       "      <th>2399</th>\n",
       "      <td>1</td>\n",
       "      <td>1</td>\n",
       "      <td>0.01</td>\n",
       "      <td>39</td>\n",
       "      <td>8+</td>\n",
       "      <td>3000</td>\n",
       "    </tr>\n",
       "  </tbody>\n",
       "</table>\n",
       "<p>2400 rows × 6 columns</p>\n",
       "</div>"
      ],
      "text/plain": [
       "      Bead  Jar     H  TSCP TSCP2  Trial\n",
       "0        0    0  0.01     1     0      1\n",
       "1        0    0  0.01     2     1      2\n",
       "2        0    0  0.01     3     2      3\n",
       "3        0    0  0.01     4   3-4      4\n",
       "4        0    0  0.01     5   3-4      5\n",
       "...    ...  ...   ...   ...   ...    ...\n",
       "2395     1    1  0.01    35    8+   2996\n",
       "2396     1    1  0.01    36    8+   2997\n",
       "2397     1    1  0.01    37    8+   2998\n",
       "2398     0    1  0.01    38    8+   2999\n",
       "2399     1    1  0.01    39    8+   3000\n",
       "\n",
       "[2400 rows x 6 columns]"
      ]
     },
     "execution_count": 2,
     "metadata": {},
     "output_type": "execute_result"
    },
    {
     "data": {
      "text/plain": [
       "[<matplotlib.lines.Line2D at 0x7febc0948d90>]"
      ]
     },
     "execution_count": 2,
     "metadata": {},
     "output_type": "execute_result"
    },
    {
     "data": {
      "text/plain": [
       "800"
      ]
     },
     "execution_count": 2,
     "metadata": {},
     "output_type": "execute_result"
    },
    {
     "data": {
      "image/png": "[encoded data removed]",
      "text/plain": [
       "<Figure size 432x288 with 1 Axes>"
      ]
     },
     "metadata": {
      "needs_background": "light"
     },
     "output_type": "display_data"
    }
   ],
   "source": [
    "adat=pd.read_csv('./data/A2AFC_raw.csv')\n",
    "adat_trials = adat[0:3000]\n",
    "#adat_h19 = adat[pd.notna(adat['Resp']) & (adat['H']!=.3)].copy() # Removing trials with no responses and with H in .01/.99\n",
    "\n",
    "constant_table = adat_trials.loc[adat_trials['H'] != 0.3, ['X', 'Z', 'H', 'TSCP', 'TSCP2', 'Trial']].reset_index(drop=True)\n",
    "#constant_table = constant_table[constant_table['H'] != 0.3]\n",
    "\n",
    "constant_table['X'] = constant_table['X'] - 1\n",
    "constant_table = constant_table.rename(columns={'X': 'Bead', 'Z': 'Jar'})\n",
    "constant_table\n",
    "\n",
    "plt.plot(constant_table.index, constant_table['H'])\n",
    "\n",
    "constant_table = constant_table[:800]\n",
    "len(constant_table)"
   ]
  },
  {
   "cell_type": "markdown",
   "id": "known-mainstream",
   "metadata": {},
   "source": [
    "We also include some noise in our simulated strategies because even if people are following a deterministic rule, sometimes they accidentally choose the other option. Here we set it so 5% of their responses are the opposite of what's dictated by their rule."
   ]
  },
  {
   "cell_type": "code",
   "execution_count": 3,
   "id": "prospective-duplicate",
   "metadata": {},
   "outputs": [],
   "source": [
    "n, p = 1, .95\n",
    "np.random.seed(17)\n",
    "noise = np.random.binomial(n, p, len(constant_table))"
   ]
  },
  {
   "cell_type": "code",
   "execution_count": 4,
   "id": "material-gothic",
   "metadata": {},
   "outputs": [],
   "source": [
    "def get_previous_n_beads(w, x = constant_table['Bead']):\n",
    "    '''\n",
    "    Function that gets history of viewed beads\n",
    "    Input:\n",
    "        - w: number of past beads in history\n",
    "        - x: full sequence of beads\n",
    "    Output:\n",
    "        - history: array of strings of previous w beads\n",
    "    '''\n",
    "    #x = np.array([1,2,1,1,2,2,1,1,1,2,2,1,2])\n",
    "    numtrials = x.shape[0]\n",
    "    aux_base = 2**np.arange(w)\n",
    "    x_padded = np.empty(numtrials+w)\n",
    "    x_padded[:w] = 0\n",
    "    x_padded[w:] = x\n",
    "    history_bin = np.array([sum(aux_base * np.array(x_padded[i:(i + w)][::-1])) for i in np.arange(numtrials)])\n",
    "    return [np.binary_repr(int(z),w+1) for z in history_bin]\n",
    "\n",
    "numprevious = 3\n",
    "history = get_previous_n_beads(numprevious)"
   ]
  },
  {
   "cell_type": "code",
   "execution_count": 5,
   "id": "quick-victoria",
   "metadata": {},
   "outputs": [],
   "source": [
    "def flip_binary(s, numback):\n",
    "    mask = (1 << numback) - 1\n",
    "    return np.binary_repr(~int(s,2) & mask,numback)"
   ]
  },
  {
   "cell_type": "code",
   "execution_count": 6,
   "id": "independent-office",
   "metadata": {},
   "outputs": [],
   "source": [
    "def make_guess_with_rule(rules, history):\n",
    "    '''\n",
    "    Function that outputs predictions using specified rules dictionary and sequence of past beads\n",
    "    Input:\n",
    "        - rules: dictionary of rules (ex. {'00': '1', '10': '0'}). Key strings must be same length. Value string is length 1.\n",
    "        - history: array of strings of previous w beads\n",
    "    Output:\n",
    "        - prediction: dataframe with history, relevant history, and predictions of next bead color\n",
    "    '''\n",
    "    numback = len(list(rules.keys())[0])\n",
    "    wlog_rules = list(rules.keys())\n",
    "\n",
    "    for r in wlog_rules:\n",
    "        newkey = flip_binary(r, numback)\n",
    "        newvalue = flip_binary(rules[r],1)\n",
    "        rules[newkey] = newvalue\n",
    "\n",
    "    pred_table = pd.DataFrame(history, columns = ['History']) \n",
    "    pred_table['rel_hist'] = [h[-numback:] for h in history]\n",
    "    pred_table['pred'] = [int(r) for r in pred_table['rel_hist'].map(rules)]\n",
    "    pred_table.at[:numback-1, 'pred'] = -1\n",
    "    return pred_table"
   ]
  },
  {
   "cell_type": "code",
   "execution_count": 7,
   "id": "likely-object",
   "metadata": {},
   "outputs": [],
   "source": [
    "def make_confid_with_rule(rules, history):\n",
    "    '''\n",
    "    Function that outputs confidences using specified rules dictionary and sequence of past beads\n",
    "    Input:\n",
    "        - rules: dictionary of rules (ex. {'00': '1', '10': '0'}). Key strings must be same length. Value string is length 1.\n",
    "        - history: array of strings of previous w beads\n",
    "    Output:\n",
    "        - confidence: dataframe with history, relevant history, and confidences in prediction of next bead color\n",
    "    '''\n",
    "    numback = len(list(rules.keys())[0])\n",
    "    wlog_rules = list(rules.keys())\n",
    "\n",
    "    for r in wlog_rules:\n",
    "        newkey = flip_binary(r, numback)\n",
    "        newvalue = rules[r]\n",
    "        rules[newkey] = newvalue\n",
    "\n",
    "    confid_table = pd.DataFrame(history, columns = ['History']) \n",
    "    confid_table['rel_hist'] = [h[-numback:] for h in history]\n",
    "    confid_table['confid'] = [int(r) for r in confid_table['rel_hist'].map(rules)]\n",
    "    confid_table.at[:numback-1, 'confid'] = -1\n",
    "    return confid_table"
   ]
  },
  {
   "cell_type": "code",
   "execution_count": 8,
   "id": "played-latex",
   "metadata": {},
   "outputs": [],
   "source": [
    "def make_guess_with_rulecombo(pred_low, pred_high, H):\n",
    "    '''\n",
    "    Function that outputs predictions using combination of two rules depending on hazard rate\n",
    "    Input:\n",
    "        - pred_low: prediction table for low hazard\n",
    "        - pred_high: prediction table for high hazard\n",
    "        - H: sequence of hazard rates\n",
    "    Output:\n",
    "        - prediction: dataframe with history, relevant history, and predictions of next bead color\n",
    "    '''\n",
    "    hybrid_pred_table = pd.DataFrame({'H': constant_table['H'], \n",
    "                                  'pred_low': pred_low['Resp'],\n",
    "                                  'hist_low': pred_low['Rel_Hist'],\n",
    "                                  'pred_high': pred_high['Resp'],\n",
    "                                  'hist_high': pred_high['Rel_Hist']})\n",
    "    hybrid_pred_table['pred'] = np.where(hybrid_pred_table['H'] == 0.01, hybrid_pred_table['pred_low'], hybrid_pred_table['pred_high'])\n",
    "    hybrid_pred_table['rel_hist'] = np.where(hybrid_pred_table['H'] == 0.01, hybrid_pred_table['hist_low'], hybrid_pred_table['hist_high'])\n",
    "    return hybrid_pred_table[['pred','rel_hist']]"
   ]
  },
  {
   "cell_type": "code",
   "execution_count": 9,
   "id": "tribal-participation",
   "metadata": {},
   "outputs": [],
   "source": [
    "def gen_sim_pred(sname,beads,jars,p,h_array):\n",
    "    '''\n",
    "    Function to generate responses from the ideal observer with different internal estimates of p and h\n",
    "    INPUT:\n",
    "        - sname: subject identifier in data frame\n",
    "        - beads: 1D array of observed bead sequence\n",
    "        - jars: 1D array of jar sequence that generated beads\n",
    "        - p: internal model estimate of the probability that the bead will match the generating jar\n",
    "        - h_array: internal estimate of the hazard rate\n",
    "    OUTPUT:\n",
    "        -df: data frame with the following columns\n",
    "            - Subject: subject ID + simulation type (from no noise to lots of noise)\n",
    "            - Trial: trial number from start of experiment\n",
    "            - Jar: jar generating the bead\n",
    "            - Bead: bead observed on each trial\n",
    "            - Prior: prior probability that the the jar generating the next bead = 1 (before observing the bead)\n",
    "            - Posterior: posterior probability that the jar generating the last bead = 1 (after observing the bead)\n",
    "            - Prediction: simulated prediction\n",
    "    '''\n",
    "    \n",
    "    # Initialize\n",
    "    p_jars = np.array([.5,.5])              # Initial prior\n",
    "    likes = np.array([[p,(1-p)],[(1-p),p]]) # Likelihood\n",
    "    prior = np.zeros(len(beads))            # Initialize trial-by-trial priors\n",
    "    pred_hardmax = np.zeros(len(beads))     # Initialize hardmax predictions\n",
    "    posterior = np.zeros(len(beads))        # Initialize trial-by-trial posteriors\n",
    "    \n",
    "    # Loop through all trials and get simulated responses\n",
    "    for i in np.arange(len(beads)):\n",
    "        # Apply hazard rate\n",
    "        h = h_array[i]\n",
    "        z1,z2 = tuple(p_jars.copy())\n",
    "        p_jars = [(1-h)*z1 + h*z2, (1-h)*z2 + h*z1]\n",
    "\n",
    "        #Save Prior\n",
    "        prior[i] = p_jars[1]\n",
    "        \n",
    "        # Incorporate likelihood\n",
    "        p_jars = p_jars*likes[int(beads[i])]\n",
    "        p_jars = p_jars/sum(p_jars)\n",
    "        \n",
    "        # Save posterios\n",
    "        posterior[i] = p_jars[1]\n",
    "        \n",
    "    # Get harmax predictions\n",
    "    pred_hardmax[prior!=.5] = np.array(prior[prior!=.5] > .5).astype(int)\n",
    "    pred_hardmax[prior==.5] = np.random.choice([0,1],size=len(prior[prior==.5]),replace=True)\n",
    "    \n",
    "    # Save data frame\n",
    "    df = pd.DataFrame({\n",
    "        'Subject':np.array([str(sname)+'_Hard']*len(beads)),\n",
    "        'Trial':np.arange(1,len(beads)+1),\n",
    "        'Jar':jars,\n",
    "        'Bead':beads,\n",
    "        'Prior':prior,\n",
    "        'Posterior':posterior,\n",
    "        'Prediction':pred_hardmax\n",
    "    })\n",
    "    \n",
    "    '''\n",
    "    # Add noisy responses - larger values == more deterministic (closer to hardmax)\n",
    "    noises = [100,10,5,2,1,.5]  # Noise values from least to most noisy\n",
    "    df_prime = df.copy()        # Initialize data frame\n",
    "    for n in noises:\n",
    "        noisy_prior,noisy_posterior,noisy_pred = add_noise(n,prior,posterior) # Add noise to ideal observer\n",
    "        df2 = df_prime.copy()                                                 # Initialize second df (ugly)    \n",
    "        df2['Prior'] = noisy_prior           # Save noisy prior                                       \n",
    "        df2['Posterior'] = noisy_posterior   # Save noisy posterior\n",
    "        df2['Prediction'] = noisy_pred       # Save noisy predictions based on above\n",
    "        \n",
    "        # Code to make up for my lack of generalizing skills\n",
    "        if n >=1:\n",
    "            df2['Subject'] = np.array([str(sname)+'_'+str(n)]*len(beads))\n",
    "        else:\n",
    "            df2['Subject'] = np.array([str(sname)+'_'+str(round(n,2))]*len(beads))\n",
    "            \n",
    "        # Append to data frame\n",
    "        df = df.append(df2,ignore_index=True)\n",
    "    '''\n",
    "    return(df)\n",
    "\n",
    "def add_noise(beta,prior,posterior):\n",
    "    '''\n",
    "    Helper function to add noise to simulated responses\n",
    "    '''\n",
    "    noisy_prior = 1/(1+np.exp(-beta*(prior-(1-prior))))\n",
    "    noisy_posterior = 1/(1+np.exp(-beta*(posterior-(1-posterior))))\n",
    "    return(noisy_prior,noisy_posterior,(np.random.uniform(size=len(prior))<noisy_prior).astype(int))\n",
    "\n",
    "def gen_sim_pred_stripped(beads,p,h):\n",
    "    '''\n",
    "    Stripped version of full function above. Used as helper to gen_sim_pred_nback\n",
    "    '''\n",
    "    \n",
    "    # Initialize\n",
    "    p_jars = np.array([.5,.5])              # Initial prior\n",
    "    likes = np.array([[p,(1-p)],[(1-p),p]]) # Likelihood\n",
    "    prior = np.zeros(len(beads))            # Initialize trial-by-trial priors\n",
    "    pred_hardmax = np.zeros(len(beads))     # Initialize hardmax predictions\n",
    "    posterior = np.zeros(len(beads))        # Initialize trial-by-trial posteriors\n",
    "    \n",
    "    # Loop through all trials and get simulated responses\n",
    "    for i in np.arange(len(beads)):\n",
    "        # Apply hazard rate\n",
    "        z1,z2 = tuple(p_jars.copy())\n",
    "        p_jars = [(1-h)*z1 + h*z2, (1-h)*z2 + h*z1]\n",
    "\n",
    "        #Save Prior\n",
    "        prior[i] = p_jars[1]\n",
    "        \n",
    "        # Incorporate likelihood\n",
    "        p_jars = p_jars*likes[int(beads[i])]\n",
    "        p_jars = p_jars/sum(p_jars)\n",
    "        \n",
    "        # Save posterios\n",
    "        posterior[i] = p_jars[1]\n",
    "    #return(prior,posterior)\n",
    "    return([prior[-1], posterior[-1]])"
   ]
  },
  {
   "cell_type": "code",
   "execution_count": 10,
   "id": "meaningful-christianity",
   "metadata": {},
   "outputs": [],
   "source": [
    "def gen_sim_pred_nback(sname, beads, rel_hist,jars,p,h_array):\n",
    "    '''\n",
    "    Function to generate responses from a windowed ideal observer with different internal estimates of p and h\n",
    "    INPUT:\n",
    "        - sname: subject identifier in data frame\n",
    "        - beads: 1D array of observed bead sequence\n",
    "        - rel_hist: Array of relevant history of observed bead sequence. Each element is a string of the same length\n",
    "        - jars: 1D array of jar sequence that generated beads\n",
    "        - p: internal model estimate of the probability that the bead will match the generating jar\n",
    "        - h_array: internal estimate of the hazard rate\n",
    "    OUTPUT:\n",
    "        -df: data frame with the following columns\n",
    "            - Subject: subject ID + simulation type (from no noise to lots of noise)\n",
    "            - Trial: trial number from start of experiment\n",
    "            - Jar: jar generating the bead\n",
    "            - Bead: bead observed on each trial\n",
    "            - Prior: prior probability that the the jar generating the next bead = 1 (before observing the bead)\n",
    "            - Posterior: posterior probability that the jar generating the last bead = 1 (after observing the bead)\n",
    "            - Prediction: simulated prediction\n",
    "            - Rel_Hist: relevant history of previous beads\n",
    "    '''\n",
    "    \n",
    "    # Initialize\n",
    "    p_jars = np.array([.5,.5])              # Initial prior\n",
    "    likes = np.array([[p,(1-p)],[(1-p),p]]) # Likelihood\n",
    "    prior = np.zeros(len(beads))            # Initialize trial-by-trial priors\n",
    "    pred_hardmax = np.zeros(len(beads))     # Initialize hardmax predictions\n",
    "    posterior = np.zeros(len(beads))        # Initialize trial-by-trial posteriors\n",
    "    \n",
    "    # Loop through all trials and get simulated responses\n",
    "    for i in np.arange(len(beads)):\n",
    "        # Apply hazard rate\n",
    "        h = h_array[i]\n",
    "        beads_rel_hist = [int(list(rel_hist[i])[j]) for j in np.arange(len(rel_hist[i]))]\n",
    "        beads_rel_hist = beads_rel_hist + [int(beads[i])]\n",
    "        #print(beads_rel_hist)\n",
    "        prior[i], posterior[i] = gen_sim_pred_stripped(beads_rel_hist, p, h)\n",
    "        \n",
    "    # Get harmax predictions\n",
    "    pred_hardmax[prior!=.5] = np.array(prior[prior!=.5] > .5).astype(int)\n",
    "    pred_hardmax[prior==.5] = np.random.choice([0,1],size=len(prior[prior==.5]),replace=True)\n",
    "    \n",
    "    # Save data frame\n",
    "    df = pd.DataFrame({\n",
    "        'Subject':np.array([str(sname)]*len(beads)),\n",
    "        'Trial':np.arange(1,len(beads)+1),\n",
    "        'H':h_array,\n",
    "        'Jar':jars,\n",
    "        'Bead':beads,\n",
    "        'Rel_Hist':rel_hist,\n",
    "        'Prior':prior#,\n",
    "        #'Posterior':posterior,\n",
    "        #'Prediction':pred_hardmax\n",
    "    })\n",
    "    return(df)\n",
    "\n",
    "def gen_confid_from_sim_strats(sim_table, p = 0.8):\n",
    "    df = gen_sim_pred_nback(sim_table['Subject'][1], sim_table['Bead'], sim_table['Rel_Hist'], sim_table['Jar'],p,sim_table['H'])\n",
    "    return(df.merge(sim_table[sim_table.columns.difference(df.columns)], left_index=True, right_index=True))"
   ]
  },
  {
   "cell_type": "code",
   "execution_count": 11,
   "id": "numerous-likelihood",
   "metadata": {},
   "outputs": [
    {
     "ename": "NameError",
     "evalue": "name 'twoback_B' is not defined",
     "output_type": "error",
     "traceback": [
      "\u001b[0;31m---------------------------------------------------------------------------\u001b[0m",
      "\u001b[0;31mNameError\u001b[0m                                 Traceback (most recent call last)",
      "\u001b[0;32m<ipython-input-11-728b0f508c87>\u001b[0m in \u001b[0;36m<module>\u001b[0;34m\u001b[0m\n\u001b[0;32m----> 1\u001b[0;31m \u001b[0mgen_confid_from_sim_strats\u001b[0m\u001b[0;34m(\u001b[0m\u001b[0mtwoback_B\u001b[0m\u001b[0;34m)\u001b[0m\u001b[0;34m\u001b[0m\u001b[0;34m\u001b[0m\u001b[0m\n\u001b[0m",
      "\u001b[0;31mNameError\u001b[0m: name 'twoback_B' is not defined"
     ]
    }
   ],
   "source": [
    "gen_confid_from_sim_strats(twoback_B)"
   ]
  },
  {
   "cell_type": "markdown",
   "id": "hydraulic-administration",
   "metadata": {},
   "source": [
    "The stragies we simulate include:\n",
    "1. adat_sim_all0 (0-back): Constant prediction; always guess White/0\n",
    "2. adat_sim_previous (1-back): Guess same as previous bead\n",
    "3. adat_sim_previous_flipped (1-back): Guess opposite of previous bead\n",
    "4. adat_sim_previous_refined (1-back): Guess same as previous bead during low hazard condition, opposite of previous bead in high hazard condition\n",
    "5. twoback_A (2-back): WW -> B; BW -> W and symmetric for other two conditions\n",
    "6. twoback_B (2-back): WW -> W; BW -> B and symmetric for other two conditions\n",
    "7. threeback_A (3-back): WWW -> W; BWW -> W; WBW -> W; BBW -> B and symmetric for other four conditions\n",
    "8. threeback_B (3-back): WWW -> W; BWW -> B; WBW -> B; BBW -> W and symmetric for other four conditions\n",
    "9. threeback_C (3-back): WWW -> W; BWW -> B; WBW -> B; BBW -> B and symmetric for other four conditions\n",
    "10. hybrid (3-back + 1-back): Use threeback_A for low hazard and adat_sim_previous_flipped for high hazard"
   ]
  },
  {
   "cell_type": "code",
   "execution_count": 12,
   "id": "elementary-bumper",
   "metadata": {},
   "outputs": [
    {
     "data": {
      "text/html": [
       "<div>\n",
       "<style scoped>\n",
       "    .dataframe tbody tr th:only-of-type {\n",
       "        vertical-align: middle;\n",
       "    }\n",
       "\n",
       "    .dataframe tbody tr th {\n",
       "        vertical-align: top;\n",
       "    }\n",
       "\n",
       "    .dataframe thead th {\n",
       "        text-align: right;\n",
       "    }\n",
       "</style>\n",
       "<table border=\"1\" class=\"dataframe\">\n",
       "  <thead>\n",
       "    <tr style=\"text-align: right;\">\n",
       "      <th></th>\n",
       "      <th>Bead</th>\n",
       "      <th>Jar</th>\n",
       "      <th>H</th>\n",
       "      <th>TSCP</th>\n",
       "      <th>TSCP2</th>\n",
       "      <th>Trial</th>\n",
       "      <th>Subject</th>\n",
       "      <th>Rel_Hist</th>\n",
       "      <th>Resp</th>\n",
       "      <th>Noise</th>\n",
       "      <th>Prior</th>\n",
       "    </tr>\n",
       "  </thead>\n",
       "  <tbody>\n",
       "    <tr>\n",
       "      <th>0</th>\n",
       "      <td>0</td>\n",
       "      <td>0</td>\n",
       "      <td>0.01</td>\n",
       "      <td>1</td>\n",
       "      <td>0</td>\n",
       "      <td>1</td>\n",
       "      <td>all_0</td>\n",
       "      <td></td>\n",
       "      <td>0</td>\n",
       "      <td>1</td>\n",
       "      <td>0</td>\n",
       "    </tr>\n",
       "    <tr>\n",
       "      <th>1</th>\n",
       "      <td>0</td>\n",
       "      <td>0</td>\n",
       "      <td>0.01</td>\n",
       "      <td>2</td>\n",
       "      <td>1</td>\n",
       "      <td>2</td>\n",
       "      <td>all_0</td>\n",
       "      <td></td>\n",
       "      <td>0</td>\n",
       "      <td>1</td>\n",
       "      <td>1</td>\n",
       "    </tr>\n",
       "    <tr>\n",
       "      <th>2</th>\n",
       "      <td>0</td>\n",
       "      <td>0</td>\n",
       "      <td>0.01</td>\n",
       "      <td>3</td>\n",
       "      <td>2</td>\n",
       "      <td>3</td>\n",
       "      <td>all_0</td>\n",
       "      <td></td>\n",
       "      <td>0</td>\n",
       "      <td>1</td>\n",
       "      <td>1</td>\n",
       "    </tr>\n",
       "    <tr>\n",
       "      <th>3</th>\n",
       "      <td>0</td>\n",
       "      <td>0</td>\n",
       "      <td>0.01</td>\n",
       "      <td>4</td>\n",
       "      <td>3-4</td>\n",
       "      <td>4</td>\n",
       "      <td>all_0</td>\n",
       "      <td></td>\n",
       "      <td>0</td>\n",
       "      <td>1</td>\n",
       "      <td>0</td>\n",
       "    </tr>\n",
       "    <tr>\n",
       "      <th>4</th>\n",
       "      <td>0</td>\n",
       "      <td>0</td>\n",
       "      <td>0.01</td>\n",
       "      <td>5</td>\n",
       "      <td>3-4</td>\n",
       "      <td>5</td>\n",
       "      <td>all_0</td>\n",
       "      <td></td>\n",
       "      <td>0</td>\n",
       "      <td>1</td>\n",
       "      <td>0</td>\n",
       "    </tr>\n",
       "    <tr>\n",
       "      <th>...</th>\n",
       "      <td>...</td>\n",
       "      <td>...</td>\n",
       "      <td>...</td>\n",
       "      <td>...</td>\n",
       "      <td>...</td>\n",
       "      <td>...</td>\n",
       "      <td>...</td>\n",
       "      <td>...</td>\n",
       "      <td>...</td>\n",
       "      <td>...</td>\n",
       "      <td>...</td>\n",
       "    </tr>\n",
       "    <tr>\n",
       "      <th>795</th>\n",
       "      <td>1</td>\n",
       "      <td>1</td>\n",
       "      <td>0.01</td>\n",
       "      <td>31</td>\n",
       "      <td>8+</td>\n",
       "      <td>996</td>\n",
       "      <td>all_0</td>\n",
       "      <td></td>\n",
       "      <td>0</td>\n",
       "      <td>1</td>\n",
       "      <td>0</td>\n",
       "    </tr>\n",
       "    <tr>\n",
       "      <th>796</th>\n",
       "      <td>1</td>\n",
       "      <td>1</td>\n",
       "      <td>0.01</td>\n",
       "      <td>32</td>\n",
       "      <td>8+</td>\n",
       "      <td>997</td>\n",
       "      <td>all_0</td>\n",
       "      <td></td>\n",
       "      <td>0</td>\n",
       "      <td>1</td>\n",
       "      <td>1</td>\n",
       "    </tr>\n",
       "    <tr>\n",
       "      <th>797</th>\n",
       "      <td>1</td>\n",
       "      <td>1</td>\n",
       "      <td>0.01</td>\n",
       "      <td>33</td>\n",
       "      <td>8+</td>\n",
       "      <td>998</td>\n",
       "      <td>all_0</td>\n",
       "      <td></td>\n",
       "      <td>0</td>\n",
       "      <td>1</td>\n",
       "      <td>0</td>\n",
       "    </tr>\n",
       "    <tr>\n",
       "      <th>798</th>\n",
       "      <td>1</td>\n",
       "      <td>1</td>\n",
       "      <td>0.01</td>\n",
       "      <td>34</td>\n",
       "      <td>8+</td>\n",
       "      <td>999</td>\n",
       "      <td>all_0</td>\n",
       "      <td></td>\n",
       "      <td>0</td>\n",
       "      <td>1</td>\n",
       "      <td>0</td>\n",
       "    </tr>\n",
       "    <tr>\n",
       "      <th>799</th>\n",
       "      <td>1</td>\n",
       "      <td>1</td>\n",
       "      <td>0.01</td>\n",
       "      <td>35</td>\n",
       "      <td>8+</td>\n",
       "      <td>1000</td>\n",
       "      <td>all_0</td>\n",
       "      <td></td>\n",
       "      <td>0</td>\n",
       "      <td>1</td>\n",
       "      <td>1</td>\n",
       "    </tr>\n",
       "  </tbody>\n",
       "</table>\n",
       "<p>800 rows × 11 columns</p>\n",
       "</div>"
      ],
      "text/plain": [
       "     Bead  Jar     H  TSCP TSCP2  Trial Subject Rel_Hist  Resp  Noise  Prior\n",
       "0       0    0  0.01     1     0      1   all_0              0      1      0\n",
       "1       0    0  0.01     2     1      2   all_0              0      1      1\n",
       "2       0    0  0.01     3     2      3   all_0              0      1      1\n",
       "3       0    0  0.01     4   3-4      4   all_0              0      1      0\n",
       "4       0    0  0.01     5   3-4      5   all_0              0      1      0\n",
       "..    ...  ...   ...   ...   ...    ...     ...      ...   ...    ...    ...\n",
       "795     1    1  0.01    31    8+    996   all_0              0      1      0\n",
       "796     1    1  0.01    32    8+    997   all_0              0      1      1\n",
       "797     1    1  0.01    33    8+    998   all_0              0      1      0\n",
       "798     1    1  0.01    34    8+    999   all_0              0      1      0\n",
       "799     1    1  0.01    35    8+   1000   all_0              0      1      1\n",
       "\n",
       "[800 rows x 11 columns]"
      ]
     },
     "execution_count": 12,
     "metadata": {},
     "output_type": "execute_result"
    },
    {
     "data": {
      "text/html": [
       "<div>\n",
       "<style scoped>\n",
       "    .dataframe tbody tr th:only-of-type {\n",
       "        vertical-align: middle;\n",
       "    }\n",
       "\n",
       "    .dataframe tbody tr th {\n",
       "        vertical-align: top;\n",
       "    }\n",
       "\n",
       "    .dataframe thead th {\n",
       "        text-align: right;\n",
       "    }\n",
       "</style>\n",
       "<table border=\"1\" class=\"dataframe\">\n",
       "  <thead>\n",
       "    <tr style=\"text-align: right;\">\n",
       "      <th></th>\n",
       "      <th>Bead</th>\n",
       "      <th>Jar</th>\n",
       "      <th>H</th>\n",
       "      <th>TSCP</th>\n",
       "      <th>TSCP2</th>\n",
       "      <th>Trial</th>\n",
       "      <th>Subject</th>\n",
       "      <th>Rel_Hist</th>\n",
       "      <th>Resp</th>\n",
       "      <th>Noise</th>\n",
       "      <th>Prior</th>\n",
       "    </tr>\n",
       "  </thead>\n",
       "  <tbody>\n",
       "    <tr>\n",
       "      <th>0</th>\n",
       "      <td>0</td>\n",
       "      <td>0</td>\n",
       "      <td>0.01</td>\n",
       "      <td>1</td>\n",
       "      <td>0</td>\n",
       "      <td>1</td>\n",
       "      <td>previous</td>\n",
       "      <td>0</td>\n",
       "      <td>-1</td>\n",
       "      <td>1</td>\n",
       "      <td>1</td>\n",
       "    </tr>\n",
       "    <tr>\n",
       "      <th>1</th>\n",
       "      <td>0</td>\n",
       "      <td>0</td>\n",
       "      <td>0.01</td>\n",
       "      <td>2</td>\n",
       "      <td>1</td>\n",
       "      <td>2</td>\n",
       "      <td>previous</td>\n",
       "      <td>0</td>\n",
       "      <td>0</td>\n",
       "      <td>1</td>\n",
       "      <td>1</td>\n",
       "    </tr>\n",
       "    <tr>\n",
       "      <th>2</th>\n",
       "      <td>0</td>\n",
       "      <td>0</td>\n",
       "      <td>0.01</td>\n",
       "      <td>3</td>\n",
       "      <td>2</td>\n",
       "      <td>3</td>\n",
       "      <td>previous</td>\n",
       "      <td>0</td>\n",
       "      <td>0</td>\n",
       "      <td>1</td>\n",
       "      <td>0</td>\n",
       "    </tr>\n",
       "    <tr>\n",
       "      <th>3</th>\n",
       "      <td>0</td>\n",
       "      <td>0</td>\n",
       "      <td>0.01</td>\n",
       "      <td>4</td>\n",
       "      <td>3-4</td>\n",
       "      <td>4</td>\n",
       "      <td>previous</td>\n",
       "      <td>0</td>\n",
       "      <td>0</td>\n",
       "      <td>1</td>\n",
       "      <td>1</td>\n",
       "    </tr>\n",
       "    <tr>\n",
       "      <th>4</th>\n",
       "      <td>0</td>\n",
       "      <td>0</td>\n",
       "      <td>0.01</td>\n",
       "      <td>5</td>\n",
       "      <td>3-4</td>\n",
       "      <td>5</td>\n",
       "      <td>previous</td>\n",
       "      <td>0</td>\n",
       "      <td>0</td>\n",
       "      <td>1</td>\n",
       "      <td>0</td>\n",
       "    </tr>\n",
       "    <tr>\n",
       "      <th>...</th>\n",
       "      <td>...</td>\n",
       "      <td>...</td>\n",
       "      <td>...</td>\n",
       "      <td>...</td>\n",
       "      <td>...</td>\n",
       "      <td>...</td>\n",
       "      <td>...</td>\n",
       "      <td>...</td>\n",
       "      <td>...</td>\n",
       "      <td>...</td>\n",
       "      <td>...</td>\n",
       "    </tr>\n",
       "    <tr>\n",
       "      <th>795</th>\n",
       "      <td>1</td>\n",
       "      <td>1</td>\n",
       "      <td>0.01</td>\n",
       "      <td>31</td>\n",
       "      <td>8+</td>\n",
       "      <td>996</td>\n",
       "      <td>previous</td>\n",
       "      <td>1</td>\n",
       "      <td>1</td>\n",
       "      <td>1</td>\n",
       "      <td>1</td>\n",
       "    </tr>\n",
       "    <tr>\n",
       "      <th>796</th>\n",
       "      <td>1</td>\n",
       "      <td>1</td>\n",
       "      <td>0.01</td>\n",
       "      <td>32</td>\n",
       "      <td>8+</td>\n",
       "      <td>997</td>\n",
       "      <td>previous</td>\n",
       "      <td>1</td>\n",
       "      <td>1</td>\n",
       "      <td>1</td>\n",
       "      <td>0</td>\n",
       "    </tr>\n",
       "    <tr>\n",
       "      <th>797</th>\n",
       "      <td>1</td>\n",
       "      <td>1</td>\n",
       "      <td>0.01</td>\n",
       "      <td>33</td>\n",
       "      <td>8+</td>\n",
       "      <td>998</td>\n",
       "      <td>previous</td>\n",
       "      <td>1</td>\n",
       "      <td>1</td>\n",
       "      <td>1</td>\n",
       "      <td>1</td>\n",
       "    </tr>\n",
       "    <tr>\n",
       "      <th>798</th>\n",
       "      <td>1</td>\n",
       "      <td>1</td>\n",
       "      <td>0.01</td>\n",
       "      <td>34</td>\n",
       "      <td>8+</td>\n",
       "      <td>999</td>\n",
       "      <td>previous</td>\n",
       "      <td>1</td>\n",
       "      <td>1</td>\n",
       "      <td>1</td>\n",
       "      <td>1</td>\n",
       "    </tr>\n",
       "    <tr>\n",
       "      <th>799</th>\n",
       "      <td>1</td>\n",
       "      <td>1</td>\n",
       "      <td>0.01</td>\n",
       "      <td>35</td>\n",
       "      <td>8+</td>\n",
       "      <td>1000</td>\n",
       "      <td>previous</td>\n",
       "      <td>1</td>\n",
       "      <td>1</td>\n",
       "      <td>1</td>\n",
       "      <td>0</td>\n",
       "    </tr>\n",
       "  </tbody>\n",
       "</table>\n",
       "<p>800 rows × 11 columns</p>\n",
       "</div>"
      ],
      "text/plain": [
       "     Bead  Jar     H  TSCP TSCP2  Trial   Subject  Rel_Hist  Resp  Noise  \\\n",
       "0       0    0  0.01     1     0      1  previous         0    -1      1   \n",
       "1       0    0  0.01     2     1      2  previous         0     0      1   \n",
       "2       0    0  0.01     3     2      3  previous         0     0      1   \n",
       "3       0    0  0.01     4   3-4      4  previous         0     0      1   \n",
       "4       0    0  0.01     5   3-4      5  previous         0     0      1   \n",
       "..    ...  ...   ...   ...   ...    ...       ...       ...   ...    ...   \n",
       "795     1    1  0.01    31    8+    996  previous         1     1      1   \n",
       "796     1    1  0.01    32    8+    997  previous         1     1      1   \n",
       "797     1    1  0.01    33    8+    998  previous         1     1      1   \n",
       "798     1    1  0.01    34    8+    999  previous         1     1      1   \n",
       "799     1    1  0.01    35    8+   1000  previous         1     1      1   \n",
       "\n",
       "     Prior  \n",
       "0        1  \n",
       "1        1  \n",
       "2        0  \n",
       "3        1  \n",
       "4        0  \n",
       "..     ...  \n",
       "795      1  \n",
       "796      0  \n",
       "797      1  \n",
       "798      1  \n",
       "799      0  \n",
       "\n",
       "[800 rows x 11 columns]"
      ]
     },
     "execution_count": 12,
     "metadata": {},
     "output_type": "execute_result"
    },
    {
     "data": {
      "text/html": [
       "<div>\n",
       "<style scoped>\n",
       "    .dataframe tbody tr th:only-of-type {\n",
       "        vertical-align: middle;\n",
       "    }\n",
       "\n",
       "    .dataframe tbody tr th {\n",
       "        vertical-align: top;\n",
       "    }\n",
       "\n",
       "    .dataframe thead th {\n",
       "        text-align: right;\n",
       "    }\n",
       "</style>\n",
       "<table border=\"1\" class=\"dataframe\">\n",
       "  <thead>\n",
       "    <tr style=\"text-align: right;\">\n",
       "      <th></th>\n",
       "      <th>Bead</th>\n",
       "      <th>Jar</th>\n",
       "      <th>H</th>\n",
       "      <th>TSCP</th>\n",
       "      <th>TSCP2</th>\n",
       "      <th>Trial</th>\n",
       "      <th>Subject</th>\n",
       "      <th>Rel_Hist</th>\n",
       "      <th>Resp</th>\n",
       "      <th>Noise</th>\n",
       "      <th>Prior</th>\n",
       "    </tr>\n",
       "  </thead>\n",
       "  <tbody>\n",
       "    <tr>\n",
       "      <th>0</th>\n",
       "      <td>0</td>\n",
       "      <td>0</td>\n",
       "      <td>0.01</td>\n",
       "      <td>1</td>\n",
       "      <td>0</td>\n",
       "      <td>1</td>\n",
       "      <td>previous_refined</td>\n",
       "      <td>0</td>\n",
       "      <td>-1</td>\n",
       "      <td>1</td>\n",
       "      <td>0</td>\n",
       "    </tr>\n",
       "    <tr>\n",
       "      <th>1</th>\n",
       "      <td>0</td>\n",
       "      <td>0</td>\n",
       "      <td>0.01</td>\n",
       "      <td>2</td>\n",
       "      <td>1</td>\n",
       "      <td>2</td>\n",
       "      <td>previous_refined</td>\n",
       "      <td>0</td>\n",
       "      <td>0</td>\n",
       "      <td>1</td>\n",
       "      <td>1</td>\n",
       "    </tr>\n",
       "    <tr>\n",
       "      <th>2</th>\n",
       "      <td>0</td>\n",
       "      <td>0</td>\n",
       "      <td>0.01</td>\n",
       "      <td>3</td>\n",
       "      <td>2</td>\n",
       "      <td>3</td>\n",
       "      <td>previous_refined</td>\n",
       "      <td>0</td>\n",
       "      <td>0</td>\n",
       "      <td>1</td>\n",
       "      <td>1</td>\n",
       "    </tr>\n",
       "    <tr>\n",
       "      <th>3</th>\n",
       "      <td>0</td>\n",
       "      <td>0</td>\n",
       "      <td>0.01</td>\n",
       "      <td>4</td>\n",
       "      <td>3-4</td>\n",
       "      <td>4</td>\n",
       "      <td>previous_refined</td>\n",
       "      <td>0</td>\n",
       "      <td>0</td>\n",
       "      <td>1</td>\n",
       "      <td>0</td>\n",
       "    </tr>\n",
       "    <tr>\n",
       "      <th>4</th>\n",
       "      <td>0</td>\n",
       "      <td>0</td>\n",
       "      <td>0.01</td>\n",
       "      <td>5</td>\n",
       "      <td>3-4</td>\n",
       "      <td>5</td>\n",
       "      <td>previous_refined</td>\n",
       "      <td>0</td>\n",
       "      <td>0</td>\n",
       "      <td>1</td>\n",
       "      <td>0</td>\n",
       "    </tr>\n",
       "    <tr>\n",
       "      <th>...</th>\n",
       "      <td>...</td>\n",
       "      <td>...</td>\n",
       "      <td>...</td>\n",
       "      <td>...</td>\n",
       "      <td>...</td>\n",
       "      <td>...</td>\n",
       "      <td>...</td>\n",
       "      <td>...</td>\n",
       "      <td>...</td>\n",
       "      <td>...</td>\n",
       "      <td>...</td>\n",
       "    </tr>\n",
       "    <tr>\n",
       "      <th>795</th>\n",
       "      <td>1</td>\n",
       "      <td>1</td>\n",
       "      <td>0.01</td>\n",
       "      <td>31</td>\n",
       "      <td>8+</td>\n",
       "      <td>996</td>\n",
       "      <td>previous_refined</td>\n",
       "      <td>1</td>\n",
       "      <td>1</td>\n",
       "      <td>1</td>\n",
       "      <td>1</td>\n",
       "    </tr>\n",
       "    <tr>\n",
       "      <th>796</th>\n",
       "      <td>1</td>\n",
       "      <td>1</td>\n",
       "      <td>0.01</td>\n",
       "      <td>32</td>\n",
       "      <td>8+</td>\n",
       "      <td>997</td>\n",
       "      <td>previous_refined</td>\n",
       "      <td>1</td>\n",
       "      <td>1</td>\n",
       "      <td>1</td>\n",
       "      <td>0</td>\n",
       "    </tr>\n",
       "    <tr>\n",
       "      <th>797</th>\n",
       "      <td>1</td>\n",
       "      <td>1</td>\n",
       "      <td>0.01</td>\n",
       "      <td>33</td>\n",
       "      <td>8+</td>\n",
       "      <td>998</td>\n",
       "      <td>previous_refined</td>\n",
       "      <td>1</td>\n",
       "      <td>1</td>\n",
       "      <td>1</td>\n",
       "      <td>1</td>\n",
       "    </tr>\n",
       "    <tr>\n",
       "      <th>798</th>\n",
       "      <td>1</td>\n",
       "      <td>1</td>\n",
       "      <td>0.01</td>\n",
       "      <td>34</td>\n",
       "      <td>8+</td>\n",
       "      <td>999</td>\n",
       "      <td>previous_refined</td>\n",
       "      <td>1</td>\n",
       "      <td>1</td>\n",
       "      <td>1</td>\n",
       "      <td>0</td>\n",
       "    </tr>\n",
       "    <tr>\n",
       "      <th>799</th>\n",
       "      <td>1</td>\n",
       "      <td>1</td>\n",
       "      <td>0.01</td>\n",
       "      <td>35</td>\n",
       "      <td>8+</td>\n",
       "      <td>1000</td>\n",
       "      <td>previous_refined</td>\n",
       "      <td>1</td>\n",
       "      <td>1</td>\n",
       "      <td>1</td>\n",
       "      <td>1</td>\n",
       "    </tr>\n",
       "  </tbody>\n",
       "</table>\n",
       "<p>800 rows × 11 columns</p>\n",
       "</div>"
      ],
      "text/plain": [
       "     Bead  Jar     H  TSCP TSCP2  Trial           Subject  Rel_Hist  Resp  \\\n",
       "0       0    0  0.01     1     0      1  previous_refined         0    -1   \n",
       "1       0    0  0.01     2     1      2  previous_refined         0     0   \n",
       "2       0    0  0.01     3     2      3  previous_refined         0     0   \n",
       "3       0    0  0.01     4   3-4      4  previous_refined         0     0   \n",
       "4       0    0  0.01     5   3-4      5  previous_refined         0     0   \n",
       "..    ...  ...   ...   ...   ...    ...               ...       ...   ...   \n",
       "795     1    1  0.01    31    8+    996  previous_refined         1     1   \n",
       "796     1    1  0.01    32    8+    997  previous_refined         1     1   \n",
       "797     1    1  0.01    33    8+    998  previous_refined         1     1   \n",
       "798     1    1  0.01    34    8+    999  previous_refined         1     1   \n",
       "799     1    1  0.01    35    8+   1000  previous_refined         1     1   \n",
       "\n",
       "     Noise  Prior  \n",
       "0        1      0  \n",
       "1        1      1  \n",
       "2        1      1  \n",
       "3        1      0  \n",
       "4        1      0  \n",
       "..     ...    ...  \n",
       "795      1      1  \n",
       "796      1      0  \n",
       "797      1      1  \n",
       "798      1      0  \n",
       "799      1      1  \n",
       "\n",
       "[800 rows x 11 columns]"
      ]
     },
     "execution_count": 12,
     "metadata": {},
     "output_type": "execute_result"
    },
    {
     "data": {
      "text/html": [
       "<div>\n",
       "<style scoped>\n",
       "    .dataframe tbody tr th:only-of-type {\n",
       "        vertical-align: middle;\n",
       "    }\n",
       "\n",
       "    .dataframe tbody tr th {\n",
       "        vertical-align: top;\n",
       "    }\n",
       "\n",
       "    .dataframe thead th {\n",
       "        text-align: right;\n",
       "    }\n",
       "</style>\n",
       "<table border=\"1\" class=\"dataframe\">\n",
       "  <thead>\n",
       "    <tr style=\"text-align: right;\">\n",
       "      <th></th>\n",
       "      <th>Subject</th>\n",
       "      <th>Trial</th>\n",
       "      <th>H</th>\n",
       "      <th>Jar</th>\n",
       "      <th>Bead</th>\n",
       "      <th>Rel_Hist</th>\n",
       "      <th>Prior</th>\n",
       "      <th>Noise</th>\n",
       "      <th>Resp</th>\n",
       "      <th>TSCP</th>\n",
       "      <th>TSCP2</th>\n",
       "    </tr>\n",
       "  </thead>\n",
       "  <tbody>\n",
       "    <tr>\n",
       "      <th>0</th>\n",
       "      <td>twoback_A</td>\n",
       "      <td>1</td>\n",
       "      <td>0.01</td>\n",
       "      <td>0</td>\n",
       "      <td>0</td>\n",
       "      <td>00</td>\n",
       "      <td>0.069692</td>\n",
       "      <td>1</td>\n",
       "      <td>-1</td>\n",
       "      <td>1</td>\n",
       "      <td>0</td>\n",
       "    </tr>\n",
       "    <tr>\n",
       "      <th>1</th>\n",
       "      <td>twoback_A</td>\n",
       "      <td>2</td>\n",
       "      <td>0.01</td>\n",
       "      <td>0</td>\n",
       "      <td>0</td>\n",
       "      <td>00</td>\n",
       "      <td>0.069692</td>\n",
       "      <td>1</td>\n",
       "      <td>-1</td>\n",
       "      <td>2</td>\n",
       "      <td>1</td>\n",
       "    </tr>\n",
       "    <tr>\n",
       "      <th>2</th>\n",
       "      <td>twoback_A</td>\n",
       "      <td>3</td>\n",
       "      <td>0.01</td>\n",
       "      <td>0</td>\n",
       "      <td>0</td>\n",
       "      <td>00</td>\n",
       "      <td>0.069692</td>\n",
       "      <td>1</td>\n",
       "      <td>1</td>\n",
       "      <td>3</td>\n",
       "      <td>2</td>\n",
       "    </tr>\n",
       "    <tr>\n",
       "      <th>3</th>\n",
       "      <td>twoback_A</td>\n",
       "      <td>4</td>\n",
       "      <td>0.01</td>\n",
       "      <td>0</td>\n",
       "      <td>0</td>\n",
       "      <td>00</td>\n",
       "      <td>0.069692</td>\n",
       "      <td>1</td>\n",
       "      <td>1</td>\n",
       "      <td>4</td>\n",
       "      <td>3-4</td>\n",
       "    </tr>\n",
       "    <tr>\n",
       "      <th>4</th>\n",
       "      <td>twoback_A</td>\n",
       "      <td>5</td>\n",
       "      <td>0.01</td>\n",
       "      <td>0</td>\n",
       "      <td>0</td>\n",
       "      <td>00</td>\n",
       "      <td>0.069692</td>\n",
       "      <td>1</td>\n",
       "      <td>1</td>\n",
       "      <td>5</td>\n",
       "      <td>3-4</td>\n",
       "    </tr>\n",
       "    <tr>\n",
       "      <th>...</th>\n",
       "      <td>...</td>\n",
       "      <td>...</td>\n",
       "      <td>...</td>\n",
       "      <td>...</td>\n",
       "      <td>...</td>\n",
       "      <td>...</td>\n",
       "      <td>...</td>\n",
       "      <td>...</td>\n",
       "      <td>...</td>\n",
       "      <td>...</td>\n",
       "      <td>...</td>\n",
       "    </tr>\n",
       "    <tr>\n",
       "      <th>795</th>\n",
       "      <td>twoback_A</td>\n",
       "      <td>796</td>\n",
       "      <td>0.01</td>\n",
       "      <td>1</td>\n",
       "      <td>1</td>\n",
       "      <td>11</td>\n",
       "      <td>0.930308</td>\n",
       "      <td>1</td>\n",
       "      <td>0</td>\n",
       "      <td>31</td>\n",
       "      <td>8+</td>\n",
       "    </tr>\n",
       "    <tr>\n",
       "      <th>796</th>\n",
       "      <td>twoback_A</td>\n",
       "      <td>797</td>\n",
       "      <td>0.01</td>\n",
       "      <td>1</td>\n",
       "      <td>1</td>\n",
       "      <td>11</td>\n",
       "      <td>0.930308</td>\n",
       "      <td>1</td>\n",
       "      <td>0</td>\n",
       "      <td>32</td>\n",
       "      <td>8+</td>\n",
       "    </tr>\n",
       "    <tr>\n",
       "      <th>797</th>\n",
       "      <td>twoback_A</td>\n",
       "      <td>798</td>\n",
       "      <td>0.01</td>\n",
       "      <td>1</td>\n",
       "      <td>1</td>\n",
       "      <td>11</td>\n",
       "      <td>0.930308</td>\n",
       "      <td>1</td>\n",
       "      <td>0</td>\n",
       "      <td>33</td>\n",
       "      <td>8+</td>\n",
       "    </tr>\n",
       "    <tr>\n",
       "      <th>798</th>\n",
       "      <td>twoback_A</td>\n",
       "      <td>799</td>\n",
       "      <td>0.01</td>\n",
       "      <td>1</td>\n",
       "      <td>1</td>\n",
       "      <td>11</td>\n",
       "      <td>0.930308</td>\n",
       "      <td>1</td>\n",
       "      <td>0</td>\n",
       "      <td>34</td>\n",
       "      <td>8+</td>\n",
       "    </tr>\n",
       "    <tr>\n",
       "      <th>799</th>\n",
       "      <td>twoback_A</td>\n",
       "      <td>800</td>\n",
       "      <td>0.01</td>\n",
       "      <td>1</td>\n",
       "      <td>1</td>\n",
       "      <td>11</td>\n",
       "      <td>0.930308</td>\n",
       "      <td>1</td>\n",
       "      <td>0</td>\n",
       "      <td>35</td>\n",
       "      <td>8+</td>\n",
       "    </tr>\n",
       "  </tbody>\n",
       "</table>\n",
       "<p>800 rows × 11 columns</p>\n",
       "</div>"
      ],
      "text/plain": [
       "       Subject  Trial     H  Jar  Bead Rel_Hist     Prior  Noise  Resp  TSCP  \\\n",
       "0    twoback_A      1  0.01    0     0       00  0.069692      1    -1     1   \n",
       "1    twoback_A      2  0.01    0     0       00  0.069692      1    -1     2   \n",
       "2    twoback_A      3  0.01    0     0       00  0.069692      1     1     3   \n",
       "3    twoback_A      4  0.01    0     0       00  0.069692      1     1     4   \n",
       "4    twoback_A      5  0.01    0     0       00  0.069692      1     1     5   \n",
       "..         ...    ...   ...  ...   ...      ...       ...    ...   ...   ...   \n",
       "795  twoback_A    796  0.01    1     1       11  0.930308      1     0    31   \n",
       "796  twoback_A    797  0.01    1     1       11  0.930308      1     0    32   \n",
       "797  twoback_A    798  0.01    1     1       11  0.930308      1     0    33   \n",
       "798  twoback_A    799  0.01    1     1       11  0.930308      1     0    34   \n",
       "799  twoback_A    800  0.01    1     1       11  0.930308      1     0    35   \n",
       "\n",
       "    TSCP2  \n",
       "0       0  \n",
       "1       1  \n",
       "2       2  \n",
       "3     3-4  \n",
       "4     3-4  \n",
       "..    ...  \n",
       "795    8+  \n",
       "796    8+  \n",
       "797    8+  \n",
       "798    8+  \n",
       "799    8+  \n",
       "\n",
       "[800 rows x 11 columns]"
      ]
     },
     "execution_count": 12,
     "metadata": {},
     "output_type": "execute_result"
    },
    {
     "data": {
      "text/html": [
       "<div>\n",
       "<style scoped>\n",
       "    .dataframe tbody tr th:only-of-type {\n",
       "        vertical-align: middle;\n",
       "    }\n",
       "\n",
       "    .dataframe tbody tr th {\n",
       "        vertical-align: top;\n",
       "    }\n",
       "\n",
       "    .dataframe thead th {\n",
       "        text-align: right;\n",
       "    }\n",
       "</style>\n",
       "<table border=\"1\" class=\"dataframe\">\n",
       "  <thead>\n",
       "    <tr style=\"text-align: right;\">\n",
       "      <th></th>\n",
       "      <th>Subject</th>\n",
       "      <th>Trial</th>\n",
       "      <th>H</th>\n",
       "      <th>Jar</th>\n",
       "      <th>Bead</th>\n",
       "      <th>Rel_Hist</th>\n",
       "      <th>Prior</th>\n",
       "      <th>Noise</th>\n",
       "      <th>Resp</th>\n",
       "      <th>TSCP</th>\n",
       "      <th>TSCP2</th>\n",
       "    </tr>\n",
       "  </thead>\n",
       "  <tbody>\n",
       "    <tr>\n",
       "      <th>0</th>\n",
       "      <td>twoback_B</td>\n",
       "      <td>1</td>\n",
       "      <td>0.01</td>\n",
       "      <td>0</td>\n",
       "      <td>0</td>\n",
       "      <td>00</td>\n",
       "      <td>0.069692</td>\n",
       "      <td>1</td>\n",
       "      <td>-1</td>\n",
       "      <td>1</td>\n",
       "      <td>0</td>\n",
       "    </tr>\n",
       "    <tr>\n",
       "      <th>1</th>\n",
       "      <td>twoback_B</td>\n",
       "      <td>2</td>\n",
       "      <td>0.01</td>\n",
       "      <td>0</td>\n",
       "      <td>0</td>\n",
       "      <td>00</td>\n",
       "      <td>0.069692</td>\n",
       "      <td>1</td>\n",
       "      <td>-1</td>\n",
       "      <td>2</td>\n",
       "      <td>1</td>\n",
       "    </tr>\n",
       "    <tr>\n",
       "      <th>2</th>\n",
       "      <td>twoback_B</td>\n",
       "      <td>3</td>\n",
       "      <td>0.01</td>\n",
       "      <td>0</td>\n",
       "      <td>0</td>\n",
       "      <td>00</td>\n",
       "      <td>0.069692</td>\n",
       "      <td>1</td>\n",
       "      <td>0</td>\n",
       "      <td>3</td>\n",
       "      <td>2</td>\n",
       "    </tr>\n",
       "    <tr>\n",
       "      <th>3</th>\n",
       "      <td>twoback_B</td>\n",
       "      <td>4</td>\n",
       "      <td>0.01</td>\n",
       "      <td>0</td>\n",
       "      <td>0</td>\n",
       "      <td>00</td>\n",
       "      <td>0.069692</td>\n",
       "      <td>1</td>\n",
       "      <td>0</td>\n",
       "      <td>4</td>\n",
       "      <td>3-4</td>\n",
       "    </tr>\n",
       "    <tr>\n",
       "      <th>4</th>\n",
       "      <td>twoback_B</td>\n",
       "      <td>5</td>\n",
       "      <td>0.01</td>\n",
       "      <td>0</td>\n",
       "      <td>0</td>\n",
       "      <td>00</td>\n",
       "      <td>0.069692</td>\n",
       "      <td>1</td>\n",
       "      <td>0</td>\n",
       "      <td>5</td>\n",
       "      <td>3-4</td>\n",
       "    </tr>\n",
       "    <tr>\n",
       "      <th>...</th>\n",
       "      <td>...</td>\n",
       "      <td>...</td>\n",
       "      <td>...</td>\n",
       "      <td>...</td>\n",
       "      <td>...</td>\n",
       "      <td>...</td>\n",
       "      <td>...</td>\n",
       "      <td>...</td>\n",
       "      <td>...</td>\n",
       "      <td>...</td>\n",
       "      <td>...</td>\n",
       "    </tr>\n",
       "    <tr>\n",
       "      <th>795</th>\n",
       "      <td>twoback_B</td>\n",
       "      <td>796</td>\n",
       "      <td>0.01</td>\n",
       "      <td>1</td>\n",
       "      <td>1</td>\n",
       "      <td>11</td>\n",
       "      <td>0.930308</td>\n",
       "      <td>1</td>\n",
       "      <td>1</td>\n",
       "      <td>31</td>\n",
       "      <td>8+</td>\n",
       "    </tr>\n",
       "    <tr>\n",
       "      <th>796</th>\n",
       "      <td>twoback_B</td>\n",
       "      <td>797</td>\n",
       "      <td>0.01</td>\n",
       "      <td>1</td>\n",
       "      <td>1</td>\n",
       "      <td>11</td>\n",
       "      <td>0.930308</td>\n",
       "      <td>1</td>\n",
       "      <td>1</td>\n",
       "      <td>32</td>\n",
       "      <td>8+</td>\n",
       "    </tr>\n",
       "    <tr>\n",
       "      <th>797</th>\n",
       "      <td>twoback_B</td>\n",
       "      <td>798</td>\n",
       "      <td>0.01</td>\n",
       "      <td>1</td>\n",
       "      <td>1</td>\n",
       "      <td>11</td>\n",
       "      <td>0.930308</td>\n",
       "      <td>1</td>\n",
       "      <td>1</td>\n",
       "      <td>33</td>\n",
       "      <td>8+</td>\n",
       "    </tr>\n",
       "    <tr>\n",
       "      <th>798</th>\n",
       "      <td>twoback_B</td>\n",
       "      <td>799</td>\n",
       "      <td>0.01</td>\n",
       "      <td>1</td>\n",
       "      <td>1</td>\n",
       "      <td>11</td>\n",
       "      <td>0.930308</td>\n",
       "      <td>1</td>\n",
       "      <td>1</td>\n",
       "      <td>34</td>\n",
       "      <td>8+</td>\n",
       "    </tr>\n",
       "    <tr>\n",
       "      <th>799</th>\n",
       "      <td>twoback_B</td>\n",
       "      <td>800</td>\n",
       "      <td>0.01</td>\n",
       "      <td>1</td>\n",
       "      <td>1</td>\n",
       "      <td>11</td>\n",
       "      <td>0.930308</td>\n",
       "      <td>1</td>\n",
       "      <td>1</td>\n",
       "      <td>35</td>\n",
       "      <td>8+</td>\n",
       "    </tr>\n",
       "  </tbody>\n",
       "</table>\n",
       "<p>800 rows × 11 columns</p>\n",
       "</div>"
      ],
      "text/plain": [
       "       Subject  Trial     H  Jar  Bead Rel_Hist     Prior  Noise  Resp  TSCP  \\\n",
       "0    twoback_B      1  0.01    0     0       00  0.069692      1    -1     1   \n",
       "1    twoback_B      2  0.01    0     0       00  0.069692      1    -1     2   \n",
       "2    twoback_B      3  0.01    0     0       00  0.069692      1     0     3   \n",
       "3    twoback_B      4  0.01    0     0       00  0.069692      1     0     4   \n",
       "4    twoback_B      5  0.01    0     0       00  0.069692      1     0     5   \n",
       "..         ...    ...   ...  ...   ...      ...       ...    ...   ...   ...   \n",
       "795  twoback_B    796  0.01    1     1       11  0.930308      1     1    31   \n",
       "796  twoback_B    797  0.01    1     1       11  0.930308      1     1    32   \n",
       "797  twoback_B    798  0.01    1     1       11  0.930308      1     1    33   \n",
       "798  twoback_B    799  0.01    1     1       11  0.930308      1     1    34   \n",
       "799  twoback_B    800  0.01    1     1       11  0.930308      1     1    35   \n",
       "\n",
       "    TSCP2  \n",
       "0       0  \n",
       "1       1  \n",
       "2       2  \n",
       "3     3-4  \n",
       "4     3-4  \n",
       "..    ...  \n",
       "795    8+  \n",
       "796    8+  \n",
       "797    8+  \n",
       "798    8+  \n",
       "799    8+  \n",
       "\n",
       "[800 rows x 11 columns]"
      ]
     },
     "execution_count": 12,
     "metadata": {},
     "output_type": "execute_result"
    },
    {
     "data": {
      "text/html": [
       "<div>\n",
       "<style scoped>\n",
       "    .dataframe tbody tr th:only-of-type {\n",
       "        vertical-align: middle;\n",
       "    }\n",
       "\n",
       "    .dataframe tbody tr th {\n",
       "        vertical-align: top;\n",
       "    }\n",
       "\n",
       "    .dataframe thead th {\n",
       "        text-align: right;\n",
       "    }\n",
       "</style>\n",
       "<table border=\"1\" class=\"dataframe\">\n",
       "  <thead>\n",
       "    <tr style=\"text-align: right;\">\n",
       "      <th></th>\n",
       "      <th>Subject</th>\n",
       "      <th>Trial</th>\n",
       "      <th>H</th>\n",
       "      <th>Jar</th>\n",
       "      <th>Bead</th>\n",
       "      <th>Rel_Hist</th>\n",
       "      <th>Prior</th>\n",
       "      <th>Noise</th>\n",
       "      <th>Resp</th>\n",
       "      <th>TSCP</th>\n",
       "      <th>TSCP2</th>\n",
       "    </tr>\n",
       "  </thead>\n",
       "  <tbody>\n",
       "    <tr>\n",
       "      <th>0</th>\n",
       "      <td>threeback_A</td>\n",
       "      <td>1</td>\n",
       "      <td>0.01</td>\n",
       "      <td>0</td>\n",
       "      <td>0</td>\n",
       "      <td>000</td>\n",
       "      <td>0.028016</td>\n",
       "      <td>1</td>\n",
       "      <td>-1</td>\n",
       "      <td>1</td>\n",
       "      <td>0</td>\n",
       "    </tr>\n",
       "    <tr>\n",
       "      <th>1</th>\n",
       "      <td>threeback_A</td>\n",
       "      <td>2</td>\n",
       "      <td>0.01</td>\n",
       "      <td>0</td>\n",
       "      <td>0</td>\n",
       "      <td>000</td>\n",
       "      <td>0.028016</td>\n",
       "      <td>1</td>\n",
       "      <td>-1</td>\n",
       "      <td>2</td>\n",
       "      <td>1</td>\n",
       "    </tr>\n",
       "    <tr>\n",
       "      <th>2</th>\n",
       "      <td>threeback_A</td>\n",
       "      <td>3</td>\n",
       "      <td>0.01</td>\n",
       "      <td>0</td>\n",
       "      <td>0</td>\n",
       "      <td>000</td>\n",
       "      <td>0.028016</td>\n",
       "      <td>1</td>\n",
       "      <td>-1</td>\n",
       "      <td>3</td>\n",
       "      <td>2</td>\n",
       "    </tr>\n",
       "    <tr>\n",
       "      <th>3</th>\n",
       "      <td>threeback_A</td>\n",
       "      <td>4</td>\n",
       "      <td>0.01</td>\n",
       "      <td>0</td>\n",
       "      <td>0</td>\n",
       "      <td>000</td>\n",
       "      <td>0.028016</td>\n",
       "      <td>1</td>\n",
       "      <td>0</td>\n",
       "      <td>4</td>\n",
       "      <td>3-4</td>\n",
       "    </tr>\n",
       "    <tr>\n",
       "      <th>4</th>\n",
       "      <td>threeback_A</td>\n",
       "      <td>5</td>\n",
       "      <td>0.01</td>\n",
       "      <td>0</td>\n",
       "      <td>0</td>\n",
       "      <td>000</td>\n",
       "      <td>0.028016</td>\n",
       "      <td>1</td>\n",
       "      <td>0</td>\n",
       "      <td>5</td>\n",
       "      <td>3-4</td>\n",
       "    </tr>\n",
       "    <tr>\n",
       "      <th>...</th>\n",
       "      <td>...</td>\n",
       "      <td>...</td>\n",
       "      <td>...</td>\n",
       "      <td>...</td>\n",
       "      <td>...</td>\n",
       "      <td>...</td>\n",
       "      <td>...</td>\n",
       "      <td>...</td>\n",
       "      <td>...</td>\n",
       "      <td>...</td>\n",
       "      <td>...</td>\n",
       "    </tr>\n",
       "    <tr>\n",
       "      <th>795</th>\n",
       "      <td>threeback_A</td>\n",
       "      <td>796</td>\n",
       "      <td>0.01</td>\n",
       "      <td>1</td>\n",
       "      <td>1</td>\n",
       "      <td>111</td>\n",
       "      <td>0.971984</td>\n",
       "      <td>1</td>\n",
       "      <td>1</td>\n",
       "      <td>31</td>\n",
       "      <td>8+</td>\n",
       "    </tr>\n",
       "    <tr>\n",
       "      <th>796</th>\n",
       "      <td>threeback_A</td>\n",
       "      <td>797</td>\n",
       "      <td>0.01</td>\n",
       "      <td>1</td>\n",
       "      <td>1</td>\n",
       "      <td>111</td>\n",
       "      <td>0.971984</td>\n",
       "      <td>1</td>\n",
       "      <td>1</td>\n",
       "      <td>32</td>\n",
       "      <td>8+</td>\n",
       "    </tr>\n",
       "    <tr>\n",
       "      <th>797</th>\n",
       "      <td>threeback_A</td>\n",
       "      <td>798</td>\n",
       "      <td>0.01</td>\n",
       "      <td>1</td>\n",
       "      <td>1</td>\n",
       "      <td>111</td>\n",
       "      <td>0.971984</td>\n",
       "      <td>1</td>\n",
       "      <td>1</td>\n",
       "      <td>33</td>\n",
       "      <td>8+</td>\n",
       "    </tr>\n",
       "    <tr>\n",
       "      <th>798</th>\n",
       "      <td>threeback_A</td>\n",
       "      <td>799</td>\n",
       "      <td>0.01</td>\n",
       "      <td>1</td>\n",
       "      <td>1</td>\n",
       "      <td>111</td>\n",
       "      <td>0.971984</td>\n",
       "      <td>1</td>\n",
       "      <td>1</td>\n",
       "      <td>34</td>\n",
       "      <td>8+</td>\n",
       "    </tr>\n",
       "    <tr>\n",
       "      <th>799</th>\n",
       "      <td>threeback_A</td>\n",
       "      <td>800</td>\n",
       "      <td>0.01</td>\n",
       "      <td>1</td>\n",
       "      <td>1</td>\n",
       "      <td>111</td>\n",
       "      <td>0.971984</td>\n",
       "      <td>1</td>\n",
       "      <td>1</td>\n",
       "      <td>35</td>\n",
       "      <td>8+</td>\n",
       "    </tr>\n",
       "  </tbody>\n",
       "</table>\n",
       "<p>800 rows × 11 columns</p>\n",
       "</div>"
      ],
      "text/plain": [
       "         Subject  Trial     H  Jar  Bead Rel_Hist     Prior  Noise  Resp  \\\n",
       "0    threeback_A      1  0.01    0     0      000  0.028016      1    -1   \n",
       "1    threeback_A      2  0.01    0     0      000  0.028016      1    -1   \n",
       "2    threeback_A      3  0.01    0     0      000  0.028016      1    -1   \n",
       "3    threeback_A      4  0.01    0     0      000  0.028016      1     0   \n",
       "4    threeback_A      5  0.01    0     0      000  0.028016      1     0   \n",
       "..           ...    ...   ...  ...   ...      ...       ...    ...   ...   \n",
       "795  threeback_A    796  0.01    1     1      111  0.971984      1     1   \n",
       "796  threeback_A    797  0.01    1     1      111  0.971984      1     1   \n",
       "797  threeback_A    798  0.01    1     1      111  0.971984      1     1   \n",
       "798  threeback_A    799  0.01    1     1      111  0.971984      1     1   \n",
       "799  threeback_A    800  0.01    1     1      111  0.971984      1     1   \n",
       "\n",
       "     TSCP TSCP2  \n",
       "0       1     0  \n",
       "1       2     1  \n",
       "2       3     2  \n",
       "3       4   3-4  \n",
       "4       5   3-4  \n",
       "..    ...   ...  \n",
       "795    31    8+  \n",
       "796    32    8+  \n",
       "797    33    8+  \n",
       "798    34    8+  \n",
       "799    35    8+  \n",
       "\n",
       "[800 rows x 11 columns]"
      ]
     },
     "execution_count": 12,
     "metadata": {},
     "output_type": "execute_result"
    },
    {
     "data": {
      "text/html": [
       "<div>\n",
       "<style scoped>\n",
       "    .dataframe tbody tr th:only-of-type {\n",
       "        vertical-align: middle;\n",
       "    }\n",
       "\n",
       "    .dataframe tbody tr th {\n",
       "        vertical-align: top;\n",
       "    }\n",
       "\n",
       "    .dataframe thead th {\n",
       "        text-align: right;\n",
       "    }\n",
       "</style>\n",
       "<table border=\"1\" class=\"dataframe\">\n",
       "  <thead>\n",
       "    <tr style=\"text-align: right;\">\n",
       "      <th></th>\n",
       "      <th>Subject</th>\n",
       "      <th>Trial</th>\n",
       "      <th>H</th>\n",
       "      <th>Jar</th>\n",
       "      <th>Bead</th>\n",
       "      <th>Rel_Hist</th>\n",
       "      <th>Prior</th>\n",
       "      <th>Noise</th>\n",
       "      <th>Resp</th>\n",
       "      <th>TSCP</th>\n",
       "      <th>TSCP2</th>\n",
       "    </tr>\n",
       "  </thead>\n",
       "  <tbody>\n",
       "    <tr>\n",
       "      <th>0</th>\n",
       "      <td>threeback_B</td>\n",
       "      <td>1</td>\n",
       "      <td>0.01</td>\n",
       "      <td>0</td>\n",
       "      <td>0</td>\n",
       "      <td>000</td>\n",
       "      <td>0.028016</td>\n",
       "      <td>1</td>\n",
       "      <td>-1</td>\n",
       "      <td>1</td>\n",
       "      <td>0</td>\n",
       "    </tr>\n",
       "    <tr>\n",
       "      <th>1</th>\n",
       "      <td>threeback_B</td>\n",
       "      <td>2</td>\n",
       "      <td>0.01</td>\n",
       "      <td>0</td>\n",
       "      <td>0</td>\n",
       "      <td>000</td>\n",
       "      <td>0.028016</td>\n",
       "      <td>1</td>\n",
       "      <td>-1</td>\n",
       "      <td>2</td>\n",
       "      <td>1</td>\n",
       "    </tr>\n",
       "    <tr>\n",
       "      <th>2</th>\n",
       "      <td>threeback_B</td>\n",
       "      <td>3</td>\n",
       "      <td>0.01</td>\n",
       "      <td>0</td>\n",
       "      <td>0</td>\n",
       "      <td>000</td>\n",
       "      <td>0.028016</td>\n",
       "      <td>1</td>\n",
       "      <td>-1</td>\n",
       "      <td>3</td>\n",
       "      <td>2</td>\n",
       "    </tr>\n",
       "    <tr>\n",
       "      <th>3</th>\n",
       "      <td>threeback_B</td>\n",
       "      <td>4</td>\n",
       "      <td>0.01</td>\n",
       "      <td>0</td>\n",
       "      <td>0</td>\n",
       "      <td>000</td>\n",
       "      <td>0.028016</td>\n",
       "      <td>1</td>\n",
       "      <td>0</td>\n",
       "      <td>4</td>\n",
       "      <td>3-4</td>\n",
       "    </tr>\n",
       "    <tr>\n",
       "      <th>4</th>\n",
       "      <td>threeback_B</td>\n",
       "      <td>5</td>\n",
       "      <td>0.01</td>\n",
       "      <td>0</td>\n",
       "      <td>0</td>\n",
       "      <td>000</td>\n",
       "      <td>0.028016</td>\n",
       "      <td>1</td>\n",
       "      <td>0</td>\n",
       "      <td>5</td>\n",
       "      <td>3-4</td>\n",
       "    </tr>\n",
       "    <tr>\n",
       "      <th>...</th>\n",
       "      <td>...</td>\n",
       "      <td>...</td>\n",
       "      <td>...</td>\n",
       "      <td>...</td>\n",
       "      <td>...</td>\n",
       "      <td>...</td>\n",
       "      <td>...</td>\n",
       "      <td>...</td>\n",
       "      <td>...</td>\n",
       "      <td>...</td>\n",
       "      <td>...</td>\n",
       "    </tr>\n",
       "    <tr>\n",
       "      <th>795</th>\n",
       "      <td>threeback_B</td>\n",
       "      <td>796</td>\n",
       "      <td>0.01</td>\n",
       "      <td>1</td>\n",
       "      <td>1</td>\n",
       "      <td>111</td>\n",
       "      <td>0.971984</td>\n",
       "      <td>1</td>\n",
       "      <td>1</td>\n",
       "      <td>31</td>\n",
       "      <td>8+</td>\n",
       "    </tr>\n",
       "    <tr>\n",
       "      <th>796</th>\n",
       "      <td>threeback_B</td>\n",
       "      <td>797</td>\n",
       "      <td>0.01</td>\n",
       "      <td>1</td>\n",
       "      <td>1</td>\n",
       "      <td>111</td>\n",
       "      <td>0.971984</td>\n",
       "      <td>1</td>\n",
       "      <td>1</td>\n",
       "      <td>32</td>\n",
       "      <td>8+</td>\n",
       "    </tr>\n",
       "    <tr>\n",
       "      <th>797</th>\n",
       "      <td>threeback_B</td>\n",
       "      <td>798</td>\n",
       "      <td>0.01</td>\n",
       "      <td>1</td>\n",
       "      <td>1</td>\n",
       "      <td>111</td>\n",
       "      <td>0.971984</td>\n",
       "      <td>1</td>\n",
       "      <td>1</td>\n",
       "      <td>33</td>\n",
       "      <td>8+</td>\n",
       "    </tr>\n",
       "    <tr>\n",
       "      <th>798</th>\n",
       "      <td>threeback_B</td>\n",
       "      <td>799</td>\n",
       "      <td>0.01</td>\n",
       "      <td>1</td>\n",
       "      <td>1</td>\n",
       "      <td>111</td>\n",
       "      <td>0.971984</td>\n",
       "      <td>1</td>\n",
       "      <td>1</td>\n",
       "      <td>34</td>\n",
       "      <td>8+</td>\n",
       "    </tr>\n",
       "    <tr>\n",
       "      <th>799</th>\n",
       "      <td>threeback_B</td>\n",
       "      <td>800</td>\n",
       "      <td>0.01</td>\n",
       "      <td>1</td>\n",
       "      <td>1</td>\n",
       "      <td>111</td>\n",
       "      <td>0.971984</td>\n",
       "      <td>1</td>\n",
       "      <td>1</td>\n",
       "      <td>35</td>\n",
       "      <td>8+</td>\n",
       "    </tr>\n",
       "  </tbody>\n",
       "</table>\n",
       "<p>800 rows × 11 columns</p>\n",
       "</div>"
      ],
      "text/plain": [
       "         Subject  Trial     H  Jar  Bead Rel_Hist     Prior  Noise  Resp  \\\n",
       "0    threeback_B      1  0.01    0     0      000  0.028016      1    -1   \n",
       "1    threeback_B      2  0.01    0     0      000  0.028016      1    -1   \n",
       "2    threeback_B      3  0.01    0     0      000  0.028016      1    -1   \n",
       "3    threeback_B      4  0.01    0     0      000  0.028016      1     0   \n",
       "4    threeback_B      5  0.01    0     0      000  0.028016      1     0   \n",
       "..           ...    ...   ...  ...   ...      ...       ...    ...   ...   \n",
       "795  threeback_B    796  0.01    1     1      111  0.971984      1     1   \n",
       "796  threeback_B    797  0.01    1     1      111  0.971984      1     1   \n",
       "797  threeback_B    798  0.01    1     1      111  0.971984      1     1   \n",
       "798  threeback_B    799  0.01    1     1      111  0.971984      1     1   \n",
       "799  threeback_B    800  0.01    1     1      111  0.971984      1     1   \n",
       "\n",
       "     TSCP TSCP2  \n",
       "0       1     0  \n",
       "1       2     1  \n",
       "2       3     2  \n",
       "3       4   3-4  \n",
       "4       5   3-4  \n",
       "..    ...   ...  \n",
       "795    31    8+  \n",
       "796    32    8+  \n",
       "797    33    8+  \n",
       "798    34    8+  \n",
       "799    35    8+  \n",
       "\n",
       "[800 rows x 11 columns]"
      ]
     },
     "execution_count": 12,
     "metadata": {},
     "output_type": "execute_result"
    },
    {
     "data": {
      "text/html": [
       "<div>\n",
       "<style scoped>\n",
       "    .dataframe tbody tr th:only-of-type {\n",
       "        vertical-align: middle;\n",
       "    }\n",
       "\n",
       "    .dataframe tbody tr th {\n",
       "        vertical-align: top;\n",
       "    }\n",
       "\n",
       "    .dataframe thead th {\n",
       "        text-align: right;\n",
       "    }\n",
       "</style>\n",
       "<table border=\"1\" class=\"dataframe\">\n",
       "  <thead>\n",
       "    <tr style=\"text-align: right;\">\n",
       "      <th></th>\n",
       "      <th>Subject</th>\n",
       "      <th>Trial</th>\n",
       "      <th>H</th>\n",
       "      <th>Jar</th>\n",
       "      <th>Bead</th>\n",
       "      <th>Rel_Hist</th>\n",
       "      <th>Prior</th>\n",
       "      <th>Noise</th>\n",
       "      <th>Resp</th>\n",
       "      <th>TSCP</th>\n",
       "      <th>TSCP2</th>\n",
       "    </tr>\n",
       "  </thead>\n",
       "  <tbody>\n",
       "    <tr>\n",
       "      <th>0</th>\n",
       "      <td>threeback_C</td>\n",
       "      <td>1</td>\n",
       "      <td>0.01</td>\n",
       "      <td>0</td>\n",
       "      <td>0</td>\n",
       "      <td>000</td>\n",
       "      <td>0.028016</td>\n",
       "      <td>1</td>\n",
       "      <td>-1</td>\n",
       "      <td>1</td>\n",
       "      <td>0</td>\n",
       "    </tr>\n",
       "    <tr>\n",
       "      <th>1</th>\n",
       "      <td>threeback_C</td>\n",
       "      <td>2</td>\n",
       "      <td>0.01</td>\n",
       "      <td>0</td>\n",
       "      <td>0</td>\n",
       "      <td>000</td>\n",
       "      <td>0.028016</td>\n",
       "      <td>1</td>\n",
       "      <td>-1</td>\n",
       "      <td>2</td>\n",
       "      <td>1</td>\n",
       "    </tr>\n",
       "    <tr>\n",
       "      <th>2</th>\n",
       "      <td>threeback_C</td>\n",
       "      <td>3</td>\n",
       "      <td>0.01</td>\n",
       "      <td>0</td>\n",
       "      <td>0</td>\n",
       "      <td>000</td>\n",
       "      <td>0.028016</td>\n",
       "      <td>1</td>\n",
       "      <td>-1</td>\n",
       "      <td>3</td>\n",
       "      <td>2</td>\n",
       "    </tr>\n",
       "    <tr>\n",
       "      <th>3</th>\n",
       "      <td>threeback_C</td>\n",
       "      <td>4</td>\n",
       "      <td>0.01</td>\n",
       "      <td>0</td>\n",
       "      <td>0</td>\n",
       "      <td>000</td>\n",
       "      <td>0.028016</td>\n",
       "      <td>1</td>\n",
       "      <td>0</td>\n",
       "      <td>4</td>\n",
       "      <td>3-4</td>\n",
       "    </tr>\n",
       "    <tr>\n",
       "      <th>4</th>\n",
       "      <td>threeback_C</td>\n",
       "      <td>5</td>\n",
       "      <td>0.01</td>\n",
       "      <td>0</td>\n",
       "      <td>0</td>\n",
       "      <td>000</td>\n",
       "      <td>0.028016</td>\n",
       "      <td>1</td>\n",
       "      <td>0</td>\n",
       "      <td>5</td>\n",
       "      <td>3-4</td>\n",
       "    </tr>\n",
       "    <tr>\n",
       "      <th>...</th>\n",
       "      <td>...</td>\n",
       "      <td>...</td>\n",
       "      <td>...</td>\n",
       "      <td>...</td>\n",
       "      <td>...</td>\n",
       "      <td>...</td>\n",
       "      <td>...</td>\n",
       "      <td>...</td>\n",
       "      <td>...</td>\n",
       "      <td>...</td>\n",
       "      <td>...</td>\n",
       "    </tr>\n",
       "    <tr>\n",
       "      <th>795</th>\n",
       "      <td>threeback_C</td>\n",
       "      <td>796</td>\n",
       "      <td>0.01</td>\n",
       "      <td>1</td>\n",
       "      <td>1</td>\n",
       "      <td>111</td>\n",
       "      <td>0.971984</td>\n",
       "      <td>1</td>\n",
       "      <td>1</td>\n",
       "      <td>31</td>\n",
       "      <td>8+</td>\n",
       "    </tr>\n",
       "    <tr>\n",
       "      <th>796</th>\n",
       "      <td>threeback_C</td>\n",
       "      <td>797</td>\n",
       "      <td>0.01</td>\n",
       "      <td>1</td>\n",
       "      <td>1</td>\n",
       "      <td>111</td>\n",
       "      <td>0.971984</td>\n",
       "      <td>1</td>\n",
       "      <td>1</td>\n",
       "      <td>32</td>\n",
       "      <td>8+</td>\n",
       "    </tr>\n",
       "    <tr>\n",
       "      <th>797</th>\n",
       "      <td>threeback_C</td>\n",
       "      <td>798</td>\n",
       "      <td>0.01</td>\n",
       "      <td>1</td>\n",
       "      <td>1</td>\n",
       "      <td>111</td>\n",
       "      <td>0.971984</td>\n",
       "      <td>1</td>\n",
       "      <td>1</td>\n",
       "      <td>33</td>\n",
       "      <td>8+</td>\n",
       "    </tr>\n",
       "    <tr>\n",
       "      <th>798</th>\n",
       "      <td>threeback_C</td>\n",
       "      <td>799</td>\n",
       "      <td>0.01</td>\n",
       "      <td>1</td>\n",
       "      <td>1</td>\n",
       "      <td>111</td>\n",
       "      <td>0.971984</td>\n",
       "      <td>1</td>\n",
       "      <td>1</td>\n",
       "      <td>34</td>\n",
       "      <td>8+</td>\n",
       "    </tr>\n",
       "    <tr>\n",
       "      <th>799</th>\n",
       "      <td>threeback_C</td>\n",
       "      <td>800</td>\n",
       "      <td>0.01</td>\n",
       "      <td>1</td>\n",
       "      <td>1</td>\n",
       "      <td>111</td>\n",
       "      <td>0.971984</td>\n",
       "      <td>1</td>\n",
       "      <td>1</td>\n",
       "      <td>35</td>\n",
       "      <td>8+</td>\n",
       "    </tr>\n",
       "  </tbody>\n",
       "</table>\n",
       "<p>800 rows × 11 columns</p>\n",
       "</div>"
      ],
      "text/plain": [
       "         Subject  Trial     H  Jar  Bead Rel_Hist     Prior  Noise  Resp  \\\n",
       "0    threeback_C      1  0.01    0     0      000  0.028016      1    -1   \n",
       "1    threeback_C      2  0.01    0     0      000  0.028016      1    -1   \n",
       "2    threeback_C      3  0.01    0     0      000  0.028016      1    -1   \n",
       "3    threeback_C      4  0.01    0     0      000  0.028016      1     0   \n",
       "4    threeback_C      5  0.01    0     0      000  0.028016      1     0   \n",
       "..           ...    ...   ...  ...   ...      ...       ...    ...   ...   \n",
       "795  threeback_C    796  0.01    1     1      111  0.971984      1     1   \n",
       "796  threeback_C    797  0.01    1     1      111  0.971984      1     1   \n",
       "797  threeback_C    798  0.01    1     1      111  0.971984      1     1   \n",
       "798  threeback_C    799  0.01    1     1      111  0.971984      1     1   \n",
       "799  threeback_C    800  0.01    1     1      111  0.971984      1     1   \n",
       "\n",
       "     TSCP TSCP2  \n",
       "0       1     0  \n",
       "1       2     1  \n",
       "2       3     2  \n",
       "3       4   3-4  \n",
       "4       5   3-4  \n",
       "..    ...   ...  \n",
       "795    31    8+  \n",
       "796    32    8+  \n",
       "797    33    8+  \n",
       "798    34    8+  \n",
       "799    35    8+  \n",
       "\n",
       "[800 rows x 11 columns]"
      ]
     },
     "execution_count": 12,
     "metadata": {},
     "output_type": "execute_result"
    },
    {
     "data": {
      "text/plain": [
       "'\\nthreeback_A_confid_rules = {\\'000\\': \\'1\\', \\'100\\': \\'1\\', \\'010\\': \\'0\\', \\'110\\': \\'0\\'}\\nthreeback_A_confid_table = make_confid_with_rule(threeback_A_confid_rules, history)\\nthreeback_A_confid = constant_table.assign(Subject = [\"threeback_A_high\" if threeback_A_confid_table.at[i, \\'confid\\'] == 1\\n                                                      else \"threeback_A_low\" for i in np.arange(constant_table.shape[0])], \\n                                           Rel_Hist = threeback_A_pred_table[\\'rel_hist\\'],\\n                                           Resp = threeback_A_pred_table[\\'pred\\'], Noise = noise,\\n                                           Confidence = threeback_A_confid_table[\\'confid\\'])\\n\\nthreeback_A_confid\\n'"
      ]
     },
     "execution_count": 12,
     "metadata": {},
     "output_type": "execute_result"
    }
   ],
   "source": [
    "# Constant prediction\n",
    "adat_sim_all0 = constant_table.assign(Subject = \"all_0\", Rel_Hist = '', \n",
    "                                      Resp = 0, Noise = noise,\n",
    "                                      Prior = np.random.choice([0,1],size=len(constant_table),replace=True))\n",
    "adat_sim_all0\n",
    "\n",
    "# One-back\n",
    "adat_sim_previous = constant_table.assign(Subject = \"previous\", Rel_Hist = [int(h[-1]) for h in history], \n",
    "                                          Resp = [int(h[-1]) for h in history], Noise = noise,\n",
    "                                          Prior = np.random.choice([0,1],size=len(constant_table),replace=True))\n",
    "adat_sim_previous.at[0, 'Resp'] = -1\n",
    "adat_sim_previous\n",
    "\n",
    "adat_sim_previous_flipped = constant_table.assign(Subject = \"previous_flipped\", Rel_Hist = [int(h[-1]) for h in history],\n",
    "                                                  Resp = [int(h[-1]) ^ 1 for h in history], Noise = noise,\n",
    "                                                  Prior = np.random.choice([0,1],size=len(constant_table),replace=True))\n",
    "adat_sim_previous_flipped.at[0, 'Resp'] = -1\n",
    "\n",
    "adat_sim_previous_refined = constant_table.assign(Subject = \"previous_refined\", Rel_Hist = [int(h[-1]) for h in history],\n",
    "                                                  Resp = [adat_sim_previous.at[i,'Resp'] if constant_table.at[i,'H'] == 0.01 \n",
    "                                                                                         else adat_sim_previous_flipped.at[i,'Resp'] for i in np.arange(constant_table.shape[0])], Noise = noise,\n",
    "                                                  Prior = np.random.choice([0,1],size=len(constant_table),replace=True))\n",
    "adat_sim_previous_refined\n",
    "\n",
    "# Two-back\n",
    "twoback_A_rules = {'00': '1', '10': '0'}\n",
    "twoback_A_pred_table = make_guess_with_rule(twoback_A_rules, history)\n",
    "twoback_A = constant_table.assign(Subject = \"twoback_A\", Rel_Hist = twoback_A_pred_table['rel_hist'],\n",
    "                                  Resp = twoback_A_pred_table['pred'], Noise = noise)\n",
    "twoback_A_confid = gen_confid_from_sim_strats(twoback_A)\n",
    "twoback_A_confid\n",
    "\n",
    "twoback_B_rules = {'00': '0', '10': '1'}\n",
    "twoback_B_pred_table = make_guess_with_rule(twoback_B_rules, history)\n",
    "twoback_B = constant_table.assign(Subject = \"twoback_B\", Rel_Hist = twoback_B_pred_table['rel_hist'],\n",
    "                                  Resp = twoback_B_pred_table['pred'], Noise = noise)\n",
    "twoback_B_confid = gen_confid_from_sim_strats(twoback_B)\n",
    "twoback_B_confid\n",
    "\n",
    "# Three-back\n",
    "threeback_A_rules = {'000': '0', '100': '0', '010': '0', '110': '1'}\n",
    "threeback_A_pred_table = make_guess_with_rule(threeback_A_rules, history)\n",
    "threeback_A = constant_table.assign(Subject = \"threeback_A\", Rel_Hist = threeback_A_pred_table['rel_hist'],\n",
    "                                    Resp = threeback_A_pred_table['pred'], Noise = noise)\n",
    "threeback_A_confid = gen_confid_from_sim_strats(threeback_A)\n",
    "threeback_A_confid\n",
    "\n",
    "threeback_B_rules = {'000': '0', '100': '1', '010': '1', '110': '0'}\n",
    "threeback_B_pred_table = make_guess_with_rule(threeback_B_rules, history)\n",
    "threeback_B = constant_table.assign(Subject = \"threeback_B\", Rel_Hist = threeback_B_pred_table['rel_hist'],\n",
    "                                    Resp = threeback_B_pred_table['pred'], Noise = noise)\n",
    "threeback_B_confid = gen_confid_from_sim_strats(threeback_B)\n",
    "threeback_B_confid\n",
    "\n",
    "threeback_C_rules = {'000': '0', '100': '1', '010': '1', '110': '1'}\n",
    "threeback_C_pred_table = make_guess_with_rule(threeback_C_rules, history)\n",
    "threeback_C = constant_table.assign(Subject = \"threeback_C\", Rel_Hist = threeback_C_pred_table['rel_hist'],\n",
    "                                    Resp = threeback_C_pred_table['pred'], Noise = noise)\n",
    "threeback_C_confid = gen_confid_from_sim_strats(threeback_C)\n",
    "threeback_C_confid\n",
    "\n",
    "hybrid_pred_table = make_guess_with_rulecombo(threeback_A, adat_sim_previous_flipped, constant_table['H'])\n",
    "hybrid = constant_table.assign(Subject = \"hybrid\", Rel_Hist = hybrid_pred_table['rel_hist'],\n",
    "                                    Resp = hybrid_pred_table['pred'], Noise = noise)\n",
    "\n",
    "'''\n",
    "threeback_A_confid_rules = {'000': '1', '100': '1', '010': '0', '110': '0'}\n",
    "threeback_A_confid_table = make_confid_with_rule(threeback_A_confid_rules, history)\n",
    "threeback_A_confid = constant_table.assign(Subject = [\"threeback_A_high\" if threeback_A_confid_table.at[i, 'confid'] == 1\n",
    "                                                      else \"threeback_A_low\" for i in np.arange(constant_table.shape[0])], \n",
    "                                           Rel_Hist = threeback_A_pred_table['rel_hist'],\n",
    "                                           Resp = threeback_A_pred_table['pred'], Noise = noise,\n",
    "                                           Confidence = threeback_A_confid_table['confid'])\n",
    "\n",
    "threeback_A_confid\n",
    "'''"
   ]
  },
  {
   "cell_type": "code",
   "execution_count": 26,
   "id": "broke-western",
   "metadata": {},
   "outputs": [
    {
     "data": {
      "text/plain": [
       "array(['Ideal2_Hard'], dtype=object)"
      ]
     },
     "execution_count": 26,
     "metadata": {},
     "output_type": "execute_result"
    },
    {
     "data": {
      "text/html": [
       "<div>\n",
       "<style scoped>\n",
       "    .dataframe tbody tr th:only-of-type {\n",
       "        vertical-align: middle;\n",
       "    }\n",
       "\n",
       "    .dataframe tbody tr th {\n",
       "        vertical-align: top;\n",
       "    }\n",
       "\n",
       "    .dataframe thead th {\n",
       "        text-align: right;\n",
       "    }\n",
       "</style>\n",
       "<table border=\"1\" class=\"dataframe\">\n",
       "  <thead>\n",
       "    <tr style=\"text-align: right;\">\n",
       "      <th></th>\n",
       "      <th>Subject</th>\n",
       "      <th>Trial</th>\n",
       "      <th>Jar</th>\n",
       "      <th>Bead</th>\n",
       "      <th>Prior</th>\n",
       "      <th>Posterior</th>\n",
       "      <th>Resp</th>\n",
       "      <th>Confidence</th>\n",
       "      <th>Correct</th>\n",
       "      <th>History</th>\n",
       "      <th>Response</th>\n",
       "      <th>Unnamed: 0</th>\n",
       "    </tr>\n",
       "  </thead>\n",
       "  <tbody>\n",
       "    <tr>\n",
       "      <th>0</th>\n",
       "      <td>Ideal2_Hard</td>\n",
       "      <td>1</td>\n",
       "      <td>1</td>\n",
       "      <td>1</td>\n",
       "      <td>0.500000</td>\n",
       "      <td>0.800000</td>\n",
       "      <td>1.0</td>\n",
       "      <td>0</td>\n",
       "      <td>1</td>\n",
       "      <td>0</td>\n",
       "      <td>1</td>\n",
       "      <td>1000</td>\n",
       "    </tr>\n",
       "    <tr>\n",
       "      <th>1</th>\n",
       "      <td>Ideal2_Hard</td>\n",
       "      <td>2</td>\n",
       "      <td>1</td>\n",
       "      <td>1</td>\n",
       "      <td>0.794000</td>\n",
       "      <td>0.939089</td>\n",
       "      <td>1.0</td>\n",
       "      <td>0</td>\n",
       "      <td>1</td>\n",
       "      <td>1</td>\n",
       "      <td>1</td>\n",
       "      <td>1001</td>\n",
       "    </tr>\n",
       "    <tr>\n",
       "      <th>2</th>\n",
       "      <td>Ideal2_Hard</td>\n",
       "      <td>3</td>\n",
       "      <td>1</td>\n",
       "      <td>1</td>\n",
       "      <td>0.930308</td>\n",
       "      <td>0.981616</td>\n",
       "      <td>1.0</td>\n",
       "      <td>1</td>\n",
       "      <td>1</td>\n",
       "      <td>11</td>\n",
       "      <td>1</td>\n",
       "      <td>1002</td>\n",
       "    </tr>\n",
       "    <tr>\n",
       "      <th>3</th>\n",
       "      <td>Ideal2_Hard</td>\n",
       "      <td>4</td>\n",
       "      <td>1</td>\n",
       "      <td>1</td>\n",
       "      <td>0.971984</td>\n",
       "      <td>0.992846</td>\n",
       "      <td>1.0</td>\n",
       "      <td>1</td>\n",
       "      <td>1</td>\n",
       "      <td>111</td>\n",
       "      <td>1</td>\n",
       "      <td>1003</td>\n",
       "    </tr>\n",
       "    <tr>\n",
       "      <th>4</th>\n",
       "      <td>Ideal2_Hard</td>\n",
       "      <td>5</td>\n",
       "      <td>1</td>\n",
       "      <td>1</td>\n",
       "      <td>0.982989</td>\n",
       "      <td>0.995692</td>\n",
       "      <td>1.0</td>\n",
       "      <td>1</td>\n",
       "      <td>1</td>\n",
       "      <td>1111</td>\n",
       "      <td>1</td>\n",
       "      <td>1004</td>\n",
       "    </tr>\n",
       "    <tr>\n",
       "      <th>...</th>\n",
       "      <td>...</td>\n",
       "      <td>...</td>\n",
       "      <td>...</td>\n",
       "      <td>...</td>\n",
       "      <td>...</td>\n",
       "      <td>...</td>\n",
       "      <td>...</td>\n",
       "      <td>...</td>\n",
       "      <td>...</td>\n",
       "      <td>...</td>\n",
       "      <td>...</td>\n",
       "      <td>...</td>\n",
       "    </tr>\n",
       "    <tr>\n",
       "      <th>995</th>\n",
       "      <td>Ideal2_Hard</td>\n",
       "      <td>996</td>\n",
       "      <td>1</td>\n",
       "      <td>1</td>\n",
       "      <td>0.986711</td>\n",
       "      <td>0.996644</td>\n",
       "      <td>1.0</td>\n",
       "      <td>1</td>\n",
       "      <td>1</td>\n",
       "      <td>1111111111</td>\n",
       "      <td>1</td>\n",
       "      <td>1995</td>\n",
       "    </tr>\n",
       "    <tr>\n",
       "      <th>996</th>\n",
       "      <td>Ideal2_Hard</td>\n",
       "      <td>997</td>\n",
       "      <td>1</td>\n",
       "      <td>1</td>\n",
       "      <td>0.986712</td>\n",
       "      <td>0.996644</td>\n",
       "      <td>1.0</td>\n",
       "      <td>1</td>\n",
       "      <td>1</td>\n",
       "      <td>1111111111</td>\n",
       "      <td>1</td>\n",
       "      <td>1996</td>\n",
       "    </tr>\n",
       "    <tr>\n",
       "      <th>997</th>\n",
       "      <td>Ideal2_Hard</td>\n",
       "      <td>998</td>\n",
       "      <td>1</td>\n",
       "      <td>1</td>\n",
       "      <td>0.986712</td>\n",
       "      <td>0.996644</td>\n",
       "      <td>1.0</td>\n",
       "      <td>1</td>\n",
       "      <td>1</td>\n",
       "      <td>1111111111</td>\n",
       "      <td>1</td>\n",
       "      <td>1997</td>\n",
       "    </tr>\n",
       "    <tr>\n",
       "      <th>998</th>\n",
       "      <td>Ideal2_Hard</td>\n",
       "      <td>999</td>\n",
       "      <td>1</td>\n",
       "      <td>1</td>\n",
       "      <td>0.986712</td>\n",
       "      <td>0.996644</td>\n",
       "      <td>1.0</td>\n",
       "      <td>1</td>\n",
       "      <td>1</td>\n",
       "      <td>1111111111</td>\n",
       "      <td>1</td>\n",
       "      <td>1998</td>\n",
       "    </tr>\n",
       "    <tr>\n",
       "      <th>999</th>\n",
       "      <td>Ideal2_Hard</td>\n",
       "      <td>1000</td>\n",
       "      <td>1</td>\n",
       "      <td>1</td>\n",
       "      <td>0.986712</td>\n",
       "      <td>0.996644</td>\n",
       "      <td>1.0</td>\n",
       "      <td>1</td>\n",
       "      <td>1</td>\n",
       "      <td>1111111111</td>\n",
       "      <td>1</td>\n",
       "      <td>1999</td>\n",
       "    </tr>\n",
       "  </tbody>\n",
       "</table>\n",
       "<p>1000 rows × 12 columns</p>\n",
       "</div>"
      ],
      "text/plain": [
       "         Subject  Trial  Jar  Bead     Prior  Posterior  Resp  Confidence  \\\n",
       "0    Ideal2_Hard      1    1     1  0.500000   0.800000   1.0           0   \n",
       "1    Ideal2_Hard      2    1     1  0.794000   0.939089   1.0           0   \n",
       "2    Ideal2_Hard      3    1     1  0.930308   0.981616   1.0           1   \n",
       "3    Ideal2_Hard      4    1     1  0.971984   0.992846   1.0           1   \n",
       "4    Ideal2_Hard      5    1     1  0.982989   0.995692   1.0           1   \n",
       "..           ...    ...  ...   ...       ...        ...   ...         ...   \n",
       "995  Ideal2_Hard    996    1     1  0.986711   0.996644   1.0           1   \n",
       "996  Ideal2_Hard    997    1     1  0.986712   0.996644   1.0           1   \n",
       "997  Ideal2_Hard    998    1     1  0.986712   0.996644   1.0           1   \n",
       "998  Ideal2_Hard    999    1     1  0.986712   0.996644   1.0           1   \n",
       "999  Ideal2_Hard   1000    1     1  0.986712   0.996644   1.0           1   \n",
       "\n",
       "     Correct     History  Response  Unnamed: 0  \n",
       "0          1           0         1        1000  \n",
       "1          1           1         1        1001  \n",
       "2          1          11         1        1002  \n",
       "3          1         111         1        1003  \n",
       "4          1        1111         1        1004  \n",
       "..       ...         ...       ...         ...  \n",
       "995        1  1111111111         1        1995  \n",
       "996        1  1111111111         1        1996  \n",
       "997        1  1111111111         1        1997  \n",
       "998        1  1111111111         1        1998  \n",
       "999        1  1111111111         1        1999  \n",
       "\n",
       "[1000 rows x 12 columns]"
      ]
     },
     "execution_count": 26,
     "metadata": {},
     "output_type": "execute_result"
    }
   ],
   "source": [
    "a = pd.read_csv(\"adat_trials.csv\")\n",
    "#a\n",
    "\n",
    "d1 = gen_sim_pred(\"Ideal2\",a['Bead'],a['Jar'],0.8,[0.01]*len(a))\n",
    "#d1\n",
    "\n",
    "d1['Subject'].unique()\n",
    "d1_hard = d1[d1['Subject'] == \"Ideal2_Hard\"].merge(a[a.columns.difference(d.columns)], left_index=True, right_index=True).rename(columns = {'Prediction': 'Resp'})\n",
    "d1_hard\n",
    "\n",
    "d1_hard.to_csv(\"./Urn-Confidence/Pilot/Ideal2.csv\", index = False)"
   ]
  },
  {
   "cell_type": "code",
   "execution_count": 13,
   "id": "experimental-gauge",
   "metadata": {},
   "outputs": [
    {
     "data": {
      "text/html": [
       "<div>\n",
       "<style scoped>\n",
       "    .dataframe tbody tr th:only-of-type {\n",
       "        vertical-align: middle;\n",
       "    }\n",
       "\n",
       "    .dataframe tbody tr th {\n",
       "        vertical-align: top;\n",
       "    }\n",
       "\n",
       "    .dataframe thead th {\n",
       "        text-align: right;\n",
       "    }\n",
       "</style>\n",
       "<table border=\"1\" class=\"dataframe\">\n",
       "  <thead>\n",
       "    <tr style=\"text-align: right;\">\n",
       "      <th></th>\n",
       "      <th>Subject</th>\n",
       "      <th>Trial</th>\n",
       "      <th>Jar</th>\n",
       "      <th>Bead</th>\n",
       "      <th>Prior</th>\n",
       "      <th>Posterior</th>\n",
       "      <th>Prediction</th>\n",
       "    </tr>\n",
       "  </thead>\n",
       "  <tbody>\n",
       "    <tr>\n",
       "      <th>0</th>\n",
       "      <td>Ideal_Hard</td>\n",
       "      <td>1</td>\n",
       "      <td>0</td>\n",
       "      <td>0</td>\n",
       "      <td>0.500000</td>\n",
       "      <td>0.200000</td>\n",
       "      <td>1.0</td>\n",
       "    </tr>\n",
       "    <tr>\n",
       "      <th>1</th>\n",
       "      <td>Ideal_Hard</td>\n",
       "      <td>2</td>\n",
       "      <td>0</td>\n",
       "      <td>0</td>\n",
       "      <td>0.206000</td>\n",
       "      <td>0.060911</td>\n",
       "      <td>0.0</td>\n",
       "    </tr>\n",
       "    <tr>\n",
       "      <th>2</th>\n",
       "      <td>Ideal_Hard</td>\n",
       "      <td>3</td>\n",
       "      <td>0</td>\n",
       "      <td>0</td>\n",
       "      <td>0.069692</td>\n",
       "      <td>0.018384</td>\n",
       "      <td>0.0</td>\n",
       "    </tr>\n",
       "    <tr>\n",
       "      <th>3</th>\n",
       "      <td>Ideal_Hard</td>\n",
       "      <td>4</td>\n",
       "      <td>0</td>\n",
       "      <td>0</td>\n",
       "      <td>0.028016</td>\n",
       "      <td>0.007154</td>\n",
       "      <td>0.0</td>\n",
       "    </tr>\n",
       "    <tr>\n",
       "      <th>4</th>\n",
       "      <td>Ideal_Hard</td>\n",
       "      <td>5</td>\n",
       "      <td>0</td>\n",
       "      <td>0</td>\n",
       "      <td>0.017011</td>\n",
       "      <td>0.004308</td>\n",
       "      <td>0.0</td>\n",
       "    </tr>\n",
       "    <tr>\n",
       "      <th>...</th>\n",
       "      <td>...</td>\n",
       "      <td>...</td>\n",
       "      <td>...</td>\n",
       "      <td>...</td>\n",
       "      <td>...</td>\n",
       "      <td>...</td>\n",
       "      <td>...</td>\n",
       "    </tr>\n",
       "    <tr>\n",
       "      <th>795</th>\n",
       "      <td>Ideal_Hard</td>\n",
       "      <td>796</td>\n",
       "      <td>1</td>\n",
       "      <td>1</td>\n",
       "      <td>0.986664</td>\n",
       "      <td>0.996632</td>\n",
       "      <td>1.0</td>\n",
       "    </tr>\n",
       "    <tr>\n",
       "      <th>796</th>\n",
       "      <td>Ideal_Hard</td>\n",
       "      <td>797</td>\n",
       "      <td>1</td>\n",
       "      <td>1</td>\n",
       "      <td>0.986700</td>\n",
       "      <td>0.996641</td>\n",
       "      <td>1.0</td>\n",
       "    </tr>\n",
       "    <tr>\n",
       "      <th>797</th>\n",
       "      <td>Ideal_Hard</td>\n",
       "      <td>798</td>\n",
       "      <td>1</td>\n",
       "      <td>1</td>\n",
       "      <td>0.986709</td>\n",
       "      <td>0.996644</td>\n",
       "      <td>1.0</td>\n",
       "    </tr>\n",
       "    <tr>\n",
       "      <th>798</th>\n",
       "      <td>Ideal_Hard</td>\n",
       "      <td>799</td>\n",
       "      <td>1</td>\n",
       "      <td>1</td>\n",
       "      <td>0.986711</td>\n",
       "      <td>0.996644</td>\n",
       "      <td>1.0</td>\n",
       "    </tr>\n",
       "    <tr>\n",
       "      <th>799</th>\n",
       "      <td>Ideal_Hard</td>\n",
       "      <td>800</td>\n",
       "      <td>1</td>\n",
       "      <td>1</td>\n",
       "      <td>0.986711</td>\n",
       "      <td>0.996644</td>\n",
       "      <td>1.0</td>\n",
       "    </tr>\n",
       "  </tbody>\n",
       "</table>\n",
       "<p>800 rows × 7 columns</p>\n",
       "</div>"
      ],
      "text/plain": [
       "        Subject  Trial  Jar  Bead     Prior  Posterior  Prediction\n",
       "0    Ideal_Hard      1    0     0  0.500000   0.200000         1.0\n",
       "1    Ideal_Hard      2    0     0  0.206000   0.060911         0.0\n",
       "2    Ideal_Hard      3    0     0  0.069692   0.018384         0.0\n",
       "3    Ideal_Hard      4    0     0  0.028016   0.007154         0.0\n",
       "4    Ideal_Hard      5    0     0  0.017011   0.004308         0.0\n",
       "..          ...    ...  ...   ...       ...        ...         ...\n",
       "795  Ideal_Hard    796    1     1  0.986664   0.996632         1.0\n",
       "796  Ideal_Hard    797    1     1  0.986700   0.996641         1.0\n",
       "797  Ideal_Hard    798    1     1  0.986709   0.996644         1.0\n",
       "798  Ideal_Hard    799    1     1  0.986711   0.996644         1.0\n",
       "799  Ideal_Hard    800    1     1  0.986711   0.996644         1.0\n",
       "\n",
       "[800 rows x 7 columns]"
      ]
     },
     "execution_count": 13,
     "metadata": {},
     "output_type": "execute_result"
    },
    {
     "data": {
      "text/plain": [
       "array(['Ideal_Hard'], dtype=object)"
      ]
     },
     "execution_count": 13,
     "metadata": {},
     "output_type": "execute_result"
    },
    {
     "data": {
      "text/html": [
       "<div>\n",
       "<style scoped>\n",
       "    .dataframe tbody tr th:only-of-type {\n",
       "        vertical-align: middle;\n",
       "    }\n",
       "\n",
       "    .dataframe tbody tr th {\n",
       "        vertical-align: top;\n",
       "    }\n",
       "\n",
       "    .dataframe thead th {\n",
       "        text-align: right;\n",
       "    }\n",
       "</style>\n",
       "<table border=\"1\" class=\"dataframe\">\n",
       "  <thead>\n",
       "    <tr style=\"text-align: right;\">\n",
       "      <th></th>\n",
       "      <th>Subject</th>\n",
       "      <th>Trial</th>\n",
       "      <th>Jar</th>\n",
       "      <th>Bead</th>\n",
       "      <th>Prior</th>\n",
       "      <th>Posterior</th>\n",
       "      <th>Resp</th>\n",
       "      <th>H</th>\n",
       "      <th>TSCP</th>\n",
       "      <th>TSCP2</th>\n",
       "    </tr>\n",
       "  </thead>\n",
       "  <tbody>\n",
       "    <tr>\n",
       "      <th>0</th>\n",
       "      <td>Ideal_Hard</td>\n",
       "      <td>1</td>\n",
       "      <td>0</td>\n",
       "      <td>0</td>\n",
       "      <td>0.500000</td>\n",
       "      <td>0.200000</td>\n",
       "      <td>1.0</td>\n",
       "      <td>0.01</td>\n",
       "      <td>1</td>\n",
       "      <td>0</td>\n",
       "    </tr>\n",
       "    <tr>\n",
       "      <th>1</th>\n",
       "      <td>Ideal_Hard</td>\n",
       "      <td>2</td>\n",
       "      <td>0</td>\n",
       "      <td>0</td>\n",
       "      <td>0.206000</td>\n",
       "      <td>0.060911</td>\n",
       "      <td>0.0</td>\n",
       "      <td>0.01</td>\n",
       "      <td>2</td>\n",
       "      <td>1</td>\n",
       "    </tr>\n",
       "    <tr>\n",
       "      <th>2</th>\n",
       "      <td>Ideal_Hard</td>\n",
       "      <td>3</td>\n",
       "      <td>0</td>\n",
       "      <td>0</td>\n",
       "      <td>0.069692</td>\n",
       "      <td>0.018384</td>\n",
       "      <td>0.0</td>\n",
       "      <td>0.01</td>\n",
       "      <td>3</td>\n",
       "      <td>2</td>\n",
       "    </tr>\n",
       "    <tr>\n",
       "      <th>3</th>\n",
       "      <td>Ideal_Hard</td>\n",
       "      <td>4</td>\n",
       "      <td>0</td>\n",
       "      <td>0</td>\n",
       "      <td>0.028016</td>\n",
       "      <td>0.007154</td>\n",
       "      <td>0.0</td>\n",
       "      <td>0.01</td>\n",
       "      <td>4</td>\n",
       "      <td>3-4</td>\n",
       "    </tr>\n",
       "    <tr>\n",
       "      <th>4</th>\n",
       "      <td>Ideal_Hard</td>\n",
       "      <td>5</td>\n",
       "      <td>0</td>\n",
       "      <td>0</td>\n",
       "      <td>0.017011</td>\n",
       "      <td>0.004308</td>\n",
       "      <td>0.0</td>\n",
       "      <td>0.01</td>\n",
       "      <td>5</td>\n",
       "      <td>3-4</td>\n",
       "    </tr>\n",
       "    <tr>\n",
       "      <th>...</th>\n",
       "      <td>...</td>\n",
       "      <td>...</td>\n",
       "      <td>...</td>\n",
       "      <td>...</td>\n",
       "      <td>...</td>\n",
       "      <td>...</td>\n",
       "      <td>...</td>\n",
       "      <td>...</td>\n",
       "      <td>...</td>\n",
       "      <td>...</td>\n",
       "    </tr>\n",
       "    <tr>\n",
       "      <th>795</th>\n",
       "      <td>Ideal_Hard</td>\n",
       "      <td>796</td>\n",
       "      <td>1</td>\n",
       "      <td>1</td>\n",
       "      <td>0.986664</td>\n",
       "      <td>0.996632</td>\n",
       "      <td>1.0</td>\n",
       "      <td>0.01</td>\n",
       "      <td>31</td>\n",
       "      <td>8+</td>\n",
       "    </tr>\n",
       "    <tr>\n",
       "      <th>796</th>\n",
       "      <td>Ideal_Hard</td>\n",
       "      <td>797</td>\n",
       "      <td>1</td>\n",
       "      <td>1</td>\n",
       "      <td>0.986700</td>\n",
       "      <td>0.996641</td>\n",
       "      <td>1.0</td>\n",
       "      <td>0.01</td>\n",
       "      <td>32</td>\n",
       "      <td>8+</td>\n",
       "    </tr>\n",
       "    <tr>\n",
       "      <th>797</th>\n",
       "      <td>Ideal_Hard</td>\n",
       "      <td>798</td>\n",
       "      <td>1</td>\n",
       "      <td>1</td>\n",
       "      <td>0.986709</td>\n",
       "      <td>0.996644</td>\n",
       "      <td>1.0</td>\n",
       "      <td>0.01</td>\n",
       "      <td>33</td>\n",
       "      <td>8+</td>\n",
       "    </tr>\n",
       "    <tr>\n",
       "      <th>798</th>\n",
       "      <td>Ideal_Hard</td>\n",
       "      <td>799</td>\n",
       "      <td>1</td>\n",
       "      <td>1</td>\n",
       "      <td>0.986711</td>\n",
       "      <td>0.996644</td>\n",
       "      <td>1.0</td>\n",
       "      <td>0.01</td>\n",
       "      <td>34</td>\n",
       "      <td>8+</td>\n",
       "    </tr>\n",
       "    <tr>\n",
       "      <th>799</th>\n",
       "      <td>Ideal_Hard</td>\n",
       "      <td>800</td>\n",
       "      <td>1</td>\n",
       "      <td>1</td>\n",
       "      <td>0.986711</td>\n",
       "      <td>0.996644</td>\n",
       "      <td>1.0</td>\n",
       "      <td>0.01</td>\n",
       "      <td>35</td>\n",
       "      <td>8+</td>\n",
       "    </tr>\n",
       "  </tbody>\n",
       "</table>\n",
       "<p>800 rows × 10 columns</p>\n",
       "</div>"
      ],
      "text/plain": [
       "        Subject  Trial  Jar  Bead     Prior  Posterior  Resp     H  TSCP TSCP2\n",
       "0    Ideal_Hard      1    0     0  0.500000   0.200000   1.0  0.01     1     0\n",
       "1    Ideal_Hard      2    0     0  0.206000   0.060911   0.0  0.01     2     1\n",
       "2    Ideal_Hard      3    0     0  0.069692   0.018384   0.0  0.01     3     2\n",
       "3    Ideal_Hard      4    0     0  0.028016   0.007154   0.0  0.01     4   3-4\n",
       "4    Ideal_Hard      5    0     0  0.017011   0.004308   0.0  0.01     5   3-4\n",
       "..          ...    ...  ...   ...       ...        ...   ...   ...   ...   ...\n",
       "795  Ideal_Hard    796    1     1  0.986664   0.996632   1.0  0.01    31    8+\n",
       "796  Ideal_Hard    797    1     1  0.986700   0.996641   1.0  0.01    32    8+\n",
       "797  Ideal_Hard    798    1     1  0.986709   0.996644   1.0  0.01    33    8+\n",
       "798  Ideal_Hard    799    1     1  0.986711   0.996644   1.0  0.01    34    8+\n",
       "799  Ideal_Hard    800    1     1  0.986711   0.996644   1.0  0.01    35    8+\n",
       "\n",
       "[800 rows x 10 columns]"
      ]
     },
     "execution_count": 13,
     "metadata": {},
     "output_type": "execute_result"
    }
   ],
   "source": [
    "d = gen_sim_pred(\"Ideal\",constant_table['Bead'],constant_table['Jar'],0.8,np.array(constant_table['H']))\n",
    "d\n",
    "\n",
    "d['Subject'].unique()\n",
    "d_hard = d[d['Subject'] == \"Ideal_Hard\"].merge(constant_table[constant_table.columns.difference(d.columns)], left_index=True, right_index=True).rename(columns = {'Prediction': 'Resp'})\n",
    "d_hard"
   ]
  },
  {
   "cell_type": "code",
   "execution_count": 20,
   "id": "young-clinton",
   "metadata": {},
   "outputs": [
    {
     "data": {
      "text/plain": [
       "(array([  6.,   7.,   2.,   9.,   4.,  31.,   7.,  23.,  74., 637.]),\n",
       " array([0.        , 0.04867116, 0.09734231, 0.14601347, 0.19468462,\n",
       "        0.24335578, 0.29202693, 0.34069809, 0.38936925, 0.4380404 ,\n",
       "        0.48671156]),\n",
       " <BarContainer object of 10 artists>)"
      ]
     },
     "execution_count": 20,
     "metadata": {},
     "output_type": "execute_result"
    },
    {
     "data": {
      "text/plain": [
       "0.44752737956226096"
      ]
     },
     "execution_count": 20,
     "metadata": {},
     "output_type": "execute_result"
    },
    {
     "data": {
      "image/png": "[encoded data removed]",
      "text/plain": [
       "<Figure size 432x288 with 1 Axes>"
      ]
     },
     "metadata": {
      "needs_background": "light"
     },
     "output_type": "display_data"
    }
   ],
   "source": [
    "plt.hist(abs(0.5-d_hard['Prior']))\n",
    "abs(0.5-d_hard['Prior']).mean()"
   ]
  },
  {
   "cell_type": "code",
   "execution_count": 14,
   "id": "owned-houston",
   "metadata": {},
   "outputs": [
    {
     "data": {
      "text/plain": [
       "(array([314.,  11.,  14.,   4.,  10.,   3.,   7.,  21.,  19., 397.]),\n",
       " array([0.01328845, 0.11063076, 0.20797307, 0.30531538, 0.40265769,\n",
       "        0.5       , 0.59734232, 0.69468463, 0.79202694, 0.88936925,\n",
       "        0.98671156]),\n",
       " <BarContainer object of 10 artists>)"
      ]
     },
     "execution_count": 14,
     "metadata": {},
     "output_type": "execute_result"
    },
    {
     "data": {
      "image/png": "[encoded data removed]",
      "text/plain": [
       "<Figure size 432x288 with 1 Axes>"
      ]
     },
     "metadata": {
      "needs_background": "light"
     },
     "output_type": "display_data"
    }
   ],
   "source": [
    "plt.hist(d_hard['Prior'])"
   ]
  },
  {
   "cell_type": "code",
   "execution_count": 15,
   "id": "stupid-payment",
   "metadata": {},
   "outputs": [],
   "source": [
    "adat_sim = pd.concat([adat_sim_all0.reindex(columns = threeback_A_confid.columns), \n",
    "                      adat_sim_previous, \n",
    "                      adat_sim_previous_flipped, \n",
    "                      adat_sim_previous_refined,\n",
    "                      twoback_A_confid,\n",
    "                      twoback_B_confid,\n",
    "                      threeback_A_confid,\n",
    "                      threeback_B_confid,\n",
    "                      threeback_C_confid])#,\n",
    "                      #hybrid])\n",
    "adat_sim = adat_sim[adat_sim['Resp'] != -1]\n",
    "#adat_sim['Resp'] = np.where(adat_sim['Resp']*1.0 == adat_sim['Noise'],1,0)\n",
    "adat_sim = pd.concat([adat_sim, d_hard])\n",
    "\n",
    "adat_sim['Correct'] = 1*(adat_sim['Jar'] == adat_sim['Resp'])\n",
    "adat_sim['Confid'] = [1 if i > 0.9 or i < 0.1 else 0 for i in adat_sim['Prior']]"
   ]
  },
  {
   "cell_type": "code",
   "execution_count": 18,
   "id": "dangerous-nutrition",
   "metadata": {},
   "outputs": [
    {
     "data": {
      "text/html": [
       "<div>\n",
       "<style scoped>\n",
       "    .dataframe tbody tr th:only-of-type {\n",
       "        vertical-align: middle;\n",
       "    }\n",
       "\n",
       "    .dataframe tbody tr th {\n",
       "        vertical-align: top;\n",
       "    }\n",
       "\n",
       "    .dataframe thead th {\n",
       "        text-align: right;\n",
       "    }\n",
       "</style>\n",
       "<table border=\"1\" class=\"dataframe\">\n",
       "  <thead>\n",
       "    <tr style=\"text-align: right;\">\n",
       "      <th></th>\n",
       "      <th>Subject</th>\n",
       "      <th>Trial</th>\n",
       "      <th>H</th>\n",
       "      <th>Jar</th>\n",
       "      <th>Bead</th>\n",
       "      <th>Rel_Hist</th>\n",
       "      <th>Prior</th>\n",
       "      <th>Noise</th>\n",
       "      <th>Resp</th>\n",
       "      <th>TSCP</th>\n",
       "      <th>TSCP2</th>\n",
       "      <th>Posterior</th>\n",
       "      <th>Correct</th>\n",
       "      <th>Confid</th>\n",
       "    </tr>\n",
       "  </thead>\n",
       "  <tbody>\n",
       "    <tr>\n",
       "      <th>0</th>\n",
       "      <td>all_0</td>\n",
       "      <td>1</td>\n",
       "      <td>0.01</td>\n",
       "      <td>0</td>\n",
       "      <td>0</td>\n",
       "      <td></td>\n",
       "      <td>0.000000</td>\n",
       "      <td>1.0</td>\n",
       "      <td>0.0</td>\n",
       "      <td>1</td>\n",
       "      <td>0</td>\n",
       "      <td>NaN</td>\n",
       "      <td>1</td>\n",
       "      <td>1</td>\n",
       "    </tr>\n",
       "    <tr>\n",
       "      <th>1</th>\n",
       "      <td>all_0</td>\n",
       "      <td>2</td>\n",
       "      <td>0.01</td>\n",
       "      <td>0</td>\n",
       "      <td>0</td>\n",
       "      <td></td>\n",
       "      <td>1.000000</td>\n",
       "      <td>1.0</td>\n",
       "      <td>0.0</td>\n",
       "      <td>2</td>\n",
       "      <td>1</td>\n",
       "      <td>NaN</td>\n",
       "      <td>1</td>\n",
       "      <td>1</td>\n",
       "    </tr>\n",
       "    <tr>\n",
       "      <th>2</th>\n",
       "      <td>all_0</td>\n",
       "      <td>3</td>\n",
       "      <td>0.01</td>\n",
       "      <td>0</td>\n",
       "      <td>0</td>\n",
       "      <td></td>\n",
       "      <td>1.000000</td>\n",
       "      <td>1.0</td>\n",
       "      <td>0.0</td>\n",
       "      <td>3</td>\n",
       "      <td>2</td>\n",
       "      <td>NaN</td>\n",
       "      <td>1</td>\n",
       "      <td>1</td>\n",
       "    </tr>\n",
       "    <tr>\n",
       "      <th>3</th>\n",
       "      <td>all_0</td>\n",
       "      <td>4</td>\n",
       "      <td>0.01</td>\n",
       "      <td>0</td>\n",
       "      <td>0</td>\n",
       "      <td></td>\n",
       "      <td>0.000000</td>\n",
       "      <td>1.0</td>\n",
       "      <td>0.0</td>\n",
       "      <td>4</td>\n",
       "      <td>3-4</td>\n",
       "      <td>NaN</td>\n",
       "      <td>1</td>\n",
       "      <td>1</td>\n",
       "    </tr>\n",
       "    <tr>\n",
       "      <th>4</th>\n",
       "      <td>all_0</td>\n",
       "      <td>5</td>\n",
       "      <td>0.01</td>\n",
       "      <td>0</td>\n",
       "      <td>0</td>\n",
       "      <td></td>\n",
       "      <td>0.000000</td>\n",
       "      <td>1.0</td>\n",
       "      <td>0.0</td>\n",
       "      <td>5</td>\n",
       "      <td>3-4</td>\n",
       "      <td>NaN</td>\n",
       "      <td>1</td>\n",
       "      <td>1</td>\n",
       "    </tr>\n",
       "    <tr>\n",
       "      <th>...</th>\n",
       "      <td>...</td>\n",
       "      <td>...</td>\n",
       "      <td>...</td>\n",
       "      <td>...</td>\n",
       "      <td>...</td>\n",
       "      <td>...</td>\n",
       "      <td>...</td>\n",
       "      <td>...</td>\n",
       "      <td>...</td>\n",
       "      <td>...</td>\n",
       "      <td>...</td>\n",
       "      <td>...</td>\n",
       "      <td>...</td>\n",
       "      <td>...</td>\n",
       "    </tr>\n",
       "    <tr>\n",
       "      <th>795</th>\n",
       "      <td>Ideal_Hard</td>\n",
       "      <td>796</td>\n",
       "      <td>0.01</td>\n",
       "      <td>1</td>\n",
       "      <td>1</td>\n",
       "      <td>NaN</td>\n",
       "      <td>0.986664</td>\n",
       "      <td>NaN</td>\n",
       "      <td>1.0</td>\n",
       "      <td>31</td>\n",
       "      <td>8+</td>\n",
       "      <td>0.996632</td>\n",
       "      <td>1</td>\n",
       "      <td>1</td>\n",
       "    </tr>\n",
       "    <tr>\n",
       "      <th>796</th>\n",
       "      <td>Ideal_Hard</td>\n",
       "      <td>797</td>\n",
       "      <td>0.01</td>\n",
       "      <td>1</td>\n",
       "      <td>1</td>\n",
       "      <td>NaN</td>\n",
       "      <td>0.986700</td>\n",
       "      <td>NaN</td>\n",
       "      <td>1.0</td>\n",
       "      <td>32</td>\n",
       "      <td>8+</td>\n",
       "      <td>0.996641</td>\n",
       "      <td>1</td>\n",
       "      <td>1</td>\n",
       "    </tr>\n",
       "    <tr>\n",
       "      <th>797</th>\n",
       "      <td>Ideal_Hard</td>\n",
       "      <td>798</td>\n",
       "      <td>0.01</td>\n",
       "      <td>1</td>\n",
       "      <td>1</td>\n",
       "      <td>NaN</td>\n",
       "      <td>0.986709</td>\n",
       "      <td>NaN</td>\n",
       "      <td>1.0</td>\n",
       "      <td>33</td>\n",
       "      <td>8+</td>\n",
       "      <td>0.996644</td>\n",
       "      <td>1</td>\n",
       "      <td>1</td>\n",
       "    </tr>\n",
       "    <tr>\n",
       "      <th>798</th>\n",
       "      <td>Ideal_Hard</td>\n",
       "      <td>799</td>\n",
       "      <td>0.01</td>\n",
       "      <td>1</td>\n",
       "      <td>1</td>\n",
       "      <td>NaN</td>\n",
       "      <td>0.986711</td>\n",
       "      <td>NaN</td>\n",
       "      <td>1.0</td>\n",
       "      <td>34</td>\n",
       "      <td>8+</td>\n",
       "      <td>0.996644</td>\n",
       "      <td>1</td>\n",
       "      <td>1</td>\n",
       "    </tr>\n",
       "    <tr>\n",
       "      <th>799</th>\n",
       "      <td>Ideal_Hard</td>\n",
       "      <td>800</td>\n",
       "      <td>0.01</td>\n",
       "      <td>1</td>\n",
       "      <td>1</td>\n",
       "      <td>NaN</td>\n",
       "      <td>0.986711</td>\n",
       "      <td>NaN</td>\n",
       "      <td>1.0</td>\n",
       "      <td>35</td>\n",
       "      <td>8+</td>\n",
       "      <td>0.996644</td>\n",
       "      <td>1</td>\n",
       "      <td>1</td>\n",
       "    </tr>\n",
       "  </tbody>\n",
       "</table>\n",
       "<p>7984 rows × 14 columns</p>\n",
       "</div>"
      ],
      "text/plain": [
       "        Subject  Trial     H  Jar  Bead Rel_Hist     Prior  Noise  Resp  TSCP  \\\n",
       "0         all_0      1  0.01    0     0           0.000000    1.0   0.0     1   \n",
       "1         all_0      2  0.01    0     0           1.000000    1.0   0.0     2   \n",
       "2         all_0      3  0.01    0     0           1.000000    1.0   0.0     3   \n",
       "3         all_0      4  0.01    0     0           0.000000    1.0   0.0     4   \n",
       "4         all_0      5  0.01    0     0           0.000000    1.0   0.0     5   \n",
       "..          ...    ...   ...  ...   ...      ...       ...    ...   ...   ...   \n",
       "795  Ideal_Hard    796  0.01    1     1      NaN  0.986664    NaN   1.0    31   \n",
       "796  Ideal_Hard    797  0.01    1     1      NaN  0.986700    NaN   1.0    32   \n",
       "797  Ideal_Hard    798  0.01    1     1      NaN  0.986709    NaN   1.0    33   \n",
       "798  Ideal_Hard    799  0.01    1     1      NaN  0.986711    NaN   1.0    34   \n",
       "799  Ideal_Hard    800  0.01    1     1      NaN  0.986711    NaN   1.0    35   \n",
       "\n",
       "    TSCP2  Posterior  Correct  Confid  \n",
       "0       0        NaN        1       1  \n",
       "1       1        NaN        1       1  \n",
       "2       2        NaN        1       1  \n",
       "3     3-4        NaN        1       1  \n",
       "4     3-4        NaN        1       1  \n",
       "..    ...        ...      ...     ...  \n",
       "795    8+   0.996632        1       1  \n",
       "796    8+   0.996641        1       1  \n",
       "797    8+   0.996644        1       1  \n",
       "798    8+   0.996644        1       1  \n",
       "799    8+   0.996644        1       1  \n",
       "\n",
       "[7984 rows x 14 columns]"
      ]
     },
     "execution_count": 18,
     "metadata": {},
     "output_type": "execute_result"
    }
   ],
   "source": [
    "adat_sim\n",
    "adat_sim.to_csv(\"./Urn-Confidence/Pilot/adat_sim.csv\", index = False)"
   ]
  },
  {
   "cell_type": "markdown",
   "id": "three-hawaii",
   "metadata": {},
   "source": [
    "We can check the accuracies, defined as whether the response matched the underlying jar, in the low and high hazard conditions as well as overall. Note that the directions for the participant are to guess the color of the next bead, not the jar the next bead will come from, but this definition of accuracy decreases the noise and should be almost equivalent."
   ]
  },
  {
   "cell_type": "code",
   "execution_count": 340,
   "id": "skilled-tucson",
   "metadata": {},
   "outputs": [
    {
     "data": {
      "text/html": [
       "<div>\n",
       "<style scoped>\n",
       "    .dataframe tbody tr th:only-of-type {\n",
       "        vertical-align: middle;\n",
       "    }\n",
       "\n",
       "    .dataframe tbody tr th {\n",
       "        vertical-align: top;\n",
       "    }\n",
       "\n",
       "    .dataframe thead th {\n",
       "        text-align: right;\n",
       "    }\n",
       "</style>\n",
       "<table border=\"1\" class=\"dataframe\">\n",
       "  <thead>\n",
       "    <tr style=\"text-align: right;\">\n",
       "      <th></th>\n",
       "      <th>Subject</th>\n",
       "      <th>Confid</th>\n",
       "      <th>Correct</th>\n",
       "    </tr>\n",
       "  </thead>\n",
       "  <tbody>\n",
       "    <tr>\n",
       "      <th>0</th>\n",
       "      <td>Ideal_Hard</td>\n",
       "      <td>0</td>\n",
       "      <td>0.823529</td>\n",
       "    </tr>\n",
       "    <tr>\n",
       "      <th>1</th>\n",
       "      <td>Ideal_Hard</td>\n",
       "      <td>1</td>\n",
       "      <td>0.978510</td>\n",
       "    </tr>\n",
       "    <tr>\n",
       "      <th>2</th>\n",
       "      <td>all_0</td>\n",
       "      <td>1</td>\n",
       "      <td>0.437500</td>\n",
       "    </tr>\n",
       "    <tr>\n",
       "      <th>3</th>\n",
       "      <td>previous</td>\n",
       "      <td>1</td>\n",
       "      <td>0.794743</td>\n",
       "    </tr>\n",
       "    <tr>\n",
       "      <th>4</th>\n",
       "      <td>previous_flipped</td>\n",
       "      <td>1</td>\n",
       "      <td>0.205257</td>\n",
       "    </tr>\n",
       "    <tr>\n",
       "      <th>5</th>\n",
       "      <td>previous_refined</td>\n",
       "      <td>1</td>\n",
       "      <td>0.794743</td>\n",
       "    </tr>\n",
       "    <tr>\n",
       "      <th>6</th>\n",
       "      <td>threeback_A</td>\n",
       "      <td>0</td>\n",
       "      <td>0.782278</td>\n",
       "    </tr>\n",
       "    <tr>\n",
       "      <th>7</th>\n",
       "      <td>threeback_A</td>\n",
       "      <td>1</td>\n",
       "      <td>0.975124</td>\n",
       "    </tr>\n",
       "    <tr>\n",
       "      <th>8</th>\n",
       "      <td>threeback_B</td>\n",
       "      <td>0</td>\n",
       "      <td>0.217722</td>\n",
       "    </tr>\n",
       "    <tr>\n",
       "      <th>9</th>\n",
       "      <td>threeback_B</td>\n",
       "      <td>1</td>\n",
       "      <td>0.975124</td>\n",
       "    </tr>\n",
       "    <tr>\n",
       "      <th>10</th>\n",
       "      <td>threeback_C</td>\n",
       "      <td>0</td>\n",
       "      <td>0.389873</td>\n",
       "    </tr>\n",
       "    <tr>\n",
       "      <th>11</th>\n",
       "      <td>threeback_C</td>\n",
       "      <td>1</td>\n",
       "      <td>0.975124</td>\n",
       "    </tr>\n",
       "    <tr>\n",
       "      <th>12</th>\n",
       "      <td>twoback_A</td>\n",
       "      <td>0</td>\n",
       "      <td>0.513208</td>\n",
       "    </tr>\n",
       "    <tr>\n",
       "      <th>13</th>\n",
       "      <td>twoback_A</td>\n",
       "      <td>1</td>\n",
       "      <td>0.065666</td>\n",
       "    </tr>\n",
       "    <tr>\n",
       "      <th>14</th>\n",
       "      <td>twoback_B</td>\n",
       "      <td>0</td>\n",
       "      <td>0.486792</td>\n",
       "    </tr>\n",
       "    <tr>\n",
       "      <th>15</th>\n",
       "      <td>twoback_B</td>\n",
       "      <td>1</td>\n",
       "      <td>0.934334</td>\n",
       "    </tr>\n",
       "  </tbody>\n",
       "</table>\n",
       "</div>"
      ],
      "text/plain": [
       "             Subject  Confid   Correct\n",
       "0         Ideal_Hard       0  0.823529\n",
       "1         Ideal_Hard       1  0.978510\n",
       "2              all_0       1  0.437500\n",
       "3           previous       1  0.794743\n",
       "4   previous_flipped       1  0.205257\n",
       "5   previous_refined       1  0.794743\n",
       "6        threeback_A       0  0.782278\n",
       "7        threeback_A       1  0.975124\n",
       "8        threeback_B       0  0.217722\n",
       "9        threeback_B       1  0.975124\n",
       "10       threeback_C       0  0.389873\n",
       "11       threeback_C       1  0.975124\n",
       "12         twoback_A       0  0.513208\n",
       "13         twoback_A       1  0.065666\n",
       "14         twoback_B       0  0.486792\n",
       "15         twoback_B       1  0.934334"
      ]
     },
     "execution_count": 340,
     "metadata": {},
     "output_type": "execute_result"
    },
    {
     "data": {
      "text/html": [
       "<div>\n",
       "<style scoped>\n",
       "    .dataframe tbody tr th:only-of-type {\n",
       "        vertical-align: middle;\n",
       "    }\n",
       "\n",
       "    .dataframe tbody tr th {\n",
       "        vertical-align: top;\n",
       "    }\n",
       "\n",
       "    .dataframe thead th {\n",
       "        text-align: right;\n",
       "    }\n",
       "</style>\n",
       "<table border=\"1\" class=\"dataframe\">\n",
       "  <thead>\n",
       "    <tr style=\"text-align: right;\">\n",
       "      <th></th>\n",
       "      <th>Subject</th>\n",
       "      <th>Correct</th>\n",
       "    </tr>\n",
       "  </thead>\n",
       "  <tbody>\n",
       "    <tr>\n",
       "      <th>0</th>\n",
       "      <td>Ideal_Hard</td>\n",
       "      <td>0.958750</td>\n",
       "    </tr>\n",
       "    <tr>\n",
       "      <th>1</th>\n",
       "      <td>all_0</td>\n",
       "      <td>0.437500</td>\n",
       "    </tr>\n",
       "    <tr>\n",
       "      <th>2</th>\n",
       "      <td>previous</td>\n",
       "      <td>0.794743</td>\n",
       "    </tr>\n",
       "    <tr>\n",
       "      <th>3</th>\n",
       "      <td>previous_flipped</td>\n",
       "      <td>0.205257</td>\n",
       "    </tr>\n",
       "    <tr>\n",
       "      <th>4</th>\n",
       "      <td>previous_refined</td>\n",
       "      <td>0.794743</td>\n",
       "    </tr>\n",
       "    <tr>\n",
       "      <th>5</th>\n",
       "      <td>threeback_A</td>\n",
       "      <td>0.879548</td>\n",
       "    </tr>\n",
       "    <tr>\n",
       "      <th>6</th>\n",
       "      <td>threeback_B</td>\n",
       "      <td>0.599749</td>\n",
       "    </tr>\n",
       "    <tr>\n",
       "      <th>7</th>\n",
       "      <td>threeback_C</td>\n",
       "      <td>0.685069</td>\n",
       "    </tr>\n",
       "    <tr>\n",
       "      <th>8</th>\n",
       "      <td>twoback_A</td>\n",
       "      <td>0.214286</td>\n",
       "    </tr>\n",
       "    <tr>\n",
       "      <th>9</th>\n",
       "      <td>twoback_B</td>\n",
       "      <td>0.785714</td>\n",
       "    </tr>\n",
       "  </tbody>\n",
       "</table>\n",
       "</div>"
      ],
      "text/plain": [
       "            Subject   Correct\n",
       "0        Ideal_Hard  0.958750\n",
       "1             all_0  0.437500\n",
       "2          previous  0.794743\n",
       "3  previous_flipped  0.205257\n",
       "4  previous_refined  0.794743\n",
       "5       threeback_A  0.879548\n",
       "6       threeback_B  0.599749\n",
       "7       threeback_C  0.685069\n",
       "8         twoback_A  0.214286\n",
       "9         twoback_B  0.785714"
      ]
     },
     "execution_count": 340,
     "metadata": {},
     "output_type": "execute_result"
    }
   ],
   "source": [
    "# Get mean correct responses per subject\n",
    "adat_corr_sim_p = adat_sim[['Subject','Confid','Correct']].groupby(['Subject','Confid'],as_index=False).mean()\n",
    "adat_corr_sim_p\n",
    "\n",
    "adat_sim[['Subject','Correct']].groupby(['Subject'],as_index=False).mean()"
   ]
  },
  {
   "cell_type": "code",
   "execution_count": 341,
   "id": "funky-operation",
   "metadata": {},
   "outputs": [
    {
     "name": "stdout",
     "output_type": "stream",
     "text": [
      "[0.01]\n"
     ]
    }
   ],
   "source": [
    "# Get responses since last source switch\n",
    "adat_tscp_sim_p = adat_sim[['Subject','H','TSCP2','Correct']].groupby(['Subject','H','TSCP2'],as_index=False).mean()\n",
    "print(adat_tscp_sim_p['H'].unique())"
   ]
  },
  {
   "cell_type": "code",
   "execution_count": 342,
   "id": "spectacular-worse",
   "metadata": {},
   "outputs": [
    {
     "data": {
      "text/plain": [
       "<Figure size 1080x432 with 0 Axes>"
      ]
     },
     "execution_count": 342,
     "metadata": {},
     "output_type": "execute_result"
    },
    {
     "data": {
      "text/plain": [
       "<AxesSubplot:>"
      ]
     },
     "execution_count": 342,
     "metadata": {},
     "output_type": "execute_result"
    },
    {
     "data": {
      "text/plain": [
       "[<matplotlib.lines.Line2D at 0x7ff5bc21b390>]"
      ]
     },
     "execution_count": 342,
     "metadata": {},
     "output_type": "execute_result"
    },
    {
     "data": {
      "text/plain": [
       "<AxesSubplot:xlabel='Confid', ylabel='Correct'>"
      ]
     },
     "execution_count": 342,
     "metadata": {},
     "output_type": "execute_result"
    },
    {
     "data": {
      "text/plain": [
       "<AxesSubplot:xlabel='Confid', ylabel='Correct'>"
      ]
     },
     "execution_count": 342,
     "metadata": {},
     "output_type": "execute_result"
    },
    {
     "data": {
      "text/plain": [
       "<AxesSubplot:xlabel='Confid', ylabel='Correct'>"
      ]
     },
     "execution_count": 342,
     "metadata": {},
     "output_type": "execute_result"
    },
    {
     "data": {
      "text/plain": [
       "(-0.05, 1.05)"
      ]
     },
     "execution_count": 342,
     "metadata": {},
     "output_type": "execute_result"
    },
    {
     "data": {
      "text/plain": [
       "(-0.5, 1.5)"
      ]
     },
     "execution_count": 342,
     "metadata": {},
     "output_type": "execute_result"
    },
    {
     "data": {
      "text/plain": [
       "Text(0, 0.5, 'Mean Correct Predictions')"
      ]
     },
     "execution_count": 342,
     "metadata": {},
     "output_type": "execute_result"
    },
    {
     "data": {
      "text/plain": [
       "Text(0.5, 0, 'Hazard Rate')"
      ]
     },
     "execution_count": 342,
     "metadata": {},
     "output_type": "execute_result"
    },
    {
     "data": {
      "text/plain": [
       "<AxesSubplot:>"
      ]
     },
     "execution_count": 342,
     "metadata": {},
     "output_type": "execute_result"
    },
    {
     "data": {
      "text/plain": [
       "<AxesSubplot:xlabel='Correct', ylabel='Subject'>"
      ]
     },
     "execution_count": 342,
     "metadata": {},
     "output_type": "execute_result"
    },
    {
     "data": {
      "text/plain": [
       "Text(0.5, 0, 'Accuracy')"
      ]
     },
     "execution_count": 342,
     "metadata": {},
     "output_type": "execute_result"
    },
    {
     "data": {
      "text/plain": [
       "Text(0, 0.5, 'Subject')"
      ]
     },
     "execution_count": 342,
     "metadata": {},
     "output_type": "execute_result"
    },
    {
     "data": {
      "image/png": "[encoded data removed]",
      "text/plain": [
       "<Figure size 1080x432 with 2 Axes>"
      ]
     },
     "metadata": {
      "needs_background": "light"
     },
     "output_type": "display_data"
    }
   ],
   "source": [
    "# Plot behavior\n",
    "plt.figure(1,(15,6))\n",
    "# Plot boxplots of proportion correct\n",
    "plt.subplot(1,2,1)\n",
    "plt.plot([-1,3],[.5,.5],'--k')\n",
    "sns.boxplot(x = 'Confid',y='Correct',data=adat_corr_sim_p,dodge=True,fliersize=0,width=.5,color='white')\n",
    "sns.boxplot(x = 'Confid',y='Correct',data=adat_corr_sim_p,dodge=True,fliersize=0,width=.5,boxprops=dict(alpha=.3))\n",
    "sns.stripplot(x = 'Confid',y='Correct',data=adat_corr_sim_p,linewidth=1)\n",
    "plt.ylim([-.05,1.05])\n",
    "plt.xlim([-.5,1.5])\n",
    "plt.ylabel('Mean Correct Predictions',size=15)\n",
    "plt.xlabel('Confidence',size=15)\n",
    "\n",
    "# Plot proportion correct since last source switch\n",
    "plt.subplot(1,2,2)\n",
    "sns.barplot(y=\"Subject\", x=\"Correct\", hue=\"Confid\", data=adat_corr_sim_p)\n",
    "#plt.ylim([0,1])\n",
    "plt.xlabel('Accuracy',size=15)\n",
    "plt.ylabel('Subject',size=15)\n",
    "plt.tight_layout()"
   ]
  },
  {
   "cell_type": "code",
   "execution_count": 335,
   "id": "wooden-router",
   "metadata": {},
   "outputs": [
    {
     "data": {
      "text/plain": [
       "<Figure size 1080x360 with 0 Axes>"
      ]
     },
     "execution_count": 335,
     "metadata": {},
     "output_type": "execute_result"
    },
    {
     "data": {
      "text/plain": [
       "<AxesSubplot:>"
      ]
     },
     "execution_count": 335,
     "metadata": {},
     "output_type": "execute_result"
    },
    {
     "data": {
      "text/plain": [
       "[<matplotlib.lines.Line2D at 0x7ff5bbf15410>]"
      ]
     },
     "execution_count": 335,
     "metadata": {},
     "output_type": "execute_result"
    },
    {
     "data": {
      "text/plain": [
       "Text(0, 0.5, 'Subject $I_{past}$')"
      ]
     },
     "execution_count": 335,
     "metadata": {},
     "output_type": "execute_result"
    },
    {
     "data": {
      "text/plain": [
       "Text(0.5, 0, 'Window size of $X$ into the past')"
      ]
     },
     "execution_count": 335,
     "metadata": {},
     "output_type": "execute_result"
    },
    {
     "data": {
      "text/plain": [
       "Text(0.5, 1.0, 'Low Confidence')"
      ]
     },
     "execution_count": 335,
     "metadata": {},
     "output_type": "execute_result"
    },
    {
     "data": {
      "text/plain": [
       "(0.0, 1.0)"
      ]
     },
     "execution_count": 335,
     "metadata": {},
     "output_type": "execute_result"
    },
    {
     "data": {
      "text/plain": [
       "<matplotlib.legend.Legend at 0x7ff5bb955110>"
      ]
     },
     "execution_count": 335,
     "metadata": {},
     "output_type": "execute_result"
    },
    {
     "data": {
      "text/plain": [
       "[<matplotlib.lines.Line2D at 0x7ff5bbd6db90>]"
      ]
     },
     "execution_count": 335,
     "metadata": {},
     "output_type": "execute_result"
    },
    {
     "data": {
      "text/plain": [
       "Text(0, 0.5, 'Subject $I_{past}$')"
      ]
     },
     "execution_count": 335,
     "metadata": {},
     "output_type": "execute_result"
    },
    {
     "data": {
      "text/plain": [
       "Text(0.5, 0, 'Window size of $X$ into the past')"
      ]
     },
     "execution_count": 335,
     "metadata": {},
     "output_type": "execute_result"
    },
    {
     "data": {
      "text/plain": [
       "Text(0.5, 1.0, 'Low Confidence')"
      ]
     },
     "execution_count": 335,
     "metadata": {},
     "output_type": "execute_result"
    },
    {
     "data": {
      "text/plain": [
       "(0.0, 1.0)"
      ]
     },
     "execution_count": 335,
     "metadata": {},
     "output_type": "execute_result"
    },
    {
     "data": {
      "text/plain": [
       "<matplotlib.legend.Legend at 0x7ff5bbcdbad0>"
      ]
     },
     "execution_count": 335,
     "metadata": {},
     "output_type": "execute_result"
    },
    {
     "data": {
      "text/plain": [
       "[<matplotlib.lines.Line2D at 0x7ff5bbd6dfd0>]"
      ]
     },
     "execution_count": 335,
     "metadata": {},
     "output_type": "execute_result"
    },
    {
     "data": {
      "text/plain": [
       "Text(0, 0.5, 'Subject $I_{past}$')"
      ]
     },
     "execution_count": 335,
     "metadata": {},
     "output_type": "execute_result"
    },
    {
     "data": {
      "text/plain": [
       "Text(0.5, 0, 'Window size of $X$ into the past')"
      ]
     },
     "execution_count": 335,
     "metadata": {},
     "output_type": "execute_result"
    },
    {
     "data": {
      "text/plain": [
       "Text(0.5, 1.0, 'Low Confidence')"
      ]
     },
     "execution_count": 335,
     "metadata": {},
     "output_type": "execute_result"
    },
    {
     "data": {
      "text/plain": [
       "(0.0, 1.0)"
      ]
     },
     "execution_count": 335,
     "metadata": {},
     "output_type": "execute_result"
    },
    {
     "data": {
      "text/plain": [
       "<matplotlib.legend.Legend at 0x7ff5bbd70f90>"
      ]
     },
     "execution_count": 335,
     "metadata": {},
     "output_type": "execute_result"
    },
    {
     "data": {
      "text/plain": [
       "[<matplotlib.lines.Line2D at 0x7ff5bbd66e50>]"
      ]
     },
     "execution_count": 335,
     "metadata": {},
     "output_type": "execute_result"
    },
    {
     "data": {
      "text/plain": [
       "Text(0, 0.5, 'Subject $I_{past}$')"
      ]
     },
     "execution_count": 335,
     "metadata": {},
     "output_type": "execute_result"
    },
    {
     "data": {
      "text/plain": [
       "Text(0.5, 0, 'Window size of $X$ into the past')"
      ]
     },
     "execution_count": 335,
     "metadata": {},
     "output_type": "execute_result"
    },
    {
     "data": {
      "text/plain": [
       "Text(0.5, 1.0, 'Low Confidence')"
      ]
     },
     "execution_count": 335,
     "metadata": {},
     "output_type": "execute_result"
    },
    {
     "data": {
      "text/plain": [
       "(0.0, 1.0)"
      ]
     },
     "execution_count": 335,
     "metadata": {},
     "output_type": "execute_result"
    },
    {
     "data": {
      "text/plain": [
       "<matplotlib.legend.Legend at 0x7ff5bbd6ded0>"
      ]
     },
     "execution_count": 335,
     "metadata": {},
     "output_type": "execute_result"
    },
    {
     "data": {
      "text/plain": [
       "[<matplotlib.lines.Line2D at 0x7ff5bbf27f50>]"
      ]
     },
     "execution_count": 335,
     "metadata": {},
     "output_type": "execute_result"
    },
    {
     "data": {
      "text/plain": [
       "Text(0, 0.5, 'Subject $I_{past}$')"
      ]
     },
     "execution_count": 335,
     "metadata": {},
     "output_type": "execute_result"
    },
    {
     "data": {
      "text/plain": [
       "Text(0.5, 0, 'Window size of $X$ into the past')"
      ]
     },
     "execution_count": 335,
     "metadata": {},
     "output_type": "execute_result"
    },
    {
     "data": {
      "text/plain": [
       "Text(0.5, 1.0, 'Low Confidence')"
      ]
     },
     "execution_count": 335,
     "metadata": {},
     "output_type": "execute_result"
    },
    {
     "data": {
      "text/plain": [
       "(0.0, 1.0)"
      ]
     },
     "execution_count": 335,
     "metadata": {},
     "output_type": "execute_result"
    },
    {
     "data": {
      "text/plain": [
       "<matplotlib.legend.Legend at 0x7ff5bbd71890>"
      ]
     },
     "execution_count": 335,
     "metadata": {},
     "output_type": "execute_result"
    },
    {
     "data": {
      "text/plain": [
       "[<matplotlib.lines.Line2D at 0x7ff5bbf2d050>]"
      ]
     },
     "execution_count": 335,
     "metadata": {},
     "output_type": "execute_result"
    },
    {
     "data": {
      "text/plain": [
       "Text(0, 0.5, 'Subject $I_{past}$')"
      ]
     },
     "execution_count": 335,
     "metadata": {},
     "output_type": "execute_result"
    },
    {
     "data": {
      "text/plain": [
       "Text(0.5, 0, 'Window size of $X$ into the past')"
      ]
     },
     "execution_count": 335,
     "metadata": {},
     "output_type": "execute_result"
    },
    {
     "data": {
      "text/plain": [
       "Text(0.5, 1.0, 'Low Confidence')"
      ]
     },
     "execution_count": 335,
     "metadata": {},
     "output_type": "execute_result"
    },
    {
     "data": {
      "text/plain": [
       "(0.0, 1.0)"
      ]
     },
     "execution_count": 335,
     "metadata": {},
     "output_type": "execute_result"
    },
    {
     "data": {
      "text/plain": [
       "<matplotlib.legend.Legend at 0x7ff5bbd71f50>"
      ]
     },
     "execution_count": 335,
     "metadata": {},
     "output_type": "execute_result"
    },
    {
     "data": {
      "text/plain": [
       "[<matplotlib.lines.Line2D at 0x7ff5bc070790>]"
      ]
     },
     "execution_count": 335,
     "metadata": {},
     "output_type": "execute_result"
    },
    {
     "data": {
      "text/plain": [
       "Text(0, 0.5, 'Subject $I_{past}$')"
      ]
     },
     "execution_count": 335,
     "metadata": {},
     "output_type": "execute_result"
    },
    {
     "data": {
      "text/plain": [
       "Text(0.5, 0, 'Window size of $X$ into the past')"
      ]
     },
     "execution_count": 335,
     "metadata": {},
     "output_type": "execute_result"
    },
    {
     "data": {
      "text/plain": [
       "Text(0.5, 1.0, 'Low Confidence')"
      ]
     },
     "execution_count": 335,
     "metadata": {},
     "output_type": "execute_result"
    },
    {
     "data": {
      "text/plain": [
       "(0.0, 1.0)"
      ]
     },
     "execution_count": 335,
     "metadata": {},
     "output_type": "execute_result"
    },
    {
     "data": {
      "text/plain": [
       "<matplotlib.legend.Legend at 0x7ff5bbd683d0>"
      ]
     },
     "execution_count": 335,
     "metadata": {},
     "output_type": "execute_result"
    },
    {
     "data": {
      "text/plain": [
       "[<matplotlib.lines.Line2D at 0x7ff5bc08c990>]"
      ]
     },
     "execution_count": 335,
     "metadata": {},
     "output_type": "execute_result"
    },
    {
     "data": {
      "text/plain": [
       "Text(0, 0.5, 'Subject $I_{past}$')"
      ]
     },
     "execution_count": 335,
     "metadata": {},
     "output_type": "execute_result"
    },
    {
     "data": {
      "text/plain": [
       "Text(0.5, 0, 'Window size of $X$ into the past')"
      ]
     },
     "execution_count": 335,
     "metadata": {},
     "output_type": "execute_result"
    },
    {
     "data": {
      "text/plain": [
       "Text(0.5, 1.0, 'Low Confidence')"
      ]
     },
     "execution_count": 335,
     "metadata": {},
     "output_type": "execute_result"
    },
    {
     "data": {
      "text/plain": [
       "(0.0, 1.0)"
      ]
     },
     "execution_count": 335,
     "metadata": {},
     "output_type": "execute_result"
    },
    {
     "data": {
      "text/plain": [
       "<matplotlib.legend.Legend at 0x7ff5bbd71490>"
      ]
     },
     "execution_count": 335,
     "metadata": {},
     "output_type": "execute_result"
    },
    {
     "data": {
      "text/plain": [
       "[<matplotlib.lines.Line2D at 0x7ff5bc0708d0>]"
      ]
     },
     "execution_count": 335,
     "metadata": {},
     "output_type": "execute_result"
    },
    {
     "data": {
      "text/plain": [
       "Text(0, 0.5, 'Subject $I_{past}$')"
      ]
     },
     "execution_count": 335,
     "metadata": {},
     "output_type": "execute_result"
    },
    {
     "data": {
      "text/plain": [
       "Text(0.5, 0, 'Window size of $X$ into the past')"
      ]
     },
     "execution_count": 335,
     "metadata": {},
     "output_type": "execute_result"
    },
    {
     "data": {
      "text/plain": [
       "Text(0.5, 1.0, 'Low Confidence')"
      ]
     },
     "execution_count": 335,
     "metadata": {},
     "output_type": "execute_result"
    },
    {
     "data": {
      "text/plain": [
       "(0.0, 1.0)"
      ]
     },
     "execution_count": 335,
     "metadata": {},
     "output_type": "execute_result"
    },
    {
     "data": {
      "text/plain": [
       "<matplotlib.legend.Legend at 0x7ff5bc070050>"
      ]
     },
     "execution_count": 335,
     "metadata": {},
     "output_type": "execute_result"
    },
    {
     "data": {
      "text/plain": [
       "[<matplotlib.lines.Line2D at 0x7ff5bbd6ddd0>]"
      ]
     },
     "execution_count": 335,
     "metadata": {},
     "output_type": "execute_result"
    },
    {
     "data": {
      "text/plain": [
       "Text(0, 0.5, 'Subject $I_{past}$')"
      ]
     },
     "execution_count": 335,
     "metadata": {},
     "output_type": "execute_result"
    },
    {
     "data": {
      "text/plain": [
       "Text(0.5, 0, 'Window size of $X$ into the past')"
      ]
     },
     "execution_count": 335,
     "metadata": {},
     "output_type": "execute_result"
    },
    {
     "data": {
      "text/plain": [
       "Text(0.5, 1.0, 'Low Confidence')"
      ]
     },
     "execution_count": 335,
     "metadata": {},
     "output_type": "execute_result"
    },
    {
     "data": {
      "text/plain": [
       "(0.0, 1.0)"
      ]
     },
     "execution_count": 335,
     "metadata": {},
     "output_type": "execute_result"
    },
    {
     "data": {
      "text/plain": [
       "<matplotlib.legend.Legend at 0x7ff5bc0a7d10>"
      ]
     },
     "execution_count": 335,
     "metadata": {},
     "output_type": "execute_result"
    },
    {
     "data": {
      "text/plain": [
       "<AxesSubplot:>"
      ]
     },
     "execution_count": 335,
     "metadata": {},
     "output_type": "execute_result"
    },
    {
     "data": {
      "text/plain": [
       "[<matplotlib.lines.Line2D at 0x7ff5bc0fd690>]"
      ]
     },
     "execution_count": 335,
     "metadata": {},
     "output_type": "execute_result"
    },
    {
     "data": {
      "text/plain": [
       "Text(0, 0.5, 'Subject $I_{past}$')"
      ]
     },
     "execution_count": 335,
     "metadata": {},
     "output_type": "execute_result"
    },
    {
     "data": {
      "text/plain": [
       "Text(0.5, 0, 'Window size of $X$ into the past')"
      ]
     },
     "execution_count": 335,
     "metadata": {},
     "output_type": "execute_result"
    },
    {
     "data": {
      "text/plain": [
       "Text(0.5, 1.0, 'High Confidence')"
      ]
     },
     "execution_count": 335,
     "metadata": {},
     "output_type": "execute_result"
    },
    {
     "data": {
      "text/plain": [
       "(0.0, 1.0)"
      ]
     },
     "execution_count": 335,
     "metadata": {},
     "output_type": "execute_result"
    },
    {
     "data": {
      "text/plain": [
       "<matplotlib.legend.Legend at 0x7ff5bc0fd810>"
      ]
     },
     "execution_count": 335,
     "metadata": {},
     "output_type": "execute_result"
    },
    {
     "data": {
      "text/plain": [
       "[<matplotlib.lines.Line2D at 0x7ff5bc1211d0>]"
      ]
     },
     "execution_count": 335,
     "metadata": {},
     "output_type": "execute_result"
    },
    {
     "data": {
      "text/plain": [
       "Text(0, 0.5, 'Subject $I_{past}$')"
      ]
     },
     "execution_count": 335,
     "metadata": {},
     "output_type": "execute_result"
    },
    {
     "data": {
      "text/plain": [
       "Text(0.5, 0, 'Window size of $X$ into the past')"
      ]
     },
     "execution_count": 335,
     "metadata": {},
     "output_type": "execute_result"
    },
    {
     "data": {
      "text/plain": [
       "Text(0.5, 1.0, 'High Confidence')"
      ]
     },
     "execution_count": 335,
     "metadata": {},
     "output_type": "execute_result"
    },
    {
     "data": {
      "text/plain": [
       "(0.0, 1.0)"
      ]
     },
     "execution_count": 335,
     "metadata": {},
     "output_type": "execute_result"
    },
    {
     "data": {
      "text/plain": [
       "<matplotlib.legend.Legend at 0x7ff5bc0e8dd0>"
      ]
     },
     "execution_count": 335,
     "metadata": {},
     "output_type": "execute_result"
    },
    {
     "data": {
      "text/plain": [
       "[<matplotlib.lines.Line2D at 0x7ff5bc125710>]"
      ]
     },
     "execution_count": 335,
     "metadata": {},
     "output_type": "execute_result"
    },
    {
     "data": {
      "text/plain": [
       "Text(0, 0.5, 'Subject $I_{past}$')"
      ]
     },
     "execution_count": 335,
     "metadata": {},
     "output_type": "execute_result"
    },
    {
     "data": {
      "text/plain": [
       "Text(0.5, 0, 'Window size of $X$ into the past')"
      ]
     },
     "execution_count": 335,
     "metadata": {},
     "output_type": "execute_result"
    },
    {
     "data": {
      "text/plain": [
       "Text(0.5, 1.0, 'High Confidence')"
      ]
     },
     "execution_count": 335,
     "metadata": {},
     "output_type": "execute_result"
    },
    {
     "data": {
      "text/plain": [
       "(0.0, 1.0)"
      ]
     },
     "execution_count": 335,
     "metadata": {},
     "output_type": "execute_result"
    },
    {
     "data": {
      "text/plain": [
       "<matplotlib.legend.Legend at 0x7ff5bb90e150>"
      ]
     },
     "execution_count": 335,
     "metadata": {},
     "output_type": "execute_result"
    },
    {
     "data": {
      "text/plain": [
       "[<matplotlib.lines.Line2D at 0x7ff5bc13a450>]"
      ]
     },
     "execution_count": 335,
     "metadata": {},
     "output_type": "execute_result"
    },
    {
     "data": {
      "text/plain": [
       "Text(0, 0.5, 'Subject $I_{past}$')"
      ]
     },
     "execution_count": 335,
     "metadata": {},
     "output_type": "execute_result"
    },
    {
     "data": {
      "text/plain": [
       "Text(0.5, 0, 'Window size of $X$ into the past')"
      ]
     },
     "execution_count": 335,
     "metadata": {},
     "output_type": "execute_result"
    },
    {
     "data": {
      "text/plain": [
       "Text(0.5, 1.0, 'High Confidence')"
      ]
     },
     "execution_count": 335,
     "metadata": {},
     "output_type": "execute_result"
    },
    {
     "data": {
      "text/plain": [
       "(0.0, 1.0)"
      ]
     },
     "execution_count": 335,
     "metadata": {},
     "output_type": "execute_result"
    },
    {
     "data": {
      "text/plain": [
       "<matplotlib.legend.Legend at 0x7ff5bbd6d890>"
      ]
     },
     "execution_count": 335,
     "metadata": {},
     "output_type": "execute_result"
    },
    {
     "data": {
      "text/plain": [
       "[<matplotlib.lines.Line2D at 0x7ff5bc137d10>]"
      ]
     },
     "execution_count": 335,
     "metadata": {},
     "output_type": "execute_result"
    },
    {
     "data": {
      "text/plain": [
       "Text(0, 0.5, 'Subject $I_{past}$')"
      ]
     },
     "execution_count": 335,
     "metadata": {},
     "output_type": "execute_result"
    },
    {
     "data": {
      "text/plain": [
       "Text(0.5, 0, 'Window size of $X$ into the past')"
      ]
     },
     "execution_count": 335,
     "metadata": {},
     "output_type": "execute_result"
    },
    {
     "data": {
      "text/plain": [
       "Text(0.5, 1.0, 'High Confidence')"
      ]
     },
     "execution_count": 335,
     "metadata": {},
     "output_type": "execute_result"
    },
    {
     "data": {
      "text/plain": [
       "(0.0, 1.0)"
      ]
     },
     "execution_count": 335,
     "metadata": {},
     "output_type": "execute_result"
    },
    {
     "data": {
      "text/plain": [
       "<matplotlib.legend.Legend at 0x7ff5bc13ce90>"
      ]
     },
     "execution_count": 335,
     "metadata": {},
     "output_type": "execute_result"
    },
    {
     "data": {
      "text/plain": [
       "[<matplotlib.lines.Line2D at 0x7ff5bbd68050>]"
      ]
     },
     "execution_count": 335,
     "metadata": {},
     "output_type": "execute_result"
    },
    {
     "data": {
      "text/plain": [
       "Text(0, 0.5, 'Subject $I_{past}$')"
      ]
     },
     "execution_count": 335,
     "metadata": {},
     "output_type": "execute_result"
    },
    {
     "data": {
      "text/plain": [
       "Text(0.5, 0, 'Window size of $X$ into the past')"
      ]
     },
     "execution_count": 335,
     "metadata": {},
     "output_type": "execute_result"
    },
    {
     "data": {
      "text/plain": [
       "Text(0.5, 1.0, 'High Confidence')"
      ]
     },
     "execution_count": 335,
     "metadata": {},
     "output_type": "execute_result"
    },
    {
     "data": {
      "text/plain": [
       "(0.0, 1.0)"
      ]
     },
     "execution_count": 335,
     "metadata": {},
     "output_type": "execute_result"
    },
    {
     "data": {
      "text/plain": [
       "<matplotlib.legend.Legend at 0x7ff5bc137350>"
      ]
     },
     "execution_count": 335,
     "metadata": {},
     "output_type": "execute_result"
    },
    {
     "data": {
      "text/plain": [
       "[<matplotlib.lines.Line2D at 0x7ff5bbd68810>]"
      ]
     },
     "execution_count": 335,
     "metadata": {},
     "output_type": "execute_result"
    },
    {
     "data": {
      "text/plain": [
       "Text(0, 0.5, 'Subject $I_{past}$')"
      ]
     },
     "execution_count": 335,
     "metadata": {},
     "output_type": "execute_result"
    },
    {
     "data": {
      "text/plain": [
       "Text(0.5, 0, 'Window size of $X$ into the past')"
      ]
     },
     "execution_count": 335,
     "metadata": {},
     "output_type": "execute_result"
    },
    {
     "data": {
      "text/plain": [
       "Text(0.5, 1.0, 'High Confidence')"
      ]
     },
     "execution_count": 335,
     "metadata": {},
     "output_type": "execute_result"
    },
    {
     "data": {
      "text/plain": [
       "(0.0, 1.0)"
      ]
     },
     "execution_count": 335,
     "metadata": {},
     "output_type": "execute_result"
    },
    {
     "data": {
      "text/plain": [
       "<matplotlib.legend.Legend at 0x7ff5bc1371d0>"
      ]
     },
     "execution_count": 335,
     "metadata": {},
     "output_type": "execute_result"
    },
    {
     "data": {
      "text/plain": [
       "[<matplotlib.lines.Line2D at 0x7ff5bc16d050>]"
      ]
     },
     "execution_count": 335,
     "metadata": {},
     "output_type": "execute_result"
    },
    {
     "data": {
      "text/plain": [
       "Text(0, 0.5, 'Subject $I_{past}$')"
      ]
     },
     "execution_count": 335,
     "metadata": {},
     "output_type": "execute_result"
    },
    {
     "data": {
      "text/plain": [
       "Text(0.5, 0, 'Window size of $X$ into the past')"
      ]
     },
     "execution_count": 335,
     "metadata": {},
     "output_type": "execute_result"
    },
    {
     "data": {
      "text/plain": [
       "Text(0.5, 1.0, 'High Confidence')"
      ]
     },
     "execution_count": 335,
     "metadata": {},
     "output_type": "execute_result"
    },
    {
     "data": {
      "text/plain": [
       "(0.0, 1.0)"
      ]
     },
     "execution_count": 335,
     "metadata": {},
     "output_type": "execute_result"
    },
    {
     "data": {
      "text/plain": [
       "<matplotlib.legend.Legend at 0x7ff5bc0bf090>"
      ]
     },
     "execution_count": 335,
     "metadata": {},
     "output_type": "execute_result"
    },
    {
     "data": {
      "text/plain": [
       "[<matplotlib.lines.Line2D at 0x7ff5bc137d50>]"
      ]
     },
     "execution_count": 335,
     "metadata": {},
     "output_type": "execute_result"
    },
    {
     "data": {
      "text/plain": [
       "Text(0, 0.5, 'Subject $I_{past}$')"
      ]
     },
     "execution_count": 335,
     "metadata": {},
     "output_type": "execute_result"
    },
    {
     "data": {
      "text/plain": [
       "Text(0.5, 0, 'Window size of $X$ into the past')"
      ]
     },
     "execution_count": 335,
     "metadata": {},
     "output_type": "execute_result"
    },
    {
     "data": {
      "text/plain": [
       "Text(0.5, 1.0, 'High Confidence')"
      ]
     },
     "execution_count": 335,
     "metadata": {},
     "output_type": "execute_result"
    },
    {
     "data": {
      "text/plain": [
       "(0.0, 1.0)"
      ]
     },
     "execution_count": 335,
     "metadata": {},
     "output_type": "execute_result"
    },
    {
     "data": {
      "text/plain": [
       "<matplotlib.legend.Legend at 0x7ff5bc137810>"
      ]
     },
     "execution_count": 335,
     "metadata": {},
     "output_type": "execute_result"
    },
    {
     "data": {
      "text/plain": [
       "[<matplotlib.lines.Line2D at 0x7ff5bc1b3c10>]"
      ]
     },
     "execution_count": 335,
     "metadata": {},
     "output_type": "execute_result"
    },
    {
     "data": {
      "text/plain": [
       "Text(0, 0.5, 'Subject $I_{past}$')"
      ]
     },
     "execution_count": 335,
     "metadata": {},
     "output_type": "execute_result"
    },
    {
     "data": {
      "text/plain": [
       "Text(0.5, 0, 'Window size of $X$ into the past')"
      ]
     },
     "execution_count": 335,
     "metadata": {},
     "output_type": "execute_result"
    },
    {
     "data": {
      "text/plain": [
       "Text(0.5, 1.0, 'High Confidence')"
      ]
     },
     "execution_count": 335,
     "metadata": {},
     "output_type": "execute_result"
    },
    {
     "data": {
      "text/plain": [
       "(0.0, 1.0)"
      ]
     },
     "execution_count": 335,
     "metadata": {},
     "output_type": "execute_result"
    },
    {
     "data": {
      "text/plain": [
       "<matplotlib.legend.Legend at 0x7ff5bc09ead0>"
      ]
     },
     "execution_count": 335,
     "metadata": {},
     "output_type": "execute_result"
    },
    {
     "data": {
      "image/png": "[encoded data removed]",
      "text/plain": [
       "<Figure size 1080x360 with 2 Axes>"
      ]
     },
     "metadata": {
      "needs_background": "light"
     },
     "output_type": "display_data"
    }
   ],
   "source": [
    "try:\n",
    "    # Check if subject mutual information values have already been computed\n",
    "    ips_sub_h1,if_sub_h1 = pickle.load(open('vickie_sim_mar28_ipf_sub_h1.pkl','rb')) #load windowed mutual information values for H=.01\n",
    "    ips_sub_h9,if_sub_h9 = pickle.load(open('vickie_sim_mar28_ipf_sub_h9.pkl','rb')) #load windowed mutual information values for H=.99\n",
    "except:\n",
    "    # If not, compute them below\n",
    "    # Low hazard rate\n",
    "    ips_sub_h1,if_sub_h1 = get_windowed_mi_subs(adat_sim,10)\n",
    "    #pickle.dump((ips_sub_h1,if_sub_h1),open('vickie_sim_mar28_ipf_sub_h1.pkl','wb'))\n",
    "    \n",
    "    # High hazard rate\n",
    "    ips_sub_h9,if_sub_h9 = get_windowed_mi_subs(adat_sim,10)\n",
    "    #pickle.dump((ips_sub_h9,if_sub_h9),open('vickie_sim_mar28_ipf_sub_h9.pkl','wb'))\n",
    "    \n",
    "        \n",
    "# Plot ipast as a function of window size for each subject (different colors)\n",
    "plt.figure(1,(15,5))\n",
    "# Low hazard rate\n",
    "plt.subplot(1,2,1)\n",
    "for sub in pd.unique([key for key in ips_sub_h1.keys()]):\n",
    "    plt.plot(np.arange(11),ips_sub_h1[sub],'-o',label = sub)\n",
    "    plt.ylabel('Subject $I_{past}$',size=15)\n",
    "    plt.xlabel('Window size of $X$ into the past',size=15)\n",
    "    plt.title('Low Confidence',size=20)\n",
    "    plt.ylim([0,1])\n",
    "    plt.legend(loc = 'lower right')\n",
    "\n",
    "# high hazard rate\n",
    "plt.subplot(1,2,2)\n",
    "for sub in pd.unique([key for key in ips_sub_h9.keys()]):\n",
    "    plt.plot(np.arange(11),ips_sub_h9[sub],'-o', label = sub)\n",
    "    plt.ylabel('Subject $I_{past}$',size=15)\n",
    "    plt.xlabel('Window size of $X$ into the past',size=15)\n",
    "    plt.title('High Confidence',size=20)\n",
    "    plt.ylim([0,1])\n",
    "    plt.legend(loc = 'lower right')"
   ]
  },
  {
   "cell_type": "code",
   "execution_count": 336,
   "id": "attempted-history",
   "metadata": {},
   "outputs": [
    {
     "name": "stdout",
     "output_type": "stream",
     "text": [
      "[ 0.         -0.00273527 -0.00270533 -0.00129586  0.00083035  0.00213526\n",
      " -0.005937   -0.03592397 -0.09944922 -0.21734262 -0.3866225 ]\n",
      "all_0\n",
      "[0.         0.99220833 0.99208365 0.99334172 0.99531204 0.99645015\n",
      " 0.98818533 0.95795748 0.89412404 0.77579396 0.60623593]\n",
      "previous\n",
      "[0.         0.99220833 0.99208365 0.99334172 0.99531204 0.99645015\n",
      " 0.98818533 0.95795748 0.89412404 0.77579396 0.60623593]\n",
      "previous_flipped\n",
      "[0.         0.99220833 0.99208365 0.99334172 0.99531204 0.99645015\n",
      " 0.98818533 0.95795748 0.89412404 0.77579396 0.60623593]\n",
      "previous_refined\n",
      "[0.         0.07838408 0.99220672 0.99346894 0.9954421  0.99657527\n",
      " 0.98828279 0.95798246 0.89401348 0.77545029 0.60543321]\n",
      "twoback_A\n",
      "[0.         0.07838408 0.99220672 0.99346894 0.9954421  0.99657527\n",
      " 0.98828279 0.95798246 0.89401348 0.77545029 0.60543321]\n",
      "twoback_B\n",
      "[0.         0.35107601 0.65809661 0.9935946  0.99557069 0.99669909\n",
      " 0.98837935 0.95800705 0.89393844 0.77508151 0.60431058]\n",
      "threeback_A\n",
      "[0.         0.07776297 0.12295673 0.99272159 0.99468156 0.99579375\n",
      " 0.98745773 0.95706906 0.89331153 0.77476726 0.60431058]\n",
      "threeback_B\n",
      "[ 0.00000000e+00 -9.44199262e-04  4.58108209e-01  9.93312845e-01\n",
      "  9.95283587e-01  9.96406607e-01  9.88081467e-01  9.57703736e-01\n",
      "  8.93629674e-01  7.75081513e-01  6.04620929e-01]\n",
      "threeback_C\n",
      "[0.         0.26312389 0.45764683 0.62398484 0.72073172 0.79577492\n",
      " 0.85771387 0.87969073 0.85571726 0.75967269 0.60028413]\n",
      "Ideal_Hard\n"
     ]
    },
    {
     "data": {
      "text/plain": [
       "{'all_0': array([ 0.        , -0.00273527, -0.00270533, -0.00129586,  0.00083035,\n",
       "         0.00213526, -0.005937  , -0.03592397, -0.09944922, -0.21734262,\n",
       "        -0.3866225 ]),\n",
       " 'previous': array([0.        , 0.99220833, 0.99208365, 0.99334172, 0.99531204,\n",
       "        0.99645015, 0.98818533, 0.95795748, 0.89412404, 0.77579396,\n",
       "        0.60623593]),\n",
       " 'previous_flipped': array([0.        , 0.99220833, 0.99208365, 0.99334172, 0.99531204,\n",
       "        0.99645015, 0.98818533, 0.95795748, 0.89412404, 0.77579396,\n",
       "        0.60623593]),\n",
       " 'previous_refined': array([0.        , 0.99220833, 0.99208365, 0.99334172, 0.99531204,\n",
       "        0.99645015, 0.98818533, 0.95795748, 0.89412404, 0.77579396,\n",
       "        0.60623593]),\n",
       " 'twoback_A': array([0.        , 0.07838408, 0.99220672, 0.99346894, 0.9954421 ,\n",
       "        0.99657527, 0.98828279, 0.95798246, 0.89401348, 0.77545029,\n",
       "        0.60543321]),\n",
       " 'twoback_B': array([0.        , 0.07838408, 0.99220672, 0.99346894, 0.9954421 ,\n",
       "        0.99657527, 0.98828279, 0.95798246, 0.89401348, 0.77545029,\n",
       "        0.60543321]),\n",
       " 'threeback_A': array([0.        , 0.35107601, 0.65809661, 0.9935946 , 0.99557069,\n",
       "        0.99669909, 0.98837935, 0.95800705, 0.89393844, 0.77508151,\n",
       "        0.60431058]),\n",
       " 'threeback_B': array([0.        , 0.07776297, 0.12295673, 0.99272159, 0.99468156,\n",
       "        0.99579375, 0.98745773, 0.95706906, 0.89331153, 0.77476726,\n",
       "        0.60431058]),\n",
       " 'threeback_C': array([ 0.00000000e+00, -9.44199262e-04,  4.58108209e-01,  9.93312845e-01,\n",
       "         9.95283587e-01,  9.96406607e-01,  9.88081467e-01,  9.57703736e-01,\n",
       "         8.93629674e-01,  7.75081513e-01,  6.04620929e-01]),\n",
       " 'Ideal_Hard': array([0.        , 0.26312389, 0.45764683, 0.62398484, 0.72073172,\n",
       "        0.79577492, 0.85771387, 0.87969073, 0.85571726, 0.75967269,\n",
       "        0.60028413])}"
      ]
     },
     "execution_count": 336,
     "metadata": {},
     "output_type": "execute_result"
    }
   ],
   "source": [
    "for sub in pd.unique([key for key in ips_sub_h1.keys()]):\n",
    "    print(ips_sub_h1[sub])\n",
    "    print(sub)\n",
    "    \n",
    "ips_sub_h1"
   ]
  },
  {
   "cell_type": "code",
   "execution_count": 322,
   "id": "social-russia",
   "metadata": {},
   "outputs": [
    {
     "data": {
      "text/html": [
       "<div>\n",
       "<style scoped>\n",
       "    .dataframe tbody tr th:only-of-type {\n",
       "        vertical-align: middle;\n",
       "    }\n",
       "\n",
       "    .dataframe tbody tr th {\n",
       "        vertical-align: top;\n",
       "    }\n",
       "\n",
       "    .dataframe thead th {\n",
       "        text-align: right;\n",
       "    }\n",
       "</style>\n",
       "<table border=\"1\" class=\"dataframe\">\n",
       "  <thead>\n",
       "    <tr style=\"text-align: right;\">\n",
       "      <th></th>\n",
       "      <th>Subject</th>\n",
       "      <th>Trial</th>\n",
       "      <th>H</th>\n",
       "      <th>Jar</th>\n",
       "      <th>Bead</th>\n",
       "      <th>Rel_Hist</th>\n",
       "      <th>Prior</th>\n",
       "      <th>Noise</th>\n",
       "      <th>Resp</th>\n",
       "      <th>TSCP</th>\n",
       "      <th>TSCP2</th>\n",
       "      <th>Posterior</th>\n",
       "      <th>Correct</th>\n",
       "      <th>Confid</th>\n",
       "    </tr>\n",
       "  </thead>\n",
       "  <tbody>\n",
       "    <tr>\n",
       "      <th>1</th>\n",
       "      <td>all_0</td>\n",
       "      <td>2</td>\n",
       "      <td>0.01</td>\n",
       "      <td>0</td>\n",
       "      <td>0</td>\n",
       "      <td></td>\n",
       "      <td>1.000000</td>\n",
       "      <td>1.0</td>\n",
       "      <td>0.0</td>\n",
       "      <td>2</td>\n",
       "      <td>1</td>\n",
       "      <td>NaN</td>\n",
       "      <td>1</td>\n",
       "      <td>1</td>\n",
       "    </tr>\n",
       "    <tr>\n",
       "      <th>3</th>\n",
       "      <td>all_0</td>\n",
       "      <td>4</td>\n",
       "      <td>0.01</td>\n",
       "      <td>0</td>\n",
       "      <td>0</td>\n",
       "      <td></td>\n",
       "      <td>1.000000</td>\n",
       "      <td>1.0</td>\n",
       "      <td>0.0</td>\n",
       "      <td>4</td>\n",
       "      <td>3-4</td>\n",
       "      <td>NaN</td>\n",
       "      <td>1</td>\n",
       "      <td>1</td>\n",
       "    </tr>\n",
       "    <tr>\n",
       "      <th>4</th>\n",
       "      <td>all_0</td>\n",
       "      <td>5</td>\n",
       "      <td>0.01</td>\n",
       "      <td>0</td>\n",
       "      <td>0</td>\n",
       "      <td></td>\n",
       "      <td>1.000000</td>\n",
       "      <td>1.0</td>\n",
       "      <td>0.0</td>\n",
       "      <td>5</td>\n",
       "      <td>3-4</td>\n",
       "      <td>NaN</td>\n",
       "      <td>1</td>\n",
       "      <td>1</td>\n",
       "    </tr>\n",
       "    <tr>\n",
       "      <th>5</th>\n",
       "      <td>all_0</td>\n",
       "      <td>6</td>\n",
       "      <td>0.01</td>\n",
       "      <td>0</td>\n",
       "      <td>0</td>\n",
       "      <td></td>\n",
       "      <td>1.000000</td>\n",
       "      <td>1.0</td>\n",
       "      <td>0.0</td>\n",
       "      <td>6</td>\n",
       "      <td>5-7</td>\n",
       "      <td>NaN</td>\n",
       "      <td>1</td>\n",
       "      <td>1</td>\n",
       "    </tr>\n",
       "    <tr>\n",
       "      <th>7</th>\n",
       "      <td>all_0</td>\n",
       "      <td>8</td>\n",
       "      <td>0.01</td>\n",
       "      <td>0</td>\n",
       "      <td>0</td>\n",
       "      <td></td>\n",
       "      <td>1.000000</td>\n",
       "      <td>1.0</td>\n",
       "      <td>0.0</td>\n",
       "      <td>8</td>\n",
       "      <td>5-7</td>\n",
       "      <td>NaN</td>\n",
       "      <td>1</td>\n",
       "      <td>1</td>\n",
       "    </tr>\n",
       "    <tr>\n",
       "      <th>...</th>\n",
       "      <td>...</td>\n",
       "      <td>...</td>\n",
       "      <td>...</td>\n",
       "      <td>...</td>\n",
       "      <td>...</td>\n",
       "      <td>...</td>\n",
       "      <td>...</td>\n",
       "      <td>...</td>\n",
       "      <td>...</td>\n",
       "      <td>...</td>\n",
       "      <td>...</td>\n",
       "      <td>...</td>\n",
       "      <td>...</td>\n",
       "      <td>...</td>\n",
       "    </tr>\n",
       "    <tr>\n",
       "      <th>795</th>\n",
       "      <td>Ideal_Hard</td>\n",
       "      <td>796</td>\n",
       "      <td>0.01</td>\n",
       "      <td>1</td>\n",
       "      <td>1</td>\n",
       "      <td>NaN</td>\n",
       "      <td>0.986664</td>\n",
       "      <td>NaN</td>\n",
       "      <td>1.0</td>\n",
       "      <td>31</td>\n",
       "      <td>8+</td>\n",
       "      <td>0.996632</td>\n",
       "      <td>1</td>\n",
       "      <td>1</td>\n",
       "    </tr>\n",
       "    <tr>\n",
       "      <th>796</th>\n",
       "      <td>Ideal_Hard</td>\n",
       "      <td>797</td>\n",
       "      <td>0.01</td>\n",
       "      <td>1</td>\n",
       "      <td>1</td>\n",
       "      <td>NaN</td>\n",
       "      <td>0.986700</td>\n",
       "      <td>NaN</td>\n",
       "      <td>1.0</td>\n",
       "      <td>32</td>\n",
       "      <td>8+</td>\n",
       "      <td>0.996641</td>\n",
       "      <td>1</td>\n",
       "      <td>1</td>\n",
       "    </tr>\n",
       "    <tr>\n",
       "      <th>797</th>\n",
       "      <td>Ideal_Hard</td>\n",
       "      <td>798</td>\n",
       "      <td>0.01</td>\n",
       "      <td>1</td>\n",
       "      <td>1</td>\n",
       "      <td>NaN</td>\n",
       "      <td>0.986709</td>\n",
       "      <td>NaN</td>\n",
       "      <td>1.0</td>\n",
       "      <td>33</td>\n",
       "      <td>8+</td>\n",
       "      <td>0.996644</td>\n",
       "      <td>1</td>\n",
       "      <td>1</td>\n",
       "    </tr>\n",
       "    <tr>\n",
       "      <th>798</th>\n",
       "      <td>Ideal_Hard</td>\n",
       "      <td>799</td>\n",
       "      <td>0.01</td>\n",
       "      <td>1</td>\n",
       "      <td>1</td>\n",
       "      <td>NaN</td>\n",
       "      <td>0.986711</td>\n",
       "      <td>NaN</td>\n",
       "      <td>1.0</td>\n",
       "      <td>34</td>\n",
       "      <td>8+</td>\n",
       "      <td>0.996644</td>\n",
       "      <td>1</td>\n",
       "      <td>1</td>\n",
       "    </tr>\n",
       "    <tr>\n",
       "      <th>799</th>\n",
       "      <td>Ideal_Hard</td>\n",
       "      <td>800</td>\n",
       "      <td>0.01</td>\n",
       "      <td>1</td>\n",
       "      <td>1</td>\n",
       "      <td>NaN</td>\n",
       "      <td>0.986711</td>\n",
       "      <td>NaN</td>\n",
       "      <td>1.0</td>\n",
       "      <td>35</td>\n",
       "      <td>8+</td>\n",
       "      <td>0.996644</td>\n",
       "      <td>1</td>\n",
       "      <td>1</td>\n",
       "    </tr>\n",
       "  </tbody>\n",
       "</table>\n",
       "<p>4195 rows × 14 columns</p>\n",
       "</div>"
      ],
      "text/plain": [
       "        Subject  Trial     H  Jar  Bead Rel_Hist     Prior  Noise  Resp  TSCP  \\\n",
       "1         all_0      2  0.01    0     0           1.000000    1.0   0.0     2   \n",
       "3         all_0      4  0.01    0     0           1.000000    1.0   0.0     4   \n",
       "4         all_0      5  0.01    0     0           1.000000    1.0   0.0     5   \n",
       "5         all_0      6  0.01    0     0           1.000000    1.0   0.0     6   \n",
       "7         all_0      8  0.01    0     0           1.000000    1.0   0.0     8   \n",
       "..          ...    ...   ...  ...   ...      ...       ...    ...   ...   ...   \n",
       "795  Ideal_Hard    796  0.01    1     1      NaN  0.986664    NaN   1.0    31   \n",
       "796  Ideal_Hard    797  0.01    1     1      NaN  0.986700    NaN   1.0    32   \n",
       "797  Ideal_Hard    798  0.01    1     1      NaN  0.986709    NaN   1.0    33   \n",
       "798  Ideal_Hard    799  0.01    1     1      NaN  0.986711    NaN   1.0    34   \n",
       "799  Ideal_Hard    800  0.01    1     1      NaN  0.986711    NaN   1.0    35   \n",
       "\n",
       "    TSCP2  Posterior  Correct  Confid  \n",
       "1       1        NaN        1       1  \n",
       "3     3-4        NaN        1       1  \n",
       "4     3-4        NaN        1       1  \n",
       "5     5-7        NaN        1       1  \n",
       "7     5-7        NaN        1       1  \n",
       "..    ...        ...      ...     ...  \n",
       "795    8+   0.996632        1       1  \n",
       "796    8+   0.996641        1       1  \n",
       "797    8+   0.996644        1       1  \n",
       "798    8+   0.996644        1       1  \n",
       "799    8+   0.996644        1       1  \n",
       "\n",
       "[4195 rows x 14 columns]"
      ]
     },
     "execution_count": 322,
     "metadata": {},
     "output_type": "execute_result"
    }
   ],
   "source": [
    "adat_sim.loc[adat_sim['Confid'] == 1]"
   ]
  },
  {
   "cell_type": "code",
   "execution_count": 283,
   "id": "distinguished-nothing",
   "metadata": {},
   "outputs": [],
   "source": [
    "try:\n",
    "    # Check to see if bootstrapped samples have already been computed\n",
    "    ip_h1_boot, if_h1_boot = pickle.load(open('vickie_sim_mar28_ip_if_h1_boot.pkl','rb')) # Low hazard\n",
    "    ip_h9_boot, if_h9_boot = pickle.load(open('vickie_sim_mar28_ip_if_h9_boot.pkl','rb')) # High hazard\n",
    "except:\n",
    "    # If not, compute and save below\n",
    "    nboot = 1000 #number of bootstrapped samples\n",
    "    #Low Hazard\n",
    "    ip_h1_boot, if_h1_boot = get_bootstrapped_samples(adat_sim.loc[adat_sim['Confid'] == 0],ips_sub_h1,nboot)\n",
    "    #pickle.dump((ip_h1_boot, if_h1_boot),open('vickie_sim_mar28_ip_if_h1_boot.pkl','wb'))\n",
    "    \n",
    "    # High hazard\n",
    "    ip_h9_boot, if_h9_boot = get_bootstrapped_samples(adat_sim.loc[adat_sim['Confid'] == 1],ips_sub_h9,nboot)\n",
    "    #pickle.dump((ip_h9_boot, if_h9_boot),open('vickie_sim_mar28_ip_if_h9_boot.pkl','wb'))"
   ]
  },
  {
   "cell_type": "code",
   "execution_count": 286,
   "id": "magnetic-court",
   "metadata": {},
   "outputs": [],
   "source": [
    "# Get mean Ipast/Ifuture values per subject\n",
    "# Low hazard Ipast values and 95% confidence intervals\n",
    "ip_mean_h1 = np.array([np.mean(ip_h1_boot[key]) for key in ip_h1_boot.keys()])\n",
    "ip_95CI_h1 = np.array([np.std(ip_h1_boot[key])*1.96 for key in ip_h1_boot.keys()])\n",
    "\n",
    "# Low hazard Ifuture values and 95% confidence intervals\n",
    "if_mean_h1 = np.array([np.mean(if_h1_boot[key]) for key in if_h1_boot.keys()])\n",
    "if_95CI_h1 = np.array([np.std(if_h1_boot[key])*1.96 for key in if_h1_boot.keys()])\n",
    "\n",
    "# High hazard Ipast values and 95% confidence intervals\n",
    "ip_mean_h9 = np.array([np.mean(ip_h9_boot[key]) for key in ip_h9_boot.keys()])\n",
    "ip_95CI_h9 = np.array([np.std(ip_h9_boot[key])*1.96 for key in ip_h9_boot.keys()])\n",
    "\n",
    "# High hazard Ifuture values and 95% confidence intervals\n",
    "if_mean_h9 = np.array([np.mean(if_h9_boot[key]) for key in if_h9_boot.keys()])\n",
    "if_95CI_h9 = np.array([np.std(if_h9_boot[key])*1.96 for key in if_h9_boot.keys()])"
   ]
  },
  {
   "cell_type": "code",
   "execution_count": 287,
   "id": "alive-somalia",
   "metadata": {},
   "outputs": [
    {
     "data": {
      "text/plain": [
       "<Figure size 1080x360 with 0 Axes>"
      ]
     },
     "execution_count": 287,
     "metadata": {},
     "output_type": "execute_result"
    },
    {
     "data": {
      "text/plain": [
       "<AxesSubplot:>"
      ]
     },
     "execution_count": 287,
     "metadata": {},
     "output_type": "execute_result"
    },
    {
     "data": {
      "text/plain": [
       "[<matplotlib.lines.Line2D at 0x7ff5a98ab350>]"
      ]
     },
     "execution_count": 287,
     "metadata": {},
     "output_type": "execute_result"
    },
    {
     "data": {
      "text/plain": [
       "[<matplotlib.lines.Line2D at 0x7ff5a98a55d0>]"
      ]
     },
     "execution_count": 287,
     "metadata": {},
     "output_type": "execute_result"
    },
    {
     "data": {
      "text/plain": [
       "<ErrorbarContainer object of 3 artists>"
      ]
     },
     "execution_count": 287,
     "metadata": {},
     "output_type": "execute_result"
    },
    {
     "data": {
      "text/plain": [
       "69"
      ]
     },
     "execution_count": 287,
     "metadata": {},
     "output_type": "execute_result"
    },
    {
     "data": {
      "text/plain": [
       "Text(108.0, 0.5, 'Subject Predictive Accuracy\\n$I_{future}$')"
      ]
     },
     "execution_count": 287,
     "metadata": {},
     "output_type": "execute_result"
    },
    {
     "data": {
      "text/plain": [
       "Text(0.5, 24.0, 'Subject Information Complexity\\n$I_{past}$')"
      ]
     },
     "execution_count": 287,
     "metadata": {},
     "output_type": "execute_result"
    },
    {
     "data": {
      "text/plain": [
       "Text(0.5, 1.0, 'Low Confidence')"
      ]
     },
     "execution_count": 287,
     "metadata": {},
     "output_type": "execute_result"
    },
    {
     "data": {
      "text/plain": [
       "<matplotlib.legend.Legend at 0x7ff5a98f7410>"
      ]
     },
     "execution_count": 287,
     "metadata": {},
     "output_type": "execute_result"
    },
    {
     "data": {
      "text/plain": [
       "<AxesSubplot:>"
      ]
     },
     "execution_count": 287,
     "metadata": {},
     "output_type": "execute_result"
    },
    {
     "data": {
      "text/plain": [
       "[<matplotlib.lines.Line2D at 0x7ff5a992fd50>]"
      ]
     },
     "execution_count": 287,
     "metadata": {},
     "output_type": "execute_result"
    },
    {
     "data": {
      "text/plain": [
       "[<matplotlib.lines.Line2D at 0x7ff5a993dd10>]"
      ]
     },
     "execution_count": 287,
     "metadata": {},
     "output_type": "execute_result"
    },
    {
     "data": {
      "text/plain": [
       "<ErrorbarContainer object of 3 artists>"
      ]
     },
     "execution_count": 287,
     "metadata": {},
     "output_type": "execute_result"
    },
    {
     "data": {
      "text/plain": [
       "16"
      ]
     },
     "execution_count": 287,
     "metadata": {},
     "output_type": "execute_result"
    },
    {
     "data": {
      "text/plain": [
       "Text(0.5, 24.0, 'Subject Information Complexity\\n$I_{past}$')"
      ]
     },
     "execution_count": 287,
     "metadata": {},
     "output_type": "execute_result"
    },
    {
     "data": {
      "text/plain": [
       "Text(0.5, 1.0, 'High Confidence')"
      ]
     },
     "execution_count": 287,
     "metadata": {},
     "output_type": "execute_result"
    },
    {
     "data": {
      "text/plain": [
       "<matplotlib.legend.Legend at 0x7ff5a9915a90>"
      ]
     },
     "execution_count": 287,
     "metadata": {},
     "output_type": "execute_result"
    },
    {
     "data": {
      "image/png": "[encoded data removed]",
      "text/plain": [
       "<Figure size 1080x360 with 2 Axes>"
      ]
     },
     "metadata": {
      "needs_background": "light"
     },
     "output_type": "display_data"
    }
   ],
   "source": [
    "plt.figure(1,(15,5))\n",
    "# Low hazard\n",
    "plt.subplot(1,2,1)\n",
    "r,p=spearmanr(ip_mean_h1,if_mean_h1)\n",
    "plt.plot(ipw_h1,ifw_h1,'-k',label='full bound')\n",
    "plt.plot(ipw_h1_1back,ifw_h1_1back,'--k',label='one-back bound')\n",
    "plt.errorbar(ip_mean_h1,if_mean_h1,xerr=ip_95CI_h1,yerr = if_95CI_h1,\n",
    "             marker='o',markersize=9,mec='white',color=cmap(0),ls='none')\n",
    "texts = []\n",
    "for i,sub in enumerate(ip_h1_boot.keys()): \n",
    "    texts.append(plt.text(ip_mean_h1[i],if_mean_h1[i],sub))\n",
    "adjust_text(texts, arrowprops=dict(arrowstyle=\"-\",color='grey'))\n",
    "plt.ylabel('Subject Predictive Accuracy\\n$I_{future}$',size=15)\n",
    "plt.xlabel('Subject Information Complexity\\n$I_{past}$',size=15)\n",
    "plt.title('Low Confidence',size=20)\n",
    "plt.legend()\n",
    "#plt.ylim([0,.8])\n",
    "    \n",
    "# High hazard\n",
    "plt.subplot(1,2,2)\n",
    "r,p=spearmanr(ip_mean_h9,if_mean_h9)\n",
    "plt.plot(ipw_h9,ifw_h9,'-k',label='full bound')\n",
    "plt.plot(ipw_h9_1back,ifw_h9_1back,'--k',label='one-back bound')\n",
    "plt.errorbar(ip_mean_h9,if_mean_h9,xerr=ip_95CI_h9,yerr = if_95CI_h9,\n",
    "             marker='o',markersize=9,mec='white',color=cmap(1),ls='none')\n",
    "texts = []\n",
    "for i,sub in enumerate(ip_h9_boot.keys()): \n",
    "    texts.append(plt.text(ip_mean_h9[i],if_mean_h9[i],sub))\n",
    "adjust_text(texts, arrowprops=dict(arrowstyle=\"-\",color='grey'))\n",
    "plt.xlabel('Subject Information Complexity\\n$I_{past}$',size=15)\n",
    "plt.title('High Confidence',size=20)\n",
    "plt.legend()\n",
    "#plt.ylim([0,.8])"
   ]
  },
  {
   "cell_type": "code",
   "execution_count": 288,
   "id": "german-heath",
   "metadata": {},
   "outputs": [
    {
     "data": {
      "text/plain": [
       "<Figure size 1080x360 with 0 Axes>"
      ]
     },
     "execution_count": 288,
     "metadata": {},
     "output_type": "execute_result"
    },
    {
     "data": {
      "text/plain": [
       "<AxesSubplot:>"
      ]
     },
     "execution_count": 288,
     "metadata": {},
     "output_type": "execute_result"
    },
    {
     "data": {
      "text/plain": [
       "[<matplotlib.lines.Line2D at 0x7ff5ad3bed90>]"
      ]
     },
     "execution_count": 288,
     "metadata": {},
     "output_type": "execute_result"
    },
    {
     "data": {
      "text/plain": [
       "<ErrorbarContainer object of 3 artists>"
      ]
     },
     "execution_count": 288,
     "metadata": {},
     "output_type": "execute_result"
    },
    {
     "data": {
      "text/plain": [
       "5"
      ]
     },
     "execution_count": 288,
     "metadata": {},
     "output_type": "execute_result"
    },
    {
     "data": {
      "text/plain": [
       "Text(99.625, 0.5, 'Subject Distance from Full Bound')"
      ]
     },
     "execution_count": 288,
     "metadata": {},
     "output_type": "execute_result"
    },
    {
     "data": {
      "text/plain": [
       "Text(0.5, 24.0, 'Subject Information Complexity\\n$I_{past}$')"
      ]
     },
     "execution_count": 288,
     "metadata": {},
     "output_type": "execute_result"
    },
    {
     "data": {
      "text/plain": [
       "Text(0.5, 1.0, 'Low Confidence\\nrho=-0.93,p=0.0')"
      ]
     },
     "execution_count": 288,
     "metadata": {},
     "output_type": "execute_result"
    },
    {
     "data": {
      "text/plain": [
       "<AxesSubplot:>"
      ]
     },
     "execution_count": 288,
     "metadata": {},
     "output_type": "execute_result"
    },
    {
     "data": {
      "text/plain": [
       "[<matplotlib.lines.Line2D at 0x7ff5aeae8210>]"
      ]
     },
     "execution_count": 288,
     "metadata": {},
     "output_type": "execute_result"
    },
    {
     "data": {
      "text/plain": [
       "<ErrorbarContainer object of 3 artists>"
      ]
     },
     "execution_count": 288,
     "metadata": {},
     "output_type": "execute_result"
    },
    {
     "data": {
      "text/plain": [
       "5"
      ]
     },
     "execution_count": 288,
     "metadata": {},
     "output_type": "execute_result"
    },
    {
     "data": {
      "text/plain": [
       "Text(0.5, 24.0, 'Subject Information Complexity\\n$I_{past}$')"
      ]
     },
     "execution_count": 288,
     "metadata": {},
     "output_type": "execute_result"
    },
    {
     "data": {
      "text/plain": [
       "Text(0.5, 1.0, 'High Confidence\\nrho=-0.93,p=0.0001')"
      ]
     },
     "execution_count": 288,
     "metadata": {},
     "output_type": "execute_result"
    },
    {
     "data": {
      "image/png": "[encoded data removed]",
      "text/plain": [
       "<Figure size 1080x360 with 2 Axes>"
      ]
     },
     "metadata": {
      "needs_background": "light"
     },
     "output_type": "display_data"
    }
   ],
   "source": [
    "# Compute distance from the bound for each subject in each hazard rate condition\n",
    "dbs1 = np.zeros(len(ip_mean_h1))\n",
    "dbs9 = np.zeros(len(ip_mean_h9))\n",
    "for i in np.arange(len(ip_mean_h1)):\n",
    "    dbs1[i] = deltaBound(ipw_h1,ifw_h1,ip_mean_h1[i],if_mean_h1[i])\n",
    "    dbs9[i] = deltaBound(ipw_h9,ifw_h9,ip_mean_h9[i],if_mean_h9[i])\n",
    "\n",
    "# Plot distance from the bound for each hazard rate\n",
    "plt.figure(1,(15,5))\n",
    "# Low hazard\n",
    "plt.subplot(1,2,1)\n",
    "r,p=spearmanr(ip_mean_h1,dbs1)\n",
    "plt.plot([0,1],[0,0],'-k',label='full bound')\n",
    "plt.errorbar(ip_mean_h1,dbs1,xerr=ip_95CI_h1,yerr = if_95CI_h1,\n",
    "             marker='o',markersize=9,mec='white',color=cmap(0),ls='none')\n",
    "texts = []\n",
    "for i,sub in enumerate(ip_h1_boot.keys()): \n",
    "    texts.append(plt.text(ip_mean_h1[i],dbs1[i],sub))\n",
    "adjust_text(texts, arrowprops=dict(arrowstyle=\"-\",color='grey'))\n",
    "plt.ylabel('Subject Distance from Full Bound',size=15)\n",
    "plt.xlabel('Subject Information Complexity\\n$I_{past}$',size=15)\n",
    "plt.title('Low Confidence\\nrho={},p={}'.format(np.round(r,2),np.round(p,3)),size=20)\n",
    "#plt.xlim([0,1])\n",
    "#plt.ylim([-.5,.12])\n",
    "    \n",
    "# High hazard\n",
    "plt.subplot(1,2,2)\n",
    "r,p=spearmanr(ip_mean_h9,dbs9)\n",
    "plt.plot([0,1],[0,0],'-k',label='full bound')\n",
    "plt.errorbar(ip_mean_h9,dbs9,xerr=ip_95CI_h9,yerr = if_95CI_h9,\n",
    "             marker='o',markersize=9,mec='white',color=cmap(1),ls='none')\n",
    "texts = []\n",
    "for i,sub in enumerate(ip_h9_boot.keys()): \n",
    "    texts.append(plt.text(ip_mean_h9[i],dbs9[i],sub))\n",
    "adjust_text(texts, arrowprops=dict(arrowstyle=\"-\",color='grey'))\n",
    "plt.xlabel('Subject Information Complexity\\n$I_{past}$',size=15)\n",
    "plt.title('High Confidence\\nrho={},p={}'.format(np.round(r,2),np.round(p,4)),size=20)\n",
    "#plt.xlim([0,.8])\n",
    "#plt.ylim([-.5,.12])"
   ]
  },
  {
   "cell_type": "code",
   "execution_count": 292,
   "id": "utility-olympus",
   "metadata": {},
   "outputs": [
    {
     "data": {
      "text/plain": [
       "\"\\n# Computed windowed predictive information in the low hazard rate\\nadat_mis_h9 = get_windowed_mi(adat_trials['Bead'].loc[adat_trials['H'] == .99],\\n                              adat_trials['Jar'].loc[adat_trials['H'] == .99],nw)\\n\""
      ]
     },
     "execution_count": 292,
     "metadata": {},
     "output_type": "execute_result"
    },
    {
     "data": {
      "text/plain": [
       "<Figure size 576x432 with 0 Axes>"
      ]
     },
     "execution_count": 292,
     "metadata": {},
     "output_type": "execute_result"
    },
    {
     "data": {
      "text/plain": [
       "[<matplotlib.lines.Line2D at 0x7ff5af59be10>]"
      ]
     },
     "execution_count": 292,
     "metadata": {},
     "output_type": "execute_result"
    },
    {
     "data": {
      "text/plain": [
       "Text(0, 0.5, 'Mutual Information between\\n$X_{past}$ and $X_{future}$')"
      ]
     },
     "execution_count": 292,
     "metadata": {},
     "output_type": "execute_result"
    },
    {
     "data": {
      "text/plain": [
       "Text(0.5, 0, 'Window size of $X$ into the past')"
      ]
     },
     "execution_count": 292,
     "metadata": {},
     "output_type": "execute_result"
    },
    {
     "data": {
      "text/plain": [
       "<matplotlib.legend.Legend at 0x7ff5af58bf90>"
      ]
     },
     "execution_count": 292,
     "metadata": {},
     "output_type": "execute_result"
    },
    {
     "data": {
      "image/png": "[encoded data removed]",
      "text/plain": [
       "<Figure size 576x432 with 1 Axes>"
      ]
     },
     "metadata": {
      "needs_background": "light"
     },
     "output_type": "display_data"
    }
   ],
   "source": [
    "# Test bounds in each session\n",
    "def get_windowed_mi(x,z,nw):\n",
    "    '''\n",
    "    Function that windows of observations from a sequence x offset from y and computes the MI\n",
    "    Input:\n",
    "        - x: sequence of \"past\" observations to be windowed\n",
    "        - z: sequence that serves as the \"future\" events\n",
    "        - nw: maximum window size\n",
    "    Output:\n",
    "        - mis: NSB estimated mutual informtion values for each window size\n",
    "    '''\n",
    "    mis = np.zeros(nw+1) #vector of mutual informations for different window sizes\n",
    "    for w in np.arange(1,nw+1):\n",
    "        xw,zw = ut.get_windowed_x(x,z,w=w)         # use convenience function from utilities to window x\n",
    "        mis[w] = ut.mutual_inf_nsb(xw,zw,[2**w,2]) # use convenience function from utilities to compute NSB mutual info\n",
    "    return(mis)\n",
    "\n",
    "# Get all trials in all three sessions that match low and high hazard rates\n",
    "nw = 10 #number of windows into the past we want to compute\n",
    "\n",
    "#Since everyone saw the same sequence, we can speed this up by subselecting one example of all the trials the first subject saw\n",
    "adat_trials = constant_table\n",
    "\n",
    "# Computed windowed predictive information in the low hazard rate\n",
    "adat_mis_h1 = get_windowed_mi(adat_trials['Bead'].loc[adat_trials['H'] == .01],\n",
    "                              adat_trials['Jar'].loc[adat_trials['H'] == .01],nw)\n",
    "\n",
    "'''\n",
    "# Computed windowed predictive information in the low hazard rate\n",
    "adat_mis_h9 = get_windowed_mi(adat_trials['Bead'].loc[adat_trials['H'] == .99],\n",
    "                              adat_trials['Jar'].loc[adat_trials['H'] == .99],nw)\n",
    "'''\n",
    "\n",
    "# Plot predictive information as a function of window size\n",
    "plt.figure(1,(8,6))\n",
    "plt.plot(np.arange(nw+1),adat_mis_h1,'-o',label='H = 0.01')\n",
    "#plt.plot(np.arange(nw+1),adat_mis_h9,'-o', label = \"H = 0.99\")\n",
    "plt.ylabel('Mutual Information between\\n$X_{past}$ and $X_{future}$',size=15)\n",
    "plt.xlabel('Window size of $X$ into the past',size=15)\n",
    "plt.legend()"
   ]
  },
  {
   "cell_type": "code",
   "execution_count": 291,
   "id": "fifth-injection",
   "metadata": {},
   "outputs": [
    {
     "name": "stdout",
     "output_type": "stream",
     "text": [
      "CPU times: user 33.8 ms, sys: 2.72 ms, total: 36.6 ms\n",
      "Wall time: 41.9 ms\n"
     ]
    },
    {
     "data": {
      "text/plain": [
       "<matplotlib.legend.Legend at 0x7ff5af3a1250>"
      ]
     },
     "execution_count": 291,
     "metadata": {},
     "output_type": "execute_result"
    },
    {
     "data": {
      "image/png": "[encoded data removed]",
      "text/plain": [
       "<Figure size 1080x360 with 2 Axes>"
      ]
     },
     "metadata": {
      "needs_background": "light"
     },
     "output_type": "display_data"
    }
   ],
   "source": [
    "%%time\n",
    "def get_windowed_bound(x,z,w,mb=50,nb=2000,p=8):\n",
    "    '''\n",
    "    Function that computes the information bottleneck bound between two discrete variables\n",
    "    Input:\n",
    "        - x: sequence of past events\n",
    "        - z: sequence of future events\n",
    "        - w: size of the window to be applied to x\n",
    "        - mb: maximum value of the lagrange multiplier beta\n",
    "        - nb: number of values of beta between 0 and mb to be run through the Blahaut-Arimoto algorithm\n",
    "        - p: number of cores to use in the computation (to help with speed)\n",
    "    Output:\n",
    "        - 4 element tuple with a sequence of ipast and ifuture values corresponding to the information bottleneck for full and one back bounds\n",
    "    '''\n",
    "    # Get desired windowed x and corresponding z\n",
    "    xw,zw = ut.get_windowed_x(x,z,w=w)\n",
    "    \n",
    "    # Compute the information bottleneck using EMBO for the window size w specified above\n",
    "    ipw,ifw,betasw = EmpiricalBottleneck(xw,zw,minsize=True,processes=p,maxbeta=mb,numbeta=nb).get_empirical_bottleneck() \n",
    "    \n",
    "    # Compute the information bottleneck using EMBO for the window size w specified above\n",
    "    x1b,z1b = ut.get_windowed_x(x,z,w=1)\n",
    "    ip1b,if1b,betas1b = EmpiricalBottleneck(x1b,z1b,minsize=True,processes=p,maxbeta=mb,numbeta=nb).get_empirical_bottleneck() \n",
    "   \n",
    "    # Return informtion bottleneck\n",
    "    return((ipw,ifw,ip1b,if1b))\n",
    "\n",
    "# For speed, see if bottleneck has already been computed\n",
    "try:\n",
    "    # Low hazard full and 1-back bounds\n",
    "    ipw_h1,ifw_h1,ipw_h1_1back,ifw_h1_1back = pickle.load(open('ipw_h1_bounds.pkl','rb'))\n",
    "    \n",
    "    # High hazard full and 1-back bounds\n",
    "    ipw_h9,ifw_h9, ipw_h9_1back,ifw_h9_1back = pickle.load(open('ipw_h9_bounds.pkl','rb'))\n",
    "    \n",
    "except:\n",
    "    # If no objects exist, compute full and one-back bounds for each hazard rate\n",
    "    #Low hazard full and 1-back bounds\n",
    "    ipw_h1,ifw_h1,ipw_h1_1back,ifw_h1_1back = get_windowed_bound(adat_trials['Bead'].loc[adat_trials['H'] == .01],\n",
    "                                                                 adat_trials['Jar'].loc[adat_trials['H'] == .01],8)\n",
    "    pickle.dump((ipw_h1,ifw_h1,ipw_h1_1back,ifw_h1_1back),open('ipw_h1_bounds.pkl','wb')) \n",
    "    \n",
    "    #High hazard full and 1-back bounds\n",
    "    ipw_h9,ifw_h9,ipw_h9_1back,ifw_h9_1back = get_windowed_bound(adat_trials['Bead'].loc[adat_trials['H'] == .99],\n",
    "                                                                 adat_trials['Jar'].loc[adat_trials['H'] == .99],8)\n",
    "    pickle.dump((ipw_h9,ifw_h9,ipw_h9_1back,ifw_h9_1back),open('ipw_h9_bounds.pkl','wb')) \n",
    "    \n",
    "# Plot bounds for each hazard rate\n",
    "plt.figure(1,(15,5))\n",
    "\n",
    "# Low hazard rate\n",
    "plt.subplot(1,2,1)\n",
    "plt.plot(ipw_h1,ifw_h1,'-',color=cmap(0),label='full bound')\n",
    "plt.plot(ipw_h1_1back,ifw_h1_1back,'--',color=cmap(0), label='one-back bound')\n",
    "plt.ylim([0,.8])\n",
    "plt.xlabel('$I_{past}$',size=15)\n",
    "plt.ylabel('$I_{future}$',size=15)\n",
    "plt.title('Low hazard rate',size=20)\n",
    "plt.legend()\n",
    "\n",
    "# High hazard rate\n",
    "plt.subplot(1,2,2)\n",
    "plt.plot(ipw_h9,ifw_h9,'-',color=cmap(1),label='full bound')\n",
    "plt.plot(ipw_h9_1back,ifw_h9_1back,'--',color=cmap(1), label='one-back bound')\n",
    "plt.ylim([0,.8])\n",
    "plt.xlabel('$I_{past}$',size=15)\n",
    "plt.ylabel('$I_{future}$',size=15)\n",
    "plt.title('High hazard rate',size=20)\n",
    "plt.legend()"
   ]
  },
  {
   "cell_type": "code",
   "execution_count": 332,
   "id": "hydraulic-pearl",
   "metadata": {},
   "outputs": [
    {
     "name": "stdout",
     "output_type": "stream",
     "text": [
      "CPU times: user 50.7 ms, sys: 3.49 ms, total: 54.2 ms\n",
      "Wall time: 53.5 ms\n"
     ]
    },
    {
     "data": {
      "image/png": "[encoded data removed]",
      "text/plain": [
       "<Figure size 1080x360 with 2 Axes>"
      ]
     },
     "metadata": {
      "needs_background": "light"
     },
     "output_type": "display_data"
    }
   ],
   "source": [
    "%%time\n",
    "def get_windowed_mi_subs(sdat_all,nw):\n",
    "    '''\n",
    "    Function to compute windowed mutual information values for all subjects\n",
    "    Input:\n",
    "        - sdat_all: data frame with all of the subject tones, responses, and sources\n",
    "        - nw: maximum window size to be considered\n",
    "    Output:\n",
    "        - Ipast for each window size and Ifuture\n",
    "    '''\n",
    "    # Create dictionaries to keep track of variables with subject IDs as the keys\n",
    "    subs = pd.unique(sdat_all['Subject'])\n",
    "    ip_sub = {}\n",
    "    if_sub = {}\n",
    "    # Loop through each subject and get their Ipast for windows up to nw and their ifuture\n",
    "    for subi,sub in enumerate(subs):\n",
    "        sdat = sdat_all[sdat_all['Subject'] == sub]                   # Get data from specific subject \n",
    "        ip_sub[sub] = get_windowed_mi(sdat['Bead'],sdat['Resp'],nw)    # compute Ipast using function defined above \n",
    "        if_sub[sub] = ut.mutual_inf_nsb(sdat['Resp'],sdat['Jar'],[2,2]) # compute Ifuture\n",
    "    # Return dictionaries of ipast and ifuture values\n",
    "    return(ip_sub,if_sub)\n",
    "\n",
    "try:\n",
    "    # Check if subject mutual information values have already been computed\n",
    "    ips_sub_h1,if_sub_h1 = pickle.load(open('vickie_sim_mar9_ipf_sub_h1.pkl','rb')) #load windowed mutual information values for H=.01\n",
    "    ips_sub_h9,if_sub_h9 = pickle.load(open('vickie_sim_mar9_ipf_sub_h9.pkl','rb')) #load windowed mutual information values for H=.99\n",
    "except:\n",
    "    # If not, compute them below\n",
    "    # Low hazard rate\n",
    "    ips_sub_h1,if_sub_h1 = get_windowed_mi_subs(adat_sim.loc[adat_sim['H'] == .01],10)\n",
    "    #pickle.dump((ips_sub_h1,if_sub_h1),open('vickie_sim_mar9_ipf_sub_h1.pkl','wb'))\n",
    "    \n",
    "    # High hazard rate\n",
    "    ips_sub_h9,if_sub_h9 = get_windowed_mi_subs(adat_sim.loc[adat_sim['H'] == .99],10)\n",
    "    #pickle.dump((ips_sub_h9,if_sub_h9),open('vickie_sim_mar9_ipf_sub_h9.pkl','wb'))\n",
    "    \n",
    "# Plot ipast as a function of window size for each subject (different colors)\n",
    "plt.figure(1,(15,5))\n",
    "# Low hazard rate\n",
    "plt.subplot(1,2,1)\n",
    "for sub in pd.unique([key for key in ips_sub_h1.keys()]):\n",
    "    plt.plot(np.arange(11),ips_sub_h1[sub],'-o',label = sub)\n",
    "    plt.ylabel('Subject $I_{past}$',size=15)\n",
    "    plt.xlabel('Window size of $X$ into the past',size=15)\n",
    "    plt.title('Low hazard rate',size=20)\n",
    "    plt.ylim([0,1])\n",
    "    plt.legend(loc = 'lower right')\n",
    "\n",
    "# high hazard rate\n",
    "plt.subplot(1,2,2)\n",
    "for sub in pd.unique([key for key in ips_sub_h9.keys()]):\n",
    "    plt.plot(np.arange(11),ips_sub_h9[sub],'-o', label = sub)\n",
    "    plt.ylabel('Subject $I_{past}$',size=15)\n",
    "    plt.xlabel('Window size of $X$ into the past',size=15)\n",
    "    plt.title('High hazard rate',size=20)\n",
    "    plt.ylim([0,1])\n",
    "    plt.legend(loc = 'lower right')"
   ]
  },
  {
   "cell_type": "code",
   "execution_count": 256,
   "id": "split-polish",
   "metadata": {},
   "outputs": [
    {
     "name": "stdout",
     "output_type": "stream",
     "text": [
      "CPU times: user 918 µs, sys: 1.74 ms, total: 2.66 ms\n",
      "Wall time: 2.36 ms\n"
     ]
    }
   ],
   "source": [
    "%%time\n",
    "def get_bootstrapped_samples(dat,wips,nboot):\n",
    "    '''\n",
    "    Function to compute and return bootstrapped distributions of Ipast and Ifuture values for each subject\n",
    "    Input:\n",
    "        - dat: all subject data\n",
    "        - wips: matrix of mutual information by widow size values for each subject\n",
    "        - nboot: number of requested bootstrap iterations\n",
    "    Output:\n",
    "        - dictionaries of bootstrapped distributions of Ipast and Ifuture values\n",
    "    '''\n",
    "    # Get subject IDs and initialize dictionaries\n",
    "    subs = pd.unique(dat['Subject'])\n",
    "    ip_boot_mi = {}\n",
    "    if_boot_mi = {}\n",
    "    \n",
    "    # Loop through each subject and get bootstrapped estimates\n",
    "    for subi,sub in enumerate(subs):\n",
    "        sdat = dat[dat['Subject'] == sub]   # Get subject data\n",
    "        w = wips[sub].argmax()              # Get subject's maximum window size\n",
    "        x = np.array(sdat['Bead'])           # Get tones, responses, and sources for the subject\n",
    "        r = np.array(sdat['Resp'])\n",
    "        z = np.array(sdat['Jar'])\n",
    "        xw,rw = ut.get_windowed_x(x,r,w=(w+1)) # Window the tones and responses appropriately\n",
    "        ip_boot_mi[sub] = np.zeros(nboot)      # Initialize arrays of mutual information values\n",
    "        if_boot_mi[sub] = np.zeros(nboot)\n",
    "        \n",
    "        # Run bootstrap procedure\n",
    "        for boot in np.arange(nboot):\n",
    "            idx = np.random.choice(np.arange(len(xw)),size=len(xw),replace=True)    # Select random indicies with replacement\n",
    "            ip_boot_mi[sub][boot] = ut.mutual_inf_nsb(xw[idx],rw[idx],[2**(w+1),2]) # Use indexed data to compute Ipast\n",
    "            if_boot_mi[sub][boot] = ut.mutual_inf_nsb(r[idx],z[idx],[2,2])          # Use indexed data to compute Ifuture\n",
    "    # Return dictionaries of Ipast and Ifuture distributions\n",
    "    return(ip_boot_mi,if_boot_mi)\n",
    "\n",
    "try:\n",
    "    # Check to see if bootstrapped samples have already been computed\n",
    "    ip_h1_boot, if_h1_boot = pickle.load(open('vickie_sim_mar9_ip_if_h1_boot.pkl','rb')) # Low hazard\n",
    "    ip_h9_boot, if_h9_boot = pickle.load(open('vickie_sim_mar9_ip_if_h9_boot.pkl','rb')) # High hazard\n",
    "except:\n",
    "    # If not, compute and save below\n",
    "    nboot = 1000 #number of bootstrapped samples\n",
    "    #Low Hazard\n",
    "    ip_h1_boot, if_h1_boot = get_bootstrapped_samples(adat_sim.loc[adat_sim['H'] == .01],ips_sub_h1,nboot)\n",
    "    #pickle.dump((ip_h1_boot, if_h1_boot),open('vickie_sim_mar9_ip_if_h1_boot.pkl','wb'))\n",
    "    \n",
    "    # High hazard\n",
    "    ip_h9_boot, if_h9_boot = get_bootstrapped_samples(adat_sim.loc[adat_sim['H'] == .99],ips_sub_h9,nboot)\n",
    "    #pickle.dump((ip_h9_boot, if_h9_boot),open('vickie_sim_mar9_ip_if_h9_boot.pkl','wb'))"
   ]
  },
  {
   "cell_type": "code",
   "execution_count": 285,
   "id": "novel-terminology",
   "metadata": {},
   "outputs": [
    {
     "data": {
      "text/plain": [
       "<Figure size 1080x360 with 0 Axes>"
      ]
     },
     "execution_count": 285,
     "metadata": {},
     "output_type": "execute_result"
    },
    {
     "data": {
      "text/plain": [
       "<AxesSubplot:>"
      ]
     },
     "execution_count": 285,
     "metadata": {},
     "output_type": "execute_result"
    },
    {
     "data": {
      "text/plain": [
       "<ErrorbarContainer object of 3 artists>"
      ]
     },
     "execution_count": 285,
     "metadata": {},
     "output_type": "execute_result"
    },
    {
     "data": {
      "text/plain": [
       "43"
      ]
     },
     "execution_count": 285,
     "metadata": {},
     "output_type": "execute_result"
    },
    {
     "data": {
      "text/plain": [
       "Text(101.625, 0.5, 'Subject Predictive Accuracy\\n$I_{future}$')"
      ]
     },
     "execution_count": 285,
     "metadata": {},
     "output_type": "execute_result"
    },
    {
     "data": {
      "text/plain": [
       "Text(0.5, 24.0, 'Subject Information Complexity\\n$I_{past}$')"
      ]
     },
     "execution_count": 285,
     "metadata": {},
     "output_type": "execute_result"
    },
    {
     "data": {
      "text/plain": [
       "Text(0.5, 1.0, 'Low Hazard Rate\\nrho=0.43,p=0.214')"
      ]
     },
     "execution_count": 285,
     "metadata": {},
     "output_type": "execute_result"
    },
    {
     "data": {
      "text/plain": [
       "<AxesSubplot:>"
      ]
     },
     "execution_count": 285,
     "metadata": {},
     "output_type": "execute_result"
    },
    {
     "data": {
      "text/plain": [
       "<ErrorbarContainer object of 3 artists>"
      ]
     },
     "execution_count": 285,
     "metadata": {},
     "output_type": "execute_result"
    },
    {
     "data": {
      "text/plain": [
       "5"
      ]
     },
     "execution_count": 285,
     "metadata": {},
     "output_type": "execute_result"
    },
    {
     "data": {
      "text/plain": [
       "Text(0.5, 24.0, 'Subject Information Complexity\\n$I_{past}$')"
      ]
     },
     "execution_count": 285,
     "metadata": {},
     "output_type": "execute_result"
    },
    {
     "data": {
      "text/plain": [
       "Text(0.5, 1.0, 'High Hazard Rate\\nrho=0.44,p=0.2')"
      ]
     },
     "execution_count": 285,
     "metadata": {},
     "output_type": "execute_result"
    },
    {
     "data": {
      "image/png": "[encoded data removed]",
      "text/plain": [
       "<Figure size 1080x360 with 2 Axes>"
      ]
     },
     "metadata": {
      "needs_background": "light"
     },
     "output_type": "display_data"
    }
   ],
   "source": [
    "# Get mean Ipast/Ifuture values per subject\n",
    "# Low hazard Ipast values and 95% confidence intervals\n",
    "ip_mean_h1 = np.array([np.mean(ip_h1_boot[key]) for key in ip_h1_boot.keys()])\n",
    "ip_95CI_h1 = np.array([np.std(ip_h1_boot[key])*1.96 for key in ip_h1_boot.keys()])\n",
    "\n",
    "# Low hazard Ifuture values and 95% confidence intervals\n",
    "if_mean_h1 = np.array([np.mean(if_h1_boot[key]) for key in if_h1_boot.keys()])\n",
    "if_95CI_h1 = np.array([np.std(if_h1_boot[key])*1.96 for key in if_h1_boot.keys()])\n",
    "\n",
    "# High hazard Ipast values and 95% confidence intervals\n",
    "ip_mean_h9 = np.array([np.mean(ip_h9_boot[key]) for key in ip_h9_boot.keys()])\n",
    "ip_95CI_h9 = np.array([np.std(ip_h9_boot[key])*1.96 for key in ip_h9_boot.keys()])\n",
    "\n",
    "# High hazard Ifuture values and 95% confidence intervals\n",
    "if_mean_h9 = np.array([np.mean(if_h9_boot[key]) for key in if_h9_boot.keys()])\n",
    "if_95CI_h9 = np.array([np.std(if_h9_boot[key])*1.96 for key in if_h9_boot.keys()])\n",
    "\n",
    "# Plot Ipast vs Ifuture in both hazard rate conditions\n",
    "plt.figure(1,(15,5))\n",
    "# Low hazard\n",
    "plt.subplot(1,2,1)\n",
    "r,p=spearmanr(ip_mean_h1,if_mean_h1)\n",
    "plt.errorbar(ip_mean_h1,if_mean_h1,xerr=ip_95CI_h1,yerr = if_95CI_h1,\n",
    "             marker='o',markersize=9,mec='white',color=cmap(0),ls='none')\n",
    "texts = []\n",
    "for i,sub in enumerate(ip_h1_boot.keys()): \n",
    "    texts.append(plt.text(ip_mean_h1[i],if_mean_h1[i],sub))\n",
    "adjust_text(texts, arrowprops=dict(arrowstyle=\"-\",color='grey'))\n",
    "plt.ylabel('Subject Predictive Accuracy\\n$I_{future}$',size=15)\n",
    "plt.xlabel('Subject Information Complexity\\n$I_{past}$',size=15)\n",
    "plt.title('Low Hazard Rate\\nrho={},p={}'.format(np.round(r,2),np.round(p,3)),size=20)\n",
    "    \n",
    "# High hazard\n",
    "plt.subplot(1,2,2)\n",
    "r,p=spearmanr(ip_mean_h9,if_mean_h9)\n",
    "plt.errorbar(ip_mean_h9,if_mean_h9,xerr=ip_95CI_h9,yerr = if_95CI_h9,\n",
    "             marker='o',markersize=9,mec='white',color=cmap(1),ls='none')\n",
    "texts = []\n",
    "for i,sub in enumerate(ip_h9_boot.keys()): \n",
    "    texts.append(plt.text(ip_mean_h9[i],if_mean_h9[i],sub))\n",
    "adjust_text(texts, arrowprops=dict(arrowstyle=\"-\",color='grey'))\n",
    "plt.xlabel('Subject Information Complexity\\n$I_{past}$',size=15)\n",
    "plt.title('High Hazard Rate\\nrho={},p={}'.format(np.round(r,2),np.round(p,3)),size=20)"
   ]
  },
  {
   "cell_type": "code",
   "execution_count": 202,
   "id": "italian-origin",
   "metadata": {},
   "outputs": [
    {
     "data": {
      "text/plain": [
       "<Figure size 1080x360 with 0 Axes>"
      ]
     },
     "execution_count": 202,
     "metadata": {},
     "output_type": "execute_result"
    },
    {
     "data": {
      "text/plain": [
       "<AxesSubplot:>"
      ]
     },
     "execution_count": 202,
     "metadata": {},
     "output_type": "execute_result"
    },
    {
     "data": {
      "text/plain": [
       "[<matplotlib.lines.Line2D at 0x7fda9e0aacd0>]"
      ]
     },
     "execution_count": 202,
     "metadata": {},
     "output_type": "execute_result"
    },
    {
     "data": {
      "text/plain": [
       "[<matplotlib.lines.Line2D at 0x7fda9e0aa750>]"
      ]
     },
     "execution_count": 202,
     "metadata": {},
     "output_type": "execute_result"
    },
    {
     "data": {
      "text/plain": [
       "<ErrorbarContainer object of 3 artists>"
      ]
     },
     "execution_count": 202,
     "metadata": {},
     "output_type": "execute_result"
    },
    {
     "data": {
      "text/plain": [
       "6"
      ]
     },
     "execution_count": 202,
     "metadata": {},
     "output_type": "execute_result"
    },
    {
     "data": {
      "text/plain": [
       "Text(108.0, 0.5, 'Subject Predictive Accuracy\\n$I_{future}$')"
      ]
     },
     "execution_count": 202,
     "metadata": {},
     "output_type": "execute_result"
    },
    {
     "data": {
      "text/plain": [
       "Text(0.5, 24.0, 'Subject Information Complexity\\n$I_{past}$')"
      ]
     },
     "execution_count": 202,
     "metadata": {},
     "output_type": "execute_result"
    },
    {
     "data": {
      "text/plain": [
       "Text(0.5, 1.0, 'Low Hazard Rate')"
      ]
     },
     "execution_count": 202,
     "metadata": {},
     "output_type": "execute_result"
    },
    {
     "data": {
      "text/plain": [
       "<matplotlib.legend.Legend at 0x7fda9f751e10>"
      ]
     },
     "execution_count": 202,
     "metadata": {},
     "output_type": "execute_result"
    },
    {
     "data": {
      "text/plain": [
       "<AxesSubplot:>"
      ]
     },
     "execution_count": 202,
     "metadata": {},
     "output_type": "execute_result"
    },
    {
     "data": {
      "text/plain": [
       "[<matplotlib.lines.Line2D at 0x7fda9ec2f510>]"
      ]
     },
     "execution_count": 202,
     "metadata": {},
     "output_type": "execute_result"
    },
    {
     "data": {
      "text/plain": [
       "[<matplotlib.lines.Line2D at 0x7fda9ec2fad0>]"
      ]
     },
     "execution_count": 202,
     "metadata": {},
     "output_type": "execute_result"
    },
    {
     "data": {
      "text/plain": [
       "<ErrorbarContainer object of 3 artists>"
      ]
     },
     "execution_count": 202,
     "metadata": {},
     "output_type": "execute_result"
    },
    {
     "data": {
      "text/plain": [
       "6"
      ]
     },
     "execution_count": 202,
     "metadata": {},
     "output_type": "execute_result"
    },
    {
     "data": {
      "text/plain": [
       "Text(0.5, 24.0, 'Subject Information Complexity\\n$I_{past}$')"
      ]
     },
     "execution_count": 202,
     "metadata": {},
     "output_type": "execute_result"
    },
    {
     "data": {
      "text/plain": [
       "Text(0.5, 1.0, 'High Hazard Rate')"
      ]
     },
     "execution_count": 202,
     "metadata": {},
     "output_type": "execute_result"
    },
    {
     "data": {
      "text/plain": [
       "<matplotlib.legend.Legend at 0x7fdaa16c10d0>"
      ]
     },
     "execution_count": 202,
     "metadata": {},
     "output_type": "execute_result"
    },
    {
     "data": {
      "image/png": "[encoded data removed]",
      "text/plain": [
       "<Figure size 1080x360 with 2 Axes>"
      ]
     },
     "metadata": {
      "needs_background": "light"
     },
     "output_type": "display_data"
    }
   ],
   "source": [
    "plt.figure(1,(15,5))\n",
    "# Low hazard\n",
    "plt.subplot(1,2,1)\n",
    "r,p=spearmanr(ip_mean_h1,if_mean_h1)\n",
    "plt.plot(ipw_h1,ifw_h1,'-k',label='full bound')\n",
    "plt.plot(ipw_h1_1back,ifw_h1_1back,'--k',label='one-back bound')\n",
    "plt.errorbar(ip_mean_h1,if_mean_h1,xerr=ip_95CI_h1,yerr = if_95CI_h1,\n",
    "             marker='o',markersize=9,mec='white',color=cmap(0),ls='none')\n",
    "texts = []\n",
    "for i,sub in enumerate(ip_h1_boot.keys()): \n",
    "    texts.append(plt.text(ip_mean_h1[i],if_mean_h1[i],sub))\n",
    "adjust_text(texts, arrowprops=dict(arrowstyle=\"-\",color='grey'))\n",
    "plt.ylabel('Subject Predictive Accuracy\\n$I_{future}$',size=15)\n",
    "plt.xlabel('Subject Information Complexity\\n$I_{past}$',size=15)\n",
    "plt.title('Low Hazard Rate',size=20)\n",
    "plt.legend()\n",
    "#plt.ylim([0,.8])\n",
    "    \n",
    "# High hazard\n",
    "plt.subplot(1,2,2)\n",
    "r,p=spearmanr(ip_mean_h9,if_mean_h9)\n",
    "plt.plot(ipw_h9,ifw_h9,'-k',label='full bound')\n",
    "plt.plot(ipw_h9_1back,ifw_h9_1back,'--k',label='one-back bound')\n",
    "plt.errorbar(ip_mean_h9,if_mean_h9,xerr=ip_95CI_h9,yerr = if_95CI_h9,\n",
    "             marker='o',markersize=9,mec='white',color=cmap(1),ls='none')\n",
    "texts = []\n",
    "for i,sub in enumerate(ip_h9_boot.keys()): \n",
    "    texts.append(plt.text(ip_mean_h9[i],if_mean_h9[i],sub))\n",
    "adjust_text(texts, arrowprops=dict(arrowstyle=\"-\",color='grey'))\n",
    "plt.xlabel('Subject Information Complexity\\n$I_{past}$',size=15)\n",
    "plt.title('High Hazard Rate',size=20)\n",
    "plt.legend()\n",
    "#plt.ylim([0,.8])"
   ]
  },
  {
   "cell_type": "code",
   "execution_count": 203,
   "id": "legitimate-carol",
   "metadata": {},
   "outputs": [
    {
     "data": {
      "text/plain": [
       "<Figure size 1080x360 with 0 Axes>"
      ]
     },
     "execution_count": 203,
     "metadata": {},
     "output_type": "execute_result"
    },
    {
     "data": {
      "text/plain": [
       "<AxesSubplot:>"
      ]
     },
     "execution_count": 203,
     "metadata": {},
     "output_type": "execute_result"
    },
    {
     "data": {
      "text/plain": [
       "[<matplotlib.lines.Line2D at 0x7fda9ffd2410>]"
      ]
     },
     "execution_count": 203,
     "metadata": {},
     "output_type": "execute_result"
    },
    {
     "data": {
      "text/plain": [
       "<ErrorbarContainer object of 3 artists>"
      ]
     },
     "execution_count": 203,
     "metadata": {},
     "output_type": "execute_result"
    },
    {
     "data": {
      "text/plain": [
       "6"
      ]
     },
     "execution_count": 203,
     "metadata": {},
     "output_type": "execute_result"
    },
    {
     "data": {
      "text/plain": [
       "Text(99.625, 0.5, 'Subject Distance from Full Bound')"
      ]
     },
     "execution_count": 203,
     "metadata": {},
     "output_type": "execute_result"
    },
    {
     "data": {
      "text/plain": [
       "Text(0.5, 24.0, 'Subject Information Complexity\\n$I_{past}$')"
      ]
     },
     "execution_count": 203,
     "metadata": {},
     "output_type": "execute_result"
    },
    {
     "data": {
      "text/plain": [
       "Text(0.5, 1.0, 'Low Hazard Rate\\nrho=-1.0,p=nan')"
      ]
     },
     "execution_count": 203,
     "metadata": {},
     "output_type": "execute_result"
    },
    {
     "data": {
      "text/plain": [
       "<AxesSubplot:>"
      ]
     },
     "execution_count": 203,
     "metadata": {},
     "output_type": "execute_result"
    },
    {
     "data": {
      "text/plain": [
       "[<matplotlib.lines.Line2D at 0x7fdaa16f1d50>]"
      ]
     },
     "execution_count": 203,
     "metadata": {},
     "output_type": "execute_result"
    },
    {
     "data": {
      "text/plain": [
       "<ErrorbarContainer object of 3 artists>"
      ]
     },
     "execution_count": 203,
     "metadata": {},
     "output_type": "execute_result"
    },
    {
     "data": {
      "text/plain": [
       "6"
      ]
     },
     "execution_count": 203,
     "metadata": {},
     "output_type": "execute_result"
    },
    {
     "data": {
      "text/plain": [
       "Text(0.5, 24.0, 'Subject Information Complexity\\n$I_{past}$')"
      ]
     },
     "execution_count": 203,
     "metadata": {},
     "output_type": "execute_result"
    },
    {
     "data": {
      "text/plain": [
       "Text(0.5, 1.0, 'High Hazard Rate\\nrho=-1.0,p=nan')"
      ]
     },
     "execution_count": 203,
     "metadata": {},
     "output_type": "execute_result"
    },
    {
     "data": {
      "image/png": "[encoded data removed]",
      "text/plain": [
       "<Figure size 1080x360 with 2 Axes>"
      ]
     },
     "metadata": {
      "needs_background": "light"
     },
     "output_type": "display_data"
    }
   ],
   "source": [
    "def deltaBound(ib_ipast,ib_ifuture,p_ipast,p_ifuture):\n",
    "    ''' \n",
    "    Function to calculate vertical distance from the bound between an empirical IB and participant predictive info\n",
    "    ib_ipast: ipast of empirical IB (x of convex hull)\n",
    "    ib_ifuture: ifuture of empirical IB (y of convex hull)\n",
    "    p_ipast: participant ipast (uncorrected)\n",
    "    p_ifuture: participant ifuture (uncorrected)\n",
    "    \n",
    "    Returns participant ifuture minus the empirical bound (more negative = farther away from the bound)\n",
    "    '''\n",
    "    ind = np.argwhere(np.array(ib_ipast) > p_ipast)[0][0]\n",
    "    slp = (ib_ifuture[ind]-ib_ifuture[ind-1])/(ib_ipast[ind]-ib_ipast[ind-1])\n",
    "    intercept = ib_ifuture[ind]-(slp*ib_ipast[ind])\n",
    "    #Return distance between participant Ifuture and interpolated bound\n",
    "    return p_ifuture - ((p_ipast*slp)+intercept)\n",
    "\n",
    "# Compute distance from the bound for each subject in each hazard rate condition\n",
    "dbs1 = np.zeros(len(ip_mean_h1))\n",
    "dbs9 = np.zeros(len(ip_mean_h9))\n",
    "for i in np.arange(len(ip_mean_h1)):\n",
    "    dbs1[i] = deltaBound(ipw_h1,ifw_h1,ip_mean_h1[i],if_mean_h1[i])\n",
    "    dbs9[i] = deltaBound(ipw_h9,ifw_h9,ip_mean_h9[i],if_mean_h9[i])\n",
    "\n",
    "# Plot distance from the bound for each hazard rate\n",
    "plt.figure(1,(15,5))\n",
    "# Low hazard\n",
    "plt.subplot(1,2,1)\n",
    "r,p=spearmanr(ip_mean_h1,dbs1)\n",
    "plt.plot([0,1],[0,0],'-k',label='full bound')\n",
    "plt.errorbar(ip_mean_h1,dbs1,xerr=ip_95CI_h1,yerr = if_95CI_h1,\n",
    "             marker='o',markersize=9,mec='white',color=cmap(0),ls='none')\n",
    "texts = []\n",
    "for i,sub in enumerate(ip_h1_boot.keys()): \n",
    "    texts.append(plt.text(ip_mean_h1[i],dbs1[i],sub))\n",
    "adjust_text(texts, arrowprops=dict(arrowstyle=\"-\",color='grey'))\n",
    "plt.ylabel('Subject Distance from Full Bound',size=15)\n",
    "plt.xlabel('Subject Information Complexity\\n$I_{past}$',size=15)\n",
    "plt.title('Low Hazard Rate\\nrho={},p={}'.format(np.round(r,2),np.round(p,3)),size=20)\n",
    "#plt.xlim([0,1])\n",
    "#plt.ylim([-.5,.12])\n",
    "    \n",
    "# High hazard\n",
    "plt.subplot(1,2,2)\n",
    "r,p=spearmanr(ip_mean_h9,dbs9)\n",
    "plt.plot([0,1],[0,0],'-k',label='full bound')\n",
    "plt.errorbar(ip_mean_h9,dbs9,xerr=ip_95CI_h9,yerr = if_95CI_h9,\n",
    "             marker='o',markersize=9,mec='white',color=cmap(1),ls='none')\n",
    "texts = []\n",
    "for i,sub in enumerate(ip_h9_boot.keys()): \n",
    "    texts.append(plt.text(ip_mean_h9[i],dbs9[i],sub))\n",
    "adjust_text(texts, arrowprops=dict(arrowstyle=\"-\",color='grey'))\n",
    "plt.xlabel('Subject Information Complexity\\n$I_{past}$',size=15)\n",
    "plt.title('High Hazard Rate\\nrho={},p={}'.format(np.round(r,2),np.round(p,4)),size=20)\n",
    "#plt.xlim([0,.8])\n",
    "#plt.ylim([-.5,.12])"
   ]
  },
  {
   "cell_type": "code",
   "execution_count": 204,
   "id": "enormous-popularity",
   "metadata": {},
   "outputs": [
    {
     "data": {
      "text/html": [
       "<div>\n",
       "<style scoped>\n",
       "    .dataframe tbody tr th:only-of-type {\n",
       "        vertical-align: middle;\n",
       "    }\n",
       "\n",
       "    .dataframe tbody tr th {\n",
       "        vertical-align: top;\n",
       "    }\n",
       "\n",
       "    .dataframe thead th {\n",
       "        text-align: right;\n",
       "    }\n",
       "</style>\n",
       "<table border=\"1\" class=\"dataframe\">\n",
       "  <thead>\n",
       "    <tr style=\"text-align: right;\">\n",
       "      <th></th>\n",
       "      <th>Subject</th>\n",
       "      <th>H</th>\n",
       "      <th>Correct</th>\n",
       "    </tr>\n",
       "  </thead>\n",
       "  <tbody>\n",
       "    <tr>\n",
       "      <th>0</th>\n",
       "      <td>twoback_B</td>\n",
       "      <td>0.01</td>\n",
       "      <td>0.514019</td>\n",
       "    </tr>\n",
       "    <tr>\n",
       "      <th>1</th>\n",
       "      <td>twoback_B</td>\n",
       "      <td>0.99</td>\n",
       "      <td>0.491111</td>\n",
       "    </tr>\n",
       "  </tbody>\n",
       "</table>\n",
       "</div>"
      ],
      "text/plain": [
       "     Subject     H   Correct\n",
       "0  twoback_B  0.01  0.514019\n",
       "1  twoback_B  0.99  0.491111"
      ]
     },
     "execution_count": 204,
     "metadata": {},
     "output_type": "execute_result"
    },
    {
     "data": {
      "text/html": [
       "<div>\n",
       "<style scoped>\n",
       "    .dataframe tbody tr th:only-of-type {\n",
       "        vertical-align: middle;\n",
       "    }\n",
       "\n",
       "    .dataframe tbody tr th {\n",
       "        vertical-align: top;\n",
       "    }\n",
       "\n",
       "    .dataframe thead th {\n",
       "        text-align: right;\n",
       "    }\n",
       "</style>\n",
       "<table border=\"1\" class=\"dataframe\">\n",
       "  <thead>\n",
       "    <tr style=\"text-align: right;\">\n",
       "      <th></th>\n",
       "      <th>Subject</th>\n",
       "      <th>Correct</th>\n",
       "    </tr>\n",
       "  </thead>\n",
       "  <tbody>\n",
       "    <tr>\n",
       "      <th>0</th>\n",
       "      <td>twoback_B</td>\n",
       "      <td>0.505421</td>\n",
       "    </tr>\n",
       "  </tbody>\n",
       "</table>\n",
       "</div>"
      ],
      "text/plain": [
       "     Subject   Correct\n",
       "0  twoback_B  0.505421"
      ]
     },
     "execution_count": 204,
     "metadata": {},
     "output_type": "execute_result"
    }
   ],
   "source": [
    "adat_sim = constant_table.assign(Subject = \"threeback_A\", \n",
    "                                           Rel_Hist = threeback_A_pred_table['rel_hist'],\n",
    "                                           Resp = threeback_A_pred_table['pred'], Noise = noise,\n",
    "                                           Confidence = threeback_A_confid_table['confid'])\n",
    "adat_sim = twoback_B.copy()\n",
    "adat_sim = adat_sim[adat_sim['Resp'] != -1]\n",
    "#adat_sim['Resp'] = np.where(adat_sim['Resp']*1.0 == adat_sim['Noise'],1,0)\n",
    "adat_sim['Correct'] = 1*(adat_sim['Jar'] == adat_sim['Resp'])\n",
    "\n",
    "# Get mean correct responses per subject\n",
    "adat_corr_sim_p = adat_sim[['Subject','H','Correct']].groupby(['Subject','H'],as_index=False).mean()\n",
    "adat_corr_sim_p\n",
    "\n",
    "adat_sim[['Subject','Correct']].groupby(['Subject'],as_index=False).mean()"
   ]
  },
  {
   "cell_type": "code",
   "execution_count": 205,
   "id": "breeding-antarctica",
   "metadata": {},
   "outputs": [
    {
     "name": "stdout",
     "output_type": "stream",
     "text": [
      "CPU times: user 1.38 s, sys: 21.8 ms, total: 1.4 s\n",
      "Wall time: 1.4 s\n"
     ]
    },
    {
     "data": {
      "image/png": "[encoded data removed]",
      "text/plain": [
       "<Figure size 1080x360 with 2 Axes>"
      ]
     },
     "metadata": {
      "needs_background": "light"
     },
     "output_type": "display_data"
    }
   ],
   "source": [
    "%%time\n",
    "def get_windowed_mi_confid_subs(sdat_all,nw):\n",
    "    '''\n",
    "    Function to compute windowed mutual information values for all subjects\n",
    "    Input:\n",
    "        - sdat_all: data frame with all of the subject tones, responses, sources, correctness, confidence\n",
    "        - nw: maximum window size to be considered\n",
    "    Output:\n",
    "        - Ipast for each window size and Ifuture\n",
    "    '''\n",
    "    # Create dictionaries to keep track of variables with subject IDs as the keys\n",
    "    subs = pd.unique(sdat_all['Subject'])\n",
    "    ip_sub = {}\n",
    "    if_sub = {}\n",
    "    # Loop through each subject and get their Ipast for windows up to nw and their ifuture\n",
    "    for subi,sub in enumerate(subs):\n",
    "        sdat = sdat_all[sdat_all['Subject'] == sub]                   # Get data from specific subject \n",
    "        ip_sub[sub] = get_windowed_mi(sdat['Jar'].iloc[0:].append(sdat['Jar'].iloc[:0]),sdat['Bead'],nw)    # compute Ipast using function defined above \n",
    "        if_sub[sub] = ut.mutual_inf_nsb(sdat['Resp'],sdat['Jar'],[2,2]) # compute Ifuture\n",
    "    # Return dictionaries of ipast and ifuture values\n",
    "    return(ip_sub,if_sub)\n",
    "\n",
    "'''try:\n",
    "    # Check if subject mutual information values have already been computed\n",
    "    ips_sub_h1,if_sub_h1 = pickle.load(open('vickie_sim_mar10_ipf_sub_h1.pkl','rb')) #load windowed mutual information values for H=.01\n",
    "    ips_sub_h9,if_sub_h9 = pickle.load(open('vickie_sim_mar10_ipf_sub_h9.pkl','rb')) #load windowed mutual information values for H=.99\n",
    "except:'''\n",
    "    # If not, compute them below\n",
    "    # Low hazard rate\n",
    "ips_sub_h1,if_sub_h1 = get_windowed_mi_confid_subs(adat_sim.loc[adat_sim['H'] == .01],10)\n",
    "#pickle.dump((ips_sub_h1,if_sub_h1),open('vickie_sim_mar10_ipf_sub_h1.pkl','wb'))\n",
    "\n",
    "# High hazard rate\n",
    "ips_sub_h9,if_sub_h9 = get_windowed_mi_confid_subs(adat_sim.loc[adat_sim['H'] == .99],10)\n",
    "#pickle.dump((ips_sub_h9,if_sub_h9),open('vickie_sim_mar10_ipf_sub_h9.pkl','wb'))\n",
    "    \n",
    "# Plot ipast as a function of window size for each subject (different colors)\n",
    "plt.figure(1,(15,5))\n",
    "# Low hazard rate\n",
    "plt.subplot(1,2,1)\n",
    "for sub in pd.unique([key for key in ips_sub_h1.keys()]):\n",
    "    plt.plot(np.arange(11),ips_sub_h1[sub],'-o',label = sub)\n",
    "    plt.ylabel('Subject $I_{past}$',size=15)\n",
    "    plt.xlabel('Window size of $X$ into the past',size=15)\n",
    "    plt.title('Low hazard rate',size=20)\n",
    "    plt.ylim([0,1])\n",
    "    plt.legend(loc = 'lower right')\n",
    "\n",
    "# high hazard rate\n",
    "plt.subplot(1,2,2)\n",
    "for sub in pd.unique([key for key in ips_sub_h9.keys()]):\n",
    "    plt.plot(np.arange(11),ips_sub_h9[sub],'-o', label = sub)\n",
    "    plt.ylabel('Subject $I_{past}$',size=15)\n",
    "    plt.xlabel('Window size of $X$ into the past',size=15)\n",
    "    plt.title('High hazard rate',size=20)\n",
    "    plt.ylim([0,1])\n",
    "    plt.legend(loc = 'lower right')"
   ]
  },
  {
   "cell_type": "code",
   "execution_count": 154,
   "id": "combined-boxing",
   "metadata": {},
   "outputs": [
    {
     "data": {
      "text/plain": [
       "2       0\n",
       "3       0\n",
       "4       0\n",
       "5       0\n",
       "6       0\n",
       "       ..\n",
       "2396    1\n",
       "2397    1\n",
       "2398    1\n",
       "2399    1\n",
       "1       0\n",
       "Name: Z, Length: 2399, dtype: int64"
      ]
     },
     "execution_count": 154,
     "metadata": {},
     "output_type": "execute_result"
    }
   ],
   "source": [
    "adat_sim['Jar'].iloc[1:].append(adat_sim['Jar'].iloc[:1])"
   ]
  },
  {
   "cell_type": "code",
   "execution_count": 155,
   "id": "needed-default",
   "metadata": {},
   "outputs": [
    {
     "data": {
      "text/plain": [
       "1       1\n",
       "2       1\n",
       "3       1\n",
       "4       1\n",
       "5       1\n",
       "       ..\n",
       "2395    0\n",
       "2396    0\n",
       "2397    0\n",
       "2398    0\n",
       "2399    1\n",
       "Name: Resp, Length: 2399, dtype: int64"
      ]
     },
     "execution_count": 155,
     "metadata": {},
     "output_type": "execute_result"
    }
   ],
   "source": [
    "adat_sim['Resp'] "
   ]
  },
  {
   "cell_type": "code",
   "execution_count": 144,
   "id": "demanding-crystal",
   "metadata": {},
   "outputs": [
    {
     "name": "stdout",
     "output_type": "stream",
     "text": [
      "0\n",
      "1\n",
      "2\n",
      "3\n",
      "4\n",
      "5\n",
      "6\n",
      "7\n",
      "8\n",
      "9\n"
     ]
    }
   ],
   "source": [
    "for i in range(10): print(i)"
   ]
  },
  {
   "cell_type": "code",
   "execution_count": null,
   "id": "viral-elite",
   "metadata": {},
   "outputs": [],
   "source": [
    "ip_sub[sub] = get_windowed_mi(sdat['Z'].iloc[0:].append(sdat['Z'].iloc[:0]) - 1,sdat['X'],nw)    # compute Ipast using function defined above \n",
    "if_sub[sub] = ut.mutual_inf_nsb(sdat['Resp'],sdat['Z'],[2,2]) # compute Ifuture"
   ]
  },
  {
   "cell_type": "code",
   "execution_count": null,
   "id": "efficient-oklahoma",
   "metadata": {},
   "outputs": [],
   "source": [
    "threeback_A\n",
    "\n",
    "tA_wc = gen_sim_pred_nback(threeback_A['Subject'][1], threeback_A['Bead'], threeback_A['Rel_Hist'], threeback_A['Jar'],0.8,threeback_A['H'])\n",
    "\n",
    "plt.plot(threeback_A['Resp'], tA_wc['Prediction'], 'o')\n",
    "\n",
    "tA_wc.drop_duplicates(subset = ['Rel_Hist', 'Prediction'])\n",
    "\n",
    "gen_confid_from_sim_strats(threeback_A).equals(tA_wc)"
   ]
  }
 ],
 "metadata": {
  "kernelspec": {
   "display_name": "Python 3",
   "language": "python",
   "name": "python3"
  },
  "language_info": {
   "codemirror_mode": {
    "name": "ipython",
    "version": 3
   },
   "file_extension": ".py",
   "mimetype": "text/x-python",
   "name": "python",
   "nbconvert_exporter": "python",
   "pygments_lexer": "ipython3",
   "version": "3.7.9"
  }
 },
 "nbformat": 4,
 "nbformat_minor": 5
}
